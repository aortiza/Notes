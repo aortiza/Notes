{
 "cells": [
  {
   "cell_type": "markdown",
   "metadata": {},
   "source": [
    "# Derive Vertex structure from Trajectories."
   ]
  },
  {
   "cell_type": "markdown",
   "metadata": {},
   "source": [
    "For each frame in the trajectories obtained with [ParticleTracking](ParticleTracking.ipynb), we will convert this to a Colloidal Ice, and then get the corresponding vertices. This is based on the processing of [ReanalyseFirstFrames](ReanalyseFirstFrames.ipynb). "
   ]
  },
  {
   "cell_type": "code",
   "execution_count": 1,
   "metadata": {},
   "outputs": [],
   "source": [
    "import os\n",
    "import sys\n",
    "import glob\n",
    "sys.path.insert(0, './')\n",
    "\n",
    "import icenumerics as ice\n",
    "from icenumerics.geometry import transformations as tr\n",
    "\n",
    "import numpy as np\n",
    "import pandas as pd\n",
    "import matplotlib.pyplot as plt\n",
    "import matplotlib as mpl\n",
    "from tqdm import tqdm_notebook\n",
    "import support as sp\n",
    "\n",
    "idx = pd.IndexSlice\n",
    "ureg = ice.ureg\n",
    "\n",
    "%matplotlib inline\n",
    "%load_ext autoreload\n",
    "%autoreload 2"
   ]
  },
  {
   "cell_type": "code",
   "execution_count": 2,
   "metadata": {},
   "outputs": [],
   "source": [
    "mpl.rc('text', usetex=True)\n",
    "mpl.rcParams['figure.dpi'] = 150"
   ]
  },
  {
   "cell_type": "code",
   "execution_count": 3,
   "metadata": {},
   "outputs": [],
   "source": [
    "directory = \"C:/Users/aortiza/Desktop/ShearedSquare/Theta45\""
   ]
  },
  {
   "cell_type": "markdown",
   "metadata": {},
   "source": [
    "All trajectories are stored in a single dataset. "
   ]
  },
  {
   "cell_type": "code",
   "execution_count": 4,
   "metadata": {},
   "outputs": [
    {
     "name": "stderr",
     "output_type": "stream",
     "text": [
      "C:\\Users\\aortiza\\Anaconda3\\lib\\site-packages\\numpy\\lib\\arraysetops.py:522: FutureWarning: elementwise comparison failed; returning scalar instead, but in the future will perform elementwise comparison\n",
      "  mask |= (ar1 == a)\n"
     ]
    },
    {
     "name": "stdout",
     "output_type": "stream",
     "text": [
      "Wall time: 31.9 s\n"
     ]
    }
   ],
   "source": [
    "%%time \n",
    "trj = pd.read_csv(os.path.join(directory,\"trajectories.dat\"), sep = \"\\t\", index_col = [0,1,2])"
   ]
  },
  {
   "cell_type": "code",
   "execution_count": 5,
   "metadata": {},
   "outputs": [],
   "source": [
    "names = trj.index.get_level_values(\"filename\").unique()"
   ]
  },
  {
   "cell_type": "markdown",
   "metadata": {},
   "source": [
    "I will use the simulation framework of [icenumerics](https://aortiza.github.io/icenumerics/) to create a colloidal ice structure that can be superimposed on the particles' locations. "
   ]
  },
  {
   "cell_type": "code",
   "execution_count": 6,
   "metadata": {},
   "outputs": [],
   "source": [
    "# These are the base objects that are used to construct a colloidal ice structure over the image of the particles.\n",
    "theta = 45\n",
    "alpha = (90-theta)/180*np.pi\n",
    "nx = 7\n",
    "ny = 11\n",
    "\n",
    "particle = ice.particle()\n",
    "\n",
    "trap = ice.trap(trap_sep = 10*ureg.um,\n",
    "               height = 80*ureg.pN*ureg.nm,\n",
    "               stiffness = 6e-4*ureg.pN/ureg.nm)\n",
    "\n",
    "square_spins = ice.spins()\n",
    "v = ice.vertices()"
   ]
  },
  {
   "cell_type": "markdown",
   "metadata": {},
   "source": [
    "We will use the parameters obtained in [AlignImagesAndLattices](AlignImagesAndLattices.ipynb). These define a transformation to match the positions of the colloids and those of the colloids_in_traps"
   ]
  },
  {
   "cell_type": "code",
   "execution_count": 7,
   "metadata": {},
   "outputs": [],
   "source": [
    "parameters = pd.read_csv(os.path.join(directory,\"parameters.dat\"),sep = \"\\t\", index_col = [0])"
   ]
  },
  {
   "cell_type": "markdown",
   "metadata": {},
   "source": [
    "The following functions make the transformation of the colloidal ice, and they match a particle to a colloid_in_trap, by minimizing the distance betwen them. The matching function is defined in the [support](support.py) file. "
   ]
  },
  {
   "cell_type": "code",
   "execution_count": 8,
   "metadata": {},
   "outputs": [],
   "source": [
    "def particle_locations_to_colloids(locations,filename):\n",
    "    \"\"\" converts locations into a colloidal ice \"\"\"\n",
    "    entry = parameters.loc[filename]\n",
    "\n",
    "    square_spins.create_lattice(\"square\",[nx,ny],lattice_constant = 30*ureg.um)\n",
    "    sheared_spins = tr.shear(square_spins,alpha)\n",
    "\n",
    "    sheared_spins = tr.rotate(sheared_spins,(entry[[\"angle\"]].values[0])*ureg.deg)\n",
    "    sheared_spins = tr.scale(sheared_spins,entry[[\"scale\"]].values[0]*np.array([1,1]))\n",
    "    sheared_spins = tr.translate(sheared_spins,entry[[\"x_offset\",\"y_offset\"]].values*ureg.um)\n",
    "    \n",
    "    col = ice.colloidal_ice(sheared_spins, particle, trap, height_spread = 0, susceptibility_spread = 0.1)\n",
    "    \n",
    "    sp.match_colloid_frame(col,locations)\n",
    "\n",
    "    return col"
   ]
  },
  {
   "cell_type": "markdown",
   "metadata": {},
   "source": [
    "This function gets rid of vertices which are not inside a box. "
   ]
  },
  {
   "cell_type": "code",
   "execution_count": 9,
   "metadata": {},
   "outputs": [],
   "source": [
    "def filter_vertices(vert_frame,box):\n",
    "    \"\"\" Filters out vertices located outside of a box\"\"\"\n",
    "    theta = box.angle/180*np.pi\n",
    "    \n",
    "    X = vert_frame[:].LocationX\n",
    "    Y = vert_frame[:].LocationY\n",
    "\n",
    "    Xt = X*np.cos(theta)-Y*np.sin(theta)\n",
    "    Yt = X*np.sin(theta)+Y*np.cos(theta)\n",
    "    \n",
    "    x0,y0 = box.xy\n",
    "    \n",
    "    xf = x0 + box.get_width()\n",
    "    yf = y0 + box.get_height()\n",
    "\n",
    "    crit = (Xt>x0) & (Xt<xf) & (Yt>y0) & (Yt<yf)\n",
    "    return vert_frame[crit]"
   ]
  },
  {
   "cell_type": "markdown",
   "metadata": {},
   "source": [
    "The colloids to vertices function is defined within icenumerics. The following function just puts everything together."
   ]
  },
  {
   "cell_type": "code",
   "execution_count": 10,
   "metadata": {},
   "outputs": [],
   "source": [
    "left = 30\n",
    "right = 30\n",
    "bottom = 60\n",
    "top = 60\n",
    "\n",
    "video_shape = [512,640]\n",
    "def particle_locations_to_vertices(locations):\n",
    "    \"\"\" converts particle locations into an array of vertices \"\"\"\n",
    "    \n",
    "    filename = locations.index.get_level_values(\"filename\").unique()[0]\n",
    "    \n",
    "    col = particle_locations_to_colloids(locations,filename)\n",
    "\n",
    "    v = ice.vertices()\n",
    "    \n",
    "    v.colloids_to_vertices(col)\n",
    "    \n",
    "    vertices = sp.vertices_array_to_pd(v)\n",
    "    \n",
    "    entry = parameters.loc[filename]\n",
    "\n",
    "    box = mpl.patches.Rectangle(\n",
    "        (left+(entry.x_offset-620),bottom+(entry.y_offset+10)),\n",
    "        (video_shape[1]-left-right),(video_shape[0]-bottom-top),\n",
    "        angle = entry.angle-90, alpha = 0.2)\n",
    "\n",
    "    vert_frame = filter_vertices(vertices, box)\n",
    "\n",
    "    return vert_frame"
   ]
  },
  {
   "cell_type": "code",
   "execution_count": 11,
   "metadata": {},
   "outputs": [],
   "source": [
    "from tqdm import tqdm\n",
    "tqdm.pandas()"
   ]
  },
  {
   "cell_type": "markdown",
   "metadata": {},
   "source": [
    "We now apply this to every file. We skip 9/10 frames because we don't really need that many, and it is a slow process."
   ]
  },
  {
   "cell_type": "code",
   "execution_count": 12,
   "metadata": {},
   "outputs": [
    {
     "name": "stderr",
     "output_type": "stream",
     "text": [
      "  0%|                                      | 1/13730 [00:01<3:55:18,  1.03s/it]C:\\Users\\aortiza\\Anaconda3\\lib\\site-packages\\pint\\quantity.py:1377: UnitStrippedWarning: The unit of the quantity is stripped.\n",
      "  warnings.warn(\"The unit of the quantity is stripped.\", UnitStrippedWarning)\n",
      "100%|██████████████████████████████████| 13730/13730 [2:50:31<00:00,  1.36it/s]\n"
     ]
    }
   ],
   "source": [
    "vertices = trj.loc[idx[names,::10,:],:].groupby([\"filename\",\"frame\"]).progress_apply(particle_locations_to_vertices)"
   ]
  },
  {
   "cell_type": "markdown",
   "metadata": {},
   "source": [
    "## Add field data to vertex dataset"
   ]
  },
  {
   "cell_type": "markdown",
   "metadata": {},
   "source": [
    "From the field data of the trajectories, we obtain the field data of the vertices. "
   ]
  },
  {
   "cell_type": "code",
   "execution_count": 13,
   "metadata": {},
   "outputs": [],
   "source": [
    "field = trj.filter([\"field\"]).groupby([\"filename\",\"frame\"]).mean()"
   ]
  },
  {
   "cell_type": "code",
   "execution_count": 14,
   "metadata": {},
   "outputs": [],
   "source": [
    "file_index = vertices.index.get_level_values(\"filename\")\n",
    "frame_index = vertices.index.get_level_values(\"frame\")"
   ]
  },
  {
   "cell_type": "code",
   "execution_count": 15,
   "metadata": {},
   "outputs": [],
   "source": [
    "vertices[\"field\"] = field.loc[idx[file_index,frame_index],\"field\"]"
   ]
  },
  {
   "cell_type": "code",
   "execution_count": 16,
   "metadata": {},
   "outputs": [
    {
     "data": {
      "text/html": [
       "<div>\n",
       "<style scoped>\n",
       "    .dataframe tbody tr th:only-of-type {\n",
       "        vertical-align: middle;\n",
       "    }\n",
       "\n",
       "    .dataframe tbody tr th {\n",
       "        vertical-align: top;\n",
       "    }\n",
       "\n",
       "    .dataframe thead th {\n",
       "        text-align: right;\n",
       "    }\n",
       "</style>\n",
       "<table border=\"1\" class=\"dataframe\">\n",
       "  <thead>\n",
       "    <tr style=\"text-align: right;\">\n",
       "      <th></th>\n",
       "      <th></th>\n",
       "      <th></th>\n",
       "      <th>Coordination</th>\n",
       "      <th>Charge</th>\n",
       "      <th>DipoleX</th>\n",
       "      <th>DipoleY</th>\n",
       "      <th>LocationX</th>\n",
       "      <th>LocationY</th>\n",
       "      <th>field</th>\n",
       "    </tr>\n",
       "    <tr>\n",
       "      <th>filename</th>\n",
       "      <th>frame</th>\n",
       "      <th>id</th>\n",
       "      <th></th>\n",
       "      <th></th>\n",
       "      <th></th>\n",
       "      <th></th>\n",
       "      <th></th>\n",
       "      <th></th>\n",
       "      <th></th>\n",
       "    </tr>\n",
       "  </thead>\n",
       "  <tbody>\n",
       "    <tr>\n",
       "      <th rowspan=\"5\" valign=\"top\">E5_M8_teta45_10um_2019_06_04_15_32_20</th>\n",
       "      <th rowspan=\"5\" valign=\"top\">0</th>\n",
       "      <th>15</th>\n",
       "      <td>4</td>\n",
       "      <td>2</td>\n",
       "      <td>1.394330</td>\n",
       "      <td>-1.433821</td>\n",
       "      <td>291.459582</td>\n",
       "      <td>92.536974</td>\n",
       "      <td>0.0</td>\n",
       "    </tr>\n",
       "    <tr>\n",
       "      <th>17</th>\n",
       "      <td>4</td>\n",
       "      <td>2</td>\n",
       "      <td>-1.394330</td>\n",
       "      <td>1.433821</td>\n",
       "      <td>461.130516</td>\n",
       "      <td>392.734273</td>\n",
       "      <td>0.0</td>\n",
       "    </tr>\n",
       "    <tr>\n",
       "      <th>18</th>\n",
       "      <td>4</td>\n",
       "      <td>0</td>\n",
       "      <td>1.422255</td>\n",
       "      <td>0.565984</td>\n",
       "      <td>235.991654</td>\n",
       "      <td>70.463604</td>\n",
       "      <td>0.0</td>\n",
       "    </tr>\n",
       "    <tr>\n",
       "      <th>19</th>\n",
       "      <td>4</td>\n",
       "      <td>-2</td>\n",
       "      <td>0.027924</td>\n",
       "      <td>1.999805</td>\n",
       "      <td>405.662588</td>\n",
       "      <td>370.660903</td>\n",
       "      <td>0.0</td>\n",
       "    </tr>\n",
       "    <tr>\n",
       "      <th>21</th>\n",
       "      <td>4</td>\n",
       "      <td>0</td>\n",
       "      <td>1.422255</td>\n",
       "      <td>0.565984</td>\n",
       "      <td>572.066372</td>\n",
       "      <td>436.881012</td>\n",
       "      <td>0.0</td>\n",
       "    </tr>\n",
       "  </tbody>\n",
       "</table>\n",
       "</div>"
      ],
      "text/plain": [
       "                                                Coordination  Charge  \\\n",
       "filename                              frame id                         \n",
       "E5_M8_teta45_10um_2019_06_04_15_32_20 0     15             4       2   \n",
       "                                            17             4       2   \n",
       "                                            18             4       0   \n",
       "                                            19             4      -2   \n",
       "                                            21             4       0   \n",
       "\n",
       "                                                 DipoleX   DipoleY  \\\n",
       "filename                              frame id                       \n",
       "E5_M8_teta45_10um_2019_06_04_15_32_20 0     15  1.394330 -1.433821   \n",
       "                                            17 -1.394330  1.433821   \n",
       "                                            18  1.422255  0.565984   \n",
       "                                            19  0.027924  1.999805   \n",
       "                                            21  1.422255  0.565984   \n",
       "\n",
       "                                                 LocationX   LocationY  field  \n",
       "filename                              frame id                                 \n",
       "E5_M8_teta45_10um_2019_06_04_15_32_20 0     15  291.459582   92.536974    0.0  \n",
       "                                            17  461.130516  392.734273    0.0  \n",
       "                                            18  235.991654   70.463604    0.0  \n",
       "                                            19  405.662588  370.660903    0.0  \n",
       "                                            21  572.066372  436.881012    0.0  "
      ]
     },
     "execution_count": 16,
     "metadata": {},
     "output_type": "execute_result"
    }
   ],
   "source": [
    "vertices.head()"
   ]
  },
  {
   "cell_type": "markdown",
   "metadata": {},
   "source": [
    "Now we save the vertices to a .dat. The next steps are done in the notebook [VertexCount](VertexCount.ipynb)."
   ]
  },
  {
   "cell_type": "code",
   "execution_count": 17,
   "metadata": {},
   "outputs": [],
   "source": [
    "vertices.to_csv(os.path.join(directory,\"vertices_new.dat\"),sep = \"\\t\")"
   ]
  }
 ],
 "metadata": {
  "kernelspec": {
   "display_name": "Python 3",
   "language": "python",
   "name": "python3"
  },
  "language_info": {
   "codemirror_mode": {
    "name": "ipython",
    "version": 3
   },
   "file_extension": ".py",
   "mimetype": "text/x-python",
   "name": "python",
   "nbconvert_exporter": "python",
   "pygments_lexer": "ipython3",
   "version": "3.7.1"
  }
 },
 "nbformat": 4,
 "nbformat_minor": 2
}
