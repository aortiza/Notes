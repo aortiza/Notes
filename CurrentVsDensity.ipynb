{
 "cells": [
  {
   "cell_type": "markdown",
   "metadata": {},
   "source": [
    "# Current vs Density"
   ]
  },
  {
   "cell_type": "code",
   "execution_count": 1,
   "metadata": {},
   "outputs": [],
   "source": [
    "import sys\n",
    "import os\n",
    "sys.path.insert(0, '../magcolloids')\n",
    "\n",
    "import numpy as np\n",
    "import matplotlib.pyplot as plt\n",
    "import pandas as pd\n",
    "from IPython.display import HTML, clear_output\n",
    "import jsonpickle\n",
    "import scipy.optimize as spo\n",
    "import scipy.spatial as spa \n",
    "import magcolloids as mgc\n",
    "import matplotlib as mpl\n",
    "import string as st\n",
    "import support as sp\n",
    "\n",
    "from tqdm import tqdm_notebook\n",
    "\n",
    "ureg = mgc.ureg\n",
    "\n",
    "idx = pd.IndexSlice\n",
    "\n",
    "%reload_ext autoreload\n",
    "%autoreload 2"
   ]
  },
  {
   "cell_type": "markdown",
   "metadata": {},
   "source": [
    "### Read data"
   ]
  },
  {
   "cell_type": "code",
   "execution_count": 2,
   "metadata": {},
   "outputs": [],
   "source": [
    "mpl.rc('text', usetex=True)\n",
    "mpl.rcParams['figure.dpi'] = 150"
   ]
  },
  {
   "cell_type": "code",
   "execution_count": 3,
   "metadata": {},
   "outputs": [
    {
     "data": {
      "text/html": [
       "<div>\n",
       "<style scoped>\n",
       "    .dataframe tbody tr th:only-of-type {\n",
       "        vertical-align: middle;\n",
       "    }\n",
       "\n",
       "    .dataframe tbody tr th {\n",
       "        vertical-align: top;\n",
       "    }\n",
       "\n",
       "    .dataframe thead th {\n",
       "        text-align: right;\n",
       "    }\n",
       "</style>\n",
       "<table border=\"1\" class=\"dataframe\">\n",
       "  <thead>\n",
       "    <tr style=\"text-align: right;\">\n",
       "      <th></th>\n",
       "      <th>file</th>\n",
       "      <th>packing</th>\n",
       "    </tr>\n",
       "  </thead>\n",
       "  <tbody>\n",
       "    <tr>\n",
       "      <th>0</th>\n",
       "      <td>Phi_0.2</td>\n",
       "      <td>0.200</td>\n",
       "    </tr>\n",
       "    <tr>\n",
       "      <th>1</th>\n",
       "      <td>Phi_0.228</td>\n",
       "      <td>0.228</td>\n",
       "    </tr>\n",
       "    <tr>\n",
       "      <th>2</th>\n",
       "      <td>Phi_0.256</td>\n",
       "      <td>0.256</td>\n",
       "    </tr>\n",
       "    <tr>\n",
       "      <th>3</th>\n",
       "      <td>Phi_0.28400000000000003</td>\n",
       "      <td>0.284</td>\n",
       "    </tr>\n",
       "    <tr>\n",
       "      <th>4</th>\n",
       "      <td>Phi_0.312</td>\n",
       "      <td>0.312</td>\n",
       "    </tr>\n",
       "  </tbody>\n",
       "</table>\n",
       "</div>"
      ],
      "text/plain": [
       "                      file  packing\n",
       "0                  Phi_0.2    0.200\n",
       "1                Phi_0.228    0.228\n",
       "2                Phi_0.256    0.256\n",
       "3  Phi_0.28400000000000003    0.284\n",
       "4                Phi_0.312    0.312"
      ]
     },
     "execution_count": 3,
     "metadata": {},
     "output_type": "execute_result"
    }
   ],
   "source": [
    "directory = \"Z:/Dimers/Simulations/DensityDependence/\"\n",
    "index_name = \"index.dat\"\n",
    "\n",
    "index = pd.read_csv(os.path.join(directory,index_name),sep=\" \", names = [\"file\",\"packing\"])\n",
    "index.head()"
   ]
  },
  {
   "cell_type": "code",
   "execution_count": 4,
   "metadata": {},
   "outputs": [],
   "source": [
    "h = 3.9 * ureg.um\n",
    "tilt_angle = 7*ureg.deg\n",
    "frequency = 3*ureg.Hz"
   ]
  },
  {
   "cell_type": "code",
   "execution_count": 5,
   "metadata": {},
   "outputs": [
    {
     "data": {
      "application/vnd.jupyter.widget-view+json": {
       "model_id": "08cb8d2876ee4e76ac410002ac6bea69",
       "version_major": 2,
       "version_minor": 0
      },
      "text/plain": [
       "HBox(children=(IntProgress(value=1, bar_style='info', max=1), HTML(value='')))"
      ]
     },
     "metadata": {},
     "output_type": "display_data"
    },
    {
     "name": "stdout",
     "output_type": "stream",
     "text": [
      "\n"
     ]
    }
   ],
   "source": [
    "diff_vel = [pd.read_csv(os.path.join(directory,name.file+\"_vupdown.dat\"), sep=\"\\t\",index_col = 0)\n",
    "            for i,name in tqdm_notebook(index.loc[:].iterrows())]"
   ]
  },
  {
   "cell_type": "code",
   "execution_count": 6,
   "metadata": {},
   "outputs": [
    {
     "data": {
      "text/html": [
       "<div>\n",
       "<style scoped>\n",
       "    .dataframe tbody tr th:only-of-type {\n",
       "        vertical-align: middle;\n",
       "    }\n",
       "\n",
       "    .dataframe tbody tr th {\n",
       "        vertical-align: top;\n",
       "    }\n",
       "\n",
       "    .dataframe thead th {\n",
       "        text-align: right;\n",
       "    }\n",
       "</style>\n",
       "<table border=\"1\" class=\"dataframe\">\n",
       "  <thead>\n",
       "    <tr style=\"text-align: right;\">\n",
       "      <th></th>\n",
       "      <th></th>\n",
       "      <th>x</th>\n",
       "      <th>y</th>\n",
       "    </tr>\n",
       "    <tr>\n",
       "      <th>packing</th>\n",
       "      <th>plane</th>\n",
       "      <th></th>\n",
       "      <th></th>\n",
       "    </tr>\n",
       "  </thead>\n",
       "  <tbody>\n",
       "    <tr>\n",
       "      <th rowspan=\"2\" valign=\"top\">0.200</th>\n",
       "      <th>down</th>\n",
       "      <td>4.339270</td>\n",
       "      <td>2.303083</td>\n",
       "    </tr>\n",
       "    <tr>\n",
       "      <th>up</th>\n",
       "      <td>-8.039539</td>\n",
       "      <td>-4.278681</td>\n",
       "    </tr>\n",
       "    <tr>\n",
       "      <th rowspan=\"2\" valign=\"top\">0.228</th>\n",
       "      <th>down</th>\n",
       "      <td>8.310150</td>\n",
       "      <td>5.042844</td>\n",
       "    </tr>\n",
       "    <tr>\n",
       "      <th>up</th>\n",
       "      <td>-9.632861</td>\n",
       "      <td>-5.855582</td>\n",
       "    </tr>\n",
       "    <tr>\n",
       "      <th>0.256</th>\n",
       "      <th>down</th>\n",
       "      <td>7.749057</td>\n",
       "      <td>5.965866</td>\n",
       "    </tr>\n",
       "  </tbody>\n",
       "</table>\n",
       "</div>"
      ],
      "text/plain": [
       "                      x         y\n",
       "packing plane                    \n",
       "0.200   down   4.339270  2.303083\n",
       "        up    -8.039539 -4.278681\n",
       "0.228   down   8.310150  5.042844\n",
       "        up    -9.632861 -5.855582\n",
       "0.256   down   7.749057  5.965866"
      ]
     },
     "execution_count": 6,
     "metadata": {},
     "output_type": "execute_result"
    }
   ],
   "source": [
    "diff_vel_pd = pd.concat(diff_vel, keys = index.index, names=[\"file\"])\n",
    "diff_vel_pd.loc[:,\"packing\"] = index.loc[diff_vel_pd.index.get_level_values(\"file\")].packing.values\n",
    "diff_vel_pd[\"plane\"] = diff_vel_pd.index.get_level_values(\"plane\")\n",
    "diff_vel_pd = diff_vel_pd.set_index([\"packing\",\"plane\"])\n",
    "diff_vel_pd.head()"
   ]
  },
  {
   "cell_type": "code",
   "execution_count": 7,
   "metadata": {},
   "outputs": [],
   "source": [
    "d = 2.8\n",
    "freq = frequency.magnitude\n",
    "\n",
    "def calc_current(series):\n",
    "    phi = series.index.get_level_values(\"packing\").unique().values[0]\n",
    "    factor = freq*d*np.sqrt(np.pi/np.sqrt(3)/phi)\n",
    "    out = series.loc[idx[:,\"up\"],:].reset_index(level=1,drop=True) - \\\n",
    "        series.loc[idx[:,\"down\"],:].reset_index(level=1,drop=True)\n",
    "    \n",
    "    return pd.DataFrame(data = [np.sqrt(out.x.values**2+out.y.values**2)/(factor)], columns = [\"I\"])\n",
    "    "
   ]
  },
  {
   "cell_type": "code",
   "execution_count": 8,
   "metadata": {},
   "outputs": [],
   "source": [
    "current = diff_vel_pd.groupby(\"packing\").apply(calc_current).reset_index(level=1,drop=True)"
   ]
  },
  {
   "cell_type": "code",
   "execution_count": 9,
   "metadata": {},
   "outputs": [],
   "source": [
    "current.to_csv(\"current_vs_density.dat\",sep=\"\\t\")"
   ]
  },
  {
   "cell_type": "code",
   "execution_count": 10,
   "metadata": {},
   "outputs": [
    {
     "data": {
      "image/png": "[encoded data removed]",
      "text/plain": [
       "<Figure size 450x300 with 1 Axes>"
      ]
     },
     "metadata": {
      "needs_background": "light"
     },
     "output_type": "display_data"
    }
   ],
   "source": [
    "fig = plt.figure(figsize=(3,2))\n",
    "plt.plot(current.index, current.I)\n",
    "plt.xlabel(r\"$\\Phi = N\\pi d^2 / (4A)$\")\n",
    "plt.ylabel(r\"$I$\")\n",
    "fig.tight_layout()\n",
    "fig.savefig('current_jamming.pdf', pad_inches = 0, bbox_inches = \"tight\")"
   ]
  }
 ],
 "metadata": {
  "kernelspec": {
   "display_name": "Python 3",
   "language": "python",
   "name": "python3"
  },
  "language_info": {
   "codemirror_mode": {
    "name": "ipython",
    "version": 3
   },
   "file_extension": ".py",
   "mimetype": "text/x-python",
   "name": "python",
   "nbconvert_exporter": "python",
   "pygments_lexer": "ipython3",
   "version": "3.7.1"
  }
 },
 "nbformat": 4,
 "nbformat_minor": 2
}
