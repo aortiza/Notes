{
 "cells": [
  {
   "cell_type": "markdown",
   "metadata": {},
   "source": [
    "# Interaction potential\n",
    "\n",
    "What is the interaction potential between two particles? Does it reproduces the results of Osterman (PRL 2007)? \n",
    "\n",
    "What does the potential look like if particles have parallel moments?"
   ]
  },
  {
   "cell_type": "code",
   "execution_count": 10,
   "metadata": {
    "collapsed": true
   },
   "outputs": [],
   "source": [
    "import lammps2d as lmp\n",
    "import numpy as np\n",
    "import matplotlib.pyplot as plt\n",
    "import pandas as pd\n",
    "import trackpy as tp\n",
    "\n",
    "%matplotlib inline\n",
    "%reload_ext autoreload\n",
    "%autoreload 2"
   ]
  },
  {
   "cell_type": "code",
   "execution_count": 187,
   "metadata": {},
   "outputs": [],
   "source": [
    "temp = 300 # K\n",
    "Kb = 4/300 # pN nm / K\n",
    "diffusion = 0.1e6 #nm^2/s\n",
    "drag = Kb*temp/diffusion #pN/(nm/s)\n",
    "\n",
    "sgm = 2.8 #um\n",
    "B = 3 #mT\n",
    "chi = 0.5 #n.a.\n",
    "\n",
    "initial_positions = np.array([[-1.41,0,0.1],[1.41,0,-0.1]])\n",
    "\n",
    "sim = lmp.sim(initial_positions,\n",
    "              magnitude = B,\n",
    "              radius = sgm/2,\n",
    "              drag = drag,\n",
    "              frequency=1,\n",
    "              susceptibility = chi,\n",
    "              angle=0,\n",
    "              lj_parameters=[1,1/(2**(1/6))],\n",
    "              lj_cutoff = 1,\n",
    "              framerate=1e1,\n",
    "              timestep=1e-4,\n",
    "              total_time = 10,\n",
    "              walls = [-10/2,10/2],\n",
    "              temperature = 1)"
   ]
  },
  {
   "cell_type": "markdown",
   "metadata": {},
   "source": [
    "$$ F = -\\nabla U$$\n",
    "$$ U(\\vec{r}) = -\\int_{\\infty}^\\vec{r} F.\\mathrm{d}\\vec{s}$$"
   ]
  },
  {
   "cell_type": "code",
   "execution_count": 188,
   "metadata": {},
   "outputs": [],
   "source": [
    "def integrate(f,x):\n",
    "    f = f.values\n",
    "    x = x.values\n",
    "    f01 = (f[1:]+f[:-1])/2\n",
    "    dx = x[1:]-x[:-1]\n",
    "    return np.cumsum(f01*dx)\n",
    "\n",
    "def potential(F,r):\n",
    "    U = -(integrate(F.fx,r.x) + integrate(F.fy,r.y) + integrate(F.fz,r.z))\n",
    "    r = np.sqrt(r.x**2+r.y**2).values\n",
    "    r = (r[1:]+r[:-1])/2\n",
    "    return U, r"
   ]
  },
  {
   "cell_type": "code",
   "execution_count": 209,
   "metadata": {},
   "outputs": [
    {
     "name": "stdout",
     "output_type": "stream",
     "text": [
      "lmp_mingw64.exe -in test.lmpfieldin\n",
      "lmp_mingw64.exe -in test.lmpfieldin\n",
      "lmp_mingw64.exe -in test.lmpfieldin\n",
      "lmp_mingw64.exe -in test.lmpfieldin\n",
      "lmp_mingw64.exe -in test.lmpfieldin\n"
     ]
    }
   ],
   "source": [
    "Z = np.linspace(0,2.5,5)\n",
    "N = 1000\n",
    "U = np.empty([N,np.size(Z)])\n",
    "R = np.empty([N,np.size(Z)])\n",
    "\n",
    "for i,z in enumerate(Z):\n",
    "    trj = sim.generate_interaction_series([10,0,z],1000,[0,0,z])\n",
    "    idx = pd.IndexSlice\n",
    "    u, r = potential(trj.loc[idx[:,1],('fx','fy','fz')],trj.loc[idx[:,1],('x','y','z')])    \n",
    "    U[:,i] = u\n",
    "    R[:,i] = r"
   ]
  },
  {
   "cell_type": "markdown",
   "metadata": {},
   "source": [
    "if we define (from Osterman 2007):\n",
    "$$ K = \\frac{\\pi \\sigma^6 \\chi^2 B^2}{144\\mu_0}$$"
   ]
  },
  {
   "cell_type": "code",
   "execution_count": 222,
   "metadata": {},
   "outputs": [
    {
     "data": {
      "text/plain": [
       "<matplotlib.text.Text at 0x10257b00>"
      ]
     },
     "execution_count": 222,
     "metadata": {},
     "output_type": "execute_result"
    },
    {
     "data": {
      "image/png": "[encoded data removed]",
      "text/plain": [
       "<matplotlib.figure.Figure at 0x101b0518>"
      ]
     },
     "metadata": {},
     "output_type": "display_data"
    }
   ],
   "source": [
    "K = (np.pi * (sgm**6) * chi**2 * (B*1e6)**2) / (144 * np.pi*4e14)\n",
    "\n",
    "plt.plot(R/sgm,U*(sgm**3)/K)\n",
    "plt.ylim([-0.7,1.25])\n",
    "plt.xlim([0,3.5])\n",
    "plt.legend([\"h = %2.2f\"%(i*2) for i in Z],bbox_to_anchor=(1.1, 1.05))\n",
    "plt.xlabel(\"$r/\\sigma$\")\n",
    "plt.ylabel(\"$U\\sigma^3/K$\")"
   ]
  },
  {
   "cell_type": "markdown",
   "metadata": {},
   "source": [
    "And from Dobnikar 2008: "
   ]
  },
  {
   "cell_type": "markdown",
   "metadata": {},
   "source": [
    "<img src=Dobnikar_Potential.png width=500px>"
   ]
  }
 ],
 "metadata": {
  "anaconda-cloud": {},
  "kernelspec": {
   "display_name": "Python [conda env:Py34MAT]",
   "language": "python",
   "name": "conda-env-Py34MAT-py"
  },
  "language_info": {
   "codemirror_mode": {
    "name": "ipython",
    "version": 3
   },
   "file_extension": ".py",
   "mimetype": "text/x-python",
   "name": "python",
   "nbconvert_exporter": "python",
   "pygments_lexer": "ipython3",
   "version": "3.4.5"
  }
 },
 "nbformat": 4,
 "nbformat_minor": 2
}
