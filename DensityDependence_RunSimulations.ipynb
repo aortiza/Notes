{
 "cells": [
  {
   "cell_type": "markdown",
   "metadata": {},
   "source": [
    "# Current vs Density "
   ]
  },
  {
   "cell_type": "code",
   "execution_count": 1,
   "metadata": {},
   "outputs": [],
   "source": [
    "import sys\n",
    "import os\n",
    "sys.path.insert(0, '../magcolloids')\n",
    "\n",
    "import numpy as np\n",
    "import matplotlib.pyplot as plt\n",
    "import pandas as pd\n",
    "from IPython.display import HTML, clear_output\n",
    "import jsonpickle\n",
    "import scipy.optimize as spo\n",
    "import scipy.spatial as spa \n",
    "import magcolloids as mgc\n",
    "import matplotlib as mpl\n",
    "import string as st\n",
    "\n",
    "from tqdm import tqdm_notebook\n",
    "\n",
    "ureg = mgc.ureg\n",
    "\n",
    "idx = pd.IndexSlice\n",
    "\n",
    "%reload_ext autoreload\n",
    "%autoreload 2"
   ]
  },
  {
   "cell_type": "code",
   "execution_count": 2,
   "metadata": {},
   "outputs": [],
   "source": [
    "mpl.rc('text', usetex=True)\n",
    "mpl.rcParams['figure.dpi'] = 150"
   ]
  },
  {
   "cell_type": "code",
   "execution_count": 3,
   "metadata": {},
   "outputs": [],
   "source": [
    "directory = \"D:/DensityDependence2/\""
   ]
  },
  {
   "cell_type": "code",
   "execution_count": 4,
   "metadata": {},
   "outputs": [],
   "source": [
    "h = 3.9 * ureg.um\n",
    "tilt_angle = 7*ureg.deg\n",
    "frequency = 3*ureg.Hz"
   ]
  },
  {
   "cell_type": "code",
   "execution_count": 5,
   "metadata": {},
   "outputs": [
    {
     "data": {
      "text/plain": [
       "array([0.2  , 0.214, 0.228, 0.242, 0.256, 0.27 , 0.284, 0.298, 0.312,\n",
       "       0.326, 0.34 , 0.354, 0.368, 0.382, 0.396, 0.41 , 0.424, 0.438,\n",
       "       0.452, 0.466, 0.48 , 0.494, 0.508, 0.522, 0.536, 0.55 , 0.564,\n",
       "       0.578, 0.592, 0.606, 0.62 , 0.634, 0.648, 0.662, 0.676, 0.69 ,\n",
       "       0.704, 0.718, 0.732, 0.746, 0.76 , 0.774, 0.788, 0.802, 0.816,\n",
       "       0.83 , 0.844, 0.858, 0.872, 0.886, 0.9  ])"
      ]
     },
     "execution_count": 5,
     "metadata": {},
     "output_type": "execute_result"
    }
   ],
   "source": [
    "packing = np.linspace(0.2, 0.9, 51)\n",
    "packing"
   ]
  },
  {
   "cell_type": "code",
   "execution_count": 6,
   "metadata": {},
   "outputs": [],
   "source": [
    "def redefine_field(field,tilt_angle):\n",
    "    field.fieldx = 'v_Bmag*(sin(v_freq*time*2*PI)*sin(v_theta)+cos(v_theta)*%s)'%np.sin(tilt_angle).magnitude\n",
    "    field.fieldy = 'v_Bmag*(cos(v_freq*time*2*PI)*sin(v_theta))'%np.sin(tilt_angle).magnitude\n",
    "    field.fieldz = 'v_Bmag*(cos(v_theta)*%s)'%np.cos(tilt_angle).magnitude\n",
    "    return field"
   ]
  },
  {
   "cell_type": "code",
   "execution_count": 7,
   "metadata": {},
   "outputs": [],
   "source": [
    "index_name = \"index.dat\"\n",
    "\n",
    "import csv\n",
    "\n",
    "def prepare_simulation(packing):\n",
    "    \n",
    "    region, positions = mgc.hexagonal_order(\n",
    "        n_of_particles = 250,\n",
    "        packing=packing, height = h.magnitude,\n",
    "        r = 1.4, theta = np.pi/2)\n",
    "\n",
    "    particles = mgc.particles(\n",
    "        positions*ureg.um,\n",
    "        radius = 1.4*ureg.um,\n",
    "        susceptibility = 0.4,\n",
    "        diffusion=0.073*ureg.um**2/ureg.s,\n",
    "        density = 1000*ureg.kg/ureg.m**3,\n",
    "        temperature=300*ureg.K)\n",
    "\n",
    "    world = mgc.world(particles, temperature = 300*ureg.K,\n",
    "                      lj_parameters = [1e-2*ureg.pg*ureg.um**2/ureg.us**2, 2**(-1/6)],\n",
    "                      region=region*ureg.um, boundaries = ['p','p','f'], walls = [False,False,True],\n",
    "                      dipole_cutoff = 30*ureg.um)\n",
    "\n",
    "    field = mgc.field(magnitude = 7.28*ureg.mT, frequency = frequency,\n",
    "                  angle = 27*ureg.degrees, multibody_iter=2)\n",
    "    \n",
    "    field = redefine_field(field,tilt_angle)\n",
    "\n",
    "    sim = mgc.sim(dir_name = directory,\n",
    "                  file_name=\"Phi_%s\"%(packing),stamp_time=False,\n",
    "                  timestep = 1e-4*ureg.s, framerate = 75*ureg.Hz, total_time = 60*ureg.s,\n",
    "                  particles = particles, world = world, field = field, output=[\"x\",\"y\",\"z\",\"mux\",\"muy\",\"muz\",\"fx\",\"fy\"])\n",
    "    \n",
    "    sim.packing = packing\n",
    "    \n",
    "    return sim"
   ]
  },
  {
   "cell_type": "code",
   "execution_count": 8,
   "metadata": {},
   "outputs": [],
   "source": [
    "simulations = [prepare_simulation(phi) for phi in packing]"
   ]
  },
  {
   "cell_type": "code",
   "execution_count": 9,
   "metadata": {},
   "outputs": [],
   "source": [
    "sim = simulations[0]"
   ]
  },
  {
   "cell_type": "code",
   "execution_count": 10,
   "metadata": {},
   "outputs": [],
   "source": [
    "def run_simulation(sim):\n",
    "    \n",
    "    import csv\n",
    "    import os\n",
    "    index_name = \"index.dat\"\n",
    "    directory = sim.dir_name\n",
    "    \n",
    "    sim.generate_scripts()\n",
    "    sim.run()\n",
    "    \n",
    "    packing = sim.packing\n",
    "    \n",
    "    with open(os.path.join(directory,index_name),'a',newline='') as file:\n",
    "        writer = csv.writer(file,delimiter=' ')\n",
    "        writer.writerow([os.path.split(sim.base_name)[-1], packing])"
   ]
  },
  {
   "cell_type": "markdown",
   "metadata": {},
   "source": [
    "## Run asynchronously in several cores at once.\n",
    "\n",
    "https://gist.github.com/aortiza/dd1eb47fa675c147bd44df3a98bc7a4e"
   ]
  },
  {
   "cell_type": "code",
   "execution_count": 11,
   "metadata": {},
   "outputs": [],
   "source": [
    "from multiprocessing import Pool\n",
    "import inspect"
   ]
  },
  {
   "cell_type": "code",
   "execution_count": 12,
   "metadata": {},
   "outputs": [],
   "source": [
    "with open(\"dummy.py\",'w') as file:\n",
    "    file.write(inspect.getsource(run_simulation))"
   ]
  },
  {
   "cell_type": "code",
   "execution_count": 13,
   "metadata": {},
   "outputs": [],
   "source": [
    "import dummy\n",
    "if __name__ ==  '__main__': \n",
    "    num_processors = 8\n",
    "    p=Pool(processes = num_processors)\n",
    "    p.map(dummy.run_simulation,simulations)"
   ]
  }
 ],
 "metadata": {
  "kernelspec": {
   "display_name": "Python 3",
   "language": "python",
   "name": "python3"
  },
  "language_info": {
   "codemirror_mode": {
    "name": "ipython",
    "version": 3
   },
   "file_extension": ".py",
   "mimetype": "text/x-python",
   "name": "python",
   "nbconvert_exporter": "python",
   "pygments_lexer": "ipython3",
   "version": "3.7.1"
  }
 },
 "nbformat": 4,
 "nbformat_minor": 2
}
