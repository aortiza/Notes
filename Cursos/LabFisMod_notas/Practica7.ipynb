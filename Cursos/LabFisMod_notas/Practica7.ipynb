{
 "cells": [
  {
   "cell_type": "markdown",
   "metadata": {},
   "source": [
    "# Practica 7 - Resonancia de Spin Electrónico"
   ]
  },
  {
   "cell_type": "markdown",
   "metadata": {},
   "source": [
    "El reporte indica que el nivel fundamental del DPPH absorbe fotones con energía de $E_{gs} = h\\nu = h146\\textrm{MHz}$\n",
    "\n",
    "If $h = 6.626\\times10^{-34} Js = 4.13567\\times10^{-15} eVs$ this corresponds to an energy of $E_{gs} = 6.03808e-07\\textrm{eV}$\n",
    "\n",
    "En realidad esto no está bien. $\\nu = 146\\textrm{MHz}$ es la frecuencia de oscilación del resonador. Es decir. Cuando la capacitancia y la resistencia son iguales, los fotónes emitidos por el circuito tienen una energía de $E_{r} = 6.03808e-07\\textrm{eV}$"
   ]
  },
  {
   "cell_type": "code",
   "execution_count": 22,
   "metadata": {},
   "outputs": [
    {
     "name": "stdout",
     "output_type": "stream",
     "text": [
      "9.673959999999999e-26\n"
     ]
    }
   ],
   "source": [
    "import numpy as np\n",
    "\n",
    "h = 4.13567e-15\n",
    "h = 6.626e-34\n",
    "etar = 146e6\n",
    "Er = h*etar\n",
    "print(Er)"
   ]
  },
  {
   "cell_type": "markdown",
   "metadata": {},
   "source": [
    "Ecuación 10:\n",
    "$$ B_r = \\frac{h\\nu}{\\mu_B g_J}$$ "
   ]
  },
  {
   "cell_type": "markdown",
   "metadata": {},
   "source": [
    "Cuando un electrón con energía $E_l$ se le aplica un campo magnético de intensidad $B$, la energía se separa en dos niveles, $E_l+\\frac{1}{2}\\Delta E$ y $E_l-\\frac{1}{2}\\Delta E$.\n",
    "La energía de esta separación es (Fig. 3):\n",
    "$$ \\Delta E = \\mu_Bg_JB $$\n"
   ]
  },
  {
   "cell_type": "markdown",
   "metadata": {},
   "source": [
    "Si aplicamos un campo magnético oscilante, $B_o = B_c + B_a\\sin(\\omega t)$, entonces la separación entre los dos subniveles Zeeman será $\\Delta E = \\mu_B g_J \\left(B_c + B_a\\sin(\\omega t)\\right)$ "
   ]
  },
  {
   "cell_type": "markdown",
   "metadata": {},
   "source": [
    "Si monitoreamos la energía del oscilador, y observamos una absorción cada $10$msec entonces podemos saber que el material está absorbiendo fotónes en el momento en que $\\sin(\\omega t) = 0$\n",
    "Eso nos permite asegurar que, cuando $t=t_{abs}$, entonces $\\Delta E(t_{abs}) = E_r = \\mu_B g_J B_c$ "
   ]
  },
  {
   "cell_type": "markdown",
   "metadata": {},
   "source": [
    "Sabemos entonces que $ \\frac{E_r}{B_c} = \\mu_Bg_J $\n",
    "\n",
    "Si el campo $B = \\left(\\frac{4}{5}\\right)^{\\frac{3}{2}} \\mu_0\\frac{N I}{r}$, y podemos ver que $B_c$ está dada por la corriente $I = 1.26$mA, entonces"
   ]
  },
  {
   "cell_type": "code",
   "execution_count": 18,
   "metadata": {},
   "outputs": [
    {
     "name": "stdout",
     "output_type": "stream",
     "text": [
      "Bc = 0.005245194999177076 T\n"
     ]
    }
   ],
   "source": [
    "mu = 4e-7*np.pi\n",
    "Ic = 1.26\n",
    "N = 250\n",
    "r = 5.4e-2\n",
    "Bc = (4/5)**(3/2)*mu*N*Ic/r\n",
    "print(\"Bc =\", Bc,\"T\")"
   ]
  },
  {
   "cell_type": "code",
   "execution_count": 23,
   "metadata": {},
   "outputs": [
    {
     "name": "stdout",
     "output_type": "stream",
     "text": [
      "gJ = 1.9895869089563203\n"
     ]
    }
   ],
   "source": [
    "muB = 9.27e-24\n",
    "g_J = Er/Bc/muB\n",
    "print(\"g_J =\",g_J)"
   ]
  },
  {
   "cell_type": "markdown",
   "metadata": {},
   "source": [
    "Which is ok. "
   ]
  },
  {
   "cell_type": "markdown",
   "metadata": {},
   "source": [
    "El ancho de línea es de $480\\mu$s\n",
    "Esto representa un $\\Delta B$ de "
   ]
  },
  {
   "cell_type": "code",
   "execution_count": 28,
   "metadata": {},
   "outputs": [
    {
     "name": "stdout",
     "output_type": "stream",
     "text": [
      "DB = 2.00351203587e-05 mT\n"
     ]
    }
   ],
   "source": [
    "omg = 50/(2*np.pi)\n",
    "dt = 480e-6\n",
    "DB = (4/5)**(3/2)*mu*N*Ic/r*np.sin(omg*dt)\n",
    "print(\"DB =\",DB,\"mT\")"
   ]
  },
  {
   "cell_type": "markdown",
   "metadata": {},
   "source": [
    "Que corresponde a un $\\Delta\\Delta E $ de "
   ]
  },
  {
   "cell_type": "code",
   "execution_count": 31,
   "metadata": {},
   "outputs": [
    {
     "name": "stdout",
     "output_type": "stream",
     "text": [
      "DDE = 3.69517154226e-28 J  =  2.30652607668e-09 eV\n"
     ]
    }
   ],
   "source": [
    "DDE = muB*g_J*DB\n",
    "print(\"DDE =\",DDE,\"J\",\" = \",DDE*6.242e18,\"eV\")"
   ]
  },
  {
   "cell_type": "code",
   "execution_count": null,
   "metadata": {
    "collapsed": true
   },
   "outputs": [],
   "source": []
  }
 ],
 "metadata": {
  "anaconda-cloud": {},
  "kernelspec": {
   "display_name": "Python [conda env:Py34MAT]",
   "language": "python",
   "name": "conda-env-Py34MAT-py"
  },
  "language_info": {
   "codemirror_mode": {
    "name": "ipython",
    "version": 3
   },
   "file_extension": ".py",
   "mimetype": "text/x-python",
   "name": "python",
   "nbconvert_exporter": "python",
   "pygments_lexer": "ipython3",
   "version": "3.4.5"
  }
 },
 "nbformat": 4,
 "nbformat_minor": 2
}
