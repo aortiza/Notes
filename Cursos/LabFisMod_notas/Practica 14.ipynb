{
 "cells": [
  {
   "cell_type": "markdown",
   "metadata": {},
   "source": [
    "# Práctica 14"
   ]
  },
  {
   "cell_type": "markdown",
   "metadata": {},
   "source": [
    "$\\alpha$ es el coeficiente de absorción. Esto es, la derivada de la intensidad $I$ con respecto al espesor de la muestra.\n",
    "\n",
    "$$ \\alpha(\\lambda,x) = \\frac{d I(\\lambda,x)}{d x} $$"
   ]
  },
  {
   "cell_type": "markdown",
   "metadata": {},
   "source": [
    "La transmitancia la definiremos como la relación entre la intensidad de salida y la intensidad de entrada. \n",
    "$$T = \\frac{I}{I_0}$$"
   ]
  },
  {
   "cell_type": "markdown",
   "metadata": {},
   "source": [
    "La intensidad entonces, está dada por:\n",
    "$$ I(\\lambda,x) = \\int_0^x\\alpha(\\lambda,x) dx $$"
   ]
  },
  {
   "cell_type": "code",
   "execution_count": null,
   "metadata": {
    "collapsed": true
   },
   "outputs": [],
   "source": []
  }
 ],
 "metadata": {
  "anaconda-cloud": {},
  "kernelspec": {
   "display_name": "Python [conda env:Py34MAT]",
   "language": "python",
   "name": "conda-env-Py34MAT-py"
  },
  "language_info": {
   "codemirror_mode": {
    "name": "ipython",
    "version": 3
   },
   "file_extension": ".py",
   "mimetype": "text/x-python",
   "name": "python",
   "nbconvert_exporter": "python",
   "pygments_lexer": "ipython3",
   "version": "3.4.5"
  }
 },
 "nbformat": 4,
 "nbformat_minor": 2
}
