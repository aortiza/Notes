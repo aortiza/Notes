{
 "cells": [
  {
   "cell_type": "markdown",
   "metadata": {},
   "source": [
    "# Some LAMMPS unit conversions"
   ]
  },
  {
   "cell_type": "markdown",
   "metadata": {},
   "source": [
    "The units of lammps output are.\n",
    "$$ F = F_{lammps} \\mathrm{p}g\\frac{\\mu{m}}{\\mu{s}^2}$$\n",
    "\n",
    "$$ \\sigma = \\sigma_{lammps}\\mu{m}$$\n",
    "\n",
    "if we define (from Osterman 2007):\n",
    "$$ K = \\frac{\\pi \\sigma^6 \\chi^2 B^2}{144\\mu_0}$$"
   ]
  },
  {
   "cell_type": "markdown",
   "metadata": {},
   "source": [
    "if \n",
    "$$ B = B_{mT}\\mathrm{m}T = B_{mT}\\frac{g}{Cs}$$\n",
    "\n",
    "$$ B = B_{mT} \\frac{g}{Cs} \\frac{10^{12}pg}{g} \\frac{s}{10^6\\mu{s}} $$\n",
    "\n",
    "$$ B = B_{mT}10^{6} \\frac{pg}{C\\ \\mu{s}}$$\n",
    "\n",
    "$$ B = B_{lammps}\\frac{pg}{C\\ \\mu{s}}$$\n",
    "\n",
    "$$ B_{lammps} = 10^{6}B_{mT}$$"
   ]
  },
  {
   "cell_type": "markdown",
   "metadata": {},
   "source": [
    "and \n",
    "$$ \\mu_0 = \\mu_{0si}\\frac{N}{A^2} = \\mu_{0si}\\frac{Kg m}{s^2 \\frac{C^2}{s^2}} $$ \n",
    "\n",
    "$$ \\mu_0 = \\mu_{0si}\\frac{Kg m}{C^2}$$ \n",
    "\n",
    "$$ \\mu_0 = \\mu_{0si}\\frac{Kg m}{C^2} \\frac{10^{12}pg}{10^{-3}Kg}\\frac{10^6\\mu{m}}{m} $$ \n",
    "\n",
    "$$ \\mu_0 = 10^{21}\\mu_{0si}\\frac{pg \\mu{m}}{C^2} = \\mu_{0lammps}\\frac{pg \\mu{m}}{C^2} $$ \n",
    "\n",
    "$$ 10^{21}\\mu_{0si} = \\mu_{0lammps} $$\n",
    "\n",
    "$$ \\mu_0 =10^{21}\\mu_{0si} \\frac{pg \\mu{m}}{C^2}$$\n",
    "\n",
    "$$ \\mu_0 =4\\times10^{-7} 10^{21}\\frac{pg \\mu{m}}{C^2}$$\n",
    "\n",
    "$$ \\mu_0 =4\\times10^{14}\\frac{pg \\mu{m}}{C^2}$$\n",
    "\n",
    "$$ \\mu_{0lammps} = 4\\times10^{14}\\pi $$\n",
    "\n"
   ]
  },
  {
   "cell_type": "markdown",
   "metadata": {},
   "source": [
    "Then \n",
    "$$ K = \\frac{\\pi \\sigma_{lammps}^6\\mu{m}^6 \\chi^2 \\left(B_{lammps}\\frac{pg}{C \\mu{s}}\\right)^2}\n",
    "    {144\\left(\\mu_{0lammps}\\frac{pg \\mu{m}}{C^2}\\right)} $$\n",
    "    \n",
    "$$ K = \\frac{\\pi \\sigma_{lammps}^6 \\chi^2 \\left(B_{lammps}\\right)^2}\n",
    "    {144\\left(\\mu_{0lammps}\\right)}\n",
    "    \\frac{\\frac{pg^2}{C^2\\ \\mu{s}^2}\\mu{m}^6}{\\frac{pg\\ \\mu{m}}{C^2}} $$\n",
    "    \n",
    "$$ K = \\frac{\\pi \\sigma_{lammps}^6 \\chi^2 \\left(B_{lammps}\\right)^2}\n",
    "    {144\\left(\\mu_{0lammps}\\right)}\n",
    "    \\frac{pg\\ \\mu{m}^5}{\\mu{s}^2} $$\n",
    "    \n",
    "$$ K = K_{lammps}\n",
    "    \\frac{pg\\ \\mu{m}^5}{\\mu{s}^2} $$"
   ]
  },
  {
   "cell_type": "markdown",
   "metadata": {},
   "source": [
    "$$ U(\\vec{r}) = U_{lammps} \\frac{pg\\ \\mu{m}^2}{\\mu s^2}$$\n",
    "\n",
    "$$ U(\\vec{r}) \\frac{K}{\\sigma^2} = U_{lammps} \\frac{pg\\ \\mu{m}^2}{\\mu s^2} \\frac{K}{\\sigma^2}$$\n"
   ]
  },
  {
   "cell_type": "code",
   "execution_count": null,
   "metadata": {
    "collapsed": true
   },
   "outputs": [],
   "source": []
  }
 ],
 "metadata": {
  "anaconda-cloud": {},
  "kernelspec": {
   "display_name": "Python [conda env:Py34MAT]",
   "language": "python",
   "name": "conda-env-Py34MAT-py"
  },
  "language_info": {
   "codemirror_mode": {
    "name": "ipython",
    "version": 3
   },
   "file_extension": ".py",
   "mimetype": "text/x-python",
   "name": "python",
   "nbconvert_exporter": "python",
   "pygments_lexer": "ipython3",
   "version": "3.4.5"
  }
 },
 "nbformat": 4,
 "nbformat_minor": 2
}
