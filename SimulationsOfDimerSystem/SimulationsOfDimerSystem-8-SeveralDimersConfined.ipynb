{
 "cells": [
  {
   "cell_type": "markdown",
   "metadata": {},
   "source": [
    "# Several Dimmers in a confined space\n",
    "\n",
    "As a first approximation for several dimmers, I'll use open boundary conditions and place walls in the x and y boundaries. "
   ]
  },
  {
   "cell_type": "code",
   "execution_count": 493,
   "metadata": {
    "collapsed": true
   },
   "outputs": [],
   "source": [
    "import lammps2d as lmp\n",
    "import numpy as np\n",
    "import matplotlib.pyplot as plt\n",
    "import matplotlib.animation as anm\n",
    "import matplotlib.collections as clt\n",
    "import pandas as pd\n",
    "import trackpy as tp\n",
    "\n",
    "from IPython.display import HTML\n",
    "\n",
    "%matplotlib inline\n",
    "%reload_ext autoreload\n",
    "%autoreload 2"
   ]
  },
  {
   "cell_type": "code",
   "execution_count": 494,
   "metadata": {
    "collapsed": true
   },
   "outputs": [],
   "source": [
    "x_loc = np.arange(-90,90+1,5)\n",
    "y_loc = np.arange(-90,90+1,5)\n",
    "\n",
    "[X,Y] = np.meshgrid(x_loc,y_loc)\n",
    "Z = np.zeros(np.shape(X))\n",
    "\n",
    "initial_positions = np.array([[x,y,z] for (x,y,z) in zip(X.flatten(),Y.flatten(),Z.flatten())])"
   ]
  },
  {
   "cell_type": "markdown",
   "metadata": {},
   "source": [
    "Most of the experiments are done at this angle:"
   ]
  },
  {
   "cell_type": "code",
   "execution_count": 495,
   "metadata": {
    "scrolled": true
   },
   "outputs": [
    {
     "name": "stdout",
     "output_type": "stream",
     "text": [
      "$\\theta$ =  26.916554617\n",
      "$H_0$ =  7.28971878744\n"
     ]
    }
   ],
   "source": [
    "print(\"$\\\\theta$ = \", np.arctan2(3.3,6.5)*180/np.pi)\n",
    "print(\"$H_0$ = \",np.sqrt(3.3**2+6.5**2))"
   ]
  },
  {
   "cell_type": "code",
   "execution_count": 496,
   "metadata": {
    "collapsed": true
   },
   "outputs": [],
   "source": [
    "temp = 300 # K\n",
    "Kb = 4/300 # pN nm / K\n",
    "diffusion = 0.1e6 #nm^2/s\n",
    "drag = Kb*temp/diffusion #pN/(nm/s)\n",
    "sigma = 2.8\n",
    "\n",
    "sim = lmp.sim(initial_positions,\n",
    "              magnitude = 7.28,\n",
    "              file_name = \"test3\",\n",
    "              radius = sigma/2,\n",
    "              diffusion = 0.14,\n",
    "              frequency=1,\n",
    "              susceptibility = 0.4,\n",
    "              angle=27,\n",
    "              framerate=1e1,\n",
    "              timestep=1e-4,\n",
    "              total_time = 20,\n",
    "              temperature = 300,\n",
    "              space = {'region':[183,183,4],'boundary':['f','f','f'],'walls':[True,True,True]})"
   ]
  },
  {
   "cell_type": "code",
   "execution_count": 497,
   "metadata": {},
   "outputs": [
    {
     "name": "stdout",
     "output_type": "stream",
     "text": [
      "Wall time: 9min 18s\n"
     ]
    }
   ],
   "source": [
    "%%time\n",
    "sim.generate_scripts()\n",
    "sim.run()\n",
    "## This was about half an hour of wall time"
   ]
  },
  {
   "cell_type": "code",
   "execution_count": 498,
   "metadata": {},
   "outputs": [
    {
     "name": "stdout",
     "output_type": "stream",
     "text": [
      "Wall time: 8.28 s\n"
     ]
    }
   ],
   "source": [
    "%%time\n",
    "trj = sim.load(read_trj=True)"
   ]
  },
  {
   "cell_type": "code",
   "execution_count": 499,
   "metadata": {},
   "outputs": [
    {
     "name": "stdout",
     "output_type": "stream",
     "text": [
      "Wall time: 4min 51s\n"
     ]
    }
   ],
   "source": [
    "%%time\n",
    "anim = animate_trj(trj,sim)\n",
    "\n",
    "anim.save(\"video3.avi\",writer=\"ffmpeg\")"
   ]
  },
  {
   "cell_type": "code",
   "execution_count": null,
   "metadata": {},
   "outputs": [],
   "source": [
    "HTML(\"\"\"\n",
    "<video controls>\n",
    "  <source src=\"video2.mp4\" type=\"video/mp4\">\n",
    "</video>\n",
    "\"\"\")"
   ]
  },
  {
   "cell_type": "code",
   "execution_count": 466,
   "metadata": {},
   "outputs": [
    {
     "name": "stderr",
     "output_type": "stream",
     "text": [
      "IOPub data rate exceeded.\n",
      "The notebook server will temporarily stop sending output\n",
      "to the client in order to avoid crashing it.\n",
      "To change this limit, set the config variable\n",
      "`--NotebookApp.iopub_data_rate_limit`.\n"
     ]
    }
   ],
   "source": [
    "%%time\n",
    "HTML(animate_trj(trj,sim).to_html5_video())"
   ]
  },
  {
   "cell_type": "markdown",
   "metadata": {},
   "source": [
    "# Support Functions"
   ]
  },
  {
   "cell_type": "code",
   "execution_count": 238,
   "metadata": {
    "collapsed": true
   },
   "outputs": [],
   "source": [
    "def plot_trj(trj):\n",
    "    idx = pd.IndexSlice\n",
    "\n",
    "    fig, (ax1,ax2) = plt.subplots(1,2,figsize=(15,5))\n",
    "    for i in trj.index.get_level_values('id').unique():\n",
    "        ax1.plot(trj.loc[idx[:,i],'x'],trj.loc[idx[:,i],'y'])\n",
    "        ax2.plot(trj.loc[idx[:,i],'x'],trj.loc[idx[:,i],'z'])\n",
    "\n",
    "    ax1.set(aspect='equal');\n",
    "    ax2.set(aspect='equal');\n",
    "    ax2.set_ylim([-5,5])"
   ]
  },
  {
   "cell_type": "code",
   "execution_count": 436,
   "metadata": {},
   "outputs": [],
   "source": [
    "def animate_trj(trj,sim,ax=False):\n",
    "    from mpl_toolkits.axes_grid1 import make_axes_locatable\n",
    "    \n",
    "    idx = pd.IndexSlice\n",
    "    \n",
    "    if not ax:\n",
    "        fig, ax = plt.subplots(1,1,figsize=(7,7))\n",
    "\n",
    "    particles = trj.index.get_level_values('id').unique()\n",
    "    n_of_particles = len(trj.index.get_level_values('id').unique())\n",
    "    \n",
    "    region = sim.sim_parameters.space[\"region\"] \n",
    "    radius = sim.particle_properties[0].radius\n",
    "    \n",
    "    framerate = sim.run_parameters.framerate\n",
    "    runtime = sim.run_parameters.total_time\n",
    "    timestep = sim.run_parameters.timestep\n",
    "    \n",
    "    lammps_time = 1e6;\n",
    "    \n",
    "    dt_data = timestep*framerate*lammps_time # Data timestep in lammps_time\n",
    "    dt_video = 1/framerate*1000 # video timestep in miliseconds\n",
    "    frames = runtime*framerate+1\n",
    "    \n",
    "    ax.set_xlim(region[0],region[1])\n",
    "    ax.set_ylim(region[2],region[3])\n",
    "    ax.set(aspect='equal')\n",
    "    ax.set_xlabel(\"$x [\\mu{m}]$\")\n",
    "    ax.set_ylabel(\"$y [\\mu{m}]$\")\n",
    "    \n",
    "    patches = []\n",
    "    for i,p in enumerate(particles):\n",
    "        c = plt.Circle((0, 0), radius)\n",
    "        patches.append(c)\n",
    "\n",
    "    p = clt.PatchCollection(patches, cmap=plt.cm.RdBu)\n",
    "    p.set_array(np.zeros(0))\n",
    "    p.set_clim([region[4]+radius,region[5]-radius])\n",
    "    \n",
    "    divider = make_axes_locatable(ax)\n",
    "    cax = divider.append_axes(\"right\", size=\"5%\", pad=0)\n",
    "    plt.colorbar(p,label='$z [\\mu{m}]$',cax=cax)\n",
    "\n",
    "    def init():\n",
    "        ax.add_collection(p)\n",
    "        return p,\n",
    "\n",
    "    def animate(frame):\n",
    "\n",
    "        for (part_id,particle) in enumerate(particles):\n",
    "            patches[part_id].center = (trj.loc[idx[frame*dt_data,particle],'x'],trj.loc[idx[frame*dt_data,particle],'y'])\n",
    "        p.set_paths(patches)\n",
    "        p.set_array(trj.loc[idx[frame*dt_data,:],'z'].values)\n",
    "        ax.add_collection(p)\n",
    "        return p,\n",
    "\n",
    "    anim = anm.FuncAnimation(fig, animate, init_func=init,\n",
    "                                   frames=int(frames), interval=dt_video, blit=True);\n",
    "    plt.close(anim._fig)\n",
    "\n",
    "    return anim"
   ]
  },
  {
   "cell_type": "code",
   "execution_count": null,
   "metadata": {
    "collapsed": true
   },
   "outputs": [],
   "source": []
  }
 ],
 "metadata": {
  "kernelspec": {
   "display_name": "Python [conda env:Py34MAT]",
   "language": "python",
   "name": "conda-env-Py34MAT-py"
  },
  "language_info": {
   "codemirror_mode": {
    "name": "ipython",
    "version": 3
   },
   "file_extension": ".py",
   "mimetype": "text/x-python",
   "name": "python",
   "nbconvert_exporter": "python",
   "pygments_lexer": "ipython3",
   "version": "3.4.5"
  }
 },
 "nbformat": 4,
 "nbformat_minor": 2
}
