{
 "cells": [
  {
   "cell_type": "markdown",
   "metadata": {},
   "source": [
    "# Interaction potential\n",
    "\n",
    "What is the interaction potential between two particles? Does it reproduces the results of Osterman (PRL 2007)? \n",
    "\n",
    "What does the potential look like if particles have parallel moments?"
   ]
  },
  {
   "cell_type": "code",
   "execution_count": 3,
   "metadata": {
    "collapsed": true
   },
   "outputs": [],
   "source": [
    "import lammps2d as lmp\n",
    "import numpy as np\n",
    "import matplotlib.pyplot as plt\n",
    "import pandas as pd\n",
    "import trackpy as tp\n",
    "\n",
    "%matplotlib inline\n",
    "%reload_ext autoreload\n",
    "%autoreload 2"
   ]
  },
  {
   "cell_type": "markdown",
   "metadata": {},
   "source": [
    "I first define a new simulation with a standard parameter set. "
   ]
  },
  {
   "cell_type": "code",
   "execution_count": 4,
   "metadata": {
    "collapsed": true
   },
   "outputs": [],
   "source": [
    "temp = 300 # K\n",
    "Kb = 4/300 # pN nm / K\n",
    "diffusion = 0.1e6 #nm^2/s\n",
    "drag = Kb*temp/diffusion #pN/(nm/s)\n",
    "\n",
    "sgm = 2.8 #um\n",
    "B = 3 #mT\n",
    "chi = 0.5 #n.a.\n",
    "\n",
    "initial_positions = np.array([[-1.41,0,0.1],[1.41,0,-0.1]])\n",
    "\n",
    "sim = lmp.sim(initial_positions,\n",
    "              magnitude = B,\n",
    "              radius = sgm/2,\n",
    "              drag = drag,\n",
    "              frequency=1,\n",
    "              susceptibility = chi,\n",
    "              angle=0,\n",
    "              lj_parameters=[1,1/(2**(1/6))],\n",
    "              lj_cutoff = 1,\n",
    "              framerate=1e1,\n",
    "              timestep=1e-4,\n",
    "              total_time = 10,\n",
    "              walls = [-10/2,10/2],\n",
    "              temperature = 1)"
   ]
  },
  {
   "cell_type": "markdown",
   "metadata": {},
   "source": [
    "## Generate Interaction Series \n",
    "\n",
    "I defined a new method for the simulation class, designed to obtain a plot of the interaction potential of a pair of particles"
   ]
  },
  {
   "cell_type": "code",
   "execution_count": 7,
   "metadata": {},
   "outputs": [
    {
     "name": "stdout",
     "output_type": "stream",
     "text": [
      "Help on method generate_interaction_series in module lammps2d.simulation:\n",
      "\n",
      "generate_interaction_series(start, n_points, end=[0, 0, 0]) method of lammps2d.simulation.sim instance\n",
      "    This method generates a lammps script with no thermostat, \n",
      "    which simply moves a particle at a constant velocity through the x axis\n",
      "    and dumps the force calculated by lammps.\n",
      "    \n",
      "    The parameters are, \n",
      "    * start (3 number array) a vector of the starting point,\n",
      "    * n_points = number of points\n",
      "    * end = [0,0,0] a vector of the end point.\n",
      "\n"
     ]
    }
   ],
   "source": [
    "help(sim.generate_interaction_series)"
   ]
  },
  {
   "cell_type": "markdown",
   "metadata": {},
   "source": [
    "<img src=GenerateInteractionSeries.png>"
   ]
  },
  {
   "cell_type": "markdown",
   "metadata": {},
   "source": [
    "This methord creates two particles, one of them in the origin as shown in the previous figure. The other particle is moved in a straight line of $N_p$ points between a starting point and an end point in $3D$ space. For each point, LAMMPS prints both particles position, and the force *felt* by each particle due to the other particle. "
   ]
  },
  {
   "cell_type": "code",
   "execution_count": 9,
   "metadata": {},
   "outputs": [
    {
     "name": "stdout",
     "output_type": "stream",
     "text": [
      "lmp_mingw64.exe -in test.lmpfieldin\n"
     ]
    },
    {
     "data": {
      "text/html": [
       "<div>\n",
       "<table border=\"1\" class=\"dataframe\">\n",
       "  <thead>\n",
       "    <tr style=\"text-align: right;\">\n",
       "      <th></th>\n",
       "      <th></th>\n",
       "      <th>fx</th>\n",
       "      <th>fy</th>\n",
       "      <th>fz</th>\n",
       "      <th>mu</th>\n",
       "      <th>mux</th>\n",
       "      <th>muy</th>\n",
       "      <th>muz</th>\n",
       "      <th>type</th>\n",
       "      <th>x</th>\n",
       "      <th>y</th>\n",
       "      <th>z</th>\n",
       "    </tr>\n",
       "    <tr>\n",
       "      <th>frame</th>\n",
       "      <th>id</th>\n",
       "      <th></th>\n",
       "      <th></th>\n",
       "      <th></th>\n",
       "      <th></th>\n",
       "      <th></th>\n",
       "      <th></th>\n",
       "      <th></th>\n",
       "      <th></th>\n",
       "      <th></th>\n",
       "      <th></th>\n",
       "      <th></th>\n",
       "    </tr>\n",
       "  </thead>\n",
       "  <tbody>\n",
       "    <tr>\n",
       "      <th rowspan=\"2\" valign=\"top\">0.0</th>\n",
       "      <th>1.0</th>\n",
       "      <td>0.000000</td>\n",
       "      <td>0.0</td>\n",
       "      <td>0.0</td>\n",
       "      <td>0.000046</td>\n",
       "      <td>0.0</td>\n",
       "      <td>0.0</td>\n",
       "      <td>0.000046</td>\n",
       "      <td>1.0</td>\n",
       "      <td>10.00</td>\n",
       "      <td>0.0</td>\n",
       "      <td>0.0</td>\n",
       "    </tr>\n",
       "    <tr>\n",
       "      <th>2.0</th>\n",
       "      <td>0.000000</td>\n",
       "      <td>0.0</td>\n",
       "      <td>0.0</td>\n",
       "      <td>0.000046</td>\n",
       "      <td>0.0</td>\n",
       "      <td>0.0</td>\n",
       "      <td>0.000046</td>\n",
       "      <td>1.0</td>\n",
       "      <td>0.00</td>\n",
       "      <td>0.0</td>\n",
       "      <td>0.0</td>\n",
       "    </tr>\n",
       "    <tr>\n",
       "      <th rowspan=\"2\" valign=\"top\">1.0</th>\n",
       "      <th>1.0</th>\n",
       "      <td>0.000006</td>\n",
       "      <td>0.0</td>\n",
       "      <td>0.0</td>\n",
       "      <td>0.000046</td>\n",
       "      <td>0.0</td>\n",
       "      <td>0.0</td>\n",
       "      <td>0.000046</td>\n",
       "      <td>1.0</td>\n",
       "      <td>9.99</td>\n",
       "      <td>0.0</td>\n",
       "      <td>0.0</td>\n",
       "    </tr>\n",
       "    <tr>\n",
       "      <th>2.0</th>\n",
       "      <td>-0.000006</td>\n",
       "      <td>0.0</td>\n",
       "      <td>0.0</td>\n",
       "      <td>0.000046</td>\n",
       "      <td>0.0</td>\n",
       "      <td>0.0</td>\n",
       "      <td>0.000046</td>\n",
       "      <td>1.0</td>\n",
       "      <td>0.00</td>\n",
       "      <td>0.0</td>\n",
       "      <td>0.0</td>\n",
       "    </tr>\n",
       "    <tr>\n",
       "      <th>2.0</th>\n",
       "      <th>1.0</th>\n",
       "      <td>0.000006</td>\n",
       "      <td>0.0</td>\n",
       "      <td>0.0</td>\n",
       "      <td>0.000046</td>\n",
       "      <td>0.0</td>\n",
       "      <td>0.0</td>\n",
       "      <td>0.000046</td>\n",
       "      <td>1.0</td>\n",
       "      <td>9.98</td>\n",
       "      <td>0.0</td>\n",
       "      <td>0.0</td>\n",
       "    </tr>\n",
       "  </tbody>\n",
       "</table>\n",
       "</div>"
      ],
      "text/plain": [
       "                 fx   fy   fz        mu  mux  muy       muz  type      x    y  \\\n",
       "frame id                                                                        \n",
       "0.0   1.0  0.000000  0.0  0.0  0.000046  0.0  0.0  0.000046   1.0  10.00  0.0   \n",
       "      2.0  0.000000  0.0  0.0  0.000046  0.0  0.0  0.000046   1.0   0.00  0.0   \n",
       "1.0   1.0  0.000006  0.0  0.0  0.000046  0.0  0.0  0.000046   1.0   9.99  0.0   \n",
       "      2.0 -0.000006  0.0  0.0  0.000046  0.0  0.0  0.000046   1.0   0.00  0.0   \n",
       "2.0   1.0  0.000006  0.0  0.0  0.000046  0.0  0.0  0.000046   1.0   9.98  0.0   \n",
       "\n",
       "             z  \n",
       "frame id        \n",
       "0.0   1.0  0.0  \n",
       "      2.0  0.0  \n",
       "1.0   1.0  0.0  \n",
       "      2.0  0.0  \n",
       "2.0   1.0  0.0  "
      ]
     },
     "execution_count": 9,
     "metadata": {},
     "output_type": "execute_result"
    }
   ],
   "source": [
    "trj = sim.generate_interaction_series([10,0,0],1000,[0,0,0])\n",
    "trj.head()"
   ]
  },
  {
   "cell_type": "markdown",
   "metadata": {},
   "source": [
    "Once I obtained this, I integrate the force acting on the moving particle, to obtain the potential:\n",
    "$$ F = -\\nabla U$$\n",
    "$$ U(\\vec{r}) = -\\int_{\\infty}^\\vec{r} F.\\mathrm{d}\\vec{s}$$"
   ]
  },
  {
   "cell_type": "code",
   "execution_count": 22,
   "metadata": {
    "collapsed": true
   },
   "outputs": [],
   "source": [
    "def integrate(f,x):\n",
    "    f = f.values\n",
    "    x = x.values\n",
    "    f01 = (f[1:]+f[:-1])/2\n",
    "    dx = x[1:]-x[:-1]\n",
    "    return np.cumsum(f01*dx)\n",
    "\n",
    "def potential(F,r):\n",
    "    U = -(integrate(F.fx,r.x) + integrate(F.fy,r.y) + integrate(F.fz,r.z))\n",
    "    r = r.values\n",
    "    r = (r[1:,:]+r[:-1,:])/2\n",
    "    return U, r"
   ]
  },
  {
   "cell_type": "markdown",
   "metadata": {},
   "source": [
    "## Interaction Potentials for Constant $z$\n",
    "\n",
    "I now run the program for several trajectories, where each trajectory corresponds to a separation height, and therefore it starts and ends at the same vertical position. The value of $z$ corresponds to the height minus the particle diameter. \n",
    "\n",
    "<img src=Dobnikar_Geometry.png width=250px>"
   ]
  },
  {
   "cell_type": "code",
   "execution_count": 23,
   "metadata": {},
   "outputs": [
    {
     "name": "stdout",
     "output_type": "stream",
     "text": [
      "lmp_mingw64.exe -in test.lmpfieldin\n",
      "lmp_mingw64.exe -in test.lmpfieldin\n",
      "lmp_mingw64.exe -in test.lmpfieldin\n",
      "lmp_mingw64.exe -in test.lmpfieldin\n",
      "lmp_mingw64.exe -in test.lmpfieldin\n"
     ]
    }
   ],
   "source": [
    "Z = np.linspace(0,2.5,5)\n",
    "N = 1000\n",
    "U = np.empty([N,np.size(Z)])\n",
    "r = np.empty([N,np.size(Z)])\n",
    "rt = np.empty([N,np.size(Z)])\n",
    "\n",
    "for i,z in enumerate(Z):\n",
    "    trj = sim.generate_interaction_series([10,0,z],1000,[0,0,z])\n",
    "    idx = pd.IndexSlice\n",
    "    U[:,i], rvec = potential(trj.loc[idx[:,1],('fx','fy','fz')],trj.loc[idx[:,1],('x','y','z')])\n",
    "    r[:,i] = np.sqrt(rvec[:,0]**2 + rvec[:,1]**2 + rvec[:,2]**2)\n",
    "    rt[:,i] = np.sqrt(rvec[:,0]**2 + rvec[:,1]**2)"
   ]
  },
  {
   "cell_type": "markdown",
   "metadata": {},
   "source": [
    "To get the potential in the same units as Dobnikar we must define (from Osterman 2007):\n",
    "$$ K = \\frac{\\pi \\sigma^6 \\chi^2 B^2}{144\\mu_0}$$"
   ]
  },
  {
   "cell_type": "code",
   "execution_count": 30,
   "metadata": {},
   "outputs": [
    {
     "data": {
      "text/plain": [
       "<matplotlib.text.Text at 0xe4ffef0>"
      ]
     },
     "execution_count": 30,
     "metadata": {},
     "output_type": "execute_result"
    },
    {
     "data": {
      "image/png": "[encoded data removed]",
      "text/plain": [
       "<matplotlib.figure.Figure at 0xa238eb8>"
      ]
     },
     "metadata": {},
     "output_type": "display_data"
    }
   ],
   "source": [
    "K = (np.pi * (sgm**6) * chi**2 * (B*1e6)**2) / (144 * np.pi*4e14)\n",
    "\n",
    "plt.plot(rt/sgm,U*(sgm**3)/K)\n",
    "plt.ylim([-0.7,1.25])\n",
    "plt.xlim([0,3.5])\n",
    "plt.legend([\"h = %2.2f\"%(i+sgm) for i in Z],bbox_to_anchor=(1.1, 1.05))\n",
    "plt.xlabel(\"$\\\\rho / \\sigma$\")\n",
    "plt.ylabel(\"$U\\sigma^3/K$\")"
   ]
  },
  {
   "cell_type": "markdown",
   "metadata": {},
   "source": [
    "And from Dobnikar 2008: "
   ]
  },
  {
   "cell_type": "markdown",
   "metadata": {},
   "source": [
    "<img src=Dobnikar_Potential.png width=500px>"
   ]
  },
  {
   "cell_type": "markdown",
   "metadata": {},
   "source": [
    "Note here that we are drawing the interaction potential as a function of the in plane distance $\\rho$. That is why the different curves have different apparent particle diameter, shown in the figure as a sharp increase in potential. If we plot  the interaction potential as a function of the radius, we get that all curves collapse into the same diameter."
   ]
  },
  {
   "cell_type": "code",
   "execution_count": 32,
   "metadata": {},
   "outputs": [
    {
     "data": {
      "text/plain": [
       "<matplotlib.text.Text at 0xe64b668>"
      ]
     },
     "execution_count": 32,
     "metadata": {},
     "output_type": "execute_result"
    },
    {
     "data": {
      "image/png": "[encoded data removed]",
      "text/plain": [
       "<matplotlib.figure.Figure at 0xd3e7be0>"
      ]
     },
     "metadata": {},
     "output_type": "display_data"
    }
   ],
   "source": [
    "plt.plot(r/sgm,U*(sgm**3)/K)\n",
    "plt.ylim([-0.7,1.25])\n",
    "plt.xlim([0,3.5])\n",
    "plt.legend([\"h = %2.2f\"%(i+sgm) for i in Z],bbox_to_anchor=(1.1, 1.05))\n",
    "plt.xlabel(\"$|\\\\vec{r}| / \\sigma$\")\n",
    "plt.ylabel(\"$U\\sigma^3/K$\")"
   ]
  }
 ],
 "metadata": {
  "anaconda-cloud": {},
  "kernelspec": {
   "display_name": "Python [conda env:Py34MAT]",
   "language": "python",
   "name": "conda-env-Py34MAT-py"
  },
  "language_info": {
   "codemirror_mode": {
    "name": "ipython",
    "version": 3
   },
   "file_extension": ".py",
   "mimetype": "text/x-python",
   "name": "python",
   "nbconvert_exporter": "python",
   "pygments_lexer": "ipython3",
   "version": "3.4.5"
  }
 },
 "nbformat": 4,
 "nbformat_minor": 2
}
