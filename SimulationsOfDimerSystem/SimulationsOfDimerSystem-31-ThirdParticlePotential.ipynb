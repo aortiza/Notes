{
 "cells": [
  {
   "cell_type": "markdown",
   "metadata": {},
   "source": [
    "# Third Particle Potential"
   ]
  },
  {
   "cell_type": "code",
   "execution_count": 1,
   "metadata": {
    "collapsed": true
   },
   "outputs": [],
   "source": [
    "import sympy as smp\n",
    "import numpy as np\n",
    "import matplotlib.pyplot as plt\n",
    "\n",
    "smp.init_printing()"
   ]
  },
  {
   "cell_type": "markdown",
   "metadata": {},
   "source": [
    "\n",
    "<img src=\"ThirdParticle.png\", width=\"300px\">\n",
    "\n",
    "What is the potential experienced by the third particle?"
   ]
  },
  {
   "cell_type": "markdown",
   "metadata": {},
   "source": [
    "# Magnetic potential produced by a dipole moment"
   ]
  },
  {
   "cell_type": "markdown",
   "metadata": {},
   "source": [
    "The magnetic potential produced by a dipole moment is:\n",
    "\n",
    "$\\newcommand{\\vec}[1]{{\\bf #1}}$ \n",
    "\n",
    "$$U\\left(\\vec{r}\\right) = - \\frac{\\mu_0}{4\\pi}\n",
    "\\left(\\frac{3\\left(\\vec{m}_1\\cdot\\vec{r}\\right)\\left(\\vec{m}_2\\cdot\\vec{r}\\right)}{\\left|r\\right|^5} - \n",
    "\\frac{\\vec{m}_1\\cdot\\vec{m}_2}{\\left|r\\right|^3}\\right)$$\n",
    "\n"
   ]
  },
  {
   "cell_type": "code",
   "execution_count": 36,
   "metadata": {
    "collapsed": true
   },
   "outputs": [],
   "source": [
    "m,mu0,x,h,rho = smp.symbols(\"m \\mu_0 x h rho\",positive=True,real=True)\n",
    "U = smp.symbols(\"U\",real=True)\n",
    "\n",
    "#m1,m2,r12,r13,r23 = smp.symbols(\"\\vec{m1} \\vec{m2} \\vec{r_{12}} \\vec{r_{13}} \\vec{r_{23}}\")"
   ]
  },
  {
   "cell_type": "code",
   "execution_count": 205,
   "metadata": {
    "collapsed": true
   },
   "outputs": [],
   "source": [
    "m1 = smp.Matrix([0,0,m])\n",
    "m2 = smp.Matrix([0,0,m])\n",
    "m3 = smp.Matrix([0,0,m])\n",
    "\n",
    "x12 = smp.symbols(\"x12\",positive=True)\n",
    "r12 = smp.Matrix([x12,0,h-2*rho])\n",
    "\n",
    "x12 = smp.solve(\n",
    "    smp.Eq(smp.simplify(r12.norm()),2*rho),\n",
    "    x12)[1]\n",
    "\n",
    "r12 = smp.Matrix([x12,0,h-2*rho])\n",
    "\n",
    "r13 = smp.Matrix([x,0,0])\n",
    "\n",
    "r23 = r13-r12"
   ]
  },
  {
   "cell_type": "markdown",
   "metadata": {},
   "source": [
    "The vector that connects particle $1$ and particle $3$ is:"
   ]
  },
  {
   "cell_type": "code",
   "execution_count": 40,
   "metadata": {},
   "outputs": [
    {
     "data": {
      "image/png": "iVBORw0KGgoAAAANSUhEUgAAABwAAABLCAMAAABUWBfpAAAAOVBMVEX///8AAAAAAAAAAAAAAAAAAAAAAAAAAAAAAAAAAAAAAAAAAAAAAAAAAAAAAAAAAAAAAAAAAAAAAAACXHtMAAAAEnRSTlMAMquJZkQiEEAwdlSZ3bvN73yX9ZKPAAAACXBIWXMAAA7EAAAOxAGVKw4bAAABHElEQVRIDe2W3ZLCIAyFAwTjAkXl/R92E34sQXavd2bLRav5TBNOT0bAlLosTOtoMQBTHPLyEwMJoC0Cb3P8/Ix/G1IIloxzsXWsu00AwQZIxwYi7zfwpi1uoOFYfjQgV/1YDpTwM/QiJVH7wZxJ2YNoDa4nzzAWQ+kJ4PtOVE1KIUBMOJiCZyebx17wQwEOzMILdy6kt/8X+GDR6RhUQ6zOcrnX0DDXMYxl4wQ2EHuTX3bZ+ZYG3FnzVqp7zHCgqvmG3WEKUsv0c+a9fPXeW804Gnqpsc91h7jfCrJrAdIYF1UT4BD5njJQshZIjsd3sBW2jHFdMke43S/IOqwi/FtTn/9li6m1Qpep9RDJt6bQL4cIqieGzSECEb4B0HcW/ReHxpIAAAAASUVORK5CYII=\n",
      "text/latex": [
       "$$\\left[\\begin{matrix}x\\\\0\\\\0\\end{matrix}\\right]$$"
      ],
      "text/plain": [
       "⎡x⎤\n",
       "⎢ ⎥\n",
       "⎢0⎥\n",
       "⎢ ⎥\n",
       "⎣0⎦"
      ]
     },
     "execution_count": 40,
     "metadata": {},
     "output_type": "execute_result"
    }
   ],
   "source": [
    "r13"
   ]
  },
  {
   "cell_type": "markdown",
   "metadata": {},
   "source": [
    "Which leads to the vector that connects particle $2$ and $3$: $\\vec{r}_{23}=\\vec{r}_{13}-\\vec{r}_{12}$."
   ]
  },
  {
   "cell_type": "code",
   "execution_count": 41,
   "metadata": {},
   "outputs": [
    {
     "data": {
      "image/png": "iVBORw0KGgoAAAANSUhEUgAAAL4AAABMCAMAAADk8P29AAAAOVBMVEX///8AAAAAAAAAAAAAAAAAAAAAAAAAAAAAAAAAAAAAAAAAAAAAAAAAAAAAAAAAAAAAAAAAAAAAAAACXHtMAAAAEnRSTlMAMquJZkQiEEAwzd27mVR273yh5+10AAAACXBIWXMAAA7EAAAOxAGVKw4bAAAFE0lEQVRoBe2b2ZakIAyGcWVGRRze/2GHAEE2BS10es4pL7oQ/sBXMRW3NCFlW9MJZyuzeUPVaKo2s9bSZATvDs+ampBGdL3chvPlm+V8/O1RQO5bAfhjwdrt+dczh9AJr/vNAhoj6Uvxx+l80n8TWsX4TDmfLtuc/Bqp0DoURzM0LOoq6yjFp+j8Kb1SOrQOxBHanEsbkYXpKMVnqzEQ2PBmPAitlHjoPUvY4cf4CbVrXohPMWQGQV1zbOvQwj38TIpXjsP42fTTofdjNVqpz0L8Dl3W4ffwZrGh5fWSpDgG6shD+CsmSws9sbXnS5hobWj5+ElxhM/HHX9gvPUmD9WU85Y2XWdC+NT7fDM/WI4HnIpJzt4Gx9qGlk+fFodAozyw6P1O5oVhc2cJ1VLAW06Y8ecZ/kg7oS8UrPNX1dEGJ2AbWu7ChKTFIVAnjQz+CuuMAg85zBaoe+k8Ls+yrQlmF59O874pbiqUn3t0PmHqcGx6PwityNwTSxSmZt829YEHEIAQfwOowaSrpBqoFszhsu3iy91wY+p6YrbZZgZfjfqYxKEVWLvifcj356g8ob2vExU4d998teoX1plZ/FHIYFuBWW1UHVidUBKhhbJY7Iz4QEMLm9hauYY+WpONVDDy1dAzwNejxqEZ75NF5vnJOh/UhGwd6aErCi0Y3DdfbPtjIDmjCqUZTuiN+bkZva+my0DgIpOgQ3P4g+ArzKo3/ZuVC2jzMLRQlhTjoA+kewXkAgp/6YxnGD3iq2UyoExmpgFP/Tl8Mm2QKs22qLm7zkRfEFqoSotx1AeCXjYJsXCZqEbOWXBP5Kspkyl8ZT3S5366kP0wR+D6zqcfWs7ASdMHcoQ69J0OaB6qtS7rfTLvzg+mhp+RG1rRcLLj8CJMJarQ5FCthXn8cEJv3wstb+Tyjs5qF80+xD8NrWsog8pq12zysZ+Z7yy0MqbBMHWvFYKxw90PvX8470sDX/yXHJ1c5uv9pFte6vx6/9zR8gKJnZy3z42zo097f5JXV7TeySH8Pg/j9+reowvujUOI+/sP4y/qcnVNP9u6T20tH8aHe8397tuuWq3xLD5FfP8Wqhr9x5ds5ySjUHeVjftw4Nzi4uiz3rf4eGt9kS4rB/xf4ndWd09AtfflTdk9+6zVH4lf9m4rO1VKoGN/TT3nT8kv9z0bPGRRGb//XxNnrx4XJ58hXPZ0yuBh75MZLhq24OFNCuRe39P4tJPvEx6jfzjv33PpBaunvX8B5Y70i3/Ha7Vsvt6v5ck783y9f8drtWy+3q/lyTvzfL3veq2sgGpkbKpTPFbd+wUFVCM8Pem80gXXBVfa1fFTN1bB+7VWvebevMqRK8yOtjZ+SQHVpm6+Wq92wUG60qyNX1JA1aonh63/9v8K9K6tjV9WQAXrz+ZNYlRAtcPlW5XxywqoAAsfXcUFVHnoXVEZv6yACpZX5SPypX9cQLXD5Vuf4d8roAIqZspUvAKqPG6o+Aw/nI2UFFCBUW/oUwVU0aQnHXXx3WorZ9GoLETVZ43ynVGqgMoxzDbr4sNse7WVXTzEb9QTWy7PXqkCKmtW0KiLH1Rb4foB/jgzuUH2TxZQoVXJZ138oNoKAQJ8WTwFm6xnTBZQoVXJZ138gxUD/F318cPPV/CDS7YdP1lAtQ/nW6/gH2HcKqDyJvun+LcKqH4O/q0CqgS+ygQnBY+eyQ/Zsf92RtV/cOX+7eyHUFsMDd2TvyBBNmbtuWt6AAAAAElFTkSuQmCC\n",
      "text/latex": [
       "$$\\left[\\begin{matrix}- \\sqrt{h} \\sqrt{- h + 4 \\rho} + x\\\\0\\\\- h + 2 \\rho\\end{matrix}\\right]$$"
      ],
      "text/plain": [
       "⎡       __________    ⎤\n",
       "⎢- √h⋅╲╱ -h + 4⋅ρ  + x⎥\n",
       "⎢                     ⎥\n",
       "⎢          0          ⎥\n",
       "⎢                     ⎥\n",
       "⎣      -h + 2⋅ρ       ⎦"
      ]
     },
     "execution_count": 41,
     "metadata": {},
     "output_type": "execute_result"
    }
   ],
   "source": [
    "r23"
   ]
  },
  {
   "cell_type": "code",
   "execution_count": 46,
   "metadata": {},
   "outputs": [
    {
     "data": {
      "image/png": "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\n",
      "text/latex": [
       "$$U_{23} = - \\frac{3 \\mu_0 m^{2} \\left(h - 2 \\rho\\right)^{2}}{4 \\pi \\left(- 2 \\sqrt{h} x \\sqrt{- h + 4 \\rho} + 4 \\rho^{2} + x^{2}\\right)^{2.5}} + \\frac{\\mu_0 m^{2}}{4 \\pi \\left(- 2 \\sqrt{h} x \\sqrt{- h + 4 \\rho} + 4 \\rho^{2} + x^{2}\\right)^{1.5}}$$"
      ],
      "text/plain": [
       "                                                                   -2.5       \n",
       "                   2          2 ⎛           __________      2    2⎞           \n",
       "           3⋅\\mu₀⋅m ⋅(h - 2⋅ρ) ⋅⎝- 2⋅√h⋅x⋅╲╱ -h + 4⋅ρ  + 4⋅ρ  + x ⎠       \\mu₀\n",
       "U_{23} = - ──────────────────────────────────────────────────────────── + ────\n",
       "                                       4⋅π                                    \n",
       "\n",
       "                                       -1.5\n",
       "  2 ⎛           __________      2    2⎞    \n",
       "⋅m ⋅⎝- 2⋅√h⋅x⋅╲╱ -h + 4⋅ρ  + 4⋅ρ  + x ⎠    \n",
       "───────────────────────────────────────────\n",
       "                  4⋅π                      "
      ]
     },
     "execution_count": 46,
     "metadata": {},
     "output_type": "execute_result"
    }
   ],
   "source": [
    "r23norm2 = smp.simplify(smp.expand(r23.dot(r23)))\n",
    "r23norm2\n",
    "U23 = -mu0/4/smp.pi*(3*m2.dot(r23)*m3.dot(r23)/(r23norm2)**(5/2)-m2.dot(m3)/(r23norm2)**(3/2))\n",
    "smp.Eq(smp.symbols(\"U_{23}\"),smp.simplify(U23))"
   ]
  },
  {
   "cell_type": "code",
   "execution_count": 128,
   "metadata": {},
   "outputs": [
    {
     "data": {
      "image/png": "iVBORw0KGgoAAAANSUhEUgAAAHcAAAAuBAMAAADglpuGAAAAMFBMVEX///8AAAAAAAAAAAAAAAAAAAAAAAAAAAAAAAAAAAAAAAAAAAAAAAAAAAAAAAAAAAAv3aB7AAAAD3RSTlMAIqvdu2bvzXaJRJkQMlTfcJnkAAAACXBIWXMAAA7EAAAOxAGVKw4bAAAC5klEQVRIDaWWT2jTUBzHv2m3LmmTNo4h7tRsFxWVFdSDMHAHEY/14oYITvGg4LRHZYdlnX8mQwgq2B5kAQX1shXEfyCawxCHyIonh44FdvSwDjbUUVd/L1u3pDZtmv0Oeb/3/X0/fa/v5b0W8BPT9/b7wdaZHF74h1cRz/umz2wHBu77HhiQurcBtxn+YU6RZN9029x3j0PvBJ6tD/O8oz2tzt7QcbVU8jgwLezgulU7poorerTfI8hsgxDXgOwdSPoFcH/QXGgAXkO0CEEN94jiKksDPd7hcBGRBEJ5LCFaQCSFkOodFhIIakZcxhUEUpRiUjY80y0K4qY2b+AwQhpmdOzmTM/wTAIfdpgEX2Sn4SxwXfDMYvLtKJ8BTXsNj4Ex4OfwJtx69FASx3+pm0Jl8toSrAWrLAHjOsBr/+tl5YiV0FalyoqtHaI8YtgEZ0p7a0V2zHAWrN4yPQNV9A0pXOt9Cv8m17Q7LOruNQh/qXi6hqFWKdhP1ZzdETlohWLXXPIZZlIg9gK7+g64mNzkxSTAqfg2AuzFrUpXrFQjChjPA4IMLABzeFgJ1+mPU53tFMGgd5+ige+8aAAdhDD4tkqPRqIlh1aauQWLJ+qT3M00swsZjXkf7FNZY017num1I6Dx/eTI4InNtwBxAPGkTdlIpZxDk/JCioQBxOQtnUbuxiljSyhnQaWcbbTBJG3uEkLmpt4+9Aazo2zlKmNEcSr8NepLRbDPqBdSr1JhmVItOERNvRDoAnSGREeJph0znXK13jDBPP02lXL4lP6SNT/muRXyOResGkgalyQ4O/Gob47OHr8nkggazZdFjbbqqQthkwW0KJLJy3eBZplfCiSlTFqWztFL8s7mcklPEgw0gf53SWhKubiqy3RYGfwVCVaPqezpOcKdnV3nNbxHgSGTsmh4Ri1jiK6ZIugCntK70MAvjQXHesCncAlY/PEKE40NHBlaVptMuqLweTT60nTA/wDKvNApcgPnegAAAABJRU5ErkJggg==\n",
      "text/latex": [
       "$$U_{13} = \\frac{\\mu_0 m^{2}}{4 \\pi x^{3.0}}$$"
      ],
      "text/plain": [
       "               2  -3.0\n",
       "         \\mu₀⋅m ⋅x    \n",
       "U_{13} = ─────────────\n",
       "              4⋅π     "
      ]
     },
     "execution_count": 128,
     "metadata": {},
     "output_type": "execute_result"
    }
   ],
   "source": [
    "r13norm2 = smp.simplify(smp.expand(r13.dot(r13)))\n",
    "r13norm2\n",
    "U13 = -mu0/4/smp.pi*(3*m1.dot(r13)*m3.dot(r13)/(r13norm2)**(5/2)-m1.dot(m3)/(r13norm2)**(3/2))\n",
    "smp.Eq(smp.symbols(\"U_{13}\"),smp.simplify(U13))"
   ]
  },
  {
   "cell_type": "markdown",
   "metadata": {},
   "source": [
    "## Magnetic dipole potential experienced by the third particle"
   ]
  },
  {
   "cell_type": "code",
   "execution_count": 127,
   "metadata": {},
   "outputs": [
    {
     "data": {
      "image/png": "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\n",
      "text/latex": [
       "$$U = \\frac{\\mu_0 m^{2}}{4 \\pi x^{3.0}} - \\frac{\\mu_0}{4 \\pi} \\left(\\frac{3 m^{2} \\left(- h + 2 \\rho\\right)^{2}}{\\left(- 2 \\sqrt{h} x \\sqrt{- h + 4 \\rho} + 4 \\rho^{2} + x^{2}\\right)^{2.5}} - \\frac{m^{2}}{\\left(- 2 \\sqrt{h} x \\sqrt{- h + 4 \\rho} + 4 \\rho^{2} + x^{2}\\right)^{1.5}}\\right)$$"
      ],
      "text/plain": [
       "                         ⎛                                                    \n",
       "          2  -3.0        ⎜   2           2 ⎛           __________      2    2⎞\n",
       "    \\mu₀⋅m ⋅x       \\mu₀⋅⎝3⋅m ⋅(-h + 2⋅ρ) ⋅⎝- 2⋅√h⋅x⋅╲╱ -h + 4⋅ρ  + 4⋅ρ  + x ⎠\n",
       "U = ───────────── - ──────────────────────────────────────────────────────────\n",
       "         4⋅π                                                            4⋅π   \n",
       "\n",
       "-2.5                                         -1.5⎞\n",
       "        2 ⎛           __________      2    2⎞    ⎟\n",
       "     - m ⋅⎝- 2⋅√h⋅x⋅╲╱ -h + 4⋅ρ  + 4⋅ρ  + x ⎠    ⎠\n",
       "──────────────────────────────────────────────────\n",
       "                                                  "
      ]
     },
     "execution_count": 127,
     "metadata": {},
     "output_type": "execute_result"
    }
   ],
   "source": [
    "smp.Eq(U,U23+U13)"
   ]
  },
  {
   "cell_type": "markdown",
   "metadata": {},
   "source": [
    "# Potential Extrema\n",
    "\n",
    "We can use this expression of the potential to find the necessary conditions for a potential minimum to exist."
   ]
  },
  {
   "cell_type": "markdown",
   "metadata": {},
   "source": [
    "We begin by taking the derivative of the potential with respect to $x$"
   ]
  },
  {
   "cell_type": "code",
   "execution_count": 58,
   "metadata": {
    "collapsed": true
   },
   "outputs": [],
   "source": [
    "dU = smp.diff(U(x),x)"
   ]
  },
  {
   "cell_type": "code",
   "execution_count": 59,
   "metadata": {},
   "outputs": [
    {
     "data": {
      "image/png": "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\n",
      "text/latex": [
       "$$\\frac{d}{d x} U{\\left (x \\right )} = - \\frac{\\mu_0 m^{2}}{4 \\pi x^{4.0} \\left(- 2 \\sqrt{h} x \\sqrt{- h + 4 \\rho} + 4 \\rho^{2} + x^{2}\\right)^{6.0}} \\left(x^{4.0} \\left(15.0 \\left(h - 2 \\rho\\right)^{2} \\left(\\sqrt{h} \\sqrt{- h + 4 \\rho} - x\\right) \\left(- 2 \\sqrt{h} x \\sqrt{- h + 4 \\rho} + 4 \\rho^{2} + x^{2}\\right)^{2.5} - 3.0 \\left(\\sqrt{h} \\sqrt{- h + 4 \\rho} - x\\right) \\left(- 2 \\sqrt{h} x \\sqrt{- h + 4 \\rho} + 4 \\rho^{2} + x^{2}\\right)^{3.5}\\right) + 3.0 \\left(- 2 \\sqrt{h} x \\sqrt{- h + 4 \\rho} + 4 \\rho^{2} + x^{2}\\right)^{6.0}\\right)$$"
      ],
      "text/plain": [
       "                          ⎛     ⎛                                             \n",
       "                  2  -4.0 ⎜ 4.0 ⎜              2 ⎛     __________    ⎞ ⎛      \n",
       "d          -\\mu₀⋅m ⋅x    ⋅⎝x   ⋅⎝15.0⋅(h - 2⋅ρ) ⋅⎝√h⋅╲╱ -h + 4⋅ρ  - x⎠⋅⎝- 2⋅√h\n",
       "──(U(x)) = ───────────────────────────────────────────────────────────────────\n",
       "dx                                                                            \n",
       "\n",
       "                            2.5                                               \n",
       "     __________      2    2⎞          ⎛     __________    ⎞ ⎛           ______\n",
       "⋅x⋅╲╱ -h + 4⋅ρ  + 4⋅ρ  + x ⎠    - 3.0⋅⎝√h⋅╲╱ -h + 4⋅ρ  - x⎠⋅⎝- 2⋅√h⋅x⋅╲╱ -h + \n",
       "──────────────────────────────────────────────────────────────────────────────\n",
       "                                                          4⋅π                 \n",
       "\n",
       "                 3.5⎞                                          6.0⎞           \n",
       "____      2    2⎞   ⎟       ⎛           __________      2    2⎞   ⎟ ⎛         \n",
       "4⋅ρ  + 4⋅ρ  + x ⎠   ⎠ + 3.0⋅⎝- 2⋅√h⋅x⋅╲╱ -h + 4⋅ρ  + 4⋅ρ  + x ⎠   ⎠⋅⎝- 2⋅√h⋅x⋅\n",
       "──────────────────────────────────────────────────────────────────────────────\n",
       "                                                                              \n",
       "\n",
       "                         -6.0 \n",
       "  __________      2    2⎞     \n",
       "╲╱ -h + 4⋅ρ  + 4⋅ρ  + x ⎠     \n",
       "──────────────────────────────\n",
       "                              "
      ]
     },
     "execution_count": 59,
     "metadata": {},
     "output_type": "execute_result"
    }
   ],
   "source": [
    "dUdx = smp.simplify(smp.diff(U23+U13,x))\n",
    "smp.Eq(dU,dUdx)"
   ]
  },
  {
   "cell_type": "markdown",
   "metadata": {},
   "source": [
    "We now equate it to zero to find extrema in the potential:"
   ]
  },
  {
   "cell_type": "code",
   "execution_count": 61,
   "metadata": {},
   "outputs": [
    {
     "data": {
      "image/png": "iVBORw0KGgoAAAANSUhEUgAAAGsAAAArBAMAAACNyWtTAAAAMFBMVEX///8AAAAAAAAAAAAAAAAAAAAAAAAAAAAAAAAAAAAAAAAAAAAAAAAAAAAAAAAAAAAv3aB7AAAAD3RSTlMAMs3vmVREEIndIna7ZqsdZgVxAAAACXBIWXMAAA7EAAAOxAGVKw4bAAACYUlEQVRIDZ1VTWgTURD+mm7ykk2T5qa3BtSjWC96Eha9tBRhDx70lGDx4CkVCgoWEg9CxWJ60IMiujcvEragp0KUCgoqEhQFRagHQbCIrSiVKujM2315280e+nZg3nwz831v/x47gLShPU4ADNdR11AQ0BszqWRXUqmwN4XMnlj6lUI27Y1smsvEEVhVc5m1iULLXDb8GM26uazZwqq5Ck0XK1nPWJjxS9fzcVW4jR2v61ysXeos6VSiYnhGc36skZR27t7u4ckPop5U7YcK9OP8A6+PQ9CuA8UWIKphAZn4Gc+44pZqqniAgEVEq6cqJUehML4HFmIl/KVCmXxYNw5rKNEroBa7g9wf6lwgP625+zWU6CfQcLfX8huUvyOfIL/YPTdP/WvbKYJl/UcIeoVxig45X8IprlmLwGuCmLzJdoeQ/RsY87mmrfmJMPsNoOQVt8q07SlKIyZlrUiBYI1oNm91CBjCSJW7Y7xoE3S1ho9/2tbRrgB5jzgkA0Z5A0zzEjF6tpobyQm2yfn9Yx8vDU/MhDepnw0vgVUqR40/yFcuvADm6t/BB/xjlED4DXA0Vso46FS4Rm+9tusYzhCc4jxiBVccjKQSLnz2ZTwLzC5nj7uUxA+guNqVO8elnBf6HXsxqc+1hLmhD7A+1APyhLnxXJHuKzAYE+bGnGI9U2AwJswNuxfQSt4gXVVSzw2x/GX3ZbXLjqKcGxa6/uSO6CEpmBsf8Mj7ZiIL5kYFKyYi+tmEc4P/IgYWzo3cFs4bqIK5ce9peR0tE5mcG9mN2fGcayKTc0NM+Sfemqj+AxGOltUoF20tAAAAAElFTkSuQmCC\n",
      "text/latex": [
       "$$\\frac{d}{d x} U{\\left (x \\right )} = 0$$"
      ],
      "text/plain": [
       "d           \n",
       "──(U(x)) = 0\n",
       "dx          "
      ]
     },
     "metadata": {},
     "output_type": "display_data"
    },
    {
     "data": {
      "image/png": "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\n",
      "text/latex": [
       "$$0 = - \\frac{\\mu_0 m^{2}}{4 \\pi x^{4.0} \\left(- 2 \\sqrt{h} x \\sqrt{- h + 4 \\rho} + 4 \\rho^{2} + x^{2}\\right)^{6.0}} \\left(x^{4.0} \\left(15.0 \\left(h - 2 \\rho\\right)^{2} \\left(\\sqrt{h} \\sqrt{- h + 4 \\rho} - x\\right) \\left(- 2 \\sqrt{h} x \\sqrt{- h + 4 \\rho} + 4 \\rho^{2} + x^{2}\\right)^{2.5} - 3.0 \\left(\\sqrt{h} \\sqrt{- h + 4 \\rho} - x\\right) \\left(- 2 \\sqrt{h} x \\sqrt{- h + 4 \\rho} + 4 \\rho^{2} + x^{2}\\right)^{3.5}\\right) + 3.0 \\left(- 2 \\sqrt{h} x \\sqrt{- h + 4 \\rho} + 4 \\rho^{2} + x^{2}\\right)^{6.0}\\right)$$"
      ],
      "text/plain": [
       "                   ⎛     ⎛                                                    \n",
       "           2  -4.0 ⎜ 4.0 ⎜              2 ⎛     __________    ⎞ ⎛           __\n",
       "    -\\mu₀⋅m ⋅x    ⋅⎝x   ⋅⎝15.0⋅(h - 2⋅ρ) ⋅⎝√h⋅╲╱ -h + 4⋅ρ  - x⎠⋅⎝- 2⋅√h⋅x⋅╲╱ -\n",
       "0 = ──────────────────────────────────────────────────────────────────────────\n",
       "                                                                              \n",
       "\n",
       "                     2.5                                                      \n",
       "________      2    2⎞          ⎛     __________    ⎞ ⎛           __________   \n",
       "h + 4⋅ρ  + 4⋅ρ  + x ⎠    - 3.0⋅⎝√h⋅╲╱ -h + 4⋅ρ  - x⎠⋅⎝- 2⋅√h⋅x⋅╲╱ -h + 4⋅ρ  + \n",
       "──────────────────────────────────────────────────────────────────────────────\n",
       "                                                   4⋅π                        \n",
       "\n",
       "          3.5⎞                                          6.0⎞                  \n",
       "   2    2⎞   ⎟       ⎛           __________      2    2⎞   ⎟ ⎛           _____\n",
       "4⋅ρ  + x ⎠   ⎠ + 3.0⋅⎝- 2⋅√h⋅x⋅╲╱ -h + 4⋅ρ  + 4⋅ρ  + x ⎠   ⎠⋅⎝- 2⋅√h⋅x⋅╲╱ -h +\n",
       "──────────────────────────────────────────────────────────────────────────────\n",
       "                                                                              \n",
       "\n",
       "                  -6.0 \n",
       "_____      2    2⎞     \n",
       " 4⋅ρ  + 4⋅ρ  + x ⎠     \n",
       "───────────────────────\n",
       "                       "
      ]
     },
     "metadata": {},
     "output_type": "display_data"
    }
   ],
   "source": [
    "display(smp.Eq(dU,0))\n",
    "display(smp.Eq(0,dUdx))"
   ]
  },
  {
   "cell_type": "markdown",
   "metadata": {},
   "source": [
    "### The first factor"
   ]
  },
  {
   "cell_type": "code",
   "execution_count": 68,
   "metadata": {},
   "outputs": [
    {
     "data": {
      "image/png": "iVBORw0KGgoAAAANSUhEUgAAAUEAAABEBAMAAADtmpoFAAAAMFBMVEX///8AAAAAAAAAAAAAAAAAAAAAAAAAAAAAAAAAAAAAAAAAAAAAAAAAAAAAAAAAAAAv3aB7AAAAD3RSTlMAMt0Qq5nNdrvviVRmIkTkPrJOAAAACXBIWXMAAA7EAAAOxAGVKw4bAAAFs0lEQVRoBe1ZXYgbVRQ+yWSSzc8kqVLRojTG9UFBjC3bFh9MaFcs/m2sbotUcG0tiCDNQ3VFH3ZFtChqa5FKFdkoirA+NCBFKOIOFBQRcdCifSgkgi9iYXfRduvPbjz3b+6dmTuymDQGyYXNPec759zzzTdzb2Z3Abo8Lit1ecEuL2fcvr/PGQJMDRh2fNcHGnYs4eA57FzCgYYDDbugQOdL9P15uH1muNb5ZQ5WGCgwUGCgwEABjQLtPh8LGs4D6H+lQGrS7vPreSTS549hqgqt/tYw+ePH/U0Qyu+O2BqKpg7U5F1KyNhLV2/axrKmzQMarOfQFfTvU7kW/BVsnZkIYr1HMtOkZ9SGlWDvqyj7IN5j5CDpl6lECjj5xuM+/z9ymw5p/MyTQb3Sv+opRY7TN4wFfbT7qDkdtma0ro8M5fX4pUIt3SamzdYHZaX4lToqkVW9uf073V8ONIwzZHsgwIB7dXhnwt76/jbdosbsKFHpy0BsiiGa84cErAkW9n5qhfWm/INXhR26qAlmAfFmwxfMzlEgot5+a/yxPE8zW2C8VPDVgBR2yxF/DP21GkyBV6ApllcTcy1rEf1oVQXR3lymQGZBwU9DShyYmxCO+2tUYfcpdcIcFoZ3FvApPcNMiTI0J7xVUGMMYyqOj8kxnrYb51zDV4PCuuNP1zonrISgQoGszXEFfo9DbgnzUwWcE6pW6KcdxjBZQUeMmRKMOdQxCjjNl0SAz0RYPrLyGP1EYFc/Kiwyp2vck3DkOg65Jcyn/3hLk1utjLPAGObqCrgVYCxP/ZSNk7hiN4MIywe9bGa77ep6hhI+Iy7ZLaErWM+TKSLvyuYDt8w21s0+/BHBczb5lONmgM/QixJk36dPO2BMbltHMwGosDw1vvuLV7kp2iUcwjC76x6GCw0lbFUiDouJEkoFTsM1CBvyVKkm7jALuLvpBfn2eGQJEkcxfZKUXHBiFTDhQI0fElRYDJBRfgJGmQWi3VkgDD+AnxkuGEr4zJq1XERRQqlYz625n5QssTp8f3ASyzEbMofuIsj6hsDpjFv+u+N5gAJ6+GDEpuFrmHLuVoTFABlzeRBnvWhXJwzTBWi2aIZgKOGZdptGQFwUo5JstxcI/gcPQgSGJoSNu6GF9qYiGdeiNY4/5Qpkajjj9k/WIA8voi2ENfbQ1DzsBHgTcdhRLB4rFofRyjiEYdKGebxos1i84UixWPHBmKaWeKmcp1H6kSP9+fBqmKkibC5DtIQzvlPQE5ao7wrLy+BGoIcYcbmGPwBhiPt/yqFJXEM/TGO8BLeBQkVhOO8YhAEdXoYnwXLAOg8nSazcors5uwwbpbCsCowVSBW4zdv9NDr6+51E2z0M5wz9MA26DBUqxhJfD7a0xiAlHGjarokbvg4J5H6otJeA3wC8ldn4WmwB6lJYno1fRcn6Kea47eANgOshws818RyCF6Y1vMRDxXL38tzlD8IvvBFqo8gM346Pb8XI/LNVEsedsJhKL44czjbwTYILywtj05DL15kjGV4E4yJssBksGXpgGuQlHiryPByZTD+ELflIUjLc2d9uX0AzftQhwCsAszVjV+3EV8TjwhITx5ANqQ+ZKZ5DgJ3tg+nlyfs47DL0wjTKGXqoZMUrAa8XU3xaWHJO/yZt1+LCur40pIZ0/4uAyxAB/1uBWiLyM/J7VEB0Ng97XObcpMG4sJrIOQVTfqdw3xwwrMA0WS0R1WZBWN45jLk3Cz2tsIEs3P+6EQJ7UqMVj+s6hvy+djG9oRM2kDkfQCgQAnuSy7bHlc4L0uyCdZt+jRDYkzxHt6cHYk7wFxhNUi8gPOv1YzWPiL6yy+jbYeulJsIivcUTukOFUXi9t0zCuiUbYRH4PDTS08BT4d3itfBY7yLWO+G9jFUddOH13YlsCL/JAN+XutOko1XwNSV8WPnwWK8iRkt2+hvl3RsmhU8OfgAAAABJRU5ErkJggg==\n",
      "text/latex": [
       "$$\\frac{1}{x^{4} \\left(- 2 \\sqrt{h} x \\sqrt{- h + 4 \\rho} + 4 \\rho^{2} + x^{2}\\right)^{6}}$$"
      ],
      "text/plain": [
       "                   1                   \n",
       "───────────────────────────────────────\n",
       "                                      6\n",
       " 4 ⎛           __________      2    2⎞ \n",
       "x ⋅⎝- 2⋅√h⋅x⋅╲╱ -h + 4⋅ρ  + 4⋅ρ  + x ⎠ "
      ]
     },
     "execution_count": 68,
     "metadata": {},
     "output_type": "execute_result"
    }
   ],
   "source": [
    "factor1 = 1/(x**4*r23norm2**6)\n",
    "factor1"
   ]
  },
  {
   "cell_type": "markdown",
   "metadata": {},
   "source": [
    "is only zero at infinity. However it is singular (and infinite) at zero and:"
   ]
  },
  {
   "cell_type": "code",
   "execution_count": 64,
   "metadata": {},
   "outputs": [
    {
     "data": {
      "image/png": "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\n",
      "text/latex": [
       "$$\\left [ \\sqrt{h} \\sqrt{- h + 4 \\rho} + i \\left(- h + 2 \\rho\\right), \\quad \\sqrt{h} \\sqrt{- h + 4 \\rho} + i \\left(h - 2 \\rho\\right)\\right ]$$"
      ],
      "text/plain": [
       "⎡     __________                      __________              ⎤\n",
       "⎣√h⋅╲╱ -h + 4⋅ρ  + ⅈ⋅(-h + 2⋅ρ), √h⋅╲╱ -h + 4⋅ρ  + ⅈ⋅(h - 2⋅ρ)⎦"
      ]
     },
     "execution_count": 64,
     "metadata": {},
     "output_type": "execute_result"
    }
   ],
   "source": [
    "smp.solve(smp.Eq(r23norm2,0),x)"
   ]
  },
  {
   "cell_type": "markdown",
   "metadata": {},
   "source": [
    "Which is when $\\left|\\vec{r}_{23}\\right|=0$ and it never happens because the third particle is constrained to the $z=0$ plane"
   ]
  },
  {
   "cell_type": "markdown",
   "metadata": {},
   "source": [
    "### The second factor"
   ]
  },
  {
   "cell_type": "markdown",
   "metadata": {},
   "source": [
    "The second factor is given by:"
   ]
  },
  {
   "cell_type": "code",
   "execution_count": 71,
   "metadata": {},
   "outputs": [
    {
     "data": {
      "image/png": "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\n",
      "text/latex": [
       "$$- \\frac{\\mu_0 m^{2}}{4 \\pi} \\left(x^{4} \\left(15.0 \\left(h - 2 \\rho\\right)^{2} \\left(\\sqrt{h} \\sqrt{- h + 4 \\rho} - x\\right) \\left(- 2 \\sqrt{h} x \\sqrt{- h + 4 \\rho} + 4 \\rho^{2} + x^{2}\\right)^{2.5} - 3 \\left(\\sqrt{h} \\sqrt{- h + 4 \\rho} - x\\right) \\left(- 2 \\sqrt{h} x \\sqrt{- h + 4 \\rho} + 4 \\rho^{2} + x^{2}\\right)^{3.5}\\right) + 3 \\left(- 2 \\sqrt{h} x \\sqrt{- h + 4 \\rho} + 4 \\rho^{2} + x^{2}\\right)^{6}\\right)$$"
      ],
      "text/plain": [
       "         ⎛   ⎛                                                                \n",
       "       2 ⎜ 4 ⎜              2 ⎛     __________    ⎞ ⎛           __________    \n",
       "-\\mu₀⋅m ⋅⎝x ⋅⎝15.0⋅(h - 2⋅ρ) ⋅⎝√h⋅╲╱ -h + 4⋅ρ  - x⎠⋅⎝- 2⋅√h⋅x⋅╲╱ -h + 4⋅ρ  + 4\n",
       "──────────────────────────────────────────────────────────────────────────────\n",
       "                                                                              \n",
       "\n",
       "         2.5                                                              3.5⎞\n",
       "  2    2⎞        ⎛     __________    ⎞ ⎛           __________      2    2⎞   ⎟\n",
       "⋅ρ  + x ⎠    - 3⋅⎝√h⋅╲╱ -h + 4⋅ρ  - x⎠⋅⎝- 2⋅√h⋅x⋅╲╱ -h + 4⋅ρ  + 4⋅ρ  + x ⎠   ⎠\n",
       "──────────────────────────────────────────────────────────────────────────────\n",
       "                    4⋅π                                                       \n",
       "\n",
       "                                        6⎞ \n",
       "     ⎛           __________      2    2⎞ ⎟ \n",
       " + 3⋅⎝- 2⋅√h⋅x⋅╲╱ -h + 4⋅ρ  + 4⋅ρ  + x ⎠ ⎠ \n",
       "───────────────────────────────────────────\n",
       "                                           "
      ]
     },
     "execution_count": 71,
     "metadata": {},
     "output_type": "execute_result"
    }
   ],
   "source": [
    "factor2 = (dUdx/factor1).subs(3.0,3).subs(6.0,6).subs(4.0,4)\n",
    "factor2"
   ]
  },
  {
   "cell_type": "markdown",
   "metadata": {},
   "source": [
    "We can simplify this by defining a lengthscale $\\alpha$"
   ]
  },
  {
   "cell_type": "code",
   "execution_count": 75,
   "metadata": {},
   "outputs": [
    {
     "data": {
      "image/png": "iVBORw0KGgoAAAANSUhEUgAAAKYAAAAZBAMAAABJOkjkAAAAMFBMVEX///8AAAAAAAAAAAAAAAAAAAAAAAAAAAAAAAAAAAAAAAAAAAAAAAAAAAAAAAAAAAAv3aB7AAAAD3RSTlMAiXaZMiLdRBDvVLvNZqv+LKXQAAAACXBIWXMAAA7EAAAOxAGVKw4bAAACjElEQVRIDZ1US2gTURQ9yeQzmXyrIHaVUHdKMUhxUQIOuBRhcCEulIyoQTc14MqNmVUVLAQVuyoyrgRBFMWFC0mgVFzJ6MqVRlBcFELBlKqR1vtm5r35JNZpL8y755x73n0zuY8A20Riyw7P0XGE/6yefwzKqkEx0Qvy3bAToU3hM0LlSPR7yBU+I1SOQpPdkOtriO+CSs3gppEzguVIbAG4vehzFrwz5Fe6r+DC46PSiDJLyrJPPevDuaqPuHBuVAorsk7Kb5/KzuBRNDlKWy6KR+gZI3P6J98KyF0Po2VwolRcdPIdl8bnRySn6InpXj1mehj7BBY9S76eEwdUYXBBfInAFD252Q8veXGeA5aXnxzSHM57xjXWM33kG62nm/L9pEngaIPFHCGcKauATqC9gj6lW/Rgmi1uyH+0Qs/BvOc5sJ57cZ3WO8CLuOHUxdruIV8h9lTFKpC4xwo6W9xQBig8czDvWWI9FR31JiSaQi3GvTxL60gZRGrAXeBxh2C8QsuC/S0XIXWRYVxqNK4sNho9IK+xnhkLLRMZOm5yP5UDkfyBh0w4j+SAUouuABuZiFQJddVh7nueAutJ1+GwhnYJKJus7Ps9gY7xliR5w5l8SgfeMw+PdlNM3u15o9//9YV91xugSK8wya1ebh2sEsmvIVP6SHkDuOwVgc80h7xhK/z3BB4AF5Cg75JoGuWE32/j3JJGmeZQVOlDMITCkohVYOAOwes5hDzEvEWmiWlL2iPMHCibDGUtxOzaMS1n8BLLr2lfxRFEz9rWc2V9asZRx66XAmq9ei3AfUT0JI2uQ/TIrq38yyz+Q8hA1yF6pDd7Ucx0HXYQV7Uo5lYUk/B8Emg7cNMu/gXf0q5nlPHezgAAAABJRU5ErkJggg==\n",
      "text/latex": [
       "$$\\alpha = \\sqrt{h} \\sqrt{- h + 4 \\rho}$$"
      ],
      "text/plain": [
       "         __________\n",
       "α = √h⋅╲╱ -h + 4⋅ρ "
      ]
     },
     "execution_count": 75,
     "metadata": {},
     "output_type": "execute_result"
    }
   ],
   "source": [
    "alpha = smp.symbols(\"alpha\",positive=True,real=True)\n",
    "alphadef = smp.sqrt(h*(4*rho-h))\n",
    "smp.Eq(alpha,smp.sqrt(h*(4*rho-h)))"
   ]
  },
  {
   "cell_type": "code",
   "execution_count": 78,
   "metadata": {},
   "outputs": [
    {
     "data": {
      "image/png": "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\n",
      "text/latex": [
       "$$- \\frac{\\mu_0 m^{2}}{4 \\pi} \\left(x^{4} \\left(15.0 \\left(\\alpha - x\\right) \\left(h - 2 \\rho\\right)^{2} \\left(- 2 \\alpha x + 4 \\rho^{2} + x^{2}\\right)^{2.5} - 3 \\left(\\alpha - x\\right) \\left(- 2 \\alpha x + 4 \\rho^{2} + x^{2}\\right)^{3.5}\\right) + 3 \\left(- 2 \\alpha x + 4 \\rho^{2} + x^{2}\\right)^{6}\\right)$$"
      ],
      "text/plain": [
       "         ⎛   ⎛                                            2.5                 \n",
       "       2 ⎜ 4 ⎜                      2 ⎛            2    2⎞                ⎛   \n",
       "-\\mu₀⋅m ⋅⎝x ⋅⎝15.0⋅(α - x)⋅(h - 2⋅ρ) ⋅⎝-2⋅α⋅x + 4⋅ρ  + x ⎠    - 3⋅(α - x)⋅⎝-2⋅\n",
       "──────────────────────────────────────────────────────────────────────────────\n",
       "                                                             4⋅π              \n",
       "\n",
       "                3.5⎞                         6⎞ \n",
       "         2    2⎞   ⎟     ⎛            2    2⎞ ⎟ \n",
       "α⋅x + 4⋅ρ  + x ⎠   ⎠ + 3⋅⎝-2⋅α⋅x + 4⋅ρ  + x ⎠ ⎠ \n",
       "────────────────────────────────────────────────\n",
       "                                                "
      ]
     },
     "execution_count": 78,
     "metadata": {},
     "output_type": "execute_result"
    }
   ],
   "source": [
    "factor2.subs(smp.sqrt(h*(4*rho-h)),alpha)"
   ]
  },
  {
   "cell_type": "markdown",
   "metadata": {},
   "source": [
    "which has roots given by"
   ]
  },
  {
   "cell_type": "code",
   "execution_count": 81,
   "metadata": {},
   "outputs": [
    {
     "data": {
      "image/png": "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\n",
      "text/latex": [
       "$$- \\frac{\\mu_0 m^{2}}{4 \\pi} \\left(x^{4} \\left(15.0 \\left(h - 2 \\rho\\right)^{2} \\left(\\sqrt{h} \\sqrt{- h + 4 \\rho} - x\\right) \\left(- 2 \\sqrt{h} x \\sqrt{- h + 4 \\rho} + 4 \\rho^{2} + x^{2}\\right)^{2.5} - 3 \\left(\\sqrt{h} \\sqrt{- h + 4 \\rho} - x\\right) \\left(- 2 \\sqrt{h} x \\sqrt{- h + 4 \\rho} + 4 \\rho^{2} + x^{2}\\right)^{3.5}\\right) + 3 \\left(- 2 \\sqrt{h} x \\sqrt{- h + 4 \\rho} + 4 \\rho^{2} + x^{2}\\right)^{6}\\right) = 0$$"
      ],
      "text/plain": [
       "         ⎛   ⎛                                                                \n",
       "       2 ⎜ 4 ⎜              2 ⎛     __________    ⎞ ⎛           __________    \n",
       "-\\mu₀⋅m ⋅⎝x ⋅⎝15.0⋅(h - 2⋅ρ) ⋅⎝√h⋅╲╱ -h + 4⋅ρ  - x⎠⋅⎝- 2⋅√h⋅x⋅╲╱ -h + 4⋅ρ  + 4\n",
       "──────────────────────────────────────────────────────────────────────────────\n",
       "                                                                              \n",
       "\n",
       "         2.5                                                              3.5⎞\n",
       "  2    2⎞        ⎛     __________    ⎞ ⎛           __________      2    2⎞   ⎟\n",
       "⋅ρ  + x ⎠    - 3⋅⎝√h⋅╲╱ -h + 4⋅ρ  - x⎠⋅⎝- 2⋅√h⋅x⋅╲╱ -h + 4⋅ρ  + 4⋅ρ  + x ⎠   ⎠\n",
       "──────────────────────────────────────────────────────────────────────────────\n",
       "                    4⋅π                                                       \n",
       "\n",
       "                                        6⎞     \n",
       "     ⎛           __________      2    2⎞ ⎟     \n",
       " + 3⋅⎝- 2⋅√h⋅x⋅╲╱ -h + 4⋅ρ  + 4⋅ρ  + x ⎠ ⎠     \n",
       "─────────────────────────────────────────── = 0\n",
       "                                               "
      ]
     },
     "execution_count": 81,
     "metadata": {},
     "output_type": "execute_result"
    }
   ],
   "source": [
    "extrema = smp.Eq(factor2,0)\n",
    "extrema"
   ]
  },
  {
   "cell_type": "code",
   "execution_count": 83,
   "metadata": {},
   "outputs": [
    {
     "data": {
      "image/png": "iVBORw0KGgoAAAANSUhEUgAAAX4AAAAlBAMAAAC3yp9PAAAAMFBMVEX///8AAAAAAAAAAAAAAAAAAAAAAAAAAAAAAAAAAAAAAAAAAAAAAAAAAAAAAAAAAAAv3aB7AAAAD3RSTlMAVGarEM3dMol2mSJE77tbe+IBAAAACXBIWXMAAA7EAAAOxAGVKw4bAAAEI0lEQVRYCe1ZT2gUVxj/ZZ3dncxMkhWh9NQs/UehiAsRvAjOQUs9SPZQvPTQpci2UEsXBAVFXWmR5KAuWgq1l5Vq21u2FAu96J69KK200kINtCD00MQaUTS4/d7MvHnvzZ/kvcAegnkw874/v+/7/fLNY5IhmBz8h/W65gZL2LJexQe6bz83+hcGZmstj3XCjGIAaM+/XFuLIMOaQ4Z4A/3jLePe5gX3jEu053/CuLV5QXneuEZb/w7j1uYFm8yfsa5+tx7JsWam/NWU6WCyelzlwbc/3c7NvD3i0NW/qR81cuA08nryuA6GY+V9J3e6+IabeXvEoas/Hs1E332U7FnuBpGZi70wk4VJ1mT48TPGMq4nj1IOh67+S5yv4Kf1l2osW6xYH4WoLAyvX2F3Kjz5alp/DoemfqvOWwN2Q9ih9UWg/3XgLM+kMTwj715V9rBH8k5LdmDmcGjqt+PRAIf9RO/ya4H+v4BJnkphEiWhO9JRwqeEVz4g7MDK49DU/5Zo5/4t7NCyi4H+J8DN6MdMY5I1ga/qtxoCdM0XdmDlcST0z1xsJQqxmwXOs5s9+y3df8Ax5kjrq0C/xfRXgRsXehkYCS44Yv2WT/lRKo443Fq5R4608jhU/T/2rT/caIZRcfl3ZjTocg9iX+97996RyywillsN9LuPgZMd2F3vVhoj0JA4Yv3HuwQo0RVy4NqRoz55YuVyqPrvAP+M+qKMrM0LdBvt0G2sjfHu52ODwaICgA2hv40X4C6nMVKFxMH1j7zEWn4Zc+DugP60lFcuR6Df2t9kq+UsAVdsquMB1oKdCTYazPlw6m1m0ZIQb4b6rceE7eBnePdDiHrnBTGH02x+/GuzWWMwj30CNuhSOLAnkPUBxXM5lPmPzQNnPiO4vEoN4A0W+JNO5x2fWcpyO6F+0PmfrHhLGH2q5BOOzMHnDzSBQpuQxhyK/mlqca6SICwsAwcoxuZrZ4zWm5ra9QsV4l9gm+/UUWyQk7tkDqF/Wx8lfy0civ6JKs0/xfwMI20WpGds30plWWAsOARb6fCh1MXJVgjywy1xlzmE/ol5vMiAphzq95dTQ+FcOUGIuV7RZ7Gv6RwtRtpUDLFP11GqWL9het56P0xaD1VQ5MkcQr/zFO8wgCFH8vtr5nzVmU3SXu/eCEL27Mv4rpPMku+896xDc7dmL7Qw+VP8G6TpZ2ABiUPod594XYY25VDnn8mH8cV3sxNZ0SsiOOILO9sS+rFQ7GVjMqISh45+70Eto0lO6EMRt4WZY3nVOHFzKjZXNSQOHf34RH80Fr2s+NrLDZ29tOJLV+kgc2jpf0UpX9HxFkW6KszVrYL+M5Y5tPSvzh4jrH5sDs1QOJT3/9Aoh9d4Q//wZqvTeWP+OlMaHmZj/sObrU7n21jn///6H3Thn5fPUwtKAAAAAElFTkSuQmCC\n",
      "text/latex": [
       "$$\\left [ - \\alpha - \\sqrt{\\alpha^{2} - 4.0 \\rho^{2}}, \\quad - \\alpha + \\sqrt{\\alpha^{2} - 4.0 \\rho^{2}}\\right ]$$"
      ],
      "text/plain": [
       "⎡        _____________          _____________⎤\n",
       "⎢       ╱  2        2          ╱  2        2 ⎥\n",
       "⎣-α - ╲╱  α  - 4.0⋅ρ  , -α + ╲╱  α  - 4.0⋅ρ  ⎦"
      ]
     },
     "metadata": {},
     "output_type": "display_data"
    }
   ],
   "source": [
    "roots = smp.solve(extrema.subs(smp.sqrt(h*(4*rho-h)),-alpha),x)\n",
    "display(roots)"
   ]
  },
  {
   "cell_type": "markdown",
   "metadata": {},
   "source": [
    "substituting back the original definition of $\\alpha$"
   ]
  },
  {
   "cell_type": "code",
   "execution_count": 85,
   "metadata": {},
   "outputs": [
    {
     "data": {
      "image/png": "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\n",
      "text/latex": [
       "$$\\left [ - \\sqrt{h} \\sqrt{- h + 4 \\rho} - \\sqrt{h \\left(- h + 4 \\rho\\right) - 4 \\rho^{2}}, \\quad - \\sqrt{h} \\sqrt{- h + 4 \\rho} + \\sqrt{h \\left(- h + 4 \\rho\\right) - 4 \\rho^{2}}\\right ]$$"
      ],
      "text/plain": [
       "⎡                       _____________________                         ________\n",
       "⎢       __________     ╱                   2          __________     ╱        \n",
       "⎣- √h⋅╲╱ -h + 4⋅ρ  - ╲╱  h⋅(-h + 4⋅ρ) - 4⋅ρ  , - √h⋅╲╱ -h + 4⋅ρ  + ╲╱  h⋅(-h +\n",
       "\n",
       "_____________⎤\n",
       "           2 ⎥\n",
       " 4⋅ρ) - 4⋅ρ  ⎦"
      ]
     },
     "metadata": {},
     "output_type": "display_data"
    }
   ],
   "source": [
    "roots2 = [r.subs(alpha,alphadef).subs(4.0,4) for r in roots]\n",
    "display(roots2)"
   ]
  },
  {
   "cell_type": "code",
   "execution_count": 18,
   "metadata": {},
   "outputs": [
    {
     "data": {
      "image/png": "iVBORw0KGgoAAAANSUhEUgAAASMAAAAaBAMAAAAODCfPAAAAMFBMVEX///8AAAAAAAAAAAAAAAAAAAAAAAAAAAAAAAAAAAAAAAAAAAAAAAAAAAAAAAAAAAAv3aB7AAAAD3RSTlMAEM3dMrvvmVREiWZ2Iqtdv6urAAAACXBIWXMAAA7EAAAOxAGVKw4bAAADzklEQVRIDc1VTYgUVxD+ema25297dlA86GVHPBgIMSMRFAMyoCAo4giSSzawkFM06GRXUFTCQG56cIigF3EbPAgiOnrJJeJICMkhPwNBctBoe8gl4GSVXXEPy1jv9avu1/26R2Q97Dt0ffVV1dfV/V51A6tqbbj1bFX1Q820MPt+W7JuDKorU1zC08bKFGLVeeTrMeod3Tvvu6WJjrPwjj0Y6dcMhggniQy5fgjjqFwd2dKISqEkw7mtcVHh/5pEhtyVEJqoNGLjxttmvs5I4YfVkLI+U2oFFwEOw8Be5SQo51qcuFtTZI7tOWDdl+wE9u+ZwwoLYcfL9YMQMkp3DVGMwyiwi52NDAKb9RR0DgWcAawaUZvjtOPhdkeRJPxwz17toSbafuQMGcYqV5jxoKUfNNaHP3mKeoIDRpCJfJfQa/bYVqqwp5VDwseHQ46QnVPtiQTGWnj/FnZs7Tkkl7vr+THn8J5vOMuwNjHFF3HafoHKsiINYTV9xRolJEyiG7SUEY+rr1LG8117OJzXAxH8PXnm6a/UUeEPhyG8+fzPfarKu3RRmBCv8b5oqXj2Oel6TCr7u2zp8h+iPH2dplDm1I9fGBlZeoxEYetlv+KJqi7AWKt+BNHSdVwCyjWNJ+h0RUulVnGa+dlPxAoOn09/SGbyIww4KbAHeynChQVUmpSWbQOMgyrAFS0V6njaEdfIKkG09B2cpQgdd3YQcaGBf+M8tseF18gn2oZ8DXaP0u0ObZ7CHKM30xct2V3MtZGbpzRrk6xrELwnWzqKojFOFAwlviJvBviajMbSzVoRYRFWK+v6fzzREmOOAY8hWqJB/LOPcINk3OmJlmiWxnlywjIdiZZ2wvzjiG9KojAmO/6cZdq05QqHilcHg1f/iYfcJN9yGKCTORj8f8ylF5upMz0r32DsLH1Ar3bJnLmCi3+ShXEfOFKuAmM9BJhvIe0x0K7naGDLzQhPju0h28LBRpyP+FNUOQ/bvRNhsQ94kCJMx26hRNlixBlHihdhLWJtlza/F+HJmWhisml9Gqej/i2I+ZlouBHa2X7y23qK8OfAjR5lF+n1M9aLZ4ZTheXfThCV7es84fzHi70Lj39pxOiYe5F2oIvSzSidGQ6HtTRhTt3GwLB0XsT6S15jFzpmb1nZRmrCKGFRZP5VWSrrSnSGfd3u1J1EXG4l0oIcJSziY/F9EaRcNIi0nKbvRa40S29d5q+ES0YIyxQr6ZYyMievY1VW0mxxXnNS4LoUnj5LMpIo7Nc8SitdLwP3ksJWJ4mNck436odeVPgNi0XlBzdlynwAAAAASUVORK5CYII=\n",
      "text/latex": [
       "$$- h \\left(h - 4 \\rho\\right) - 4 \\rho^{2} = - \\left(h - 2 \\rho\\right)^{2}$$"
      ],
      "text/plain": [
       "                  2             2\n",
       "-h⋅(h - 4⋅ρ) - 4⋅ρ  = -(h - 2⋅ρ) "
      ]
     },
     "metadata": {},
     "output_type": "display_data"
    },
    {
     "data": {
      "image/png": "iVBORw0KGgoAAAANSUhEUgAAACoAAAAOBAMAAACr0JNIAAAAMFBMVEX///8AAAAAAAAAAAAAAAAAAAAAAAAAAAAAAAAAAAAAAAAAAAAAAAAAAAAAAAAAAAAv3aB7AAAAD3RSTlMAzd27q1R2Zu8QIokyRJmp/u38AAAACXBIWXMAAA7EAAAOxAGVKw4bAAAAuUlEQVQYGWNgVDRREjFUZkAF/AEM+QUMEaiCDFMYQKLMaKLLwaLcE1CFz4JF2RegigJ5QBN4NVI3rpFwYNdIYOB6lgdWARRl4H+6voDJgGF+AsOJBWwCIGGQKJMCJwOzAQN/AoMeA8NXmCijAwNElOc7A4M0XPQBVJT1X3l5DVx0A0wtWDtQGGQuI0R0fQJDCwMDL0wtE9AENgWGigcMJy4w7AJKOPc3+/DaNwcwMOwun9HIwOW3ewEAxS0wjQp/2TIAAAAASUVORK5CYII=\n",
      "text/latex": [
       "$$\\mathrm{True}$$"
      ],
      "text/plain": [
       "True"
      ]
     },
     "metadata": {},
     "output_type": "display_data"
    }
   ],
   "source": [
    "e1 = -h*(h-4*rho)-4*rho**2\n",
    "e2 = -(h-2*rho)**2\n",
    "display(smp.Eq(e1,e2))\n",
    "display(smp.expand(smp.Eq(e1,e2)))"
   ]
  },
  {
   "cell_type": "code",
   "execution_count": 87,
   "metadata": {},
   "outputs": [
    {
     "data": {
      "image/png": "iVBORw0KGgoAAAANSUhEUgAAAhoAAAAlBAMAAAD2JF1EAAAAMFBMVEX///8AAAAAAAAAAAAAAAAAAAAAAAAAAAAAAAAAAAAAAAAAAAAAAAAAAAAAAAAAAAAv3aB7AAAAD3RSTlMAVGarEM3dMom7RCKZdu/OvFZeAAAACXBIWXMAAA7EAAAOxAGVKw4bAAAFLUlEQVRoBe2aTYgcRRTH38z2fGz3zs6iIlGQnYOeRBxYCehl55KDB5kFRRADGVTaBUEHcvKik0uQBcngxYNoFs/ijp83cXLQ04qjgiJuQNQEL8aJJiwmkfG96qrq6uqqrg5KH6QLtuvVq/de/+o/Vd2zy8L64g8oGynw5eIK3FpKIRX4pVRDagFQqqGIYVSjcWZBbS7j2mzsusjw/9JIsSy7MNh8zH5TMKa9sTzUSpzUxgUOi2UxqfGivtrXdUdx42JZTGo8pC22MdYcBQ6LZTGoEWxpq13ST442bx9O7FNsxjUPBbMY1FjZ1dbwkTbOP9xxhLrmoWAWgxrHALy3Bso64t2a9POQxlSJlWaLvLjahy9KFzeC/SfEZnOqkcFiqAxgZoGDnCwGNc5ham3K0bFTd6vqFxH1rrDUvj7CEa32uOol+wNoXuM+pxpZLOnKAGYW2Mb75WFJq+ENMLW9xnmxW1Hs2O93RMS3RjXYLBFcFnGifwDgErddamSyxJVtLG+LW1KfhyWtRrODqXs9vPCGu1W22F+ZcWfjnkw1/CsymRu/92BzEtkuNTJZ4so2lrvUW+O94gwxobEk1bgTo+oUeVqEY39KsWO/JGjWMtVoDpR0Zh4F2BxGziw1nCxxZRuLrkacIZg0loQarQsYdZ4ij9/yPf/4gO1WkR37JcEPTI13vhHxUegjX1CPq62du+8NkS37F9CijAw13CxxZRsLV8M7mOVkSajx4Rn8zAaY6V2dLHWx66Hd6uCFN+6nkSAIOqRGc+r/yGOibvQu9bja/pOwkZjBQeNvnpGhhpNFqWxj4Wo0GVseloQa0O9ClXSsHMLSGOClKdrs5GBPjfuZSXHYmkBq3A6BeE8wb7D2GfVIsD6EB5lLudSnPCNDDSeLUlmoobNwNd5b2cKb52FhahwLqT2Lr4/rUO9hJqavzqByxxzt8/gjAiI/zofh8xfDEGWAe5kaP4FP7w4RBx7gx88IUJXf0PIeZ/cYkhf28YdlGNSQJWwsshKvbGP5PAwvheHTeKtee4ZXvJeTJbk3ghtwBBMBvyx8iuA+/Y1wQA7euJ9G/PMIZqQGPqxb10UQ6yvsVYIE2xAcJmYAqlP2eMcMgxoy1sWiVLax8L0B6z2smoclqQac7T1GOP3d6K0SIvqIHLwJPw45gb+xsfnzCPdMbSCCWE/Hhwi8a5B6kh+BYBJlZKnhYlEq21iEGo/mZdHU2PtqSpn3A/xa7WG/G50c8lETfjQ5AVqrXahP4eXoEOCYtf7aCPsdqM5hdXR35OPXxghavTrLIDU87k51Dhalso2Fq+FdbmLxPCyaGrULE6LC594hVWiPo5NDPmrCj2ZMgEH9sfcUC5CXvaCD9g4sjaE9HEk3GR/v7x/lGaRGfysxGw8cLEplGwtXw5+/j1XzsGhqVP5kNK8BvDJDC59k7OQIROHHsSRYOfHXbP2Tg+TWgOWvKWcHljvQfFWkR/2JxeIqRBmkRv2Z5LQcOViUyjYWcVLe7GDRPCyaGvCchCEjuOFPE454IAnIxV6n8Zy0aLXmFmWw+dvMEfDvWYQa7AZ5WHQ1NLKzNXZyNC8N/Y7i3FZs1bQTRBlsfqRmZNg3z5L6rc1cPWZxqLGX+h5pKoiPd3OzqsEzaN6jI5mnFcDiUKOe/BZhgfbnlgmrGjyD5quW3JS7ABaHGtVuCsrg8HYNTnJ9Z/EDz7DOm/IKYHGoYaL6H/tKNdQPt1SjVENVQLXLvVGqoSqg2uXeSKpR/t+X0AP/7+sfff0syvJi01IAAAAASUVORK5CYII=\n",
      "text/latex": [
       "$$\\left [ - \\sqrt{h} \\sqrt{- h + 4 \\rho} - i \\left|{h - 2 \\rho}\\right|, \\quad - \\sqrt{h} \\sqrt{- h + 4 \\rho} + i \\left|{h - 2 \\rho}\\right|\\right ]$$"
      ],
      "text/plain": [
       "⎡       __________                       __________              ⎤\n",
       "⎣- √h⋅╲╱ -h + 4⋅ρ  - ⅈ⋅│h - 2⋅ρ│, - √h⋅╲╱ -h + 4⋅ρ  + ⅈ⋅│h - 2⋅ρ│⎦"
      ]
     },
     "execution_count": 87,
     "metadata": {},
     "output_type": "execute_result"
    }
   ],
   "source": [
    "roots3 = [smp.simplify(r).subs(e1,e2) for r in roots2]\n",
    "roots3"
   ]
  },
  {
   "cell_type": "markdown",
   "metadata": {},
   "source": [
    "Since particles must fit in the cell, $h>2\\rho$. Since we don't want them on top of each other, $h<4\\rho$. This means we can write:\n",
    "\n",
    "$$x\\bigr|_{\\delta U=0} = -\\sqrt{4\\rho-h}\\pm \\left(h-2\\rho\\right)i$$"
   ]
  },
  {
   "cell_type": "markdown",
   "metadata": {},
   "source": [
    "In what follows we'll see that the solving algorithm must be missing some solution. This makes sense because the equation is sixth order and we are only obtaining two solutions. "
   ]
  },
  {
   "cell_type": "markdown",
   "metadata": {},
   "source": [
    "# Visualize numerically the potential and equilibrium positions"
   ]
  },
  {
   "cell_type": "markdown",
   "metadata": {},
   "source": [
    "First we will plot the potential as function of height. For this we will assume $rho=1.4\\mu{}m$, but in principle we can also rescale everything in units of $\\rho$"
   ]
  },
  {
   "cell_type": "markdown",
   "metadata": {},
   "source": [
    "We'll plot the total potential, given by:"
   ]
  },
  {
   "cell_type": "code",
   "execution_count": 96,
   "metadata": {},
   "outputs": [
    {
     "data": {
      "image/png": "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\n",
      "text/latex": [
       "$$U{\\left (x \\right )} = \\frac{\\mu_0 m^{2}}{4 \\pi x^{3.0}} - \\frac{\\mu_0}{4 \\pi} \\left(\\frac{3 m^{2} \\left(- h + 2 \\rho\\right)^{2}}{\\left(- 2 \\sqrt{h} x \\sqrt{- h + 4 \\rho} + 4 \\rho^{2} + x^{2}\\right)^{2.5}} - \\frac{m^{2}}{\\left(- 2 \\sqrt{h} x \\sqrt{- h + 4 \\rho} + 4 \\rho^{2} + x^{2}\\right)^{1.5}}\\right)$$"
      ],
      "text/plain": [
       "                            ⎛                                                 \n",
       "             2  -3.0        ⎜   2           2 ⎛           __________      2   \n",
       "       \\mu₀⋅m ⋅x       \\mu₀⋅⎝3⋅m ⋅(-h + 2⋅ρ) ⋅⎝- 2⋅√h⋅x⋅╲╱ -h + 4⋅ρ  + 4⋅ρ  + \n",
       "U(x) = ───────────── - ───────────────────────────────────────────────────────\n",
       "            4⋅π                                                            4⋅π\n",
       "\n",
       "   -2.5                                         -1.5⎞\n",
       " 2⎞        2 ⎛           __________      2    2⎞    ⎟\n",
       "x ⎠     - m ⋅⎝- 2⋅√h⋅x⋅╲╱ -h + 4⋅ρ  + 4⋅ρ  + x ⎠    ⎠\n",
       "─────────────────────────────────────────────────────\n",
       "                                                     "
      ]
     },
     "metadata": {},
     "output_type": "display_data"
    }
   ],
   "source": [
    "Ut = U23+U13\n",
    "display(smp.Eq(U(x),Ut))"
   ]
  },
  {
   "cell_type": "code",
   "execution_count": 100,
   "metadata": {
    "collapsed": true
   },
   "outputs": [],
   "source": [
    "Utsubs = Ut.subs(mu0,4*smp.pi).subs(m,1)\n",
    "Un = smp.lambdify((x,rho,h),Utsubs)"
   ]
  },
  {
   "cell_type": "code",
   "execution_count": 101,
   "metadata": {
    "collapsed": true
   },
   "outputs": [],
   "source": [
    "N = 300"
   ]
  },
  {
   "cell_type": "code",
   "execution_count": 167,
   "metadata": {},
   "outputs": [
    {
     "name": "stderr",
     "output_type": "stream",
     "text": [
      "/Users/aortiza/anaconda3/lib/python3.6/site-packages/numpy/__init__.py:1: RuntimeWarning: divide by zero encountered in power\n",
      "  \"\"\"\n"
     ]
    },
    {
     "data": {
      "image/png": "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
