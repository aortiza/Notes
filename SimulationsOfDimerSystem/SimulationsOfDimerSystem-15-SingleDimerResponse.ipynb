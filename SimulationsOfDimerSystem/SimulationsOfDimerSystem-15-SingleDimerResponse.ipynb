{
 "cells": [
  {
   "cell_type": "markdown",
   "metadata": {},
   "source": [
    "# Single dimer response to a rotating magnetic field\n",
    "\n",
    "In this notebook I am trying to figure out if I obtain the correct response to a rotating magnetic field. I will try to compare this response to the analytic expression obtain by Andrej for the critical frequency $f_c$ and the rupture frequency $f_r$. Finally, I will try to determine what are the necessary conditions for two dimers to show repulsive interactions when rotating. "
   ]
  },
  {
   "cell_type": "code",
   "execution_count": 105,
   "metadata": {
    "collapsed": true
   },
   "outputs": [],
   "source": [
    "import lammps2d as lmp\n",
    "import numpy as np\n",
    "import matplotlib.pyplot as plt\n",
    "import matplotlib.animation as anm\n",
    "import matplotlib.collections as clt\n",
    "import pandas as pd\n",
    "import string as st\n",
    "import scipy.spatial as spp\n",
    "import scipy.optimize as spo\n",
    "import sympy as smp\n",
    "import copy as cp\n",
    "\n",
    "from IPython.display import HTML\n",
    "\n",
    "smp.init_printing()\n",
    "%matplotlib inline\n",
    "%reload_ext autoreload\n",
    "%autoreload 2"
   ]
  },
  {
   "cell_type": "markdown",
   "metadata": {},
   "source": [
    "## Angular velocity and distance functions."
   ]
  },
  {
   "cell_type": "markdown",
   "metadata": {},
   "source": [
    "This is the function we use to calculate the angular velocity. It calculates it irregardless of the distance between particles. The distance between particles should show when the system undergoes rupture. "
   ]
  },
  {
   "cell_type": "code",
   "execution_count": 3,
   "metadata": {
    "collapsed": true
   },
   "outputs": [],
   "source": [
    "def calculate_pair_angular_velocity(trj):\n",
    "    \"\"\" \n",
    "    Calculates the mean angular velocity of one particle with respect to the other in a trajectory with two particles\n",
    "    \"\"\"\n",
    "    \n",
    "    ids = trj.index.get_level_values('id').unique()\n",
    "    \n",
    "    if np.size(trj.index.get_level_values('id').unique())!=2:\n",
    "        raise ValueError(\"This function only accepts two particles\")\n",
    "        \n",
    "    idx = pd.IndexSlice\n",
    "    frames = trj.index.get_level_values('frame').unique()\n",
    "    time = trj.index.get_level_values('frame').unique().values*sim.run_parameters.timestep\n",
    "    angle = np.empty(np.shape(time))\n",
    "    \n",
    "    for i,f in enumerate(frames):\n",
    "        \n",
    "        delta = (trj.loc[idx[f,ids[0]]].filter(('x','y','z')).values - \n",
    "                 trj.loc[idx[f,ids[1]]].filter(('x','y','z')).values)/2\n",
    "        \n",
    "        angle[i] =  np.arctan2(delta[0],delta[1])\n",
    "    \n",
    "    angle = np.unwrap(angle)\n",
    "    omega = np.diff(angle)/np.diff(time)\n",
    "    return np.mean(omega[time[0:-1]>0.5])"
   ]
  },
  {
   "cell_type": "markdown",
   "metadata": {},
   "source": [
    "Notice that in the end we remove the first half of a second to get rid of any transient events."
   ]
  },
  {
   "cell_type": "markdown",
   "metadata": {},
   "source": [
    "## Diffusion coefficient"
   ]
  },
  {
   "cell_type": "markdown",
   "metadata": {},
   "source": [
    "The diffusion coefficient reported previously [Martinez-Pedrero 2014] for these particles is $D = 0.14\\frac{\\mu{m}^2}{s}$\n",
    "However, Andrej, in his notes, fits the critical frequency of Helena's data to the analytic expression for a dimer rotating and obtains $f_0 = 14.3 Hz$, where \n",
    "\n",
    "$$f_0 = \\frac{3\\mu_0 |\\vec{m}|^2}{2\\pi^2 d^5\\gamma}$$\n",
    "\n",
    "$\\gamma$ is the viscous drag $\\vec{m}$ is the magnetic moment, and $\\mu_0$ is the permeability of free space."
   ]
  },
  {
   "cell_type": "markdown",
   "metadata": {},
   "source": [
    "The magnetic moment of a particle is given by: \n",
    "\n",
    "$$|\\vec{m}| = \\frac{V\\chi{}B}{\\mu}$$\n",
    "\n",
    "then:"
   ]
  },
  {
   "cell_type": "code",
   "execution_count": 99,
   "metadata": {
    "collapsed": true
   },
   "outputs": [],
   "source": [
    "f0,mu0,m,d,gm,V,chi,B,mu,D,kbT = smp.symbols(r'f_0 \\mu_0 |\\vec{m}| d \\gamma V \\chi B \\mu D k_{b}T')\n",
    "T, m, A, N, s, um = smp.symbols(r'\\mathrm{T} \\mathrm{m} \\mathrm{A} \\mathrm{N} \\mathrm{s} \\mu{\\mathrm{m}}')"
   ]
  },
  {
   "cell_type": "code",
   "execution_count": 57,
   "metadata": {},
   "outputs": [
    {
     "data": {
      "image/png": "[encoded data removed]",
      "text/latex": [
       "$$|\\vec{m}| = \\frac{\\pi B \\chi d^{3}}{6 \\mu_0}$$"
      ],
      "text/plain": [
       "                      3\n",
       "            π⋅B⋅\\chi⋅d \n",
       "|\\vec{m}| = ───────────\n",
       "               6⋅\\mu₀  "
      ]
     },
     "execution_count": 57,
     "metadata": {},
     "output_type": "execute_result"
    }
   ],
   "source": [
    "expr1 = smp.Eq(m,V*chi*B/mu).subs(V,smp.Rational(4,3)*smp.pi*(d/2)**3).subs(mu,mu0)\n",
    "expr1"
   ]
  },
  {
   "cell_type": "code",
   "execution_count": 59,
   "metadata": {},
   "outputs": [
    {
     "data": {
      "image/png": "[encoded data removed]",
      "text/latex": [
       "$$f_{0} = \\frac{B^{2} \\chi^{2} d}{24 \\gamma \\mu_0}$$"
      ],
      "text/plain": [
       "        2     2    \n",
       "       B ⋅\\chi ⋅d  \n",
       "f₀ = ──────────────\n",
       "     24⋅\\gamma⋅\\mu₀"
      ]
     },
     "execution_count": 59,
     "metadata": {},
     "output_type": "execute_result"
    }
   ],
   "source": [
    "expr2 = smp.Eq(f0,3*mu0*m**2/(2*smp.pi**2*d**5*gm)).subs(m,expr1.rhs)\n",
    "expr2"
   ]
  },
  {
   "cell_type": "code",
   "execution_count": 72,
   "metadata": {},
   "outputs": [
    {
     "data": {
      "image/png": "[encoded data removed]",
      "text/latex": [
       "$$\\gamma = \\frac{B^{2} \\chi^{2} d}{24 \\mu_0 f_{0}}$$"
      ],
      "text/plain": [
       "          2     2  \n",
       "         B ⋅\\chi ⋅d\n",
       "\\gamma = ──────────\n",
       "         24⋅\\mu₀⋅f₀"
      ]
     },
     "execution_count": 72,
     "metadata": {},
     "output_type": "execute_result"
    }
   ],
   "source": [
    "expr3 = smp.Eq(gm,smp.solveset(expr2,gm).args[0].args[0])\n",
    "expr3"
   ]
  },
  {
   "cell_type": "markdown",
   "metadata": {},
   "source": [
    "we consider \n",
    "* $\\mu\\approx\\mu_0=4\\times10^{-7}\\pi \\mathrm{\\frac{Tm}{A}}$\n",
    "* $B = 7.28\\times10^{-3}\\mathrm{T}$\n",
    "* $\\chi=0.4$\n",
    "* $d=2.8\\mu{m}$\n",
    "and from Andrej fit,\n",
    "* $f_0 = 14.3 Hz$"
   ]
  },
  {
   "cell_type": "code",
   "execution_count": 85,
   "metadata": {},
   "outputs": [
    {
     "data": {
      "image/png": "[encoded data removed]",
      "text/latex": [
       "$$\\gamma = \\frac{\\mathrm{N} \\mathrm{s}}{\\mathrm{m}} 5.50533345936881 \\cdot 10^{-8}$$"
      ],
      "text/plain": [
       "         5.50533345936881e-8⋅\\mathrm{N}⋅\\mathrm{s}\n",
       "\\gamma = ─────────────────────────────────────────\n",
       "                         \\mathrm{m}               "
      ]
     },
     "execution_count": 85,
     "metadata": {},
     "output_type": "execute_result"
    }
   ],
   "source": [
    "expr4 = expr3.subs(mu0,4e-7*smp.pi*T*m/A).\\\n",
    "    subs(B,7.28e-3*T).\\\n",
    "    subs(chi,0.4).\\\n",
    "    subs(d,2.8e-6*m).\\\n",
    "    subs(f0,14.3/s).\\\n",
    "    subs(T,N/A/m)\n",
    "\n",
    "expr4.evalf()"
   ]
  },
  {
   "cell_type": "markdown",
   "metadata": {},
   "source": [
    "Now from Einstein's relation:\n",
    "$$ D = \\frac{k_bT}{\\gamma}$$\n",
    "\n",
    "and taking \n",
    "* $k_bT = 4\\times 10^{-21} \\mathrm{Nm}$"
   ]
  },
  {
   "cell_type": "code",
   "execution_count": 100,
   "metadata": {},
   "outputs": [
    {
     "data": {
      "image/png": "[encoded data removed]",
      "text/latex": [
       "$$D = \\frac{0.0726568159680304 \\mu{\\mathrm{m}}^{2}}{\\mathrm{s}}$$"
      ],
      "text/plain": [
       "                                      2\n",
       "    0.0726568159680304⋅\\mu{\\mathrm{m}} \n",
       "D = ───────────────────────────────────\n",
       "                 \\mathrm{s}            "
      ]
     },
     "execution_count": 100,
     "metadata": {},
     "output_type": "execute_result"
    }
   ],
   "source": [
    "smp.Eq(D,kbT/gm).subs(kbT,4e-21*N*m).subs(gm,expr4.rhs).subs(m,um*1e6).evalf()"
   ]
  },
  {
   "cell_type": "markdown",
   "metadata": {},
   "source": [
    "## Critical Frequency at a given height"
   ]
  },
  {
   "cell_type": "markdown",
   "metadata": {},
   "source": [
    "As seen in the notebook 14, the response frequency of a single dimer for low confinement can be given by an Adler Function "
   ]
  },
  {
   "cell_type": "code",
   "execution_count": 15,
   "metadata": {
    "collapsed": true
   },
   "outputs": [],
   "source": [
    "def rel_freq_fun(f,fc):\n",
    "    rel_freq = np.empty(np.shape(f))\n",
    "    rel_freq[f<=fc] = 1\n",
    "    rel_freq[f>fc] = 1-np.sqrt(1-(fc/f[f>fc])**2)\n",
    "    return rel_freq"
   ]
  },
  {
   "cell_type": "markdown",
   "metadata": {},
   "source": [
    "In this first example we use the value of the diffusion constant given by Martinez-Pedrero (2014)\n",
    "$$D = 0.14 \\frac{\\mu{m}^2}{s}$$"
   ]
  },
  {
   "cell_type": "code",
   "execution_count": 108,
   "metadata": {},
   "outputs": [
    {
     "name": "stdout",
     "output_type": "stream",
     "text": [
      "Wall time: 38.8 s\n"
     ]
    }
   ],
   "source": [
    "%%time \n",
    "\n",
    "radius = 1.4 #um\n",
    "angle = 27 #degrees\n",
    "height = 5\n",
    "\n",
    "frequency = np.linspace(1,np.sqrt(50),10)**2\n",
    "rel_freq = np.nan*np.ones(np.shape(frequency))\n",
    "\n",
    "region = [100,100,height]\n",
    "\n",
    "sigma = 2*radius\n",
    "y = 1/2*np.sqrt(sigma**2-(sigma-height)**2)\n",
    "z = 1/2*(sigma-height)\n",
    "initial_positions = np.array([[0,-y,-z],[0,y,z]])\n",
    "alpha = np.arccos((height-sigma)/sigma)\n",
    "\n",
    "for i,f in enumerate(frequency):\n",
    "    sim = lmp.sim(initial_positions,\n",
    "              magnitude = 7.28,\n",
    "              file_name = \"single_dimer_rotation\",\n",
    "              dir_name = \"SingleD\",\n",
    "              radius = radius,\n",
    "              diffusion = 0.14,\n",
    "              frequency=f,\n",
    "              susceptibility = 0.4,\n",
    "              angle=angle,\n",
    "              framerate=1e3,\n",
    "              timestep=1e-4,\n",
    "              total_time = 1,\n",
    "              temperature = 300,\n",
    "              stamp_time = False,\n",
    "              space = {'region':region,'boundary':['s','s','f'],'walls':[False,False,True]})\n",
    "\n",
    "    sim.generate_scripts()\n",
    "    sim.run()\n",
    "    trj = sim.load(read_trj=True)\n",
    "    rel_freq[i] = calculate_pair_angular_velocity(trj)/(2*np.pi*f)"
   ]
  },
  {
   "cell_type": "code",
   "execution_count": 109,
   "metadata": {
    "collapsed": true
   },
   "outputs": [],
   "source": [
    "rel_freq_diffusion1 = cp.deepcopy(rel_freq)"
   ]
  },
  {
   "cell_type": "code",
   "execution_count": 110,
   "metadata": {},
   "outputs": [
    {
     "data": {
      "image/png": "[encoded data removed]",
      "text/plain": [
       "<matplotlib.figure.Figure at 0x295a031d160>"
      ]
     },
     "metadata": {},
     "output_type": "display_data"
    }
   ],
   "source": [
    "\"\"\" fit data then plot\"\"\"\n",
    "fc = spo.curve_fit(rel_freq_fun,frequency,rel_freq)[0][0]\n",
    "plt.plot(frequency,np.vstack((rel_freq,rel_freq_fun(frequency,fc))).transpose())\n",
    "\n",
    "plt.title('height = %g$\\mu{m}$, alpha = %2.4g Rad'%(height,alpha))\n",
    "plt.xlabel('driving frequency [Hz]')\n",
    "plt.ylabel('relative frequency')\n",
    "plt.legend(['simulation','Adler function fc='+str(fc)]);"
   ]
  },
  {
   "cell_type": "markdown",
   "metadata": {},
   "source": [
    "Now we try with the value of the diffusion derived from Andrej fit.\n",
    "\n",
    "$$D = 0.073\\frac{\\mu{m}^2}{s}$$"
   ]
  },
  {
   "cell_type": "code",
   "execution_count": 111,
   "metadata": {},
   "outputs": [
    {
     "name": "stdout",
     "output_type": "stream",
     "text": [
      "Wall time: 39.5 s\n"
     ]
    }
   ],
   "source": [
    "%%time \n",
    "\n",
    "radius = 1.4 #um\n",
    "angle = 27 #degrees\n",
    "height = 5\n",
    "\n",
    "frequency = np.linspace(1,np.sqrt(50),10)**2\n",
    "rel_freq = np.nan*np.ones(np.shape(frequency))\n",
    "\n",
    "region = [100,100,height]\n",
    "\n",
    "sigma = 2*radius\n",
    "y = 1/2*np.sqrt(sigma**2-(sigma-height)**2)\n",
    "z = 1/2*(sigma-height)\n",
    "initial_positions = np.array([[0,-y,-z],[0,y,z]])\n",
    "alpha = np.arccos((height-sigma)/sigma)\n",
    "\n",
    "for i,f in enumerate(frequency):\n",
    "    sim = lmp.sim(initial_positions,\n",
    "              magnitude = 7.28,\n",
    "              file_name = \"single_dimer_rotation\",\n",
    "              dir_name = \"SingleD\",\n",
    "              radius = radius,\n",
    "              diffusion = 0.073,\n",
    "              frequency=f,\n",
    "              susceptibility = 0.4,\n",
    "              angle=angle,\n",
    "              framerate=1e3,\n",
    "              timestep=1e-4,\n",
    "              total_time = 1,\n",
    "              temperature = 300,\n",
    "              stamp_time = False,\n",
    "              space = {'region':region,'boundary':['s','s','f'],'walls':[False,False,True]})\n",
    "\n",
    "    sim.generate_scripts()\n",
    "    sim.run()\n",
    "    trj = sim.load(read_trj=True)\n",
    "    rel_freq[i] = calculate_pair_angular_velocity(trj)/(2*np.pi*f)"
   ]
  },
  {
   "cell_type": "code",
   "execution_count": 113,
   "metadata": {},
   "outputs": [
    {
     "data": {
      "image/png": "[encoded data removed]",
      "text/plain": [
       "<matplotlib.figure.Figure at 0x295a0445cf8>"
      ]
     },
     "metadata": {},
     "output_type": "display_data"
    }
   ],
   "source": [
    "\"\"\" fit data then plot\"\"\"\n",
    "fc = spo.curve_fit(rel_freq_fun,frequency,rel_freq)[0][0]\n",
    "plt.plot(frequency,np.vstack((rel_freq,rel_freq_fun(frequency,fc))).transpose())\n",
    "\n",
    "plt.title('height = %g$\\mu{m}$, alpha = %2.4g Rad'%(height,alpha))\n",
    "plt.xlabel('driving frequency [Hz]')\n",
    "plt.ylabel('relative frequency')\n",
    "plt.legend(['simulation','Adler function fc='+str(fc)]);"
   ]
  },
  {
   "cell_type": "markdown",
   "metadata": {},
   "source": [
    "## Cutoff frequency as a function of wall separation"
   ]
  },
  {
   "cell_type": "markdown",
   "metadata": {},
   "source": [
    "We remember the definition of $\\alpha$ is: \n",
    "\n",
    "$$ \\cos(\\alpha) = \\frac{h-\\sigma}{\\sigma}$$"
   ]
  },
  {
   "cell_type": "code",
   "execution_count": 139,
   "metadata": {},
   "outputs": [
    {
     "name": "stderr",
     "output_type": "stream",
     "text": [
      "C:\\ProgramFiles\\Anaconda3\\lib\\site-packages\\scipy\\optimize\\minpack.py:785: OptimizeWarning: Covariance of the parameters could not be estimated\n",
      "  category=OptimizeWarning)\n"
     ]
    },
    {
     "name": "stdout",
     "output_type": "stream",
     "text": [
      "Wall time: 1h 43s\n"
     ]
    }
   ],
   "source": [
    "%%time\n",
    "\n",
    "alpha = np.linspace(0.2,np.pi/2,30+1)[:-1]\n",
    "\n",
    "height = sigma*np.cos(alpha)+sigma\n",
    "radius = 1.4 #um\n",
    "angle = 27 #degrees\n",
    "frequency = np.linspace(1,np.sqrt(144),30)**2\n",
    "rel_freq = np.empty(np.shape(frequency))\n",
    "timestep = np.empty(np.shape(frequency))\n",
    "\n",
    "cutoff_frequency = np.nan*np.ones(np.shape(height))\n",
    "\n",
    "response = []\n",
    "\n",
    "for j,h in enumerate(height):\n",
    "    \n",
    "    region = [100,100,h]\n",
    "    sigma = 2*radius\n",
    "    y = 1/2*np.sqrt(sigma**2-(sigma-h)**2)\n",
    "    z = 1/2*(sigma-h)\n",
    "    initial_positions = np.array([[0,-y,-z],[0,y,z]])\n",
    "    \n",
    "    for i,f in enumerate(frequency):\n",
    "        sim = lmp.sim(initial_positions,\n",
    "                      magnitude = 7.28,\n",
    "                      file_name = \"single_dimer_rotation_f%g\"%f,\n",
    "                      dir_name = \"C:/Users/aortiza/Desktop/SingleD/h_%g\"%h,\n",
    "                      radius = radius,\n",
    "                      diffusion = 0.073,\n",
    "                      frequency=f,\n",
    "                      susceptibility = 0.4,\n",
    "                      angle=angle,\n",
    "                      framerate=1e3,\n",
    "                      timestep=1e-4,\n",
    "                      total_time = 1,\n",
    "                      temperature = 300,\n",
    "                      stamp_time = False,\n",
    "                      space = {'region':region,'boundary':['s','s','f'],'walls':[False,False,True]})\n",
    "\n",
    "        sim.generate_scripts()\n",
    "        sim.run()\n",
    "        trj = sim.load(read_trj=True)\n",
    "        \n",
    "        last_simulated_frame = trj.index.get_level_values('frame').max()\n",
    "        last_requested_frame = sim.run_parameters.total_time/sim.run_parameters.timestep\n",
    "        \n",
    "        while (last_simulated_frame<last_requested_frame) & (sim.run_parameters.timestep>1e-6):\n",
    "            sim.run_parameters.timestep = sim.run_parameters.timestep/2\n",
    "            sim.generate_scripts()\n",
    "            sim.run()\n",
    "            trj = sim.load(read_trj=True)\n",
    "        \n",
    "        timestep[i] = sim.timestep\n",
    "        rel_freq[i] = calculate_pair_angular_velocity(trj)/(2*np.pi*f)\n",
    "    \n",
    "    res = pd.DataFrame({'response':rel_freq,'timestep':timestep},index=frequency)\n",
    "    res.index.name='frequency'\n",
    "    res.to_csv(path_or_buf=sim.base_name+'.dat',sep=\"\\t\")\n",
    "    \n",
    "    response.append(res)\n",
    "    \n",
    "    try:\n",
    "        rel_freq_fit = rel_freq[~np.isnan(rel_freq)]\n",
    "        frequency_fit = frequency[~np.isnan(rel_freq)]\n",
    "        cutoff_frequency[j] = spo.curve_fit(rel_freq_fun,frequency_fit,rel_freq_fit)[0][0]\n",
    "    except:\n",
    "        cutoff_frequency[j]=np.nan"
   ]
  },
  {
   "cell_type": "code",
   "execution_count": 162,
   "metadata": {},
   "outputs": [
    {
     "data": {
      "text/plain": [
       "<matplotlib.legend.Legend at 0x295a1ea7320>"
      ]
     },
     "execution_count": 162,
     "metadata": {},
     "output_type": "execute_result"
    },
    {
     "data": {
      "image/png": "[encoded data removed]",
      "text/plain": [
       "<matplotlib.figure.Figure at 0x295a1ea72e8>"
      ]
     },
     "metadata": {},
     "output_type": "display_data"
    }
   ],
   "source": [
    "alpha = np.arccos((height-sigma)/sigma)\n",
    "plt.plot(alpha,cutoff_frequency)\n",
    "\n",
    "alpha_expr = np.linspace(0.2,np.pi/2,100)\n",
    "theta = 27/180*np.pi\n",
    "delta = np.arccos(1/4*np.sqrt((np.tan(alpha_expr)*np.tan(theta))**(-2)+8)-1/(4*np.tan(alpha_expr)*np.tan(theta)))\n",
    "\n",
    "sa = np.sin(alpha_expr)\n",
    "st = np.sin(theta)\n",
    "sd = np.sin(delta)\n",
    "ca = np.cos(alpha_expr)\n",
    "ct = np.cos(theta)\n",
    "cd = np.cos(delta)\n",
    "\n",
    "f0 = 14.3\n",
    "fc_expr = f0*st/sa*sd*(sa*st*cd+ca*ct)\n",
    "plt.plot(alpha_expr,fc_expr)\n",
    "\n",
    "plt.xlabel(\"$\\\\alpha$ rad\")\n",
    "plt.ylabel(\"$f_c$ Hz\")\n",
    "plt.ylim(0,20)\n",
    "plt.legend(['Simulations','Analytic Expression'])"
   ]
  },
  {
   "cell_type": "code",
   "execution_count": 161,
   "metadata": {
    "collapsed": true
   },
   "outputs": [],
   "source": [
    "Data = pd.DataFrame({\"height\":height,\"alpha\":alpha,\"F_c\":cutoff_frequency})\n",
    "\n",
    "Data.to_csv(path_or_buf='SingleDimerCutoffFreqencyVsHeight.dat',sep='\\t',index=False)"
   ]
  }
 ],
 "metadata": {
  "kernelspec": {
   "display_name": "Python [conda env:Py34MAT]",
   "language": "python",
   "name": "conda-env-Py34MAT-py"
  },
  "language_info": {
   "codemirror_mode": {
    "name": "ipython",
    "version": 3
   },
   "file_extension": ".py",
   "mimetype": "text/x-python",
   "name": "python",
   "nbconvert_exporter": "python",
   "pygments_lexer": "ipython3",
   "version": "3.4.5"
  }
 },
 "nbformat": 4,
 "nbformat_minor": 2
}
