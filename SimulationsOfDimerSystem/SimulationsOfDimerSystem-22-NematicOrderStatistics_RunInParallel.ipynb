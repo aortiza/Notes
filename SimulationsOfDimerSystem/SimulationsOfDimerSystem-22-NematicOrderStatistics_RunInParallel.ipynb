{
 "cells": [
  {
   "cell_type": "markdown",
   "metadata": {
    "nbpresent": {
     "id": "7ec1d98f-f41a-4552-bf6b-8da7a3c2efde"
    }
   },
   "source": [
    "# Nematic Order Statistics\n",
    "\n",
    "## Run many simulations in parallel"
   ]
  },
  {
   "cell_type": "code",
   "execution_count": 1,
   "metadata": {
    "nbpresent": {
     "id": "196f5f0c-f147-45b6-9b1a-80563212888b"
    }
   },
   "outputs": [],
   "source": [
    "import lammps2d as lmp\n",
    "import numpy as np\n",
    "import matplotlib.pyplot as plt\n",
    "import matplotlib.animation as anm\n",
    "import matplotlib.collections as clt\n",
    "import pandas as pd\n",
    "import string as st\n",
    "import scipy.spatial as spp\n",
    "import scipy.optimize as spo\n",
    "import sympy as smp\n",
    "import copy as cp\n",
    "import pickle\n",
    "import os\n",
    "import sys\n",
    "import datetime\n",
    "\n",
    "from IPython.display import HTML\n",
    "\n",
    "smp.init_printing()\n",
    "%matplotlib inline\n",
    "%reload_ext autoreload\n",
    "%autoreload 2"
   ]
  },
  {
   "cell_type": "markdown",
   "metadata": {},
   "source": [
    "The previous notebook results in a very noisy order parameter, where no clear trend of $S$ vs $B$ can be extracted. It's true that the final configuration depends on the intitial conditions which are all the same for our system, but there is also a stochastic contribution. This means that several realizations of the same test will result in varying order paramters, and we then need some statistics. \n",
    "\n",
    "In this notebook I make several experiments of the same parameters as before, which are the parameters that Dobnikar predicts as dimer forming. Since the experimetns take a while, I run them in parallel in six of the eight threads of a locally configured cluster. \n",
    "\n",
    "Configuring a local cluster is very easy with ipycluster. ipycluster can be installed using conda, and then we can run in DOS:\n",
    "\n",
    "    !ipcluster start -n 6\n",
    "\n",
    "which starts six parallel processes. "
   ]
  },
  {
   "cell_type": "markdown",
   "metadata": {},
   "source": [
    "The previous run of this notebook took conspicuosly little time. I have now realized that the reason this happened is that the packing was too low. Low packing simulations are faster because there are less particles within the cutoff which makes for less calculations. I must run this again. \n",
    "\n",
    "If the simulations take about 25 minutes, and I run 10 experiments with 20 fields, in six parallel threads, the total time will be around 13 hours."
   ]
  },
  {
   "cell_type": "code",
   "execution_count": 2,
   "metadata": {},
   "outputs": [
    {
     "data": {
      "text/plain": [
       "13.88888888888889"
      ]
     },
     "execution_count": 2,
     "metadata": {},
     "output_type": "execute_result"
    }
   ],
   "source": [
    "25*10*20/6/60"
   ]
  },
  {
   "cell_type": "markdown",
   "metadata": {},
   "source": [
    "This notebook was run in the lab computer. From the report of the finished simulations, it appears as if the whole process took about three hours. This is strange because it means that each simulation takes about 5 minute. In fact, these simulations take about 5 minutes, which is strange beacuse they appear to have the same conditions as the simulations of nb 19-StaticFieldNematicPhase, and those take about 25 minutes."
   ]
  },
  {
   "cell_type": "code",
   "execution_count": 2,
   "metadata": {},
   "outputs": [],
   "source": [
    "from IPython.display import clear_output\n",
    "import ipyparallel as ipp\n",
    "c = ipp.Client()\n",
    "dview = c[:]"
   ]
  },
  {
   "cell_type": "code",
   "execution_count": 3,
   "metadata": {},
   "outputs": [
    {
     "data": {
      "text/plain": [
       "['Hello, World',\n",
       " 'Hello, World',\n",
       " 'Hello, World',\n",
       " 'Hello, World',\n",
       " 'Hello, World',\n",
       " 'Hello, World']"
      ]
     },
     "execution_count": 3,
     "metadata": {},
     "output_type": "execute_result"
    }
   ],
   "source": [
    "c[:].apply_sync(lambda : \"Hello, World\")"
   ]
  },
  {
   "cell_type": "code",
   "execution_count": 4,
   "metadata": {},
   "outputs": [],
   "source": [
    "%px import os; os.chdir('C://Users/aortiza/Dropbox/Colloids/SimulationsOfDimerSystem')"
   ]
  },
  {
   "cell_type": "code",
   "execution_count": 5,
   "metadata": {},
   "outputs": [],
   "source": [
    "height = [4.046]\n",
    "packing = [0.437]\n",
    "field = np.linspace(1,20,20)\n",
    "experiments = np.arange(0,10)\n",
    "\n",
    "H,P,F,E = np.meshgrid(height,packing,field,experiments)\n",
    "\n",
    "height = H.flatten()\n",
    "packing = P.flatten()\n",
    "field = F.flatten()\n",
    "experiment = E.flatten()"
   ]
  },
  {
   "cell_type": "code",
   "execution_count": 6,
   "metadata": {},
   "outputs": [],
   "source": [
    "%%px\n",
    "import lammps2d as lmp\n",
    "import numpy as np\n",
    "import pickle\n",
    "import datetime\n",
    "import time\n",
    "\n",
    "height = [4.046]\n",
    "packing = [0.0437]\n",
    "field = np.linspace(1,20,20)\n",
    "experiments = np.arange(0,10)\n",
    "\n",
    "H,P,F,E = np.meshgrid(height,packing,field,experiments)\n",
    "\n",
    "height = H.flatten()\n",
    "packing = P.flatten()\n",
    "field = F.flatten()\n",
    "experiment = E.flatten()"
   ]
  },
  {
   "cell_type": "code",
   "execution_count": 7,
   "metadata": {},
   "outputs": [],
   "source": [
    "%%px \n",
    "def run_sim(i):\n",
    "    angle = 0\n",
    "    radius = 1.4\n",
    "    region, initial_positions = lmp.initial_setup(n_of_particles = 150, packing=packing[i], height = height[i])\n",
    "\n",
    "    sim = lmp.sim(initial_positions,\n",
    "                  magnitude = field[i],\n",
    "                  file_name = \"field_%u\"%field[i],\n",
    "                  dir_name = \"C:/Users/aortiza/Desktop/NematicPhase/exp_%u/\"%experiment[i],\n",
    "                  radius = radius,\n",
    "                  diffusion = 0.073,\n",
    "                  frequency=0,\n",
    "                  susceptibility = 0.4,\n",
    "                  angle=angle,\n",
    "                  framerate=1e2,\n",
    "                  timestep=0.5e-4,\n",
    "                  total_time = 120,\n",
    "                  temperature = 120,\n",
    "                  stamp_time = False,\n",
    "                  space = {'region':region,'boundary':['p','p','f'],'walls':[False,False,True]})\n",
    "    \n",
    "    \"\"\" Has the simulation been run to completion?\"\"\"\n",
    "    filename = os.path.join(sim.sim_parameters.dir_name,sim.sim_parameters.file_name)\n",
    "    \n",
    "    if os.path.isfile(filename+\".p\") and os.path.isfile(filename+\".lammpstrj\"):\n",
    "        \n",
    "        os.path.isfile(filename+\".lammpstrj\")\n",
    "        lz_rd = lmp.trj_lazyread(filename+\".lammpstrj\")\n",
    "        last_frame_recorded = max(list(lz_rd.T.keys()))\n",
    "\n",
    "        sim_p = pickle.load(open(filename+\".p\", \"rb\" ))\n",
    "        last_frame_expected = sim_p.run_parameters.total_time/sim_p.run_parameters.timestep\n",
    "        \n",
    "        print(filename,end=\"\")\n",
    "        if last_frame_expected == last_frame_recorded:\n",
    "            print(\" was done\")\n",
    "            return\n",
    "              \n",
    "    print(filename,end=\"\") \n",
    "    sim.generate_scripts()\n",
    "    sim.run()\n",
    "    print(\" is done at \" + str(datetime.datetime.now()))"
   ]
  },
  {
   "cell_type": "code",
   "execution_count": null,
   "metadata": {},
   "outputs": [
    {
     "name": "stdout",
     "output_type": "stream",
     "text": [
      "C:/Users/aortiza/Desktop/NematicPhase/exp_0/field_1C:/Users/aortiza/Desktop/NematicPhase/exp_4/field_4C:/Users/aortiza/Desktop/NematicPhase/exp_8/field_7C:/Users/aortiza/Desktop/NematicPhase/exp_1/field_11C:/Users/aortiza/Desktop/NematicPhase/exp_4/field_14C:/Users/aortiza/Desktop/NematicPhase/exp_7/field_17"
     ]
    }
   ],
   "source": [
    "i = range(len(height))\n",
    "amr = dview.map_async(lambda x: run_sim(x), i)\n",
    "while not amr.wait(1):\n",
    "    # clear output because we are printing the whole thing each time\n",
    "    # rather than keeping track of what we've consumed\n",
    "    clear_output(wait=True)\n",
    "    for stdout in amr.stdout:\n",
    "        sys.stdout.write(stdout)"
   ]
  },
  {
   "cell_type": "markdown",
   "metadata": {},
   "source": [
    "## Batch 2\n",
    "Since they don't take as long as I expected, I will run a second batch to complete 20 experiments per point. "
   ]
  },
  {
   "cell_type": "code",
   "execution_count": 8,
   "metadata": {
    "collapsed": true
   },
   "outputs": [],
   "source": [
    "height = [4.046]\n",
    "packing = [0.0437]\n",
    "field = np.linspace(1,20,20)\n",
    "experiments = np.arange(10,20)\n",
    "\n",
    "H,P,F,E = np.meshgrid(height,packing,field,experiments)\n",
    "\n",
    "height = H.flatten()\n",
    "packing = P.flatten()\n",
    "field = F.flatten()\n",
    "experiment = E.flatten()"
   ]
  },
  {
   "cell_type": "code",
   "execution_count": 9,
   "metadata": {
    "collapsed": true
   },
   "outputs": [],
   "source": [
    "%%px\n",
    "\n",
    "height = [4.046]\n",
    "packing = [0.0437]\n",
    "field = np.linspace(1,20,20)\n",
    "experiments = np.arange(10,20)\n",
    "\n",
    "H,P,F,E = np.meshgrid(height,packing,field,experiments)\n",
    "\n",
    "height = H.flatten()\n",
    "packing = P.flatten()\n",
    "field = F.flatten()\n",
    "experiment = E.flatten()"
   ]
  },
  {
   "cell_type": "code",
   "execution_count": null,
   "metadata": {},
   "outputs": [
    {
     "name": "stdout",
     "output_type": "stream",
     "text": [
      "C:/Users/aortiza/Desktop/NematicPhase/exp_10/field_1 is done at 2018-03-14 11:23:48.888000\n",
      "C:/Users/aortiza/Desktop/NematicPhase/exp_11/field_1 is done at 2018-03-14 11:28:50.734000\n",
      "C:/Users/aortiza/Desktop/NematicPhase/exp_12/field_1 is done at 2018-03-14 11:36:05.081000\n",
      "C:/Users/aortiza/Desktop/NematicPhase/exp_13/field_1 is done at 2018-03-14 11:43:12.222000\n",
      "C:/Users/aortiza/Desktop/NematicPhase/exp_14/field_1 is done at 2018-03-14 11:48:22.506000\n",
      "C:/Users/aortiza/Desktop/NematicPhase/exp_15/field_1 is done at 2018-03-14 11:53:29.176000\n",
      "C:/Users/aortiza/Desktop/NematicPhase/exp_16/field_1 is done at 2018-03-14 11:58:31.182000\n",
      "C:/Users/aortiza/Desktop/NematicPhase/exp_17/field_1 is done at 2018-03-14 12:03:34.568000\n",
      "C:/Users/aortiza/Desktop/NematicPhase/exp_18/field_1 is done at 2018-03-14 12:08:39.623000\n",
      "C:/Users/aortiza/Desktop/NematicPhase/exp_19/field_1 is done at 2018-03-14 12:13:42.807000\n",
      "C:/Users/aortiza/Desktop/NematicPhase/exp_10/field_2 is done at 2018-03-14 12:18:47.320000\n",
      "C:/Users/aortiza/Desktop/NematicPhase/exp_11/field_2 is done at 2018-03-14 12:23:52.689000\n",
      "C:/Users/aortiza/Desktop/NematicPhase/exp_12/field_2 is done at 2018-03-14 12:28:56.450000\n",
      "C:/Users/aortiza/Desktop/NematicPhase/exp_13/field_2 is done at 2018-03-14 12:33:59.954000\n",
      "C:/Users/aortiza/Desktop/NematicPhase/exp_14/field_2 is done at 2018-03-14 12:39:03.337000\n",
      "C:/Users/aortiza/Desktop/NematicPhase/exp_15/field_2 is done at 2018-03-14 12:44:09.008000\n",
      "C:/Users/aortiza/Desktop/NematicPhase/exp_16/field_2 is done at 2018-03-14 12:49:11.955000\n",
      "C:/Users/aortiza/Desktop/NematicPhase/exp_17/field_2 is done at 2018-03-14 12:54:16.409000\n",
      "C:/Users/aortiza/Desktop/NematicPhase/exp_18/field_2C:/Users/aortiza/Desktop/NematicPhase/exp_14/field_4 is done at 2018-03-14 11:23:48.893000\n",
      "C:/Users/aortiza/Desktop/NematicPhase/exp_15/field_4 is done at 2018-03-14 11:28:53.747000\n",
      "C:/Users/aortiza/Desktop/NematicPhase/exp_16/field_4 is done at 2018-03-14 11:36:23.782000\n",
      "C:/Users/aortiza/Desktop/NematicPhase/exp_17/field_4 is done at 2018-03-14 11:43:40.306000\n",
      "C:/Users/aortiza/Desktop/NematicPhase/exp_18/field_4 is done at 2018-03-14 11:48:47.888000\n",
      "C:/Users/aortiza/Desktop/NematicPhase/exp_19/field_4 is done at 2018-03-14 11:53:52.784000\n",
      "C:/Users/aortiza/Desktop/NematicPhase/exp_10/field_5 is done at 2018-03-14 11:58:54.324000\n",
      "C:/Users/aortiza/Desktop/NematicPhase/exp_11/field_5 is done at 2018-03-14 12:03:58.432000\n",
      "C:/Users/aortiza/Desktop/NematicPhase/exp_12/field_5 is done at 2018-03-14 12:09:00.375000\n",
      "C:/Users/aortiza/Desktop/NematicPhase/exp_13/field_5 is done at 2018-03-14 12:14:04.577000\n",
      "C:/Users/aortiza/Desktop/NematicPhase/exp_14/field_5 is done at 2018-03-14 12:19:07.019000\n",
      "C:/Users/aortiza/Desktop/NematicPhase/exp_15/field_5 is done at 2018-03-14 12:24:13.746000\n",
      "C:/Users/aortiza/Desktop/NematicPhase/exp_16/field_5 is done at 2018-03-14 12:29:17.232000\n",
      "C:/Users/aortiza/Desktop/NematicPhase/exp_17/field_5 is done at 2018-03-14 12:34:21.193000\n",
      "C:/Users/aortiza/Desktop/NematicPhase/exp_18/field_5 is done at 2018-03-14 12:39:24.835000\n",
      "C:/Users/aortiza/Desktop/NematicPhase/exp_19/field_5 is done at 2018-03-14 12:44:29.128000\n",
      "C:/Users/aortiza/Desktop/NematicPhase/exp_10/field_6 is done at 2018-03-14 12:49:31.560000\n",
      "C:/Users/aortiza/Desktop/NematicPhase/exp_11/field_6 is done at 2018-03-14 12:54:34.897000\n",
      "C:/Users/aortiza/Desktop/NematicPhase/exp_12/field_6C:/Users/aortiza/Desktop/NematicPhase/exp_18/field_7 is done at 2018-03-14 11:23:39.806000\n",
      "C:/Users/aortiza/Desktop/NematicPhase/exp_19/field_7 is done at 2018-03-14 11:28:44.281000\n",
      "C:/Users/aortiza/Desktop/NematicPhase/exp_10/field_8 is done at 2018-03-14 11:35:56.114000\n",
      "C:/Users/aortiza/Desktop/NematicPhase/exp_11/field_8 is done at 2018-03-14 11:43:12.924000\n",
      "C:/Users/aortiza/Desktop/NematicPhase/exp_12/field_8 is done at 2018-03-14 11:48:29.765000\n",
      "C:/Users/aortiza/Desktop/NematicPhase/exp_13/field_8 is done at 2018-03-14 11:53:32.399000\n",
      "C:/Users/aortiza/Desktop/NematicPhase/exp_14/field_8 is done at 2018-03-14 11:58:34.390000\n",
      "C:/Users/aortiza/Desktop/NematicPhase/exp_15/field_8 is done at 2018-03-14 12:03:36.991000\n",
      "C:/Users/aortiza/Desktop/NematicPhase/exp_16/field_8 is done at 2018-03-14 12:08:38.723000\n",
      "C:/Users/aortiza/Desktop/NematicPhase/exp_17/field_8 is done at 2018-03-14 12:13:39.266000\n",
      "C:/Users/aortiza/Desktop/NematicPhase/exp_18/field_8 is done at 2018-03-14 12:18:40.726000\n",
      "C:/Users/aortiza/Desktop/NematicPhase/exp_19/field_8 is done at 2018-03-14 12:23:42.138000\n",
      "C:/Users/aortiza/Desktop/NematicPhase/exp_10/field_9 is done at 2018-03-14 12:28:44.372000\n",
      "C:/Users/aortiza/Desktop/NematicPhase/exp_11/field_9 is done at 2018-03-14 12:33:45.396000\n",
      "C:/Users/aortiza/Desktop/NematicPhase/exp_12/field_9 is done at 2018-03-14 12:38:48.044000\n",
      "C:/Users/aortiza/Desktop/NematicPhase/exp_13/field_9 is done at 2018-03-14 12:43:48.858000\n",
      "C:/Users/aortiza/Desktop/NematicPhase/exp_14/field_9 is done at 2018-03-14 12:48:49.215000\n",
      "C:/Users/aortiza/Desktop/NematicPhase/exp_15/field_9 is done at 2018-03-14 12:53:52.046000\n",
      "C:/Users/aortiza/Desktop/NematicPhase/exp_16/field_9C:/Users/aortiza/Desktop/NematicPhase/exp_11/field_11 is done at 2018-03-14 11:23:48.888000\n",
      "C:/Users/aortiza/Desktop/NematicPhase/exp_12/field_11 is done at 2018-03-14 11:28:49.207000\n",
      "C:/Users/aortiza/Desktop/NematicPhase/exp_13/field_11 is done at 2018-03-14 11:36:23.783000\n",
      "C:/Users/aortiza/Desktop/NematicPhase/exp_14/field_11 is done at 2018-03-14 11:43:45.108000\n",
      "C:/Users/aortiza/Desktop/NematicPhase/exp_15/field_11 is done at 2018-03-14 11:48:54.034000\n",
      "C:/Users/aortiza/Desktop/NematicPhase/exp_16/field_11 is done at 2018-03-14 11:53:55.305000\n",
      "C:/Users/aortiza/Desktop/NematicPhase/exp_17/field_11 is done at 2018-03-14 11:58:56.721000\n",
      "C:/Users/aortiza/Desktop/NematicPhase/exp_18/field_11 is done at 2018-03-14 12:03:58.350000\n",
      "C:/Users/aortiza/Desktop/NematicPhase/exp_19/field_11 is done at 2018-03-14 12:09:00.169000\n",
      "C:/Users/aortiza/Desktop/NematicPhase/exp_10/field_12 is done at 2018-03-14 12:14:01.466000\n",
      "C:/Users/aortiza/Desktop/NematicPhase/exp_11/field_12 is done at 2018-03-14 12:19:04.391000\n",
      "C:/Users/aortiza/Desktop/NematicPhase/exp_12/field_12 is done at 2018-03-14 12:24:06.953000\n",
      "C:/Users/aortiza/Desktop/NematicPhase/exp_13/field_12 is done at 2018-03-14 12:29:06.516000\n",
      "C:/Users/aortiza/Desktop/NematicPhase/exp_14/field_12 is done at 2018-03-14 12:34:08.197000\n",
      "C:/Users/aortiza/Desktop/NematicPhase/exp_15/field_12 is done at 2018-03-14 12:39:10.751000\n",
      "C:/Users/aortiza/Desktop/NematicPhase/exp_16/field_12 is done at 2018-03-14 12:44:14.972000\n",
      "C:/Users/aortiza/Desktop/NematicPhase/exp_17/field_12 is done at 2018-03-14 12:49:15.115000\n",
      "C:/Users/aortiza/Desktop/NematicPhase/exp_18/field_12 is done at 2018-03-14 12:54:17.292000\n",
      "C:/Users/aortiza/Desktop/NematicPhase/exp_19/field_12C:/Users/aortiza/Desktop/NematicPhase/exp_14/field_14 is done at 2018-03-14 11:23:39.885000\n",
      "C:/Users/aortiza/Desktop/NematicPhase/exp_15/field_14 is done at 2018-03-14 11:28:42.546000\n",
      "C:/Users/aortiza/Desktop/NematicPhase/exp_16/field_14 is done at 2018-03-14 11:35:53.757000\n",
      "C:/Users/aortiza/Desktop/NematicPhase/exp_17/field_14 is done at 2018-03-14 11:43:21.373000\n",
      "C:/Users/aortiza/Desktop/NematicPhase/exp_18/field_14 is done at 2018-03-14 11:48:25.793000\n",
      "C:/Users/aortiza/Desktop/NematicPhase/exp_19/field_14 is done at 2018-03-14 11:53:26.506000\n",
      "C:/Users/aortiza/Desktop/NematicPhase/exp_10/field_15 is done at 2018-03-14 11:58:26.102000\n",
      "C:/Users/aortiza/Desktop/NematicPhase/exp_11/field_15 is done at 2018-03-14 12:03:26.150000\n",
      "C:/Users/aortiza/Desktop/NematicPhase/exp_12/field_15 is done at 2018-03-14 12:08:26.223000\n",
      "C:/Users/aortiza/Desktop/NematicPhase/exp_13/field_15 is done at 2018-03-14 12:13:24.598000\n",
      "C:/Users/aortiza/Desktop/NematicPhase/exp_14/field_15 is done at 2018-03-14 12:18:22.809000\n",
      "C:/Users/aortiza/Desktop/NematicPhase/exp_15/field_15 is done at 2018-03-14 12:23:24.356000\n",
      "C:/Users/aortiza/Desktop/NematicPhase/exp_16/field_15 is done at 2018-03-14 12:28:22.500000\n",
      "C:/Users/aortiza/Desktop/NematicPhase/exp_17/field_15 is done at 2018-03-14 12:33:22.352000\n",
      "C:/Users/aortiza/Desktop/NematicPhase/exp_18/field_15 is done at 2018-03-14 12:38:22.537000\n",
      "C:/Users/aortiza/Desktop/NematicPhase/exp_19/field_15 is done at 2018-03-14 12:43:24.093000\n",
      "C:/Users/aortiza/Desktop/NematicPhase/exp_10/field_16 is done at 2018-03-14 12:48:24.102000\n",
      "C:/Users/aortiza/Desktop/NematicPhase/exp_11/field_16 is done at 2018-03-14 12:53:25.957000\n",
      "C:/Users/aortiza/Desktop/NematicPhase/exp_12/field_16C:/Users/aortiza/Desktop/NematicPhase/exp_17/field_17 is done at 2018-03-14 11:23:40.509000\n",
      "C:/Users/aortiza/Desktop/NematicPhase/exp_18/field_17 is done at 2018-03-14 11:28:42.795000\n",
      "C:/Users/aortiza/Desktop/NematicPhase/exp_19/field_17 is done at 2018-03-14 11:35:53.467000\n",
      "C:/Users/aortiza/Desktop/NematicPhase/exp_10/field_18 is done at 2018-03-14 11:43:00.526000\n",
      "C:/Users/aortiza/Desktop/NematicPhase/exp_11/field_18 is done at 2018-03-14 11:48:10.177000\n",
      "C:/Users/aortiza/Desktop/NematicPhase/exp_12/field_18 is done at 2018-03-14 11:53:10.280000\n",
      "C:/Users/aortiza/Desktop/NematicPhase/exp_13/field_18 is done at 2018-03-14 11:58:08.669000\n",
      "C:/Users/aortiza/Desktop/NematicPhase/exp_14/field_18 is done at 2018-03-14 12:03:05.852000\n",
      "C:/Users/aortiza/Desktop/NematicPhase/exp_15/field_18 is done at 2018-03-14 12:08:07.586000\n",
      "C:/Users/aortiza/Desktop/NematicPhase/exp_16/field_18 is done at 2018-03-14 12:13:02.253000\n",
      "C:/Users/aortiza/Desktop/NematicPhase/exp_17/field_18 is done at 2018-03-14 12:18:02.054000\n",
      "C:/Users/aortiza/Desktop/NematicPhase/exp_18/field_18 is done at 2018-03-14 12:23:01.367000\n",
      "C:/Users/aortiza/Desktop/NematicPhase/exp_19/field_18 is done at 2018-03-14 12:28:01.932000\n",
      "C:/Users/aortiza/Desktop/NematicPhase/exp_10/field_19 is done at 2018-03-14 12:33:02.079000\n",
      "C:/Users/aortiza/Desktop/NematicPhase/exp_11/field_19 is done at 2018-03-14 12:38:01.594000\n",
      "C:/Users/aortiza/Desktop/NematicPhase/exp_12/field_19 is done at 2018-03-14 12:42:58.786000\n",
      "C:/Users/aortiza/Desktop/NematicPhase/exp_13/field_19 is done at 2018-03-14 12:47:57.812000\n",
      "C:/Users/aortiza/Desktop/NematicPhase/exp_14/field_19 is done at 2018-03-14 12:52:58.748000\n",
      "C:/Users/aortiza/Desktop/NematicPhase/exp_15/field_19"
     ]
    }
   ],
   "source": [
    "i = range(len(height))\n",
    "amr = dview.map_async(lambda x: run_sim(x), i)\n",
    "while not amr.wait(1):\n",
    "    # clear output because we are printing the whole thing each time\n",
    "    # rather than keeping track of what we've consumed\n",
    "    clear_output(wait=True)\n",
    "    for stdout in amr.stdout:\n",
    "        sys.stdout.write(stdout)"
   ]
  },
  {
   "cell_type": "markdown",
   "metadata": {
    "collapsed": true
   },
   "source": [
    "# Why is it so fast in the lab computer and so slow in the office?"
   ]
  },
  {
   "cell_type": "markdown",
   "metadata": {},
   "source": [
    "To test this, I will run a single experiment in both computers."
   ]
  },
  {
   "cell_type": "markdown",
   "metadata": {},
   "source": [
    "I have figured out that the problem with these simulations was that the packing was extremely low."
   ]
  },
  {
   "cell_type": "code",
   "execution_count": 4,
   "metadata": {
    "collapsed": true
   },
   "outputs": [],
   "source": [
    "height = [4.046]\n",
    "packing = [0.0437]\n",
    "field = np.linspace(1,20,20)\n",
    "experiments = np.arange(0,10)\n",
    "\n",
    "H,P,F,E = np.meshgrid(height,packing,field,experiments)\n",
    "\n",
    "height = H.flatten()\n",
    "packing = P.flatten()\n",
    "field = F.flatten()\n",
    "experiment = E.flatten()\n",
    "\n",
    "def run_sim(i):\n",
    "    angle = 0\n",
    "    radius = 1.4\n",
    "    region, initial_positions = lmp.initial_setup(n_of_particles = 150, packing=packing[i], height = height[i])\n",
    "\n",
    "    sim = lmp.sim(initial_positions,\n",
    "                  magnitude = field[i],\n",
    "                  file_name = \"field_%u\"%field[i],\n",
    "                  dir_name = \"C:/Users/aortiza/Desktop/exp_%u/\"%experiment[i],\n",
    "                  radius = radius,\n",
    "                  diffusion = 0.073,\n",
    "                  frequency=0,\n",
    "                  susceptibility = 0.4,\n",
    "                  angle=angle,\n",
    "                  framerate=1e2,\n",
    "                  timestep=0.5e-4,\n",
    "                  total_time = 120,\n",
    "                  temperature = 120,\n",
    "                  stamp_time = False,\n",
    "                  space = {'region':region,'boundary':['p','p','f'],'walls':[False,False,True]})\n",
    "    \n",
    "    \"\"\" Has the simulation been run to completion?\"\"\"\n",
    "    filename = os.path.join(sim.sim_parameters.dir_name,sim.sim_parameters.file_name)\n",
    "    \n",
    "    if os.path.isfile(filename+\".p\") and os.path.isfile(filename+\".lammpstrj\"):\n",
    "        \n",
    "        os.path.isfile(filename+\".lammpstrj\")\n",
    "        lz_rd = lmp.trj_lazyread(filename+\".lammpstrj\")\n",
    "        last_frame_recorded = max(list(lz_rd.T.keys()))\n",
    "\n",
    "        sim_p = pickle.load(open(filename+\".p\", \"rb\" ))\n",
    "        last_frame_expected = sim_p.run_parameters.total_time/sim_p.run_parameters.timestep\n",
    "        \n",
    "        print(filename,end=\"\")\n",
    "        if last_frame_expected == last_frame_recorded:\n",
    "            print(\" was done\")\n",
    "            return\n",
    "              \n",
    "    print(filename,end=\"\") \n",
    "    sim.generate_scripts()\n",
    "    sim.run()\n",
    "    print(\" is done at \" + str(datetime.datetime.now()))"
   ]
  },
  {
   "cell_type": "markdown",
   "metadata": {},
   "source": [
    "This cell was run in the office computer."
   ]
  },
  {
   "cell_type": "code",
   "execution_count": 11,
   "metadata": {},
   "outputs": [
    {
     "name": "stdout",
     "output_type": "stream",
     "text": [
      "C:/Users/aortiza/Desktop/exp_0/field_2 is done at 2018-03-14 11:02:02.003464\n",
      "Wall time: 4min 49s\n"
     ]
    }
   ],
   "source": [
    "%%time\n",
    "run_sim(10)"
   ]
  },
  {
   "cell_type": "markdown",
   "metadata": {},
   "source": [
    "This cell was run in the Lab's computer"
   ]
  },
  {
   "cell_type": "code",
   "execution_count": 5,
   "metadata": {},
   "outputs": [
    {
     "name": "stdout",
     "output_type": "stream",
     "text": [
      "C:/Users/aortiza/Desktop/exp_0/field_2 is done at 2018-03-14 11:08:40.812000\n",
      "Wall time: 4min 11s\n"
     ]
    }
   ],
   "source": [
    "%%time\n",
    "run_sim(10)"
   ]
  }
 ],
 "metadata": {
  "kernelspec": {
   "display_name": "Python 3",
   "language": "python",
   "name": "python3"
  },
  "language_info": {
   "codemirror_mode": {
    "name": "ipython",
    "version": 3
   },
   "file_extension": ".py",
   "mimetype": "text/x-python",
   "name": "python",
   "nbconvert_exporter": "python",
   "pygments_lexer": "ipython3",
   "version": "3.6.4"
  }
 },
 "nbformat": 4,
 "nbformat_minor": 2
}
