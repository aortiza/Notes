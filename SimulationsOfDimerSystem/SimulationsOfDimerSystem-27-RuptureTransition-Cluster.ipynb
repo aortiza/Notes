{
 "cells": [
  {
   "cell_type": "code",
   "execution_count": 1,
   "metadata": {},
   "outputs": [],
   "source": [
    "import sys\n",
    "import os\n",
    "sys.path.insert(0, './confined-colloids')\n",
    "\n",
    "import lammps2d as lmp\n",
    "import numpy as np\n",
    "import matplotlib.pyplot as plt\n",
    "\n",
    "import getpass\n",
    "import pysftp\n",
    "\n",
    "%reload_ext autoreload\n",
    "%autoreload 2"
   ]
  },
  {
   "cell_type": "code",
   "execution_count": 2,
   "metadata": {},
   "outputs": [],
   "source": [
    "def run_sim_and_send(total_time,password):\n",
    "    \n",
    "    print(total_time)\n",
    "    \n",
    "    angle = 15\n",
    "    radius = 1.4\n",
    "    max_freq = 20\n",
    "\n",
    "    region, initial_positions = lmp.initial_setup(n_of_particles = 2000, packing=0.175, height = 4.0)\n",
    "\n",
    "    sim = lmp.sim(initial_positions,\n",
    "              magnitude = 7.28,\n",
    "              file_name = \"dynamic_angle15_0_20Hz_\"+str(total_time)+\"sec_large\",\n",
    "              dir_name = \"/home/aortiza/Rupture/\",\n",
    "              radius = radius,\n",
    "              diffusion = 0.073,\n",
    "              frequency=str(max_freq/total_time*1e-6)+\"*time\",\n",
    "              susceptibility = 0.4,\n",
    "              angle=angle,\n",
    "              framerate=1e2,\n",
    "              timestep=0.5e-4,\n",
    "              total_time = total_time,\n",
    "              temperature = 300,\n",
    "              stamp_time = False,\n",
    "              space = {'region':region,'boundary':['p','p','f'],'walls':[False,False,True]})\n",
    "\n",
    "    sim.generate_scripts()\n",
    "    sim.run()\n",
    "    \n",
    "    lmp.lammpstrj_to_hdf5(os.path.join(sim.sim_parameters.dir_name,sim.sim_parameters.file_name))\n",
    "    \n",
    "    directory = \"Antonio/SimulationsOfDimerSystem/RuptureTransition/\"\n",
    "    \n",
    "    with pysftp.Connection(host=\"161.116.81.190\", username=\"aortiza\", password=password) as magnetic:\n",
    "\n",
    "        if not magnetic.isdir(directory):\n",
    "            magnetic.makedirs(directory)\n",
    "\n",
    "        with magnetic.cd(directory):\n",
    "            magnetic.put(sim.base_name+'.lammpstrj')\n",
    "            magnetic.put(sim.base_name+'.jp')\n",
    "            magnetic.put(sim.base_name+'.lmpin')\n",
    "            magnetic.put(sim.base_name+'.hd5')\n",
    "        \n",
    "    os.remove(sim.base_name+'.lammpstrj')\n",
    "    os.remove(sim.base_name+'.jp')\n",
    "    os.remove(sim.base_name+'.lmpin')\n",
    "    os.remove(sim.base_name+'.hd5')"
   ]
  },
  {
   "cell_type": "code",
   "execution_count": 3,
   "metadata": {},
   "outputs": [],
   "source": [
    "def run_several(password):\n",
    "    for time in np.round(np.logspace(np.log(300)/np.log(10),np.log(102.48537891)/np.log(10),7)):\n",
    "        run_sim_and_send(time,password)"
   ]
  },
  {
   "cell_type": "code",
   "execution_count": null,
   "metadata": {},
   "outputs": [
    {
     "name": "stdout",
     "output_type": "stream",
     "text": [
      "········\n",
      "300.0\n"
     ]
    },
    {
     "data": {
      "application/vnd.jupyter.widget-view+json": {
       "model_id": "49ea8fef8c5c464ca776f6f048130dcc",
       "version_major": 2,
       "version_minor": 0
      },
      "text/html": [
       "<p>Failed to display Jupyter Widget of type <code>HBox</code>.</p>\n",
       "<p>\n",
       "  If you're reading this message in the Jupyter Notebook or JupyterLab Notebook, it may mean\n",
       "  that the widgets JavaScript is still loading. If this message persists, it\n",
       "  likely means that the widgets JavaScript library is either not installed or\n",
       "  not enabled. See the <a href=\"https://ipywidgets.readthedocs.io/en/stable/user_install.html\">Jupyter\n",
       "  Widgets Documentation</a> for setup instructions.\n",
       "</p>\n",
       "<p>\n",
       "  If you're reading this message in another frontend (for example, a static\n",
       "  rendering on GitHub or <a href=\"https://nbviewer.jupyter.org/\">NBViewer</a>),\n",
       "  it may mean that your frontend doesn't currently support widgets.\n",
       "</p>\n"
      ],
      "text/plain": [
       "HBox(children=(IntProgress(value=0, max=30001), HTML(value='')))"
      ]
     },
     "metadata": {},
     "output_type": "display_data"
    },
    {
     "name": "stdout",
     "output_type": "stream",
     "text": [
      "\n"
     ]
    }
   ],
   "source": [
    "run_several(getpass.getpass())"
   ]
  },
  {
   "cell_type": "code",
   "execution_count": null,
   "metadata": {},
   "outputs": [],
   "source": []
  }
 ],
 "metadata": {
  "kernelspec": {
   "display_name": "Python 3",
   "language": "python",
   "name": "python3"
  },
  "language_info": {
   "codemirror_mode": {
    "name": "ipython",
    "version": 3
   },
   "file_extension": ".py",
   "mimetype": "text/x-python",
   "name": "python",
   "nbconvert_exporter": "python",
   "pygments_lexer": "ipython3",
   "version": "3.6.4"
  }
 },
 "nbformat": 4,
 "nbformat_minor": 2
}
