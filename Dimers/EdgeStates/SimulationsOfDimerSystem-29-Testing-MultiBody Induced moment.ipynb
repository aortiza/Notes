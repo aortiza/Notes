{
 "cells": [
  {
   "cell_type": "code",
   "execution_count": 2,
   "metadata": {
    "collapsed": true
   },
   "outputs": [],
   "source": [
    "import sys\n",
    "import os\n",
    "sys.path.insert(0, './confined-colloids')\n",
    "\n",
    "import lammps2d as lmp\n",
    "import numpy as np\n",
    "import matplotlib.pyplot as plt\n",
    "import pandas as pd\n",
    "from IPython.display import HTML, clear_output\n",
    "import jsonpickle\n",
    "import scipy.optimize as spo\n",
    "import scipy.spatial as spa \n",
    "\n",
    "\n",
    "import getpass\n",
    "import pysftp\n",
    "\n",
    "import re\n",
    "\n",
    "\n",
    "%reload_ext autoreload\n",
    "%autoreload 2\n",
    "%matplotlib inline"
   ]
  },
  {
   "cell_type": "markdown",
   "metadata": {
    "collapsed": true
   },
   "source": [
    "# Expression for the induced dipole"
   ]
  },
  {
   "cell_type": "code",
   "execution_count": 6,
   "metadata": {
    "collapsed": true
   },
   "outputs": [],
   "source": [
    "import sympy as sm\n",
    "sm.init_printing()"
   ]
  },
  {
   "cell_type": "markdown",
   "metadata": {},
   "source": [
    "## Exact Solution"
   ]
  },
  {
   "cell_type": "markdown",
   "metadata": {},
   "source": [
    "However, the induced dipole of two particles can be solved exactly by solving a system of linear equations. Consider the simplest case where two dipoles are in a plane perpendicular to the magnetic field."
   ]
  },
  {
   "cell_type": "markdown",
   "metadata": {},
   "source": [
    "<img src=\"InducedDipole-TwoDipoles.png\", width=\"500px\">"
   ]
  },
  {
   "cell_type": "markdown",
   "metadata": {},
   "source": [
    "Here we can define:\n",
    "$\\newcommand{\\vec}[1]{{\\bf #1}}$\n",
    "$\\newcommand{\\uvec}[1]{{\\bf \\hat{e}_{#1}}}$\n",
    "\n",
    "$$\n",
    "\\vec{B}_{ext}=B_0\\uvec{z} \\\\\n",
    "\\vec{r}_{12} = x\\uvec{x} \\\\\n",
    "\\vec{r}_{21} = -x\\uvec{x}\n",
    "$$\n"
   ]
  },
  {
   "cell_type": "markdown",
   "metadata": {},
   "source": [
    "The magnetic dipole moment of superparagnetic particle $1$ with susceptibility $\\chi$ and volume $V$ is:\n",
    "\n",
    "$$\\vec{m}_1 = \\frac{V\\chi\\vec{B}}{\\mu_{0}}\\\\\n",
    "\\vec{m}_1 = \\frac{V\\chi}{\\mu_0}\\left(\\vec{B}_{ext}+\\vec{B}_{21}\\right)\n",
    "$$\n",
    "Conversely for particle $2$:\n",
    "$$\n",
    "\\vec{m}_2 = \\frac{V\\chi}{\\mu_0}\\left(\\vec{B}_{ext}+\\vec{B}_{12}\\right)\n",
    "$$"
   ]
  },
  {
   "cell_type": "markdown",
   "metadata": {},
   "source": [
    "where $\\vec{B}_{12}$ the field in the center of particle $2$ produced by particle $1$:\n",
    "$$\\vec{B}_{12} = \\frac{\\mu_0}{4\\pi}\n",
    "\\left(\n",
    "\\frac{3\\vec{r}_{21}\\left(\\vec{r}_{21}\\cdot\\vec{m}_1\\right)}{\\left|\\vec{r}_{21}\\right|^5} - \n",
    "\\frac{\\vec{m}_1}{\\left|\\vec{r}_{21}\\right|^3}\n",
    "\\right)\n",
    "$$\n",
    "and\n",
    "$$\\vec{B}_{21} = \\frac{\\mu_0}{4\\pi}\n",
    "\\left(\n",
    "\\frac{3\\vec{r}_{12}\\left(\\vec{r}_{12}\\cdot\\vec{m}_2\\right)}{\\left|\\vec{r}_{12}\\right|^5} - \n",
    "\\frac{\\vec{m}_2}{\\left|\\vec{r}_{12}\\right|^3}\n",
    "\\right)\n",
    "$$"
   ]
  },
  {
   "cell_type": "markdown",
   "metadata": {},
   "source": [
    "which, substituting the expressions for $\\vec{r}_{ij}$ gives:\n",
    "$$\\vec{B}_{12} = \\frac{\\mu_0}{4\\pi x^3}\n",
    "\\left(\n",
    "3\\left(\\vec{m}_1\\cdot\\uvec{x}\\right)\\uvec{x} - \n",
    "\\vec{m}_1\n",
    "\\right)\n",
    "$$\n",
    "and\n",
    "$$\\vec{B}_{21} = \\frac{\\mu_0}{4\\pi x^3}\n",
    "\\left(\n",
    "3\\left(\\vec{m}_2\\cdot \\uvec{x}\\right)\\uvec{x}-\n",
    "\\vec{m}_2\n",
    "\\right)\n",
    "$$"
   ]
  },
  {
   "cell_type": "markdown",
   "metadata": {},
   "source": [
    "Which we can substitute on the moment expressions to get:\n",
    "\n",
    "$$\n",
    "\\boxed{\n",
    "\\vec{m}_1 = {V\\chi}\\left(\\frac{\\vec{B}_{ext}}{\\mu_0}+\n",
    "\\frac{1}{4\\pi x^3}\n",
    "\\left(\n",
    "3\\left(\\vec{m}_2\\cdot \\uvec{x}\\right)\\uvec{x}-\n",
    "\\vec{m}_2\n",
    "\\right)\\right)}\\\\\n",
    "\\boxed{\n",
    "\\vec{m}_2 = {V\\chi}\\left(\\frac{\\vec{B}_{ext}}{\\mu_0}+\n",
    "\\frac{1}{4\\pi x^3}\n",
    "\\left(\n",
    "3\\left(\\vec{m}_1\\cdot\\uvec{x}\\right)\\uvec{x} - \n",
    "\\vec{m}_1\n",
    "\\right)\\right)\n",
    "}\n",
    "$$"
   ]
  },
  {
   "cell_type": "markdown",
   "metadata": {},
   "source": [
    "Which is what Vilfan uses in his program to correct the moment.\n",
    "\n",
    "We can further solve this by writing:\n",
    "$$\n",
    "\\vec{m}_1 - \\frac{{V\\chi}}{4\\pi x^3}\n",
    "\\left(\n",
    "3\\left(\\vec{m}_2\\cdot \\uvec{x}\\right)\\uvec{x}-\n",
    "\\vec{m}_2\n",
    "\\right)\n",
    "= \\frac{{V\\chi}\\vec{B}_{ext}}{\\mu_0}\n",
    "$$\n",
    "$$\n",
    "\\vec{m}_2 - \\frac{{V\\chi}}{4\\pi x^3}\n",
    "\\left(\n",
    "3\\left(\\vec{m}_1\\cdot\\uvec{x}\\right)\\uvec{x} - \n",
    "\\vec{m}_1\n",
    "\\right) \n",
    "= \\frac{{V\\chi}\\vec{B}_{ext}}{\\mu_0} \n",
    "$$"
   ]
  },
  {
   "cell_type": "markdown",
   "metadata": {},
   "source": [
    "First we get the component in the $\\uvec{x}$ direction by obaining the dot product of both sides. Here we will write $m^i$ to abbreviate $\\vec{m}\\cdot\\uvec{i}$."
   ]
  },
  {
   "cell_type": "markdown",
   "metadata": {},
   "source": [
    "$$\n",
    "m_1^x - \\frac{{V\\chi}}{2\\pi x^3}\n",
    "m_2^x\n",
    "= \\frac{{V\\chi}\\vec{B}_{ext}\\cdot\\uvec{x}}{\\mu_0}\\\\\n",
    "m_2^x - \\frac{{V\\chi}}{2\\pi x^3}\n",
    "m_1^x\n",
    "= \\frac{{V\\chi}\\vec{B}_{ext}\\cdot\\uvec{x}}{\\mu_0}\n",
    "$$\n",
    "Which in matrix form is: \n",
    "$$\n",
    "\\left[\n",
    "\\begin{array}{c}\n",
    "1 & -\\frac{{V\\chi}}{2\\pi x^3} \\\\\n",
    "-\\frac{{V\\chi}}{2\\pi x^3} & 1\n",
    "\\end{array}\n",
    "\\right]\n",
    "\\left[\n",
    "\\begin{array}{c}\n",
    "m_1^x\\\\\n",
    "m_2^x\n",
    "\\end{array}\n",
    "\\right] = \n",
    "\\frac{{V\\chi}\\vec{B}_{ext}\\cdot\\uvec{x}}{\\mu_0}\\left[\n",
    "\\begin{array}{c}\n",
    "1\\\\\n",
    "1\n",
    "\\end{array}\n",
    "\\right] \n",
    "$$"
   ]
  },
  {
   "cell_type": "markdown",
   "metadata": {},
   "source": [
    "However, in this case $\\vec{B}_{ext}\\cdot\\uvec{x} = 0$ and the only solution to the system of equations is the trivial solution $$\\left[m_1^x,m_2^x\\right] = \\left[0,0\\right]$$"
   ]
  },
  {
   "cell_type": "markdown",
   "metadata": {},
   "source": [
    "If $\\vec{B}_{ext}\\cdot\\uvec{x}\\neq0$:"
   ]
  },
  {
   "cell_type": "code",
   "execution_count": 12,
   "metadata": {
    "collapsed": true
   },
   "outputs": [],
   "source": [
    "Vchi, x, m1x, m2x, Bx, mu0 = sm.symbols(\"V\\chi x m_1^x m_2^x B_x \\mu_0\")"
   ]
  },
  {
   "cell_type": "code",
   "execution_count": 14,
   "metadata": {},
   "outputs": [
    {
     "data": {
      "image/png": "[encoded data removed]",
      "text/latex": [
       "$$\\left[\\begin{matrix}m^{x}_{1}\\\\m^{x}_{2}\\end{matrix}\\right] = \\left[\\begin{matrix}\\frac{2 \\pi B_{x} V\\chi x^{3}}{\\mu_0 \\left(- V\\chi + 2 \\pi x^{3}\\right)}\\\\\\frac{2 \\pi B_{x} V\\chi x^{3}}{\\mu_0 \\left(- V\\chi + 2 \\pi x^{3}\\right)}\\end{matrix}\\right]$$"
      ],
      "text/plain": [
       "           ⎡                 3    ⎤\n",
       "           ⎢   2⋅π⋅Bₓ⋅V\\chi⋅x     ⎥\n",
       "           ⎢──────────────────────⎥\n",
       "           ⎢     ⎛              3⎞⎥\n",
       "⎡m_1__x⎤   ⎢\\mu₀⋅⎝-V\\chi + 2⋅π⋅x ⎠⎥\n",
       "⎢      ⎥ = ⎢                      ⎥\n",
       "⎣m_2__x⎦   ⎢                 3    ⎥\n",
       "           ⎢   2⋅π⋅Bₓ⋅V\\chi⋅x     ⎥\n",
       "           ⎢──────────────────────⎥\n",
       "           ⎢     ⎛              3⎞⎥\n",
       "           ⎣\\mu₀⋅⎝-V\\chi + 2⋅π⋅x ⎠⎦"
      ]
     },
     "execution_count": 14,
     "metadata": {},
     "output_type": "execute_result"
    }
   ],
   "source": [
    "a = -Vchi/2/sm.pi/x**3\n",
    "b = Vchi*Bx/mu0\n",
    "\n",
    "A = sm.Matrix([[1, a],[a,1]])\n",
    "B = sm.Matrix([[b],[b]])\n",
    "X = sm.Matrix([[m1x],[m2x]])\n",
    "\n",
    "sm.Eq(X,sm.simplify(sm.Inverse(A)*B))"
   ]
  },
  {
   "cell_type": "code",
   "execution_count": null,
   "metadata": {
    "collapsed": true
   },
   "outputs": [],
   "source": []
  },
  {
   "cell_type": "markdown",
   "metadata": {},
   "source": [
    "On the other hand, for the component of the moment in the $\\uvec{z}$ direction we obtain:\n",
    "$$\n",
    "m_1^z + \\frac{{V\\chi}}{4\\pi x^3}\n",
    "m_2^z\n",
    "= \\frac{{V\\chi}\\vec{B}_{ext}\\cdot\\uvec{z}}{\\mu_0}\n",
    "$$\n",
    "$$\n",
    "m_2^z + \\frac{{V\\chi}}{4\\pi x^3}\n",
    "m_1^z\n",
    "= \\frac{{V\\chi}\\vec{B}_{ext}\\cdot\\uvec{z}}{\\mu_0} \n",
    "$$\n",
    "Which in matrix form is: \n",
    "$$\n",
    "\\left[\n",
    "\\begin{array}{c}\n",
    "1 & \\frac{{V\\chi}}{4\\pi x^3} \\\\\n",
    "\\frac{{V\\chi}}{4\\pi x^3} & 1\n",
    "\\end{array}\n",
    "\\right]\n",
    "\\left[\n",
    "\\begin{array}{c}\n",
    "m_1^z\\\\\n",
    "m_2^z\n",
    "\\end{array}\n",
    "\\right] = \n",
    "\\frac{{V\\chi}\\vec{B}_{ext}\\cdot\\uvec{z}}{\\mu_0}\\left[\n",
    "\\begin{array}{c}\n",
    "1\\\\\n",
    "1\n",
    "\\end{array}\n",
    "\\right] \n",
    "$$"
   ]
  },
  {
   "cell_type": "markdown",
   "metadata": {},
   "source": [
    "However, in this case, $\\vec{B}_{ext}\\cdot\\uvec{z}=B_0$ and we get:\n",
    "$$\n",
    "\\boxed{\n",
    "\\left[\n",
    "\\begin{array}{c}\n",
    "1 & \\frac{{V\\chi}}{4\\pi x^3} \\\\\n",
    "\\frac{{V\\chi}}{4\\pi x^3} & 1\n",
    "\\end{array}\n",
    "\\right]\n",
    "\\left[\n",
    "\\begin{array}{c}\n",
    "m_1^z\\\\\n",
    "m_2^z\n",
    "\\end{array}\n",
    "\\right] = \n",
    "\\frac{{V\\chi}B_0}{\\mu_0}\\left[\n",
    "\\begin{array}{c}\n",
    "1\\\\\n",
    "1\n",
    "\\end{array}\n",
    "\\right]}\n",
    "$$"
   ]
  },
  {
   "cell_type": "code",
   "execution_count": 243,
   "metadata": {
    "collapsed": true
   },
   "outputs": [],
   "source": [
    "Vchi, x, m1z, m2z, B0, mu0 = sm.symbols(\"V\\chi x m_1^z m_2^z B_0 \\mu_0\")"
   ]
  },
  {
   "cell_type": "code",
   "execution_count": 253,
   "metadata": {},
   "outputs": [
    {
     "data": {
      "image/png": "[encoded data removed]",
      "text/latex": [
       "$$\\left[\\begin{matrix}\\frac{V\\chi m^{z}_{2}}{4 \\pi x^{3}} + m^{z}_{1}\\\\\\frac{V\\chi m^{z}_{1}}{4 \\pi x^{3}} + m^{z}_{2}\\end{matrix}\\right] = \\left[\\begin{matrix}\\frac{B_{0} V\\chi}{\\mu_0}\\\\\\frac{B_{0} V\\chi}{\\mu_0}\\end{matrix}\\right]$$"
      ],
      "text/plain": [
       "⎡V\\chi⋅m_2__z         ⎤             \n",
       "⎢──────────── + m_1__z⎥   ⎡B₀⋅V\\chi⎤\n",
       "⎢        3            ⎥   ⎢────────⎥\n",
       "⎢   4⋅π⋅x             ⎥   ⎢  \\mu₀  ⎥\n",
       "⎢                     ⎥ = ⎢        ⎥\n",
       "⎢V\\chi⋅m_1__z         ⎥   ⎢B₀⋅V\\chi⎥\n",
       "⎢──────────── + m_2__z⎥   ⎢────────⎥\n",
       "⎢        3            ⎥   ⎣  \\mu₀  ⎦\n",
       "⎣   4⋅π⋅x             ⎦             "
      ]
     },
     "execution_count": 253,
     "metadata": {},
     "output_type": "execute_result"
    }
   ],
   "source": [
    "a = Vchi/4/sm.pi/x**3\n",
    "b = Vchi*B0/mu0\n",
    "\n",
    "A = sm.Matrix([[1, a],[a,1]])\n",
    "B = sm.Matrix([[b],[b]])\n",
    "X = sm.Matrix([[m1z],[m2z]])\n",
    "\n",
    "sm.Eq(A*X,B)"
   ]
  },
  {
   "cell_type": "code",
   "execution_count": 261,
   "metadata": {},
   "outputs": [
    {
     "data": {
      "image/png": "[encoded data removed]",
      "text/latex": [
       "$$\\left[\\begin{matrix}m^{z}_{1}\\\\m^{z}_{2}\\end{matrix}\\right] = \\left[\\begin{matrix}\\frac{4 \\pi B_{0} V\\chi x^{3}}{\\mu_0 \\left(V\\chi + 4 \\pi x^{3}\\right)}\\\\\\frac{4 \\pi B_{0} V\\chi x^{3}}{\\mu_0 \\left(V\\chi + 4 \\pi x^{3}\\right)}\\end{matrix}\\right]$$"
      ],
      "text/plain": [
       "           ⎡                 3   ⎤\n",
       "           ⎢   4⋅π⋅B₀⋅V\\chi⋅x    ⎥\n",
       "           ⎢─────────────────────⎥\n",
       "           ⎢     ⎛             3⎞⎥\n",
       "⎡m_1__z⎤   ⎢\\mu₀⋅⎝V\\chi + 4⋅π⋅x ⎠⎥\n",
       "⎢      ⎥ = ⎢                     ⎥\n",
       "⎣m_2__z⎦   ⎢                 3   ⎥\n",
       "           ⎢   4⋅π⋅B₀⋅V\\chi⋅x    ⎥\n",
       "           ⎢─────────────────────⎥\n",
       "           ⎢     ⎛             3⎞⎥\n",
       "           ⎣\\mu₀⋅⎝V\\chi + 4⋅π⋅x ⎠⎦"
      ]
     },
     "execution_count": 261,
     "metadata": {},
     "output_type": "execute_result"
    }
   ],
   "source": [
    "sm.Eq(X,sm.simplify(sm.Inverse(A)*B))"
   ]
  },
  {
   "cell_type": "markdown",
   "metadata": {},
   "source": [
    "So the resulting dipole moments must be:\n",
    "$$\\vec{m}_1 = \\vec{m}_2 = \\frac{V\\chi B_0}{\\mu_0}\\frac{1}{\\frac{V\\chi}{4\\pi x^3}+1}\\uvec{z}$$"
   ]
  },
  {
   "cell_type": "markdown",
   "metadata": {
    "collapsed": true
   },
   "source": [
    "##  An example:"
   ]
  },
  {
   "cell_type": "markdown",
   "metadata": {},
   "source": [
    "Suppose we have two particles 3 microns appart. "
   ]
  },
  {
   "cell_type": "code",
   "execution_count": 262,
   "metadata": {},
   "outputs": [
    {
     "data": {
      "text/html": [
       "3342.65458341954 millitesla"
      ],
      "text/latex": [
       "$3342.65458341954\\ \\mathrm{millitesla}$"
      ],
      "text/plain": [
       "<Quantity(3342.65458341954, 'millitesla')>"
      ]
     },
     "execution_count": 262,
     "metadata": {},
     "output_type": "execute_result"
    }
   ],
   "source": [
    "rho = 1.4*ureg.um\n",
    "V = 4/3*np.pi*rho**3\n",
    "chi = 0.4\n",
    "\n",
    "## The vector that goes from particle one to particle two.\n",
    "r = np.array([3,0,0])*ureg.um\n",
    "\n",
    "B_m0 = 2.66e-6 * ureg.C/ureg.us/ureg.um\n",
    "mu0 = 4e-7*np.pi*ureg.H/ureg.m\n",
    "(B_m0*mu0).to(ureg.mT)"
   ]
  },
  {
   "cell_type": "markdown",
   "metadata": {},
   "source": [
    "Let's think about these units for a bit later."
   ]
  },
  {
   "cell_type": "markdown",
   "metadata": {},
   "source": [
    "### Exact evaluation"
   ]
  },
  {
   "cell_type": "markdown",
   "metadata": {},
   "source": [
    "For the moment we expect the resulting dipole moment to be:\n"
   ]
  },
  {
   "cell_type": "code",
   "execution_count": 266,
   "metadata": {},
   "outputs": [
    {
     "data": {
      "text/html": [
       "1.2229658902537618e-05 coulomb micrometer<sup>2</sup>/microsecond"
      ],
      "text/latex": [
       "$1.2229658902537618e-05\\ \\frac{\\mathrm{coulomb} \\cdot \\mathrm{micrometer}^{2}}{\\mathrm{microsecond}}$"
      ],
      "text/plain": [
       "<Quantity(1.2229658902537618e-05, 'coulomb * micrometer ** 2 / microsecond')>"
      ]
     },
     "execution_count": 266,
     "metadata": {},
     "output_type": "execute_result"
    }
   ],
   "source": [
    "moment_naive = V*chi*B_m0\n",
    "moment_naive"
   ]
  },
  {
   "cell_type": "code",
   "execution_count": 274,
   "metadata": {},
   "outputs": [
    {
     "data": {
      "text/html": [
       "1.2066155053321254e-05 coulomb micrometer<sup>2</sup>/microsecond"
      ],
      "text/latex": [
       "$1.2066155053321254e-05\\ \\frac{\\mathrm{coulomb} \\cdot \\mathrm{micrometer}^{2}}{\\mathrm{microsecond}}$"
      ],
      "text/plain": [
       "<Quantity(1.2066155053321254e-05, 'coulomb * micrometer ** 2 / microsecond')>"
      ]
     },
     "execution_count": 274,
     "metadata": {},
     "output_type": "execute_result"
    }
   ],
   "source": [
    "moment_corrected = V*chi*B_m0*(1/(1+V*chi/(4*np.pi*(np.linalg.norm(r)*r.units)**3)))\n",
    "moment_corrected"
   ]
  },
  {
   "cell_type": "markdown",
   "metadata": {},
   "source": [
    "So The correction is small"
   ]
  },
  {
   "cell_type": "markdown",
   "metadata": {},
   "source": [
    "### Iterative method"
   ]
  },
  {
   "cell_type": "markdown",
   "metadata": {},
   "source": [
    "Now we'll iterate N times"
   ]
  },
  {
   "cell_type": "code",
   "execution_count": 336,
   "metadata": {
    "collapsed": true
   },
   "outputs": [],
   "source": [
    "N = 10"
   ]
  },
  {
   "cell_type": "code",
   "execution_count": 337,
   "metadata": {
    "collapsed": true
   },
   "outputs": [],
   "source": [
    "def correction(m,r):\n",
    "    rdotm = np.sum(r*m)\n",
    "    rmag = np.linalg.norm(r)*r.units\n",
    "    return 1/(4*np.pi)*(3*r*rdotm/rmag**5-m/rmag**3)"
   ]
  },
  {
   "cell_type": "code",
   "execution_count": 338,
   "metadata": {
    "collapsed": true
   },
   "outputs": [],
   "source": [
    "m_units = (B_m0*V*chi).units\n",
    "m0 = [0,0,(B_m0*V*chi).magnitude]*m_units\n",
    "\n",
    "M = np.empty([N,3,2])*m_units\n",
    "M[0,:,0] = m0\n",
    "M[0,:,1] = m0\n",
    "M[1:,0:3,:] = np.NaN*m_units"
   ]
  },
  {
   "cell_type": "code",
   "execution_count": 340,
   "metadata": {
    "collapsed": true
   },
   "outputs": [],
   "source": [
    "for i,mm in enumerate(M):\n",
    "    if i>0:\n",
    "        \n",
    "        M[i,:,0] = M[0,:,0]+V*chi*correction(M[i-1,:,1],r)\n",
    "        M[i,:,1] = M[0,:,1]+V*chi*correction(M[i-1,:,0],r)"
   ]
  },
  {
   "cell_type": "code",
   "execution_count": 345,
   "metadata": {},
   "outputs": [
    {
     "data": {
      "text/plain": [
       "[<matplotlib.lines.Line2D at 0x282c6bce0f0>]"
      ]
     },
     "execution_count": 345,
     "metadata": {},
     "output_type": "execute_result"
    },
    {
     "data": {
      "image/png": "[encoded data removed]",
      "text/plain": [
       "<matplotlib.figure.Figure at 0x282c6ae4eb8>"
      ]
     },
     "metadata": {},
     "output_type": "display_data"
    }
   ],
   "source": [
    "plt.plot(M.magnitude[:,2,:])\n",
    "plt.plot(np.arange(N),moment_corrected*np.ones(N),'k')"
   ]
  },
  {
   "cell_type": "code",
   "execution_count": 353,
   "metadata": {},
   "outputs": [
    {
     "data": {
      "text/plain": [
       "[<matplotlib.lines.Line2D at 0x282c7188320>,\n",
       " <matplotlib.lines.Line2D at 0x282c7188550>]"
      ]
     },
     "execution_count": 353,
     "metadata": {},
     "output_type": "execute_result"
    },
    {
     "data": {
      "image/png": "[encoded data removed]",
      "text/plain": [
       "<matplotlib.figure.Figure at 0x282c700f5c0>"
      ]
     },
     "metadata": {},
     "output_type": "display_data"
    }
   ],
   "source": [
    "plt.semilogy(abs(M[:,2,:]-moment_corrected)/moment_naive)"
   ]
  },
  {
   "cell_type": "markdown",
   "metadata": {
    "collapsed": true
   },
   "source": [
    "### Out of plane colloids:"
   ]
  },
  {
   "cell_type": "code",
   "execution_count": 5,
   "metadata": {
    "collapsed": true
   },
   "outputs": [],
   "source": [
    "rho = 1.4*ureg.um\n",
    "V = 4/3*np.pi*rho**3\n",
    "chi = 0.4\n",
    "h = 4*ureg.um\n",
    "\n",
    "## The vector that goes from particle one to particle two.\n",
    "\n",
    "B_m0 = 2.66e-6 * ureg.C/ureg.us/ureg.um\n",
    "mu0 = 4e-7*np.pi*ureg.H/ureg.m\n",
    "(B_m0*mu0).to(ureg.mT)\n",
    "\n",
    "def inducedmoment(h):\n",
    "\n",
    "    r = np.array([np.sqrt(h.magnitude*(4*rho.magnitude-h.magnitude)),0,(h.magnitude-2*rho.magnitude)])*ureg.um\n",
    "\n",
    "    def correction(m,r):\n",
    "        rdotm = np.sum(r*m)\n",
    "        rmag = np.linalg.norm(r)*r.units\n",
    "        return 1/(4*np.pi)*(3*r*rdotm/rmag**5-m/rmag**3)\n",
    "\n",
    "    N = 10\n",
    "\n",
    "    m_units = (B_m0*V*chi).units\n",
    "    m0 = [0,0,(B_m0*V*chi).magnitude]*m_units\n",
    "\n",
    "    M = np.empty([N,3,2])*m_units\n",
    "    M[0,:,0] = m0\n",
    "    M[0,:,1] = m0\n",
    "    M[1:,0:3,:] = np.NaN*m_units\n",
    "\n",
    "    for i,mm in enumerate(M):\n",
    "        if i>0:\n",
    "\n",
    "            M[i,:,0] = M[0,:,0]+V*chi*correction(M[i-1,:,1],r)\n",
    "            M[i,:,1] = M[0,:,1]+V*chi*correction(M[i-1,:,0],r)\n",
    "\n",
    "    return M.magnitude[-1,:,:]"
   ]
  },
  {
   "cell_type": "code",
   "execution_count": 6,
   "metadata": {
    "collapsed": true
   },
   "outputs": [],
   "source": [
    "H = np.linspace(4*rho,2*rho,100)\n",
    "\n",
    "M = np.array([inducedmoment(h*ureg.um) for h in H])"
   ]
  },
  {
   "cell_type": "code",
   "execution_count": 7,
   "metadata": {},
   "outputs": [
    {
     "data": {
      "text/plain": [
       "(100, 3, 2)"
      ]
     },
     "execution_count": 7,
     "metadata": {},
     "output_type": "execute_result"
    }
   ],
   "source": [
    "np.shape(M)"
   ]
  },
  {
   "cell_type": "code",
   "execution_count": 21,
   "metadata": {},
   "outputs": [
    {
     "data": {
      "text/plain": [
       "<matplotlib.text.Text at 0x2b0593999b0>"
      ]
     },
     "execution_count": 21,
     "metadata": {},
     "output_type": "execute_result"
    },
    {
     "data": {
      "image/png": "[encoded data removed]",
      "text/plain": [
       "<matplotlib.figure.Figure at 0x2b059544da0>"
      ]
     },
     "metadata": {},
     "output_type": "display_data"
    }
   ],
   "source": [
    "fig, ax = plt.subplots(1,2,figsize=[15,5])\n",
    "plt.sca(ax[0])\n",
    "plt.plot(H,M[:,0,0])\n",
    "plt.xlabel(\"$h$ $\\mu{}m$\")\n",
    "plt.ylabel(\"$m_x$\")\n",
    "\n",
    "plt.plot([5.18,5.18],[0,3e-7],color='k')\n",
    "plt.plot([4,4],[0,3e-7],color='k')\n",
    "plt.plot([4.27,4.27],[0,3e-7],color='k')\n",
    "\n",
    "plt.sca(ax[1])\n",
    "\n",
    "plt.plot(H,M[:,0,0])\n",
    "plt.xlabel(\"$h$ $\\mu{}m$\")\n",
    "plt.ylabel(\"$m_x$\")\n",
    "\n",
    "plt.plot([5.18,5.18],[0,3e-7],color='k')\n",
    "plt.plot([4,4],[0,3e-7],color='k')\n",
    "plt.plot([4.27,4.27],[0,3e-7],color='k')\n",
    "\n",
    "plt.xlim([3.7,5.5])\n",
    "plt.ylim([2e-7,3.25e-7])\n",
    "\n",
    "fig.suptitle(\"In plane component of the induced dipole moment of a dimer\")"
   ]
  },
  {
   "cell_type": "code",
   "execution_count": 14,
   "metadata": {},
   "outputs": [
    {
     "data": {
      "text/plain": [
       "(2e-07, 3.25e-07)"
      ]
     },
     "execution_count": 14,
     "metadata": {},
     "output_type": "execute_result"
    },
    {
     "data": {
      "image/png": "[encoded data removed]",
      "text/plain": [
       "<matplotlib.figure.Figure at 0x2b0593682e8>"
      ]
     },
     "metadata": {},
     "output_type": "display_data"
    }
   ],
   "source": [
    "plt.plot(H,M[:,0,0])\n",
    "plt.xlabel(\"h\")\n",
    "plt.ylabel(\"$m_x$\")\n",
    "\n",
    "plt.plot([5.18,5.18],[0,3e-7],color='k')\n",
    "plt.plot([4,4],[0,3e-7],color='k')\n",
    "plt.plot([4.27,4.27],[0,3e-7],color='k')\n",
    "\n",
    "plt.ylim([2e-7,3.25e-7])"
   ]
  },
  {
   "cell_type": "code",
   "execution_count": null,
   "metadata": {
    "collapsed": true
   },
   "outputs": [],
   "source": []
  }
 ],
 "metadata": {
  "kernelspec": {
   "display_name": "Python [conda root]",
   "language": "python",
   "name": "conda-root-py"
  },
  "language_info": {
   "codemirror_mode": {
    "name": "ipython",
    "version": 3
   },
   "file_extension": ".py",
   "mimetype": "text/x-python",
   "name": "python",
   "nbconvert_exporter": "python",
   "pygments_lexer": "ipython3",
   "version": "3.6.2"
  }
 },
 "nbformat": 4,
 "nbformat_minor": 2
}
