{
 "cells": [
  {
   "cell_type": "markdown",
   "metadata": {
    "nbpresent": {
     "id": "7ec1d98f-f41a-4552-bf6b-8da7a3c2efde"
    }
   },
   "source": [
    "# Nematic Order Statistics\n",
    "\n",
    "## Run many simulations in parallel"
   ]
  },
  {
   "cell_type": "code",
   "execution_count": 1,
   "metadata": {
    "nbpresent": {
     "id": "196f5f0c-f147-45b6-9b1a-80563212888b"
    }
   },
   "outputs": [],
   "source": [
    "import lammps2d as lmp\n",
    "import numpy as np\n",
    "import matplotlib.pyplot as plt\n",
    "import matplotlib.animation as anm\n",
    "import matplotlib.collections as clt\n",
    "import pandas as pd\n",
    "import string as st\n",
    "import scipy.spatial as spp\n",
    "import scipy.optimize as spo\n",
    "import sympy as smp\n",
    "import copy as cp\n",
    "import pickle\n",
    "import os\n",
    "import sys\n",
    "import datetime\n",
    "import getpass\n",
    "import pysftp\n",
    "from IPython.display import HTML\n",
    "\n",
    "smp.init_printing()\n",
    "%matplotlib inline\n",
    "%reload_ext autoreload\n",
    "%autoreload 2"
   ]
  },
  {
   "cell_type": "markdown",
   "metadata": {},
   "source": [
    "The previous notebook results in a very noisy order parameter, where no clear trend of $S$ vs $B$ can be extracted. It's true that the final configuration depends on the intitial conditions which are all the same for our system, but there is also a stochastic contribution. This means that several realizations of the same test will result in varying order paramters, and we then need some statistics. \n",
    "\n",
    "In this notebook I make several experiments of the same parameters as before, which are the parameters that Dobnikar predicts as dimer forming. Since the experimetns take a while, I run them in parallel in six of the eight threads of a locally configured cluster. \n",
    "\n",
    "Configuring a local cluster is very easy with ipycluster. ipycluster can be installed using conda, and then we can run in DOS:\n",
    "\n",
    "    !ipcluster start -n 6\n",
    "\n",
    "which starts six parallel processes. "
   ]
  },
  {
   "cell_type": "markdown",
   "metadata": {},
   "source": [
    "The previous run of this notebook took conspicuosly little time. I have now realized that the reason this happened is that the packing was too low. Low packing simulations are faster because there are less particles within the cutoff which makes for less calculations. I must run this again. \n",
    "\n",
    "If the simulations take about 25 minutes, and I run 10 experiments with 20 fields, in six parallel threads, the total time will be around 13 hours."
   ]
  },
  {
   "cell_type": "markdown",
   "metadata": {},
   "source": [
    "This notebook was run in the lab computer. From the report of the finished simulations, it appears as if the whole process took about three hours. This is strange because it means that each simulation takes about 5 minute. In fact, these simulations take about 5 minutes, which is strange beacuse they appear to have the same conditions as the simulations of nb 19-StaticFieldNematicPhase, and those take about 25 minutes."
   ]
  },
  {
   "cell_type": "code",
   "execution_count": 2,
   "metadata": {},
   "outputs": [],
   "source": [
    "from IPython.display import clear_output\n",
    "import ipyparallel as ipp\n",
    "c = ipp.Client()\n",
    "dview = c[:]"
   ]
  },
  {
   "cell_type": "code",
   "execution_count": 3,
   "metadata": {},
   "outputs": [],
   "source": [
    "%px import os"
   ]
  },
  {
   "cell_type": "code",
   "execution_count": 4,
   "metadata": {},
   "outputs": [
    {
     "data": {
      "text/plain": [
       "['/home/aortiza',\n",
       " '/home/aortiza',\n",
       " '/home/aortiza',\n",
       " '/home/aortiza',\n",
       " '/home/aortiza',\n",
       " '/home/aortiza',\n",
       " '/home/aortiza',\n",
       " '/home/aortiza']"
      ]
     },
     "execution_count": 4,
     "metadata": {},
     "output_type": "execute_result"
    }
   ],
   "source": [
    "c[:].apply_sync(lambda :os.getcwd())"
   ]
  },
  {
   "cell_type": "markdown",
   "metadata": {},
   "source": [
    "# Define a Function"
   ]
  },
  {
   "cell_type": "code",
   "execution_count": 14,
   "metadata": {},
   "outputs": [],
   "source": [
    "def run_sim(i):\n",
    "    angle = 0\n",
    "    radius = 1.4\n",
    "    region, initial_positions = lmp.initial_setup(n_of_particles = 150, packing=packing[i], height = height[i])\n",
    "    \n",
    "    if random[i]:\n",
    "        sim = lmp.sim(initial_positions,\n",
    "                      magnitude = 0,\n",
    "                      file_name = \"field_%u\"%field[i],\n",
    "                      dir_name = \"/home/aortiza/NematicPhase/rand%uH%gp%g/\"%(random[i],height[i],packing[i]),\n",
    "                      radius = radius,\n",
    "                      diffusion = 0.073,\n",
    "                      frequency=0,\n",
    "                      susceptibility = 0.4,\n",
    "                      angle=angle,\n",
    "                      framerate=1e0,\n",
    "                      timestep=1e-4,\n",
    "                      total_time = 30,\n",
    "                      temperature = 300,\n",
    "                      stamp_time = False,\n",
    "                      space = {'region':region,'boundary':['p','p','f'],'walls':[False,False,True]})\n",
    "\n",
    "        sim.generate_scripts()\n",
    "        sim.run()\n",
    "\n",
    "        trj = lmp.trj_lazyread(sim.base_name+\".lammpstrj\")[-1]\n",
    "        initial_positions = trj.filter(('x','y','z')).values\n",
    "\n",
    "    sim = lmp.sim(initial_positions,\n",
    "              magnitude = field[i],\n",
    "              file_name = \"field_%u\"%field[i],\n",
    "              dir_name = \"/home/aortiza/NematicPhase/rand%uH%gp%g/\"%(random[i],height[i],packing[i]),\n",
    "              radius = radius,\n",
    "              diffusion = 0.073,\n",
    "              frequency=0,\n",
    "              susceptibility = 0.4,\n",
    "              angle=angle,\n",
    "              framerate=1e2,\n",
    "              timestep=0.5e-4,\n",
    "              total_time = 60,\n",
    "              temperature = 300,\n",
    "              stamp_time = False,\n",
    "              space = {'region':region,'boundary':['p','p','f'],'walls':[False,False,True]})\n",
    "    \n",
    "    sim.generate_scripts()\n",
    "    sim.run()\n",
    "    \n",
    "    trj = lmp.trj_lazyread(sim.base_name+\".lammpstrj\")[::100]\n",
    "    lmp.export_animation(sim,trj,verb=False,start=0,end=sim.run_parameters.total_time,step=1,speedup=100)\n",
    "    \n",
    "    directory = 'Antonio/SimulationsOfDimerSystem/NematicPhase/ParameterSpace_T300K/rand%uH%gp%g/'%(random[i],height[i],packing[i])\n",
    "    print(directory)\n",
    "    with pysftp.Connection(host=\"161.116.81.190\", username=\"aortiza\", password=pswd) as magnetic:\n",
    "        \n",
    "        if not magnetic.isdir(directory):\n",
    "            magnetic.makedirs(directory)\n",
    "\n",
    "        with magnetic.cd(directory):\n",
    "            magnetic.put(sim.base_name+'.lammpstrj')\n",
    "            magnetic.put(sim.base_name+'.p')\n",
    "            magnetic.put(sim.base_name+'.lmpin')\n",
    "            magnetic.put(sim.base_name+'.gif')\n",
    "    \n",
    "    os.remove(sim.base_name+'.lammpstrj')\n",
    "    os.remove(sim.base_name+'.p')\n",
    "    os.remove(sim.base_name+'.lmpin')\n",
    "    os.remove(sim.base_name+'.gif')"
   ]
  },
  {
   "cell_type": "markdown",
   "metadata": {},
   "source": [
    "# Setup environment of cluster workers"
   ]
  },
  {
   "cell_type": "code",
   "execution_count": 15,
   "metadata": {},
   "outputs": [
    {
     "name": "stdout",
     "output_type": "stream",
     "text": [
      "········\n"
     ]
    },
    {
     "data": {
      "text/plain": [
       "<AsyncResult: _push>"
      ]
     },
     "execution_count": 15,
     "metadata": {},
     "output_type": "execute_result"
    }
   ],
   "source": [
    "height = [3.8,3.9,4,4.1,4.2]\n",
    "packing = [0.17,0.22,0.27,0.32,0.37,0.42]\n",
    "field = np.linspace(1,10,10)\n",
    "experiments = np.arange(0,1)\n",
    "random = np.arange(0,2)\n",
    "\n",
    "H,P,F,E,R = np.meshgrid(height,packing,field,experiments,random)\n",
    "\n",
    "height = H.flatten()\n",
    "packing = P.flatten()\n",
    "field = F.flatten()\n",
    "experiment = E.flatten()\n",
    "random = R.flatten()\n",
    "\n",
    "ParameterSet = np.array([random,height,packing,field]).transpose()\n",
    "is_ready = ismember(ParameterSet,database)\n",
    "\n",
    "to_go = np.where([not i for i in is_ready])\n",
    "\n",
    "dview.push(dict(height=height[to_go],packing=packing[to_go],field=field[to_go],experiment=experiment[to_go],random=random[to_go]))\n",
    "dview.push(dict(pswd=getpass.getpass()))\n",
    "dview.push(dict(run_sim=run_sim))"
   ]
  },
  {
   "cell_type": "code",
   "execution_count": 16,
   "metadata": {},
   "outputs": [],
   "source": [
    "%%px\n",
    "os.chdir(\"/home/aortiza/Notes/SimulationsOfDimerSystem\")\n",
    "import lammps2d as lmp\n",
    "import numpy as np\n",
    "import pickle\n",
    "import datetime\n",
    "import time\n",
    "import pysftp"
   ]
  },
  {
   "cell_type": "code",
   "execution_count": 21,
   "metadata": {},
   "outputs": [
    {
     "name": "stdout",
     "output_type": "stream",
     "text": [
      "Antonio/SimulationsOfDimerSystem/NematicPhase/ParameterSpace_T300K/rand0H3.9p0.22/\n",
      "Antonio/SimulationsOfDimerSystem/NematicPhase/ParameterSpace_T300K/rand1H3.9p0.22/\n",
      "Antonio/SimulationsOfDimerSystem/NematicPhase/ParameterSpace_T300K/rand0H3.9p0.22/\n",
      "Antonio/SimulationsOfDimerSystem/NematicPhase/ParameterSpace_T300K/rand1H3.9p0.22/\n",
      "Antonio/SimulationsOfDimerSystem/NematicPhase/ParameterSpace_T300K/rand0H3.9p0.22/\n",
      "Antonio/SimulationsOfDimerSystem/NematicPhase/ParameterSpace_T300K/rand1H3.9p0.22/\n",
      "Antonio/SimulationsOfDimerSystem/NematicPhase/ParameterSpace_T300K/rand0H3.9p0.22/\n",
      "Antonio/SimulationsOfDimerSystem/NematicPhase/ParameterSpace_T300K/rand1H3.9p0.22/\n",
      "Antonio/SimulationsOfDimerSystem/NematicPhase/ParameterSpace_T300K/rand0H4p0.22/\n",
      "Antonio/SimulationsOfDimerSystem/NematicPhase/ParameterSpace_T300K/rand1H4p0.22/\n",
      "Antonio/SimulationsOfDimerSystem/NematicPhase/ParameterSpace_T300K/rand0H4p0.22/\n",
      "Antonio/SimulationsOfDimerSystem/NematicPhase/ParameterSpace_T300K/rand1H4p0.22/\n",
      "Antonio/SimulationsOfDimerSystem/NematicPhase/ParameterSpace_T300K/rand0H4p0.22/\n",
      "Antonio/SimulationsOfDimerSystem/NematicPhase/ParameterSpace_T300K/rand1H4p0.22/\n",
      "Antonio/SimulationsOfDimerSystem/NematicPhase/ParameterSpace_T300K/rand0H4p0.22/\n",
      "Antonio/SimulationsOfDimerSystem/NematicPhase/ParameterSpace_T300K/rand1H4p0.22/\n",
      "Antonio/SimulationsOfDimerSystem/NematicPhase/ParameterSpace_T300K/rand0H4p0.22/\n",
      "Antonio/SimulationsOfDimerSystem/NematicPhase/ParameterSpace_T300K/rand1H4p0.22/\n",
      "Antonio/SimulationsOfDimerSystem/NematicPhase/ParameterSpace_T300K/rand0H4.2p0.22/\n",
      "Antonio/SimulationsOfDimerSystem/NematicPhase/ParameterSpace_T300K/rand1H4.2p0.22/\n",
      "Antonio/SimulationsOfDimerSystem/NematicPhase/ParameterSpace_T300K/rand0H4.2p0.22/\n",
      "Antonio/SimulationsOfDimerSystem/NematicPhase/ParameterSpace_T300K/rand1H4.2p0.22/\n",
      "Antonio/SimulationsOfDimerSystem/NematicPhase/ParameterSpace_T300K/rand0H4.2p0.22/\n",
      "Antonio/SimulationsOfDimerSystem/NematicPhase/ParameterSpace_T300K/rand1H4.2p0.22/\n",
      "Antonio/SimulationsOfDimerSystem/NematicPhase/ParameterSpace_T300K/rand0H4.2p0.22/\n",
      "Antonio/SimulationsOfDimerSystem/NematicPhase/ParameterSpace_T300K/rand1H4.2p0.22/\n",
      "Antonio/SimulationsOfDimerSystem/NematicPhase/ParameterSpace_T300K/rand0H3.8p0.27/\n",
      "Antonio/SimulationsOfDimerSystem/NematicPhase/ParameterSpace_T300K/rand1H3.8p0.27/\n",
      "Antonio/SimulationsOfDimerSystem/NematicPhase/ParameterSpace_T300K/rand0H3.8p0.27/\n",
      "Antonio/SimulationsOfDimerSystem/NematicPhase/ParameterSpace_T300K/rand1H3.8p0.27/\n",
      "Antonio/SimulationsOfDimerSystem/NematicPhase/ParameterSpace_T300K/rand0H3.8p0.27/\n",
      "Antonio/SimulationsOfDimerSystem/NematicPhase/ParameterSpace_T300K/rand1H3.8p0.27/\n",
      "Antonio/SimulationsOfDimerSystem/NematicPhase/ParameterSpace_T300K/rand0H3.8p0.27/\n",
      "Antonio/SimulationsOfDimerSystem/NematicPhase/ParameterSpace_T300K/rand1H3.8p0.27/\n",
      "Antonio/SimulationsOfDimerSystem/NematicPhase/ParameterSpace_T300K/rand0H3.8p0.27/\n",
      "Antonio/SimulationsOfDimerSystem/NematicPhase/ParameterSpace_T300K/rand1H3.8p0.27/\n",
      "Antonio/SimulationsOfDimerSystem/NematicPhase/ParameterSpace_T300K/rand0H3.8p0.27/\n",
      "Antonio/SimulationsOfDimerSystem/NematicPhase/ParameterSpace_T300K/rand1H3.8p0.27/\n",
      "Antonio/SimulationsOfDimerSystem/NematicPhase/ParameterSpace_T300K/rand0H3.8p0.27/\n",
      "Antonio/SimulationsOfDimerSystem/NematicPhase/ParameterSpace_T300K/rand1H3.8p0.27/\n",
      "Antonio/SimulationsOfDimerSystem/NematicPhase/ParameterSpace_T300K/rand0H3.8p0.27/\n",
      "Antonio/SimulationsOfDimerSystem/NematicPhase/ParameterSpace_T300K/rand1H3.8p0.27/\n",
      "Antonio/SimulationsOfDimerSystem/NematicPhase/ParameterSpace_T300K/rand0H4.1p0.27/\n",
      "Antonio/SimulationsOfDimerSystem/NematicPhase/ParameterSpace_T300K/rand1H4.1p0.27/\n",
      "Antonio/SimulationsOfDimerSystem/NematicPhase/ParameterSpace_T300K/rand0H4.1p0.27/\n",
      "Antonio/SimulationsOfDimerSystem/NematicPhase/ParameterSpace_T300K/rand1H4.1p0.27/\n",
      "Antonio/SimulationsOfDimerSystem/NematicPhase/ParameterSpace_T300K/rand0H4.2p0.27/\n",
      "Antonio/SimulationsOfDimerSystem/NematicPhase/ParameterSpace_T300K/rand1H4.2p0.27/\n",
      "Antonio/SimulationsOfDimerSystem/NematicPhase/ParameterSpace_T300K/rand0H4.2p0.27/\n",
      "Antonio/SimulationsOfDimerSystem/NematicPhase/ParameterSpace_T300K/rand1H4.2p0.27/\n",
      "Antonio/SimulationsOfDimerSystem/NematicPhase/ParameterSpace_T300K/rand0H4.2p0.27/\n",
      "Antonio/SimulationsOfDimerSystem/NematicPhase/ParameterSpace_T300K/rand1H4.2p0.27/\n",
      "Antonio/SimulationsOfDimerSystem/NematicPhase/ParameterSpace_T300K/rand0H4.2p0.27/\n",
      "Antonio/SimulationsOfDimerSystem/NematicPhase/ParameterSpace_T300K/rand1H4.2p0.27/\n",
      "Antonio/SimulationsOfDimerSystem/NematicPhase/ParameterSpace_T300K/rand0H4.2p0.27/\n",
      "Antonio/SimulationsOfDimerSystem/NematicPhase/ParameterSpace_T300K/rand1H4.2p0.27/\n",
      "Antonio/SimulationsOfDimerSystem/NematicPhase/ParameterSpace_T300K/rand0H4.2p0.27/\n",
      "Antonio/SimulationsOfDimerSystem/NematicPhase/ParameterSpace_T300K/rand1H4.2p0.27/\n",
      "Antonio/SimulationsOfDimerSystem/NematicPhase/ParameterSpace_T300K/rand0H4.2p0.27/\n",
      "Antonio/SimulationsOfDimerSystem/NematicPhase/ParameterSpace_T300K/rand1H4.2p0.27/\n",
      "Antonio/SimulationsOfDimerSystem/NematicPhase/ParameterSpace_T300K/rand0H4.2p0.27/\n",
      "Antonio/SimulationsOfDimerSystem/NematicPhase/ParameterSpace_T300K/rand1H4.2p0.27/\n",
      "Antonio/SimulationsOfDimerSystem/NematicPhase/ParameterSpace_T300K/rand0H4.2p0.27/\n",
      "Antonio/SimulationsOfDimerSystem/NematicPhase/ParameterSpace_T300K/rand1H4.2p0.27/\n",
      "Antonio/SimulationsOfDimerSystem/NematicPhase/ParameterSpace_T300K/rand0H4.2p0.27/\n",
      "Antonio/SimulationsOfDimerSystem/NematicPhase/ParameterSpace_T300K/rand1H4.2p0.27/\n",
      "Antonio/SimulationsOfDimerSystem/NematicPhase/ParameterSpace_T300K/rand0H3.9p0.32/\n",
      "Antonio/SimulationsOfDimerSystem/NematicPhase/ParameterSpace_T300K/rand1H3.9p0.32/\n",
      "Antonio/SimulationsOfDimerSystem/NematicPhase/ParameterSpace_T300K/rand0H3.9p0.32/\n",
      "Antonio/SimulationsOfDimerSystem/NematicPhase/ParameterSpace_T300K/rand1H3.9p0.32/\n",
      "Antonio/SimulationsOfDimerSystem/NematicPhase/ParameterSpace_T300K/rand0H3.9p0.32/\n",
      "Antonio/SimulationsOfDimerSystem/NematicPhase/ParameterSpace_T300K/rand1H3.9p0.32/\n",
      "Antonio/SimulationsOfDimerSystem/NematicPhase/ParameterSpace_T300K/rand0H3.9p0.32/\n",
      "Antonio/SimulationsOfDimerSystem/NematicPhase/ParameterSpace_T300K/rand1H3.9p0.32/\n",
      "Antonio/SimulationsOfDimerSystem/NematicPhase/ParameterSpace_T300K/rand0H4p0.32/\n",
      "Antonio/SimulationsOfDimerSystem/NematicPhase/ParameterSpace_T300K/rand1H4p0.32/\n",
      "Antonio/SimulationsOfDimerSystem/NematicPhase/ParameterSpace_T300K/rand0H4p0.32/\n",
      "Antonio/SimulationsOfDimerSystem/NematicPhase/ParameterSpace_T300K/rand1H4p0.32/\n",
      "Antonio/SimulationsOfDimerSystem/NematicPhase/ParameterSpace_T300K/rand0H4p0.32/\n",
      "Antonio/SimulationsOfDimerSystem/NematicPhase/ParameterSpace_T300K/rand1H4p0.32/\n",
      "Antonio/SimulationsOfDimerSystem/NematicPhase/ParameterSpace_T300K/rand0H4p0.32/\n",
      "Antonio/SimulationsOfDimerSystem/NematicPhase/ParameterSpace_T300K/rand1H4p0.32/\n",
      "Antonio/SimulationsOfDimerSystem/NematicPhase/ParameterSpace_T300K/rand0H4p0.32/\n",
      "Antonio/SimulationsOfDimerSystem/NematicPhase/ParameterSpace_T300K/rand1H4p0.32/\n",
      "Antonio/SimulationsOfDimerSystem/NematicPhase/ParameterSpace_T300K/rand0H4p0.32/\n",
      "Antonio/SimulationsOfDimerSystem/NematicPhase/ParameterSpace_T300K/rand1H4p0.32/\n",
      "Antonio/SimulationsOfDimerSystem/NematicPhase/ParameterSpace_T300K/rand0H4p0.32/\n",
      "Antonio/SimulationsOfDimerSystem/NematicPhase/ParameterSpace_T300K/rand1H4p0.32/\n",
      "Antonio/SimulationsOfDimerSystem/NematicPhase/ParameterSpace_T300K/rand0H4p0.32/\n",
      "Antonio/SimulationsOfDimerSystem/NematicPhase/ParameterSpace_T300K/rand1H4p0.32/\n",
      "Antonio/SimulationsOfDimerSystem/NematicPhase/ParameterSpace_T300K/rand0H4p0.32/\n",
      "Antonio/SimulationsOfDimerSystem/NematicPhase/ParameterSpace_T300K/rand1H4p0.32/\n",
      "Antonio/SimulationsOfDimerSystem/NematicPhase/ParameterSpace_T300K/rand0H3.8p0.37/\n",
      "Antonio/SimulationsOfDimerSystem/NematicPhase/ParameterSpace_T300K/rand1H3.8p0.37/\n",
      "Antonio/SimulationsOfDimerSystem/NematicPhase/ParameterSpace_T300K/rand0H3.8p0.37/\n",
      "Antonio/SimulationsOfDimerSystem/NematicPhase/ParameterSpace_T300K/rand1H3.8p0.37/\n",
      "Antonio/SimulationsOfDimerSystem/NematicPhase/ParameterSpace_T300K/rand0H3.8p0.37/\n",
      "Antonio/SimulationsOfDimerSystem/NematicPhase/ParameterSpace_T300K/rand1H3.8p0.37/\n",
      "Antonio/SimulationsOfDimerSystem/NematicPhase/ParameterSpace_T300K/rand0H3.8p0.37/\n",
      "Antonio/SimulationsOfDimerSystem/NematicPhase/ParameterSpace_T300K/rand1H3.8p0.37/\n",
      "Antonio/SimulationsOfDimerSystem/NematicPhase/ParameterSpace_T300K/rand0H3.8p0.37/\n",
      "Antonio/SimulationsOfDimerSystem/NematicPhase/ParameterSpace_T300K/rand1H3.8p0.37/\n",
      "Antonio/SimulationsOfDimerSystem/NematicPhase/ParameterSpace_T300K/rand0H3.9p0.37/\n",
      "Antonio/SimulationsOfDimerSystem/NematicPhase/ParameterSpace_T300K/rand1H3.9p0.37/\n",
      "Antonio/SimulationsOfDimerSystem/NematicPhase/ParameterSpace_T300K/rand0H3.9p0.37/\n",
      "Antonio/SimulationsOfDimerSystem/NematicPhase/ParameterSpace_T300K/rand1H3.9p0.37/\n",
      "Antonio/SimulationsOfDimerSystem/NematicPhase/ParameterSpace_T300K/rand0H3.9p0.37/\n",
      "Antonio/SimulationsOfDimerSystem/NematicPhase/ParameterSpace_T300K/rand1H3.9p0.37/\n",
      "Antonio/SimulationsOfDimerSystem/NematicPhase/ParameterSpace_T300K/rand0H3.9p0.37/\n",
      "Antonio/SimulationsOfDimerSystem/NematicPhase/ParameterSpace_T300K/rand1H3.9p0.37/\n",
      "Antonio/SimulationsOfDimerSystem/NematicPhase/ParameterSpace_T300K/rand0H3.9p0.37/\n",
      "Antonio/SimulationsOfDimerSystem/NematicPhase/ParameterSpace_T300K/rand1H3.9p0.37/\n",
      "Antonio/SimulationsOfDimerSystem/NematicPhase/ParameterSpace_T300K/rand0H3.9p0.37/\n",
      "Antonio/SimulationsOfDimerSystem/NematicPhase/ParameterSpace_T300K/rand1H3.9p0.37/\n",
      "Antonio/SimulationsOfDimerSystem/NematicPhase/ParameterSpace_T300K/rand0H3.9p0.37/\n",
      "Antonio/SimulationsOfDimerSystem/NematicPhase/ParameterSpace_T300K/rand1H3.9p0.37/\n",
      "Antonio/SimulationsOfDimerSystem/NematicPhase/ParameterSpace_T300K/rand0H3.9p0.37/\n",
      "Antonio/SimulationsOfDimerSystem/NematicPhase/ParameterSpace_T300K/rand1H3.9p0.37/\n",
      "Antonio/SimulationsOfDimerSystem/NematicPhase/ParameterSpace_T300K/rand0H3.9p0.37/\n",
      "Antonio/SimulationsOfDimerSystem/NematicPhase/ParameterSpace_T300K/rand1H3.9p0.37/\n",
      "Antonio/SimulationsOfDimerSystem/NematicPhase/ParameterSpace_T300K/rand0H3.9p0.37/\n",
      "Antonio/SimulationsOfDimerSystem/NematicPhase/ParameterSpace_T300K/rand1H3.9p0.37/\n",
      "Antonio/SimulationsOfDimerSystem/NematicPhase/ParameterSpace_T300K/rand0H4p0.37/\n",
      "Antonio/SimulationsOfDimerSystem/NematicPhase/ParameterSpace_T300K/rand1H4p0.37/\n",
      "Antonio/SimulationsOfDimerSystem/NematicPhase/ParameterSpace_T300K/rand0H4p0.37/\n",
      "Antonio/SimulationsOfDimerSystem/NematicPhase/ParameterSpace_T300K/rand1H4p0.37/\n",
      "Antonio/SimulationsOfDimerSystem/NematicPhase/ParameterSpace_T300K/rand0H4p0.37/\n",
      "Antonio/SimulationsOfDimerSystem/NematicPhase/ParameterSpace_T300K/rand1H4p0.37/\n",
      "Antonio/SimulationsOfDimerSystem/NematicPhase/ParameterSpace_T300K/rand0H4p0.37/\n",
      "Antonio/SimulationsOfDimerSystem/NematicPhase/ParameterSpace_T300K/rand1H4p0.37/\n",
      "Antonio/SimulationsOfDimerSystem/NematicPhase/ParameterSpace_T300K/rand0H4p0.37/\n",
      "Antonio/SimulationsOfDimerSystem/NematicPhase/ParameterSpace_T300K/rand1H4p0.37/\n",
      "Antonio/SimulationsOfDimerSystem/NematicPhase/ParameterSpace_T300K/rand1H4.1p0.37/\n",
      "Antonio/SimulationsOfDimerSystem/NematicPhase/ParameterSpace_T300K/rand0H4.1p0.37/\n",
      "Antonio/SimulationsOfDimerSystem/NematicPhase/ParameterSpace_T300K/rand1H4.1p0.37/\n",
      "Antonio/SimulationsOfDimerSystem/NematicPhase/ParameterSpace_T300K/rand0H4.2p0.37/\n",
      "Antonio/SimulationsOfDimerSystem/NematicPhase/ParameterSpace_T300K/rand1H4.2p0.37/\n",
      "Antonio/SimulationsOfDimerSystem/NematicPhase/ParameterSpace_T300K/rand0H4.2p0.37/\n",
      "Antonio/SimulationsOfDimerSystem/NematicPhase/ParameterSpace_T300K/rand1H4.2p0.37/\n",
      "Antonio/SimulationsOfDimerSystem/NematicPhase/ParameterSpace_T300K/rand0H4.2p0.37/\n",
      "Antonio/SimulationsOfDimerSystem/NematicPhase/ParameterSpace_T300K/rand1H4.2p0.37/\n",
      "Antonio/SimulationsOfDimerSystem/NematicPhase/ParameterSpace_T300K/rand0H4.2p0.37/\n",
      "Antonio/SimulationsOfDimerSystem/NematicPhase/ParameterSpace_T300K/rand1H4.2p0.37/\n",
      "Antonio/SimulationsOfDimerSystem/NematicPhase/ParameterSpace_T300K/rand0H4.2p0.37/\n",
      "Antonio/SimulationsOfDimerSystem/NematicPhase/ParameterSpace_T300K/rand1H4.2p0.37/\n",
      "Antonio/SimulationsOfDimerSystem/NematicPhase/ParameterSpace_T300K/rand0H4.2p0.37/\n",
      "Antonio/SimulationsOfDimerSystem/NematicPhase/ParameterSpace_T300K/rand0H3.8p0.42/\n",
      "Antonio/SimulationsOfDimerSystem/NematicPhase/ParameterSpace_T300K/rand1H3.8p0.42/\n",
      "Antonio/SimulationsOfDimerSystem/NematicPhase/ParameterSpace_T300K/rand0H3.8p0.42/\n",
      "Antonio/SimulationsOfDimerSystem/NematicPhase/ParameterSpace_T300K/rand1H3.8p0.42/\n",
      "Antonio/SimulationsOfDimerSystem/NematicPhase/ParameterSpace_T300K/rand0H3.8p0.42/\n",
      "Antonio/SimulationsOfDimerSystem/NematicPhase/ParameterSpace_T300K/rand1H3.8p0.42/\n",
      "Antonio/SimulationsOfDimerSystem/NematicPhase/ParameterSpace_T300K/rand0H3.8p0.42/\n",
      "Antonio/SimulationsOfDimerSystem/NematicPhase/ParameterSpace_T300K/rand1H3.8p0.42/\n",
      "Antonio/SimulationsOfDimerSystem/NematicPhase/ParameterSpace_T300K/rand0H3.8p0.42/\n",
      "Antonio/SimulationsOfDimerSystem/NematicPhase/ParameterSpace_T300K/rand1H3.8p0.42/\n",
      "Antonio/SimulationsOfDimerSystem/NematicPhase/ParameterSpace_T300K/rand0H3.9p0.42/\n",
      "Antonio/SimulationsOfDimerSystem/NematicPhase/ParameterSpace_T300K/rand1H3.9p0.42/\n",
      "Antonio/SimulationsOfDimerSystem/NematicPhase/ParameterSpace_T300K/rand0H3.9p0.42/\n",
      "Antonio/SimulationsOfDimerSystem/NematicPhase/ParameterSpace_T300K/rand1H3.9p0.42/\n",
      "Antonio/SimulationsOfDimerSystem/NematicPhase/ParameterSpace_T300K/rand0H3.9p0.42/\n",
      "Antonio/SimulationsOfDimerSystem/NematicPhase/ParameterSpace_T300K/rand1H4p0.42/\n",
      "Antonio/SimulationsOfDimerSystem/NematicPhase/ParameterSpace_T300K/rand0H4p0.42/\n",
      "Antonio/SimulationsOfDimerSystem/NematicPhase/ParameterSpace_T300K/rand1H4p0.42/\n",
      "Antonio/SimulationsOfDimerSystem/NematicPhase/ParameterSpace_T300K/rand0H4p0.42/\n",
      "Antonio/SimulationsOfDimerSystem/NematicPhase/ParameterSpace_T300K/rand1H4p0.42/\n",
      "Antonio/SimulationsOfDimerSystem/NematicPhase/ParameterSpace_T300K/rand0H4p0.42/\n",
      "Antonio/SimulationsOfDimerSystem/NematicPhase/ParameterSpace_T300K/rand1H4p0.42/\n",
      "Antonio/SimulationsOfDimerSystem/NematicPhase/ParameterSpace_T300K/rand0H4p0.42/\n",
      "Antonio/SimulationsOfDimerSystem/NematicPhase/ParameterSpace_T300K/rand1H4p0.42/\n",
      "Antonio/SimulationsOfDimerSystem/NematicPhase/ParameterSpace_T300K/rand0H4p0.42/\n",
      "Antonio/SimulationsOfDimerSystem/NematicPhase/ParameterSpace_T300K/rand1H4p0.42/\n",
      "Antonio/SimulationsOfDimerSystem/NematicPhase/ParameterSpace_T300K/rand0H4.1p0.42/\n",
      "Antonio/SimulationsOfDimerSystem/NematicPhase/ParameterSpace_T300K/rand1H4.1p0.42/\n",
      "Antonio/SimulationsOfDimerSystem/NematicPhase/ParameterSpace_T300K/rand0H4.1p0.42/\n",
      "Antonio/SimulationsOfDimerSystem/NematicPhase/ParameterSpace_T300K/rand1H4.1p0.42/\n",
      "Antonio/SimulationsOfDimerSystem/NematicPhase/ParameterSpace_T300K/rand0H4.1p0.42/\n",
      "Antonio/SimulationsOfDimerSystem/NematicPhase/ParameterSpace_T300K/rand1H4.1p0.42/\n",
      "Antonio/SimulationsOfDimerSystem/NematicPhase/ParameterSpace_T300K/rand0H4.1p0.42/\n",
      "Antonio/SimulationsOfDimerSystem/NematicPhase/ParameterSpace_T300K/rand1H4.1p0.42/\n",
      "Antonio/SimulationsOfDimerSystem/NematicPhase/ParameterSpace_T300K/rand0H4.1p0.42/\n",
      "Antonio/SimulationsOfDimerSystem/NematicPhase/ParameterSpace_T300K/rand1H4.1p0.42/\n",
      "Antonio/SimulationsOfDimerSystem/NematicPhase/ParameterSpace_T300K/rand0H4.1p0.42/\n",
      "Antonio/SimulationsOfDimerSystem/NematicPhase/ParameterSpace_T300K/rand1H4.1p0.42/\n",
      "Antonio/SimulationsOfDimerSystem/NematicPhase/ParameterSpace_T300K/rand0H4.1p0.42/\n",
      "Antonio/SimulationsOfDimerSystem/NematicPhase/ParameterSpace_T300K/rand1H4.1p0.42/\n",
      "Antonio/SimulationsOfDimerSystem/NematicPhase/ParameterSpace_T300K/rand0H4.1p0.42/\n",
      "Antonio/SimulationsOfDimerSystem/NematicPhase/ParameterSpace_T300K/rand1H4.1p0.42/\n",
      "Antonio/SimulationsOfDimerSystem/NematicPhase/ParameterSpace_T300K/rand0H4.1p0.42/\n",
      "Antonio/SimulationsOfDimerSystem/NematicPhase/ParameterSpace_T300K/rand1H4.1p0.42/\n",
      "Antonio/SimulationsOfDimerSystem/NematicPhase/ParameterSpace_T300K/rand0H4.1p0.42/\n",
      "Antonio/SimulationsOfDimerSystem/NematicPhase/ParameterSpace_T300K/rand1H4.1p0.42/\n",
      "Antonio/SimulationsOfDimerSystem/NematicPhase/ParameterSpace_T300K/rand0H4.2p0.42/\n",
      "Antonio/SimulationsOfDimerSystem/NematicPhase/ParameterSpace_T300K/rand1H4.2p0.42/\n",
      "Antonio/SimulationsOfDimerSystem/NematicPhase/ParameterSpace_T300K/rand0H4.2p0.42/\n",
      "Antonio/SimulationsOfDimerSystem/NematicPhase/ParameterSpace_T300K/rand1H4.2p0.42/\n",
      "Antonio/SimulationsOfDimerSystem/NematicPhase/ParameterSpace_T300K/rand0H4.2p0.42/\n",
      "Antonio/SimulationsOfDimerSystem/NematicPhase/ParameterSpace_T300K/rand1H4.2p0.42/\n",
      "Antonio/SimulationsOfDimerSystem/NematicPhase/ParameterSpace_T300K/rand0H4.2p0.42/\n",
      "Antonio/SimulationsOfDimerSystem/NematicPhase/ParameterSpace_T300K/rand1H4.2p0.42/\n",
      "Antonio/SimulationsOfDimerSystem/NematicPhase/ParameterSpace_T300K/rand0H4.2p0.42/\n",
      "Antonio/SimulationsOfDimerSystem/NematicPhase/ParameterSpace_T300K/rand1H4.2p0.42/\n"
     ]
    }
   ],
   "source": [
    "amr = dview.map_async(lambda x: run_sim(x), range(len(height[to_go])))\n",
    "while not amr.wait(1):\n",
    "    # clear output because we are printing the whole thing each time\n",
    "    # rather than keeping track of what we've consumed\n",
    "    clear_output(wait=True)\n",
    "    for stdout in amr.stdout:\n",
    "        sys.stdout.write(stdout)"
   ]
  },
  {
   "cell_type": "code",
   "execution_count": 22,
   "metadata": {},
   "outputs": [
    {
     "data": {
      "text/plain": [
       "[None, None, None, None, None, None, None, None]"
      ]
     },
     "execution_count": 22,
     "metadata": {},
     "output_type": "execute_result"
    }
   ],
   "source": [
    "amr.error"
   ]
  },
  {
   "cell_type": "markdown",
   "metadata": {},
   "source": [
    "## When the run fails:"
   ]
  },
  {
   "cell_type": "markdown",
   "metadata": {},
   "source": [
    "Make a directory of successful runs"
   ]
  },
  {
   "cell_type": "code",
   "execution_count": 5,
   "metadata": {},
   "outputs": [
    {
     "data": {
      "text/plain": [
       "['1']"
      ]
     },
     "execution_count": 5,
     "metadata": {},
     "output_type": "execute_result"
    }
   ],
   "source": [
    "import re\n",
    "\n",
    "path = \"/Antonio/SimulationsOfDimerSystem/NematicPhase/ParameterSpace_T300K/rand0H4.1p0.37/field_1.p\"\n",
    "float(re.findall(r'(?<=rand)\\d',path)[0])\n",
    "float(re.findall(r'(?<=H)\\d?[\\.]?\\d',path)[0])\n",
    "float(re.findall(r'(?<=p)\\d?[\\.]?\\d\\d',path)[0])\n",
    "float(re.findall(r'(?<=field_)[\\d]',path)[0])\n",
    "re.findall(r'(?<=field_)\\d?\\d',path)"
   ]
  },
  {
   "cell_type": "code",
   "execution_count": 9,
   "metadata": {},
   "outputs": [],
   "source": [
    "database = []\n",
    "\n",
    "def extract_filename(path):\n",
    "    if os.path.splitext(path)[1]=='.p':\n",
    "        database.append([float(re.findall(r'(?<=rand)\\d',path)[0]),\n",
    "                         float(re.findall(r'(?<=H)\\d?[\\.]?\\d',path)[0]),\n",
    "                         float(re.findall(r'(?<=p)\\d?[\\.]?\\d\\d',path)[0]),\n",
    "                         float(re.findall(r'(?<=field_)\\d?\\d',path)[0])])"
   ]
  },
  {
   "cell_type": "code",
   "execution_count": 10,
   "metadata": {},
   "outputs": [
    {
     "name": "stdout",
     "output_type": "stream",
     "text": [
      "/Antonio/SimulationsOfDimerSystem/NematicPhase/ParameterSpace_T300K/rand0H3.8p0.17\n",
      "/Antonio/SimulationsOfDimerSystem/NematicPhase/ParameterSpace_T300K/rand0H3.8p0.22\n",
      "/Antonio/SimulationsOfDimerSystem/NematicPhase/ParameterSpace_T300K/rand0H3.8p0.27\n",
      "/Antonio/SimulationsOfDimerSystem/NematicPhase/ParameterSpace_T300K/rand0H3.8p0.32\n",
      "/Antonio/SimulationsOfDimerSystem/NematicPhase/ParameterSpace_T300K/rand0H3.8p0.37\n",
      "/Antonio/SimulationsOfDimerSystem/NematicPhase/ParameterSpace_T300K/rand0H3.8p0.42\n",
      "/Antonio/SimulationsOfDimerSystem/NematicPhase/ParameterSpace_T300K/rand0H3.9p0.17\n",
      "/Antonio/SimulationsOfDimerSystem/NematicPhase/ParameterSpace_T300K/rand0H3.9p0.22\n",
      "/Antonio/SimulationsOfDimerSystem/NematicPhase/ParameterSpace_T300K/rand0H3.9p0.27\n",
      "/Antonio/SimulationsOfDimerSystem/NematicPhase/ParameterSpace_T300K/rand0H3.9p0.32\n",
      "/Antonio/SimulationsOfDimerSystem/NematicPhase/ParameterSpace_T300K/rand0H3.9p0.42\n",
      "/Antonio/SimulationsOfDimerSystem/NematicPhase/ParameterSpace_T300K/rand0H4.1p0.17\n",
      "/Antonio/SimulationsOfDimerSystem/NematicPhase/ParameterSpace_T300K/rand0H4.1p0.22\n",
      "/Antonio/SimulationsOfDimerSystem/NematicPhase/ParameterSpace_T300K/rand0H4.1p0.27\n",
      "/Antonio/SimulationsOfDimerSystem/NematicPhase/ParameterSpace_T300K/rand0H4.1p0.32\n",
      "/Antonio/SimulationsOfDimerSystem/NematicPhase/ParameterSpace_T300K/rand0H4.1p0.37\n",
      "/Antonio/SimulationsOfDimerSystem/NematicPhase/ParameterSpace_T300K/rand0H4.2p0.17\n",
      "/Antonio/SimulationsOfDimerSystem/NematicPhase/ParameterSpace_T300K/rand0H4.2p0.22\n",
      "/Antonio/SimulationsOfDimerSystem/NematicPhase/ParameterSpace_T300K/rand0H4.2p0.32\n",
      "/Antonio/SimulationsOfDimerSystem/NematicPhase/ParameterSpace_T300K/rand0H4.2p0.37\n",
      "/Antonio/SimulationsOfDimerSystem/NematicPhase/ParameterSpace_T300K/rand0H4.2p0.42\n",
      "/Antonio/SimulationsOfDimerSystem/NematicPhase/ParameterSpace_T300K/rand0H4p0.17\n",
      "/Antonio/SimulationsOfDimerSystem/NematicPhase/ParameterSpace_T300K/rand0H4p0.22\n",
      "/Antonio/SimulationsOfDimerSystem/NematicPhase/ParameterSpace_T300K/rand0H4p0.27\n",
      "/Antonio/SimulationsOfDimerSystem/NematicPhase/ParameterSpace_T300K/rand0H4p0.32\n",
      "/Antonio/SimulationsOfDimerSystem/NematicPhase/ParameterSpace_T300K/rand0H4p0.37\n",
      "/Antonio/SimulationsOfDimerSystem/NematicPhase/ParameterSpace_T300K/rand0H4p0.42\n",
      "/Antonio/SimulationsOfDimerSystem/NematicPhase/ParameterSpace_T300K/rand1H3.8p0.17\n",
      "/Antonio/SimulationsOfDimerSystem/NematicPhase/ParameterSpace_T300K/rand1H3.8p0.22\n",
      "/Antonio/SimulationsOfDimerSystem/NematicPhase/ParameterSpace_T300K/rand1H3.8p0.27\n",
      "/Antonio/SimulationsOfDimerSystem/NematicPhase/ParameterSpace_T300K/rand1H3.8p0.32\n",
      "/Antonio/SimulationsOfDimerSystem/NematicPhase/ParameterSpace_T300K/rand1H3.8p0.37\n",
      "/Antonio/SimulationsOfDimerSystem/NematicPhase/ParameterSpace_T300K/rand1H3.8p0.42\n",
      "/Antonio/SimulationsOfDimerSystem/NematicPhase/ParameterSpace_T300K/rand1H3.9p0.17\n",
      "/Antonio/SimulationsOfDimerSystem/NematicPhase/ParameterSpace_T300K/rand1H3.9p0.22\n",
      "/Antonio/SimulationsOfDimerSystem/NematicPhase/ParameterSpace_T300K/rand1H3.9p0.27\n",
      "/Antonio/SimulationsOfDimerSystem/NematicPhase/ParameterSpace_T300K/rand1H3.9p0.32\n",
      "/Antonio/SimulationsOfDimerSystem/NematicPhase/ParameterSpace_T300K/rand1H3.9p0.42\n",
      "/Antonio/SimulationsOfDimerSystem/NematicPhase/ParameterSpace_T300K/rand1H4.1p0.17\n",
      "/Antonio/SimulationsOfDimerSystem/NematicPhase/ParameterSpace_T300K/rand1H4.1p0.22\n",
      "/Antonio/SimulationsOfDimerSystem/NematicPhase/ParameterSpace_T300K/rand1H4.1p0.27\n",
      "/Antonio/SimulationsOfDimerSystem/NematicPhase/ParameterSpace_T300K/rand1H4.1p0.32\n",
      "/Antonio/SimulationsOfDimerSystem/NematicPhase/ParameterSpace_T300K/rand1H4.1p0.37\n",
      "/Antonio/SimulationsOfDimerSystem/NematicPhase/ParameterSpace_T300K/rand1H4.2p0.17\n",
      "/Antonio/SimulationsOfDimerSystem/NematicPhase/ParameterSpace_T300K/rand1H4.2p0.22\n",
      "/Antonio/SimulationsOfDimerSystem/NematicPhase/ParameterSpace_T300K/rand1H4.2p0.32\n",
      "/Antonio/SimulationsOfDimerSystem/NematicPhase/ParameterSpace_T300K/rand1H4.2p0.37\n",
      "/Antonio/SimulationsOfDimerSystem/NematicPhase/ParameterSpace_T300K/rand1H4.2p0.42\n",
      "/Antonio/SimulationsOfDimerSystem/NematicPhase/ParameterSpace_T300K/rand1H4p0.17\n",
      "/Antonio/SimulationsOfDimerSystem/NematicPhase/ParameterSpace_T300K/rand1H4p0.22\n",
      "/Antonio/SimulationsOfDimerSystem/NematicPhase/ParameterSpace_T300K/rand1H4p0.27\n",
      "/Antonio/SimulationsOfDimerSystem/NematicPhase/ParameterSpace_T300K/rand1H4p0.32\n",
      "/Antonio/SimulationsOfDimerSystem/NematicPhase/ParameterSpace_T300K/rand1H4p0.37\n",
      "/Antonio/SimulationsOfDimerSystem/NematicPhase/ParameterSpace_T300K/rand1H4p0.42\n"
     ]
    }
   ],
   "source": [
    "with pysftp.Connection(host=\"161.116.81.190\", username=\"aortiza\", password=pswd) as magnetic:\n",
    "    magnetic.walktree('/Antonio/SimulationsOfDimerSystem/NematicPhase/ParameterSpace_T300K',extract_filename,print,print)\n",
    "\n",
    "database = np.array(database)"
   ]
  },
  {
   "cell_type": "code",
   "execution_count": 11,
   "metadata": {},
   "outputs": [],
   "source": [
    "def ismember(a, b):\n",
    "    b_ind = {}\n",
    "    for i,el_b in enumerate(b):\n",
    "        if tuple(el_b) not in b_ind:\n",
    "            b_ind[tuple(el_b)] = True\n",
    "\n",
    "    return [b_ind.get(tuple(itm), False) for itm in a]"
   ]
  },
  {
   "cell_type": "code",
   "execution_count": 12,
   "metadata": {},
   "outputs": [
    {
     "ename": "NameError",
     "evalue": "name 'random' is not defined",
     "output_type": "error",
     "traceback": [
      "\u001b[0;31m---------------------------------------------------------------------------\u001b[0m",
      "\u001b[0;31mNameError\u001b[0m                                 Traceback (most recent call last)",
      "\u001b[0;32m<ipython-input-12-3b6f997d965f>\u001b[0m in \u001b[0;36m<module>\u001b[0;34m()\u001b[0m\n\u001b[0;32m----> 1\u001b[0;31m \u001b[0mParameterSet\u001b[0m \u001b[0;34m=\u001b[0m \u001b[0mnp\u001b[0m\u001b[0;34m.\u001b[0m\u001b[0marray\u001b[0m\u001b[0;34m(\u001b[0m\u001b[0;34m[\u001b[0m\u001b[0mrandom\u001b[0m\u001b[0;34m,\u001b[0m\u001b[0mheight\u001b[0m\u001b[0;34m,\u001b[0m\u001b[0mpacking\u001b[0m\u001b[0;34m,\u001b[0m\u001b[0mfield\u001b[0m\u001b[0;34m]\u001b[0m\u001b[0;34m)\u001b[0m\u001b[0;34m.\u001b[0m\u001b[0mtranspose\u001b[0m\u001b[0;34m(\u001b[0m\u001b[0;34m)\u001b[0m\u001b[0;34m\u001b[0m\u001b[0m\n\u001b[0m\u001b[1;32m      2\u001b[0m \u001b[0mis_ready\u001b[0m \u001b[0;34m=\u001b[0m \u001b[0mismember\u001b[0m\u001b[0;34m(\u001b[0m\u001b[0mParameterSet\u001b[0m\u001b[0;34m,\u001b[0m\u001b[0mdatabase\u001b[0m\u001b[0;34m)\u001b[0m\u001b[0;34m\u001b[0m\u001b[0m\n\u001b[1;32m      3\u001b[0m \u001b[0mParameterSet\u001b[0m\u001b[0;34m[\u001b[0m\u001b[0mnp\u001b[0m\u001b[0;34m.\u001b[0m\u001b[0mwhere\u001b[0m\u001b[0;34m(\u001b[0m\u001b[0mis_ready\u001b[0m\u001b[0;34m)\u001b[0m\u001b[0;34m]\u001b[0m\u001b[0;34m\u001b[0m\u001b[0m\n",
      "\u001b[0;31mNameError\u001b[0m: name 'random' is not defined"
     ]
    }
   ],
   "source": [
    "ParameterSet = np.array([random,height,packing,field]).transpose()\n",
    "is_ready = ismember(ParameterSet,database)\n",
    "ParameterSet[np.where(is_ready)]"
   ]
  },
  {
   "cell_type": "code",
   "execution_count": 13,
   "metadata": {},
   "outputs": [
    {
     "ename": "NameError",
     "evalue": "name 'is_ready' is not defined",
     "output_type": "error",
     "traceback": [
      "\u001b[0;31m---------------------------------------------------------------------------\u001b[0m",
      "\u001b[0;31mNameError\u001b[0m                                 Traceback (most recent call last)",
      "\u001b[0;32m<ipython-input-13-699cccf78ace>\u001b[0m in \u001b[0;36m<module>\u001b[0;34m()\u001b[0m\n\u001b[0;32m----> 1\u001b[0;31m \u001b[0mnp\u001b[0m\u001b[0;34m.\u001b[0m\u001b[0mwhere\u001b[0m\u001b[0;34m(\u001b[0m\u001b[0mis_ready\u001b[0m\u001b[0;34m)\u001b[0m\u001b[0;34m\u001b[0m\u001b[0m\n\u001b[0m",
      "\u001b[0;31mNameError\u001b[0m: name 'is_ready' is not defined"
     ]
    }
   ],
   "source": [
    "np.where(is_ready)"
   ]
  },
  {
   "cell_type": "code",
   "execution_count": 228,
   "metadata": {},
   "outputs": [
    {
     "data": {
      "text/plain": [
       "(array([ 52,  53,  54,  55,  56,  57,  58,  59,  60,  61,  62,  63,  64,\n",
       "         65,  66,  67,  68,  69,  70,  71,  72,  73,  74, 122, 123, 124,\n",
       "        125, 126, 127, 128, 129, 130, 131, 132, 133, 134, 135, 136, 137,\n",
       "        138, 139, 140, 141, 142, 143, 144, 145, 146, 147, 148, 149, 192,\n",
       "        193, 194, 195, 196, 197, 198, 199, 200, 201, 202, 203, 204, 205,\n",
       "        206, 207, 208, 209, 210, 211, 212, 213, 214, 215, 216, 217, 218,\n",
       "        219, 220, 221, 222, 223, 224, 260, 261, 262, 263, 264, 265, 266,\n",
       "        267, 268, 269, 270, 271, 272, 273, 274, 275, 276, 277, 278, 279,\n",
       "        280, 281, 282, 283, 284, 285, 286, 287, 288, 289, 290, 291, 292,\n",
       "        293, 294, 295, 296, 297, 298, 299, 332, 333, 334, 335, 336, 337,\n",
       "        338, 339, 340, 341, 342, 343, 344, 345, 346, 347, 348, 349, 350,\n",
       "        351, 352, 353, 354, 355, 356, 357, 358, 359, 360, 361, 362, 363,\n",
       "        364, 365, 366, 367, 368, 369, 370, 371, 372, 373, 374, 406, 407,\n",
       "        408, 409, 410, 411, 412, 413, 414, 415, 416, 417, 418, 419, 420,\n",
       "        421, 422, 423, 424, 425, 426, 427, 428, 429, 430, 431, 432, 433,\n",
       "        434, 435, 436, 437, 438, 439, 440, 441, 442, 443, 444, 445, 446,\n",
       "        447, 448, 449, 477, 478, 479, 480, 481, 482, 483, 484, 485, 486,\n",
       "        487, 488, 489, 490, 491, 492, 493, 494, 495, 496, 497, 498, 499,\n",
       "        500, 501, 502, 503, 504, 505, 506, 507, 508, 509, 510, 511, 512,\n",
       "        513, 514, 515, 516, 517, 518, 519, 520, 521, 522, 523, 524, 549,\n",
       "        550, 551, 552, 553, 554, 555, 556, 557, 558, 559, 560, 561, 562,\n",
       "        563, 564, 565, 566, 567, 568, 569, 570, 571, 572, 573, 574, 575,\n",
       "        576, 577, 578, 579, 580, 581, 582, 583, 584, 585, 586, 587, 588,\n",
       "        589, 590, 591, 592, 593, 594, 595, 596, 597, 598, 599]),)"
      ]
     },
     "execution_count": 228,
     "metadata": {},
     "output_type": "execute_result"
    }
   ],
   "source": [
    "np.where([not i for i in is_ready])"
   ]
  },
  {
   "cell_type": "code",
   "execution_count": 8,
   "metadata": {},
   "outputs": [
    {
     "name": "stdout",
     "output_type": "stream",
     "text": [
      "········\n"
     ]
    }
   ],
   "source": [
    "pswd = getpass.getpass()"
   ]
  },
  {
   "cell_type": "code",
   "execution_count": 15,
   "metadata": {},
   "outputs": [],
   "source": [
    "sim = pickle.load(open(\"/home/aortiza/NematicPhase/random_1/exp_0/field_1.p\",\"rb\"))\n",
    "trj = lmp.trj_lazyread(sim.base_name+\".lammpstrj\")[::100]"
   ]
  },
  {
   "cell_type": "code",
   "execution_count": 16,
   "metadata": {},
   "outputs": [
    {
     "data": {
      "text/plain": [
       "Int64Index([0, 20000, 40000, 60000, 80000, 100000, 120000], dtype='int64', name='frame')"
      ]
     },
     "execution_count": 16,
     "metadata": {},
     "output_type": "execute_result"
    }
   ],
   "source": [
    "trj.index.get_level_values(\"frame\").unique()"
   ]
  },
  {
   "cell_type": "code",
   "execution_count": 11,
   "metadata": {},
   "outputs": [
    {
     "name": "stdout",
     "output_type": "stream",
     "text": [
      "Antonio/SimulationsOfDimerSystem/NematicPhase/ParameterSpace_T300K/rrand1H3.8p0.17/\n"
     ]
    }
   ],
   "source": [
    "run_sim(1)"
   ]
  },
  {
   "cell_type": "code",
   "execution_count": null,
   "metadata": {},
   "outputs": [],
   "source": []
  }
 ],
 "metadata": {
  "kernelspec": {
   "display_name": "Python 3",
   "language": "python",
   "name": "python3"
  },
  "language_info": {
   "codemirror_mode": {
    "name": "ipython",
    "version": 3
   },
   "file_extension": ".py",
   "mimetype": "text/x-python",
   "name": "python",
   "nbconvert_exporter": "python",
   "pygments_lexer": "ipython3",
   "version": "3.6.4"
  }
 },
 "nbformat": 4,
 "nbformat_minor": 2
}
