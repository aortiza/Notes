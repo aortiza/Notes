{
 "cells": [
  {
   "cell_type": "markdown",
   "metadata": {
    "nbpresent": {
     "id": "7ec1d98f-f41a-4552-bf6b-8da7a3c2efde"
    }
   },
   "source": [
    "# Nematic Order Statistics\n",
    "\n",
    "## Run many simulations in parallel"
   ]
  },
  {
   "cell_type": "code",
   "execution_count": 8,
   "metadata": {
    "collapsed": true,
    "nbpresent": {
     "id": "196f5f0c-f147-45b6-9b1a-80563212888b"
    }
   },
   "outputs": [],
   "source": [
    "import lammps2d as lmp\n",
    "import numpy as np\n",
    "import matplotlib.pyplot as plt\n",
    "import matplotlib.animation as anm\n",
    "import matplotlib.collections as clt\n",
    "import pandas as pd\n",
    "import string as st\n",
    "import scipy.spatial as spp\n",
    "import scipy.optimize as spo\n",
    "import sympy as smp\n",
    "import copy as cp\n",
    "import pickle\n",
    "import os\n",
    "import sys\n",
    "import datetime\n",
    "import getpass\n",
    "import pysftp\n",
    "from IPython.display import HTML\n",
    "\n",
    "smp.init_printing()\n",
    "%matplotlib inline\n",
    "%reload_ext autoreload\n",
    "%autoreload 2"
   ]
  },
  {
   "cell_type": "markdown",
   "metadata": {},
   "source": [
    "The previous notebook results in a very noisy order parameter, where no clear trend of $S$ vs $B$ can be extracted. It's true that the final configuration depends on the intitial conditions which are all the same for our system, but there is also a stochastic contribution. This means that several realizations of the same test will result in varying order paramters, and we then need some statistics. \n",
    "\n",
    "In this notebook I make several experiments of the same parameters as before, which are the parameters that Dobnikar predicts as dimer forming. Since the experimetns take a while, I run them in parallel in six of the eight threads of a locally configured cluster. \n",
    "\n",
    "Configuring a local cluster is very easy with ipycluster. ipycluster can be installed using conda, and then we can run in DOS:\n",
    "\n",
    "    !ipcluster start -n 6\n",
    "\n",
    "which starts six parallel processes. "
   ]
  },
  {
   "cell_type": "markdown",
   "metadata": {},
   "source": [
    "The previous run of this notebook took conspicuosly little time. I have now realized that the reason this happened is that the packing was too low. Low packing simulations are faster because there are less particles within the cutoff which makes for less calculations. I must run this again. \n",
    "\n",
    "If the simulations take about 25 minutes, and I run 10 experiments with 20 fields, in six parallel threads, the total time will be around 13 hours."
   ]
  },
  {
   "cell_type": "code",
   "execution_count": 9,
   "metadata": {},
   "outputs": [
    {
     "data": {
      "image/png": "[encoded data removed]",
      "text/latex": [
       "$$13.88888888888889$$"
      ],
      "text/plain": [
       "13.88888888888889"
      ]
     },
     "execution_count": 9,
     "metadata": {},
     "output_type": "execute_result"
    }
   ],
   "source": [
    "25*10*20/6/60"
   ]
  },
  {
   "cell_type": "markdown",
   "metadata": {},
   "source": [
    "This notebook was run in the lab computer. From the report of the finished simulations, it appears as if the whole process took about three hours. This is strange because it means that each simulation takes about 5 minute. In fact, these simulations take about 5 minutes, which is strange beacuse they appear to have the same conditions as the simulations of nb 19-StaticFieldNematicPhase, and those take about 25 minutes."
   ]
  },
  {

   "cell_type": "markdown",
   "metadata": {},
   "source": [
    "# Setup Cluster"
   ]
  },
  {
   "cell_type": "code",
   "execution_count": 10,
   "metadata": {
    "collapsed": true
   },
   "outputs": [],
   "source": [
    "from IPython.display import clear_output\n",
    "import ipyparallel as ipp\n",
    "c = ipp.Client()\n",
    "dview = c[:]"
   ]
  },
  {
   "cell_type": "code",
   "execution_count": 11,
   "metadata": {
    "scrolled": true
   },
   "outputs": [
    {
     "data": {
      "text/plain": [
       "['Hello, World',\n",
       " 'Hello, World',\n",
       " 'Hello, World',\n",
       " 'Hello, World',\n",
       " 'Hello, World',\n",
       " 'Hello, World',\n",
       " 'Hello, World',\n",
       " 'Hello, World']"
      ]
     },
     "execution_count": 11,
     "metadata": {},
     "output_type": "execute_result"
    }
   ],
   "source": [
    "c[:].apply_sync(lambda : \"Hello, World\")"
   ]
  },
  {
   "cell_type": "markdown",
   "metadata": {},
   "source": [
    "# Setup environment of cluster workers"
   ]
  },
  {
   "cell_type": "code",
   "execution_count": 13,
   "metadata": {},
   "outputs": [
    {
     "name": "stdout",
     "output_type": "stream",
     "text": [
      "········\n"
     ]
    },
    {
     "data": {
      "text/plain": [
       "<AsyncResult: _push>"
      ]
     },
     "execution_count": 13,
     "metadata": {},
     "output_type": "execute_result"
    }
   ],
   "source": [
    "height = [4.046]\n",
    "packing = [0.437]\n",
    "field = np.linspace(1,20,20)\n",
    "experiments = np.arange(0,10)\n",
    "random = np.arange(0,2)\n",
    "\n",
    "H,P,F,E,R = np.meshgrid(height,packing,field,experiments,random)\n",
    "\n",
    "height = H.flatten()\n",
    "packing = P.flatten()\n",
    "field = F.flatten()\n",
    "experiment = E.flatten()\n",
    "random = R.flatten()\n",
    "\n",
    "i = range(np.size(experiment))\n",
    "\n",
    "dview.push(dict(height=height,packing=packing,field=field,experiment=experiment,random=random))\n",
    "dview.push(dict(pswd=getpass.getpass()))"
   ]
  },
  {
   "cell_type": "code",
   "execution_count": 14,
   "metadata": {},
   "outputs": [
    {
     "data": {
      "text/plain": [
       "<AsyncResult: _push>"
      ]
     },
     "execution_count": 14,
     "metadata": {},
     "output_type": "execute_result"
    }
   ],
   "source": [
    "dview.push(dict(run_sim=run_sim))"
   ]
  },
  {
   "cell_type": "code",
   "execution_count": 15,
   "metadata": {
    "collapsed": true
   },
   "outputs": [],
   "source": [
    "%%px\n",
    "import lammps2d as lmp\n",
    "import numpy as np\n",
    "import pickle\n",
    "import datetime\n",
    "import time\n",
    "import pysftp\n",
    "import os"
   ]
  },
  {
   "cell_type": "code",
   "execution_count": 16,
   "metadata": {
    "collapsed": true
   },
   "outputs": [],
   "source": [
    "amr = dview.map_async(lambda x: run_sim(x), i)\n",
    "while not amr.wait(1):\n",
    "    # clear output because we are printing the whole thing each time\n",
    "    # rather than keeping track of what we've consumed\n",
    "    clear_output(wait=True)\n",
    "    for stdout in amr.stdout:\n",
    "        sys.stdout.write(stdout)"
   ]
  },
  {
   "cell_type": "code",
   "execution_count": 41,
   "metadata": {},
   "outputs": [
    {
     "data": {
      "text/plain": [
       "[None, None, None, None]"
      ]
     },
     "execution_count": 41,
     "metadata": {},
     "output_type": "execute_result"
    }
   ],
   "source": [
    "amr.error"
   ]
  },
  {
   "cell_type": "markdown",
   "metadata": {},
   "source": [
    "## Define a function for running"
   ]
  },
  {
   "cell_type": "code",
   "execution_count": 6,
   "metadata": {
    "collapsed": true
   },
   "outputs": [],
   "source": [
    "def run_sim(i):\n",
    "    angle = 0\n",
    "    radius = 1.4\n",
    "    region, initial_positions = lmp.initial_setup(n_of_particles = 150, packing=packing[i], height = height[i])\n",
    "    \n",
    "    if random[i]:\n",
    "        \n",
    "        sim = lmp.sim(initial_positions,\n",
    "                      magnitude = 0,\n",
    "                      file_name = \"field_%u\"%field[i],\n",
    "                      dir_name = \"C:/Users/aortiza/Desktop/NematicPhase_0/exp_%u/\"%experiment[i],\n",
    "                      radius = radius,\n",
    "                      diffusion = 0.073,\n",
    "                      frequency=0,\n",
    "                      susceptibility = 0.4,\n",
    "                      angle=angle,\n",
    "                      framerate=1e0,\n",
    "                      timestep=1e-4,\n",
    "                      total_time = 30,\n",
    "                      temperature = 300,\n",
    "                      stamp_time = False,\n",
    "                      space = {'region':region,'boundary':['p','p','f'],'walls':[False,False,True]})\n",
    "\n",
    "        sim.generate_scripts()\n",
    "        sim.run()\n",
    "\n",
    "        trj = lmp.trj_lazyread(sim.base_name+\".lammpstrj\")[-1]\n",
    "        initial_positions = trj.filter(('x','y','z')).values\n",
    "\n",
    "    sim = lmp.sim(initial_positions,\n",
    "              magnitude = field[i],\n",
    "              file_name = \"field_%u\"%field[i],\n",
    "              dir_name = \"C:/Users/aortiza/Desktop/NematicPhase_0/exp_%u/\"%experiment[i],\n",
    "              radius = radius,\n",
    "              diffusion = 0.073,\n",
    "              frequency=0,\n",
    "              susceptibility = 0.4,\n",
    "              angle=angle,\n",
    "              framerate=1e2,\n",
    "              timestep=0.5e-4,\n",
    "              total_time = 120,\n",
    "              temperature = 300,\n",
    "              stamp_time = False,\n",
    "              space = {'region':region,'boundary':['p','p','f'],'walls':[False,False,True]})\n",
    "    \n",
    "    sim.generate_scripts()\n",
    "    sim.run()\n",
    "    \n",
    "    trj = lmp.trj_lazyread(sim.base_name+\".lammpstrj\")[::100]\n",
    "    lmp.export_animation(sim,trj,verb=False,start=0,end=sim.run_parameters.total_time,step=1,speedup=100)\n",
    "    \n",
    "    directory = 'Antonio/SimulationsOfDimerSystem/NematicPhase/DobnikarConditions_T300K/random_%u/exp_%u'%(random[i],experiment[i])\n",
    "\n",
    "    cnopts = pysftp.CnOpts()\n",
    "    cnopts.hostkeys = None\n",
    "    with pysftp.Connection(host=\"161.116.81.190\", username=\"aortiza\", password=pswd, cnopts=cnopts) as magnetic:\n",
    "        \n",
    "        if not magnetic.isdir(directory):\n",
    "            magnetic.makedirs(directory)\n",
    "\n",
    "        with magnetic.cd(directory):\n",
    "            magnetic.put(sim.base_name+'.lammpstrj')\n",
    "            magnetic.put(sim.base_name+'.p')\n",
    "            magnetic.put(sim.base_name+'.lmpin')\n",
    "            magnetic.put(sim.base_name+'.gif')\n",
    "    \n",
    "    os.remove(sim.base_name+'.lammpstrj')\n",
    "    os.remove(sim.base_name+'.p')\n",
    "    os.remove(sim.base_name+'.lmpin')\n",
    "    os.remove(sim.base_name+'.gif')"
   ]
  },
  {
   "cell_type": "code",
   "execution_count": null,
   "metadata": {
    "collapsed": true
   },
   "outputs": [],
   "source": []
  }
 ],
 "metadata": {
  "kernelspec": {
   "display_name": "Python [default]",
   "language": "python",
   "name": "python3"
  },
  "language_info": {
   "codemirror_mode": {
    "name": "ipython",
    "version": 3
   },
   "file_extension": ".py",
   "mimetype": "text/x-python",
   "name": "python",
   "nbconvert_exporter": "python",
   "pygments_lexer": "ipython3",
   "version": "3.6.2"
  }
 },
 "nbformat": 4,
 "nbformat_minor": 2
}
