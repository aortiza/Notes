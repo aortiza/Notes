{
 "cells": [
  {
   "cell_type": "markdown",
   "metadata": {},
   "source": [
    "# Dimers in confinement in a precessing magnetic field"
   ]
  },
  {
   "cell_type": "code",
   "execution_count": 316,
   "metadata": {
    "collapsed": true
   },
   "outputs": [],
   "source": [
    "import os\n",
    "import sys\n",
    "import copy as cp\n",
    "import numpy as np\n",
    "import pandas as pd\n",
    "import matplotlib.pyplot as plt\n",
    "import matplotlib.animation as anm\n",
    "\n",
    "from IPython.display import display, HTML\n",
    "%matplotlib inline"
   ]
  },
  {
   "cell_type": "markdown",
   "metadata": {},
   "source": [
    "At this moment the input script for lammps is empty. However this successfully runs lammps and does nothing. "
   ]
  },
  {
   "cell_type": "code",
   "execution_count": 317,
   "metadata": {
    "collapsed": true
   },
   "outputs": [],
   "source": [
    "def LAMMPSRun(filename,target_dir):\n",
    "    \"\"\"This function runs an input script named filename in lammps. The input should be located in target_dir\"\"\"\n",
    "    if sys.platform=='darwin':\n",
    "        LAMMPSExec = \"./lmp_mac\"\n",
    "    else:\n",
    "        LAMMPSExec = \"lmp_mingw64.exe\"\n",
    "\n",
    "    os.system(LAMMPSExec + \" -in \"+filename+\".lmpin\")\n",
    "\n",
    "    lammpstrj = os.path.join(target_dir,filename+\".lammpstrj\")\n",
    "    lammpsinput = os.path.join(target_dir,filename+\".lmpin\")\n",
    "    \n",
    "    return lammpstrj, lammpsinput"
   ]
  },
  {
   "cell_type": "code",
   "execution_count": 318,
   "metadata": {},
   "outputs": [
    {
     "data": {
      "text/plain": [
       "('TestDimerSim.lammpstrj', 'TestDimerSim.lmpin')"
      ]
     },
     "execution_count": 318,
     "metadata": {},
     "output_type": "execute_result"
    }
   ],
   "source": [
    "LAMMPSRun('TestDimerSim',\"\")"
   ]
  },
  {
   "cell_type": "markdown",
   "metadata": {},
   "source": [
    "## Populating the input script\n",
    "\n",
    "### Preamble\n",
    "We start by writing the preamble:\n",
    "\n",
    "    units micro\n",
    "    atom_style hybrid sphere paramagnet\n",
    "    boundary s s f\n",
    "    neighbor 4.0 nsq\n",
    "    pair_style lj/cut/dipole/cut 200"
   ]
  },
  {
   "cell_type": "markdown",
   "metadata": {},
   "source": [
    "### System Definition\n",
    "\n",
    "    region space block -100 100 -100 100 -10 10 # this is in microns\n",
    "    create_box 1 space\n",
    "    \n",
    "    create_atoms 1 single 10 0 0\n",
    "    create_atoms 1 single -10 0 0\n",
    "    \n",
    "    pair_coeff\t* * 1.0 1.0"
   ]
  },
  {
   "cell_type": "markdown",
   "metadata": {},
   "source": [
    "### Particle Properties\n",
    "    \n",
    "    mass * 1\n",
    "    set group all paramagnet 1\n",
    "    \n",
    "    \n",
    "### Fixes ###\n",
    "    variable Bmax atom 0.001080\n",
    "    variable Tmax atom 1.000000e+00\n",
    "    variable field atom v_Bmax-(abs((v_Bmax/v_Tmax*(time-v_Tmax)))-(v_Bmax/v_Tmax*(time-v_Tmax)))/2\n",
    "\n",
    "    fix \t1 Atoms bd 300.000000 0.030000 1\n",
    "    fix \t4 Atoms setdipole 0 0 v_field\n",
    "\n",
    "### Run ###\n",
    "    timestep \t1000\n",
    "    dump \t3 all custom 100 TestDimerSim.lammpstrj id type x y z mu\n",
    "    thermo_style \tcustom step atoms\n",
    "    thermo \t100\n",
    "    run \t60000"
   ]
  },
  {
   "cell_type": "code",
   "execution_count": 322,
   "metadata": {},
   "outputs": [
    {
     "data": {
      "text/plain": [
       "('TestDimerSim.lammpstrj', 'TestDimerSim.lmpin')"
      ]
     },
     "execution_count": 322,
     "metadata": {},
     "output_type": "execute_result"
    }
   ],
   "source": [
    "LAMMPSRun('TestDimerSim',\"\")"
   ]
  },
  {
   "cell_type": "code",
   "execution_count": 323,
   "metadata": {},
   "outputs": [
    {
     "data": {
      "text/html": [
       "<div>\n",
       "<style scoped>\n",
       "    .dataframe tbody tr th:only-of-type {\n",
       "        vertical-align: middle;\n",
       "    }\n",
       "\n",
       "    .dataframe tbody tr th {\n",
       "        vertical-align: top;\n",
       "    }\n",
       "\n",
       "    .dataframe thead th {\n",
       "        text-align: right;\n",
       "    }\n",
       "</style>\n",
       "<table border=\"1\" class=\"dataframe\">\n",
       "  <thead>\n",
       "    <tr style=\"text-align: right;\">\n",
       "      <th></th>\n",
       "      <th></th>\n",
       "      <th>mu</th>\n",
       "      <th>type</th>\n",
       "      <th>x</th>\n",
       "      <th>y</th>\n",
       "      <th>z</th>\n",
       "    </tr>\n",
       "    <tr>\n",
       "      <th>frame</th>\n",
       "      <th>id</th>\n",
       "      <th></th>\n",
       "      <th></th>\n",
       "      <th></th>\n",
       "      <th></th>\n",
       "      <th></th>\n",
       "    </tr>\n",
       "  </thead>\n",
       "  <tbody>\n",
       "    <tr>\n",
       "      <th rowspan=\"2\" valign=\"top\">0</th>\n",
       "      <th>1</th>\n",
       "      <td>0.000000</td>\n",
       "      <td>1</td>\n",
       "      <td>10.0000</td>\n",
       "      <td>0.000000</td>\n",
       "      <td>0.000000</td>\n",
       "    </tr>\n",
       "    <tr>\n",
       "      <th>2</th>\n",
       "      <td>0.000000</td>\n",
       "      <td>1</td>\n",
       "      <td>-10.0000</td>\n",
       "      <td>0.000000</td>\n",
       "      <td>0.000000</td>\n",
       "    </tr>\n",
       "    <tr>\n",
       "      <th rowspan=\"2\" valign=\"top\">100</th>\n",
       "      <th>1</th>\n",
       "      <td>0.000565</td>\n",
       "      <td>1</td>\n",
       "      <td>10.6036</td>\n",
       "      <td>0.258609</td>\n",
       "      <td>0.350378</td>\n",
       "    </tr>\n",
       "    <tr>\n",
       "      <th>2</th>\n",
       "      <td>0.000565</td>\n",
       "      <td>1</td>\n",
       "      <td>-10.3378</td>\n",
       "      <td>0.108014</td>\n",
       "      <td>-0.182523</td>\n",
       "    </tr>\n",
       "    <tr>\n",
       "      <th>200</th>\n",
       "      <th>1</th>\n",
       "      <td>0.000565</td>\n",
       "      <td>1</td>\n",
       "      <td>10.5679</td>\n",
       "      <td>0.244987</td>\n",
       "      <td>0.233789</td>\n",
       "    </tr>\n",
       "  </tbody>\n",
       "</table>\n",
       "</div>"
      ],
      "text/plain": [
       "                mu type        x         y         z\n",
       "frame id                                            \n",
       "0     1   0.000000    1  10.0000  0.000000  0.000000\n",
       "      2   0.000000    1 -10.0000  0.000000  0.000000\n",
       "100   1   0.000565    1  10.6036  0.258609  0.350378\n",
       "      2   0.000565    1 -10.3378  0.108014 -0.182523\n",
       "200   1   0.000565    1  10.5679  0.244987  0.233789"
      ]
     },
     "execution_count": 323,
     "metadata": {},
     "output_type": "execute_result"
    }
   ],
   "source": [
    "lammps_traj_lz = LazyOpenLAMMPSTrj('TestDimerSim.lammpstrj')\n",
    "Trj = lammps_traj_lz.readtrj()\n",
    "Trj.head()"
   ]
  },
  {
   "cell_type": "code",
   "execution_count": 324,
   "metadata": {},
   "outputs": [
    {
     "data": {
      "image/png": "[encoded data removed]",
      "text/plain": [
       "<matplotlib.figure.Figure at 0x1e11278cf28>"
      ]
     },
     "metadata": {},
     "output_type": "display_data"
    }
   ],
   "source": [
    "idx = pd.IndexSlice\n",
    "for i in Trj.index.get_level_values('id').unique():\n",
    "    plt.plot(Trj.loc[idx[:,i],'x'],Trj.loc[idx[:,i],'y'])\n",
    "plt.axis('equal');"
   ]
  },
  {
   "cell_type": "markdown",
   "metadata": {},
   "source": [
    "Error: Lost atoms: original 2 current 1"
   ]
  },
  {
   "cell_type": "markdown",
   "metadata": {},
   "source": [
    "From Lammps [Error Section](http://lammps.sandia.gov/doc/Section_errors.html)\n",
    "> Lost atoms: original %ld current %ld: \n",
    "Lost atoms are checked for each time thermo output is done. See the thermo_modify lost command for options. Lost atoms usually indicate bad dynamics, e.g. atoms have been blown far out of the simulation box, or moved further than one processor’s sub-domain away before reneighboring."
   ]
  },
  {
   "cell_type": "markdown",
   "metadata": {},
   "source": [
    "### Fixed lost atoms"
   ]
  },
  {
   "cell_type": "markdown",
   "metadata": {},
   "source": [
    "If I change the region to \n",
    "\n",
    "    region space block -100 100 -100 100 -100 100 # this is in microns\n",
    "    create_box 1 space\n",
    "    \n",
    "Then I get rid of the lost atoms error. Of course this is the case, because the region was fixed in the z direction."
   ]
  },
  {
   "cell_type": "markdown",
   "metadata": {},
   "source": [
    "If we plotted the prevous result:"
   ]
  },
  {
   "cell_type": "code",
   "execution_count": 343,
   "metadata": {},
   "outputs": [
    {
     "data": {
      "image/png": "[encoded data removed]",
      "text/plain": [
       "<matplotlib.figure.Figure at 0x1e112535828>"
      ]
     },
     "metadata": {},
     "output_type": "display_data"
    }
   ],
   "source": [
    "for i in Trj.index.get_level_values('id').unique():\n",
    "    plt.plot(Trj.loc[idx[:,i],'x'],Trj.loc[idx[:,i],'z'])\n",
    "    \n",
    "plt.axis('square');\n",
    "plt.ylim([-10,10]);"
   ]
  },
  {
   "cell_type": "markdown",
   "metadata": {},
   "source": [
    "Which shows how a particle is lost because it leaves the region. "
   ]
  },
  {
   "cell_type": "markdown",
   "metadata": {},
   "source": [
    "# Support Functions"
   ]
  },
  {
   "cell_type": "code",
   "execution_count": 274,
   "metadata": {
    "collapsed": true
   },
   "outputs": [],
   "source": [
    "def AnimateTrayectory(T):\n",
    "    NumberOfFrames = T.index.max()\n",
    "\n",
    "    fig, ax = plt.subplots(1,1,figsize=(8,6))\n",
    "    Points = ax.plot(0,0,'o')\n",
    "    Center = ax.plot(0,0,'o',color='red')\n",
    "    plt.xlim([-300,100])\n",
    "    plt.ylim([-150,200])\n",
    "    plt.close()\n",
    "\n",
    "    def init():\n",
    "        Points[0].set_data([],[])\n",
    "        Center[0].set_data([], [])\n",
    "        return (Points,Center)\n",
    "\n",
    "    def animate(i):\n",
    "        fr_ind=(T.index==i)\n",
    "        Points[0].set_data(T[fr_ind].x0,T[fr_ind].y0)\n",
    "        Center[0].set_data(0,0)\n",
    "        return (Points,Center)\n",
    "\n",
    "    anim = animation.FuncAnimation(fig, animate, init_func=init,\n",
    "                                       frames=T.index.unique(), interval=200, blit=False)\n",
    "    return anim"
   ]
  },
  {
   "cell_type": "markdown",
   "metadata": {},
   "source": [
    "## LAMMPS Read Function\n",
    "\n",
    "This was taken from the IceNumerics function"
   ]
  },
  {
   "cell_type": "code",
   "execution_count": 273,
   "metadata": {
    "collapsed": true
   },
   "outputs": [],
   "source": [
    "class LazyOpenLAMMPSTrj():\n",
    "    def __init__(self,Filename):\n",
    "        self.T = dict([])\n",
    "        self.Name = Filename\n",
    "        item = dict([])\n",
    "        with open(Filename) as d:\n",
    "            line = \"d\"\n",
    "            while line:\n",
    "                line = d.readline()\n",
    "                \n",
    "                if 'ITEM: TIMESTEP' in line:\n",
    "                    line = d.readline()\n",
    "                    t = int(line)\n",
    "                    \n",
    "                if 'ITEM: NUMBER OF ATOMS' in line:\n",
    "                    line = d.readline()\n",
    "                    item[\"atoms\"] = int(line)\n",
    "                    \n",
    "                if 'ITEM: ATOMS' in line:\n",
    "                    item[\"location\"] = d.tell()\n",
    "                    self.T[t] = cp.deepcopy(item)\n",
    "                \n",
    "    def readframe(self,time):\n",
    "        Atoms = np.zeros(\n",
    "            int(self.T[time][\"atoms\"]),\n",
    "            dtype={\n",
    "                'names':['id','type','x','y','z','mu'],\n",
    "                'formats':['i8','i8','float32','float32','float32','float32']})\n",
    "        j=0\n",
    "        with open(self.Name) as d:\n",
    "            d.seek(self.T[time][\"location\"])\n",
    "            for i in range(0,int(self.T[time][\"atoms\"])):\n",
    "                line = d.readline()\n",
    "                linearray = np.array([float(i) for i in line.split(' ') if i!='\\n'])\n",
    "                Atoms['id'][j] = int(linearray[0])\n",
    "                Atoms['type'][j] = int(linearray[1])\n",
    "                Atoms['x'][j] = linearray[2]\n",
    "                Atoms['y'][j] = linearray[3]\n",
    "                Atoms['z'][j] = linearray[4]\n",
    "                Atoms['mu'][j] = linearray[5]\n",
    "                j=j+1;\n",
    "        return Atoms\n",
    "    def readtrj(self):\n",
    "        \n",
    "        columns=['frame']+list(self.readframe(100).dtype.names)\n",
    "        frames = np.sort(np.array(list(self.T.keys())))\n",
    "\n",
    "        accum = pd.DataFrame(index=[],columns=columns)\n",
    "\n",
    "        for i in frames:\n",
    "            frame_data = self.readframe(i)\n",
    "            entry = pd.DataFrame(data=frame_data)\n",
    "            entry['frame']=i\n",
    "            accum = accum.append(entry)\n",
    "#            for part in frame_data: \n",
    "#                data = [np.array([i]+list(part))]\n",
    "#                entry = pd.DataFrame(data=data,columns=columns)\n",
    "#                accum = accum.append(entry)\n",
    "        \n",
    "        accum = accum.set_index(['frame','id'])\n",
    "        return accum"
   ]
  },
  {
   "cell_type": "code",
   "execution_count": null,
   "metadata": {
    "collapsed": true
   },
   "outputs": [],
   "source": []
  }
 ],
 "metadata": {
  "kernelspec": {
   "display_name": "Python [conda env:video]",
   "language": "python",
   "name": "conda-env-video-py"
  },
  "language_info": {
   "codemirror_mode": {
    "name": "ipython",
    "version": 3
   },
   "file_extension": ".py",
   "mimetype": "text/x-python",
   "name": "python",
   "nbconvert_exporter": "python",
   "pygments_lexer": "ipython3",
   "version": "3.5.4"
  }
 },
 "nbformat": 4,
 "nbformat_minor": 2
}
