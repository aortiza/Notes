{
 "cells": [
  {
   "cell_type": "markdown",
   "metadata": {},
   "source": [
    "# Critical Frequency and Rupture Frequency\n",
    "## Analytical approach"
   ]
  },
  {
   "cell_type": "code",
   "execution_count": 3,
   "metadata": {
    "collapsed": true
   },
   "outputs": [],
   "source": [
    "import lammps2d as lmp\n",
    "import numpy as np\n",
    "import matplotlib.pyplot as plt\n",
    "import matplotlib.animation as anm\n",
    "import matplotlib.collections as clt\n",
    "import pandas as pd\n",
    "import string as st\n",
    "import scipy.spatial as spp\n",
    "import scipy.optimize as spo\n",
    "import sympy as smp\n",
    "import copy as cp\n",
    "\n",
    "from IPython.display import HTML\n",
    "\n",
    "smp.init_printing()\n",
    "%matplotlib inline\n",
    "%reload_ext autoreload\n",
    "%autoreload 2"
   ]
  },
  {
   "cell_type": "markdown",
   "metadata": {},
   "source": [
    "The maximum angle between two particles is given by $\\alpha$\n",
    "$$\\cos(\\alpha) = \\frac{h-\\sigma}{\\sigma}$$ \n",
    "<img src=\"AlphaDefinition.png\", width = 528px>\n",
    "where $h$ is the height of the confinement, and $\\sigma$ is the particle diameter."
   ]
  },
  {
   "cell_type": "code",
   "execution_count": 4,
   "metadata": {},
   "outputs": [
    {
     "data": {
      "image/png": "[encoded data removed]",
      "text/latex": [
       "$$\\alpha = \\operatorname{acos}{\\left (\\frac{1}{\\sigma} \\left(- \\sigma + h\\right) \\right )}$$"
      ],
      "text/plain": [
       "             ⎛-\\sigma + h⎞\n",
       "\\alpha = acos⎜───────────⎟\n",
       "             ⎝   \\sigma  ⎠"
      ]
     },
     "execution_count": 4,
     "metadata": {},
     "output_type": "execute_result"
    }
   ],
   "source": [
    "alp, h, sgm = smp.symbols(r'\\alpha h \\sigma')\n",
    "\n",
    "expr1 = smp.Eq(smp.cos(alp),(h-sgm)/sgm)\n",
    "smp.solve(expr1,alp)\n",
    "\n",
    "expr_alp = smp.Eq(alp, smp.solve(expr1,alp)[1])\n",
    "expr_alp"
   ]
  },
  {
   "cell_type": "markdown",
   "metadata": {},
   "source": [
    "The interaction potential between two dipoles is given by:"
   ]
  },
  {
   "cell_type": "markdown",
   "metadata": {},
   "source": [
    "$$U = -\\frac{\\mu_0}{4\\pi}\\frac{3(\\vec{m}\\cdot\\vec{r})^2-r^2m^2}{\\left|r\\right|^5}$$"
   ]
  },
  {
   "cell_type": "markdown",
   "metadata": {},
   "source": [
    "Where $r$ is the vector joining the two particles"
   ]
  },
  {
   "cell_type": "code",
   "execution_count": 50,
   "metadata": {
    "collapsed": true
   },
   "outputs": [],
   "source": [
    "import sympy.vector as smpv\n",
    "e = smpv.CoordSys3D('e')\n",
    "rx, ry, rz, Bx, By, Bz = smp.symbols(r'r_x r_y r_z B_x B_y B_z')\n",
    "\n",
    "r = rx*e.i + ry*e.j + rz*e.k\n",
    "B = Bx*e.i + By*e.j + Bz*e.k"
   ]
  },
  {
   "cell_type": "code",
   "execution_count": 48,
   "metadata": {},
   "outputs": [
    {
     "data": {
      "image/png": "[encoded data removed]",
      "text/latex": [
       "$$(\\frac{B_{x} m}{\\sqrt{B_{x}^{2} + B_{y}^{2} + B_{z}^{2}}})\\mathbf{\\hat{i}_{e}} + (\\frac{B_{y} m}{\\sqrt{B_{x}^{2} + B_{y}^{2} + B_{z}^{2}}})\\mathbf{\\hat{j}_{e}} + (\\frac{B_{z} m}{\\sqrt{B_{x}^{2} + B_{y}^{2} + B_{z}^{2}}})\\mathbf{\\hat{k}_{e}}$$"
      ],
      "text/plain": [
       "⎛         Bₓ⋅m         ⎞ e_i + ⎛        B_y⋅m         ⎞ e_j + ⎛        B_z⋅m  \n",
       "⎜──────────────────────⎟       ⎜──────────────────────⎟       ⎜───────────────\n",
       "⎜   ___________________⎟       ⎜   ___________________⎟       ⎜   ____________\n",
       "⎜  ╱   2      2      2 ⎟       ⎜  ╱   2      2      2 ⎟       ⎜  ╱   2      2 \n",
       "⎝╲╱  Bₓ  + B_y  + B_z  ⎠       ⎝╲╱  Bₓ  + B_y  + B_z  ⎠       ⎝╲╱  Bₓ  + B_y  \n",
       "\n",
       "       ⎞ e_k\n",
       "───────⎟    \n",
       "_______⎟    \n",
       "     2 ⎟    \n",
       "+ B_z  ⎠    "
      ]
     },
     "execution_count": 48,
     "metadata": {},
     "output_type": "execute_result"
    }
   ],
   "source": [
    "m = smp.symbols(r'm')\n",
    "m = m*B.normalize()\n",
    "m"
   ]
  },
  {
   "cell_type": "code",
   "execution_count": 115,
   "metadata": {},
   "outputs": [
    {
     "data": {
      "image/png": "[encoded data removed]",
      "text/latex": [
       "$$U = - \\frac{\\mu_0}{4 \\pi \\left(r_{x}^{2} + r_{y}^{2} + r_{z}^{2}\\right)^{\\frac{5}{2}}} \\left(- \\left(r_{x}^{2} + r_{y}^{2} + r_{z}^{2}\\right) \\left(\\frac{B_{x}^{2} m^{2}}{B_{x}^{2} + B_{y}^{2} + B_{z}^{2}} + \\frac{B_{y}^{2} m^{2}}{B_{x}^{2} + B_{y}^{2} + B_{z}^{2}} + \\frac{B_{z}^{2} m^{2}}{B_{x}^{2} + B_{y}^{2} + B_{z}^{2}}\\right) + 3 \\left(\\frac{B_{x} m r_{x}}{\\sqrt{B_{x}^{2} + B_{y}^{2} + B_{z}^{2}}} + \\frac{B_{y} m r_{y}}{\\sqrt{B_{x}^{2} + B_{y}^{2} + B_{z}^{2}}} + \\frac{B_{z} m r_{z}}{\\sqrt{B_{x}^{2} + B_{y}^{2} + B_{z}^{2}}}\\right)^{2}\\right)$$"
      ],
      "text/plain": [
       "          ⎛                      ⎛        2  2                2  2            \n",
       "          ⎜  ⎛  2      2      2⎞ ⎜      Bₓ ⋅m              B_y ⋅m             \n",
       "    -\\mu₀⋅⎜- ⎝rₓ  + r_y  + r_z ⎠⋅⎜───────────────── + ───────────────── + ────\n",
       "          ⎜                      ⎜  2      2      2     2      2      2     2 \n",
       "          ⎜                      ⎝Bₓ  + B_y  + B_z    Bₓ  + B_y  + B_z    Bₓ  \n",
       "          ⎝                                                                   \n",
       "U = ──────────────────────────────────────────────────────────────────────────\n",
       "                                                                              \n",
       "                                                                              \n",
       "                                                                            4⋅\n",
       "\n",
       "    2  2     ⎞                                                                \n",
       " B_z ⋅m      ⎟     ⎛       Bₓ⋅m⋅rₓ                 B_y⋅m⋅r_y                B_\n",
       "─────────────⎟ + 3⋅⎜────────────────────── + ────────────────────── + ────────\n",
       "     2      2⎟     ⎜   ___________________      ___________________      _____\n",
       "+ B_y  + B_z ⎠     ⎜  ╱   2      2      2      ╱   2      2      2      ╱   2 \n",
       "                   ⎝╲╱  Bₓ  + B_y  + B_z     ╲╱  Bₓ  + B_y  + B_z     ╲╱  Bₓ  \n",
       "──────────────────────────────────────────────────────────────────────────────\n",
       "                     5/2                                                      \n",
       "  ⎛  2      2      2⎞                                                         \n",
       "π⋅⎝rₓ  + r_y  + r_z ⎠                                                         \n",
       "\n",
       "               2⎞ \n",
       "z⋅m⋅r_z       ⎞ ⎟ \n",
       "──────────────⎟ ⎟ \n",
       "______________⎟ ⎟ \n",
       "     2      2 ⎟ ⎟ \n",
       "+ B_y  + B_z  ⎠ ⎠ \n",
       "──────────────────\n",
       "                  \n",
       "                  \n",
       "                  "
      ]
     },
     "execution_count": 115,
     "metadata": {},
     "output_type": "execute_result"
    }
   ],
   "source": [
    "U, mu0 = smp.symbols(r'U \\mu_0')\n",
    "dot = smp.symbols(r'\\cdot')\n",
    "expr_U = smp.Eq(U,-mu0/(4*smp.pi)*(3*m.dot(r)**2-(r.dot(r))*(m.dot(m)))/(r.magnitude()**(5)))\n",
    "\n",
    "expr_U"
   ]
  },
  {
   "cell_type": "code",
   "execution_count": 116,
   "metadata": {},
   "outputs": [
    {
     "data": {
      "image/png": "[encoded data removed]",
      "text/latex": [
       "$$(B_{x})\\mathbf{\\hat{i}_{e}} + (B_{y})\\mathbf{\\hat{j}_{e}} + (B_{z})\\mathbf{\\hat{k}_{e}} = (B \\sin{\\left (\\theta \\right )} \\cos{\\left (\\omega_B t \\right )})\\mathbf{\\hat{i}_{e}} + (B \\sin{\\left (\\theta \\right )} \\sin{\\left (\\omega_B t \\right )})\\mathbf{\\hat{j}_{e}} + (B \\cos{\\left (\\theta \\right )})\\mathbf{\\hat{k}_{e}}$$"
      ],
      "text/plain": [
       "(Bₓ) e_i + (B_y) e_j + (B_z) e_k = (B⋅sin(\\theta)⋅cos(\\omega_B⋅t)) e_i + (B⋅si\n",
       "n(\\theta)⋅sin(\\omega_B⋅t)) e_j + (B⋅cos(\\theta)) e_k"
      ]
     },
     "execution_count": 116,
     "metadata": {},
     "output_type": "execute_result"
    }
   ],
   "source": [
    "al, th, dl, Babs, d, om_p, om_b, t = smp.symbols(r'\\alpha \\theta \\delta B d \\omega_p \\omega_B t')\n",
    "\n",
    "smp.Eq(B,B.subs(rx,d*smp.sin(al)*smp.cos(om_p*t))\\\n",
    "        .subs(ry,d*smp.sin(al)*smp.sin(om_p*t))\\\n",
    "        .subs(rz,d*smp.cos(al))\\\n",
    "        .subs(Bx,Babs*smp.sin(th)*smp.cos(om_b*t))\\\n",
    "        .subs(By,Babs*smp.sin(th)*smp.sin(om_b*t))\\\n",
    "        .subs(Bz,Babs*smp.cos(th)).simplify())"
   ]
  },
  {
   "cell_type": "code",
   "execution_count": 117,
   "metadata": {},
   "outputs": [
    {
     "data": {
      "image/png": "[encoded data removed]",
      "text/latex": [
       "$$(r_{x})\\mathbf{\\hat{i}_{e}} + (r_{y})\\mathbf{\\hat{j}_{e}} + (r_{z})\\mathbf{\\hat{k}_{e}} = (d \\sin{\\left (\\alpha \\right )} \\cos{\\left (\\omega_p t \\right )})\\mathbf{\\hat{i}_{e}} + (d \\sin{\\left (\\alpha \\right )} \\sin{\\left (\\omega_p t \\right )})\\mathbf{\\hat{j}_{e}} + (d \\cos{\\left (\\alpha \\right )})\\mathbf{\\hat{k}_{e}}$$"
      ],
      "text/plain": [
       "(rₓ) e_i + (r_y) e_j + (r_z) e_k = (d⋅sin(\\alpha)⋅cos(\\omegaₚ⋅t)) e_i + (d⋅sin\n",
       "(\\alpha)⋅sin(\\omegaₚ⋅t)) e_j + (d⋅cos(\\alpha)) e_k"
      ]
     },
     "execution_count": 117,
     "metadata": {},
     "output_type": "execute_result"
    }
   ],
   "source": [
    "smp.Eq(r,r.subs(rx,d*smp.sin(al)*smp.cos(om_p*t))\\\n",
    "        .subs(ry,d*smp.sin(al)*smp.sin(om_p*t))\\\n",
    "        .subs(rz,d*smp.cos(al))\\\n",
    "        .subs(Bx,Babs*smp.sin(th)*smp.cos(om_b*t))\\\n",
    "        .subs(By,Babs*smp.sin(th)*smp.sin(om_b*t))\\\n",
    "        .subs(Bz,Babs*smp.cos(th)).simplify())"
   ]
  },
  {
   "cell_type": "code",
   "execution_count": 118,
   "metadata": {},
   "outputs": [
    {
     "data": {
      "image/png": "[encoded data removed]",
      "text/latex": [
       "$$U = \\frac{\\mu_0 m^{2} \\left(\\left(B_{x}^{2} + B_{y}^{2} + B_{z}^{2}\\right) \\left(r_{x}^{2} + r_{y}^{2} + r_{z}^{2}\\right) - 3 \\left(B_{x} r_{x} + B_{y} r_{y} + B_{z} r_{z}\\right)^{2}\\right)}{4 \\pi \\left(B_{x}^{2} + B_{y}^{2} + B_{z}^{2}\\right) \\left(r_{x}^{2} + r_{y}^{2} + r_{z}^{2}\\right)^{\\frac{5}{2}}}$$"
      ],
      "text/plain": [
       "          2 ⎛⎛  2      2      2⎞ ⎛  2      2      2⎞                          \n",
       "    \\mu₀⋅m ⋅⎝⎝Bₓ  + B_y  + B_z ⎠⋅⎝rₓ  + r_y  + r_z ⎠ - 3⋅(Bₓ⋅rₓ + B_y⋅r_y + B_\n",
       "U = ──────────────────────────────────────────────────────────────────────────\n",
       "                                                                 5/2          \n",
       "                          ⎛  2      2      2⎞ ⎛  2      2      2⎞             \n",
       "                      4⋅π⋅⎝Bₓ  + B_y  + B_z ⎠⋅⎝rₓ  + r_y  + r_z ⎠             \n",
       "\n",
       "      2⎞\n",
       "z⋅r_z) ⎠\n",
       "────────\n",
       "        \n",
       "        \n",
       "        "
      ]
     },
     "execution_count": 118,
     "metadata": {},
     "output_type": "execute_result"
    }
   ],
   "source": [
    "expr_U.simplify()"
   ]
  },
  {
   "cell_type": "code",
   "execution_count": 119,
   "metadata": {},
   "outputs": [
    {
     "data": {
      "image/png": "[encoded data removed]",
      "text/latex": [
       "$$U = \\frac{\\mu_0 m^{2}}{4 \\pi d^{3}} \\left(- 3 \\left(\\sin{\\left (\\alpha \\right )} \\sin{\\left (\\theta \\right )} \\cos{\\left (t \\left(\\omega_B - \\omega_p\\right) \\right )} + \\cos{\\left (\\alpha \\right )} \\cos{\\left (\\theta \\right )}\\right)^{2} + 1\\right)$$"
      ],
      "text/plain": [
       "          2 ⎛                                                                 \n",
       "    \\mu₀⋅m ⋅⎝- 3⋅(sin(\\alpha)⋅sin(\\theta)⋅cos(t⋅(\\omega_B - \\omegaₚ)) + cos(\\a\n",
       "U = ──────────────────────────────────────────────────────────────────────────\n",
       "                                                       3                      \n",
       "                                                  4⋅π⋅d                       \n",
       "\n",
       "                  2    ⎞\n",
       "lpha)⋅cos(\\theta))  + 1⎠\n",
       "────────────────────────\n",
       "                        \n",
       "                        "
      ]
     },
     "execution_count": 119,
     "metadata": {},
     "output_type": "execute_result"
    }
   ],
   "source": [
    "expr_U2 = smp.refine(\n",
    "    expr_U.subs(rx,d*smp.sin(al)*smp.cos(om_p*t))\\\n",
    "        .subs(ry,d*smp.sin(al)*smp.sin(om_p*t))\\\n",
    "        .subs(rz,d*smp.cos(al))\\\n",
    "        .subs(Bx,Babs*smp.sin(th)*smp.cos(om_b*t))\\\n",
    "        .subs(By,Babs*smp.sin(th)*smp.sin(om_b*t))\\\n",
    "        .subs(Bz,Babs*smp.cos(th)).simplify(),smp.Q.positive(d))\n",
    "expr_U2"
   ]
  },
  {
   "cell_type": "markdown",
   "metadata": {},
   "source": [
    "Here, we can define $\\delta = t(\\omega_B-\\omega_p)$ as the phase lag between the field $B$ and the dimer phase. \n",
    "<img src=\"DeltaDefinition.png\", width=\"256px\">"
   ]
  },
  {
   "cell_type": "code",
   "execution_count": 120,
   "metadata": {},
   "outputs": [
    {
     "data": {
      "image/png": "[encoded data removed]",
      "text/latex": [
       "$$U = \\frac{\\mu_0 m^{2}}{4 \\pi d^{3}} \\left(- 3 \\left(\\sin{\\left (\\alpha \\right )} \\sin{\\left (\\theta \\right )} \\cos{\\left (\\delta \\right )} + \\cos{\\left (\\alpha \\right )} \\cos{\\left (\\theta \\right )}\\right)^{2} + 1\\right)$$"
      ],
      "text/plain": [
       "          2 ⎛                                                                 \n",
       "    \\mu₀⋅m ⋅⎝- 3⋅(sin(\\alpha)⋅sin(\\theta)⋅cos(\\delta) + cos(\\alpha)⋅cos(\\theta\n",
       "U = ──────────────────────────────────────────────────────────────────────────\n",
       "                                               3                              \n",
       "                                          4⋅π⋅d                               \n",
       "\n",
       "  2    ⎞\n",
       "))  + 1⎠\n",
       "────────\n",
       "        \n",
       "        "
      ]
     },
     "execution_count": 120,
     "metadata": {},
     "output_type": "execute_result"
    }
   ],
   "source": [
    "expr_U3 = expr_U2.subs(t,dl/(om_B-om_p))\n",
    "expr_U3"
   ]
  },
  {
   "cell_type": "markdown",
   "metadata": {},
   "source": [
    "The Torque $M$ is the torque that one particle applies on the other particle, and it is obtained by the expression:\n",
    "$$M = \\frac{\\partial U}{\\partial \\delta}$$\n"
   ]
  },
  {
   "cell_type": "code",
   "execution_count": 121,
   "metadata": {
    "collapsed": true
   },
   "outputs": [],
   "source": [
    "M = smp.symbols(r'M')"
   ]
  },
  {
   "cell_type": "code",
   "execution_count": 122,
   "metadata": {},
   "outputs": [
    {
     "data": {
      "image/png": "[encoded data removed]",
      "text/latex": [
       "$$M = \\frac{3 \\mu_0 m^{2}}{2 \\pi d^{3}} \\left(\\sin{\\left (\\alpha \\right )} \\sin{\\left (\\theta \\right )} \\cos{\\left (\\delta \\right )} + \\cos{\\left (\\alpha \\right )} \\cos{\\left (\\theta \\right )}\\right) \\sin{\\left (\\alpha \\right )} \\sin{\\left (\\delta \\right )} \\sin{\\left (\\theta \\right )}$$"
      ],
      "text/plain": [
       "            2                                                                 \n",
       "    3⋅\\mu₀⋅m ⋅(sin(\\alpha)⋅sin(\\theta)⋅cos(\\delta) + cos(\\alpha)⋅cos(\\theta))⋅\n",
       "M = ──────────────────────────────────────────────────────────────────────────\n",
       "                                                             3                \n",
       "                                                        2⋅π⋅d                 \n",
       "\n",
       "                                   \n",
       "sin(\\alpha)⋅sin(\\delta)⋅sin(\\theta)\n",
       "───────────────────────────────────\n",
       "                                   \n",
       "                                   "
      ]
     },
     "execution_count": 122,
     "metadata": {},
     "output_type": "execute_result"
    }
   ],
   "source": [
    "expr_M = smp.Eq(M,smp.diff(expr_U3.rhs,dl))\n",
    "expr_M"
   ]
  },
  {
   "cell_type": "code",
   "execution_count": 137,
   "metadata": {},
   "outputs": [
    {
     "data": {
      "image/png": "[encoded data removed]",
      "text/latex": [
       "$$\\frac{3 \\mu_0 m^{2}}{2 \\pi d^{3}} \\left(- 2 \\sin{\\left (\\alpha \\right )} \\sin^{2}{\\left (\\delta \\right )} \\sin{\\left (\\theta \\right )} + \\sin{\\left (\\alpha \\right )} \\sin{\\left (\\theta \\right )} + \\cos{\\left (\\alpha \\right )} \\cos{\\left (\\delta \\right )} \\cos{\\left (\\theta \\right )}\\right) \\sin{\\left (\\alpha \\right )} \\sin{\\left (\\theta \\right )} = 0$$"
      ],
      "text/plain": [
       "        2 ⎛                   2                                               \n",
       "3⋅\\mu₀⋅m ⋅⎝- 2⋅sin(\\alpha)⋅sin (\\delta)⋅sin(\\theta) + sin(\\alpha)⋅sin(\\theta) \n",
       "──────────────────────────────────────────────────────────────────────────────\n",
       "                                                                        3     \n",
       "                                                                   2⋅π⋅d      \n",
       "\n",
       "                                     ⎞                            \n",
       "+ cos(\\alpha)⋅cos(\\delta)⋅cos(\\theta)⎠⋅sin(\\alpha)⋅sin(\\theta)    \n",
       "────────────────────────────────────────────────────────────── = 0\n",
       "                                                                  \n",
       "                                                                  "
      ]
     },
     "execution_count": 137,
     "metadata": {},
     "output_type": "execute_result"
    }
   ],
   "source": [
    "smp.Eq(smp.diff(expr_M.rhs,dl).simplify(),0)"
   ]
  },
  {
   "cell_type": "code",
   "execution_count": 135,
   "metadata": {},
   "outputs": [
    {
     "data": {
      "image/png": "[encoded data removed]",
      "text/latex": [
       "$$\\left\\{\\delta\\; |\\; \\delta \\in \\mathbb{R} \\wedge - 2 \\sin{\\left (\\alpha \\right )} \\sin^{2}{\\left (\\delta \\right )} \\sin{\\left (\\theta \\right )} + \\sin{\\left (\\alpha \\right )} \\sin{\\left (\\theta \\right )} + \\cos{\\left (\\alpha \\right )} \\cos{\\left (\\delta \\right )} \\cos{\\left (\\theta \\right )} = 0 \\right\\}$$"
      ],
      "text/plain": [
       "⎧                                         2                                   \n",
       "⎨\\delta | \\delta ∊ ℝ ∧ - 2⋅sin(\\alpha)⋅sin (\\delta)⋅sin(\\theta) + sin(\\alpha)⋅\n",
       "⎩                                                                             \n",
       "\n",
       "                                                     ⎫\n",
       "sin(\\theta) + cos(\\alpha)⋅cos(\\delta)⋅cos(\\theta) = 0⎬\n",
       "                                                     ⎭"
      ]
     },
     "execution_count": 135,
     "metadata": {},
     "output_type": "execute_result"
    }
   ],
   "source": [
    "expr_dl1 = smp.solveset(smp.Eq(smp.diff(expr_M.rhs,dl),0),dl)\n",
    "expr_dl1"
   ]
  },
  {
   "cell_type": "code",
   "execution_count": 134,
   "metadata": {},
   "outputs": [
    {
     "data": {
      "image/png": "[encoded data removed]",
      "text/latex": [
       "$$- 2 \\sin{\\left (\\alpha \\right )} \\sin^{2}{\\left (\\delta \\right )} \\sin{\\left (\\theta \\right )} + \\sin{\\left (\\alpha \\right )} \\sin{\\left (\\theta \\right )} + \\cos{\\left (\\alpha \\right )} \\cos{\\left (\\delta \\right )} \\cos{\\left (\\theta \\right )} = 0$$"
      ],
      "text/plain": [
       "                   2                                                          \n",
       "- 2⋅sin(\\alpha)⋅sin (\\delta)⋅sin(\\theta) + sin(\\alpha)⋅sin(\\theta) + cos(\\alph\n",
       "\n",
       "                              \n",
       "a)⋅cos(\\delta)⋅cos(\\theta) = 0"
      ]
     },
     "execution_count": 134,
     "metadata": {},
     "output_type": "execute_result"
    }
   ],
   "source": [
    "expr_dl1.args[1]"
   ]
  },
  {
   "cell_type": "code",
   "execution_count": null,
   "metadata": {
    "collapsed": true
   },
   "outputs": [],
   "source": []
  }
 ],
 "metadata": {
  "kernelspec": {
   "display_name": "Python [conda env:Anaconda3]",
   "language": "python",
   "name": "conda-env-Anaconda3-py"
  },
  "language_info": {
   "codemirror_mode": {
    "name": "ipython",
    "version": 3
   },
   "file_extension": ".py",
   "mimetype": "text/x-python",
   "name": "python",
   "nbconvert_exporter": "python",
   "pygments_lexer": "ipython3",
   "version": "3.6.2"
  }
 },
 "nbformat": 4,
 "nbformat_minor": 2
}
