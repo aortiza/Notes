{
 "cells": [
  {
   "cell_type": "markdown",
   "metadata": {},
   "source": [
    "# On the angle between the tilt direction and the current"
   ]
  },
  {
   "cell_type": "markdown",
   "metadata": {},
   "source": [
    "In this notebook we want to see what is the behavior of the current angle as the tilt increases. "
   ]
  },
  {
   "cell_type": "code",
   "execution_count": 1,
   "metadata": {},
   "outputs": [],
   "source": [
    "import os\n",
    "\n",
    "import numpy as np\n",
    "import matplotlib.pyplot as plt\n",
    "import pandas as pd\n",
    "import matplotlib as mpl\n",
    "\n",
    "from IPython.display import HTML, clear_output\n",
    "from tqdm import tqdm_notebook\n",
    "\n",
    "import support as sp\n",
    "\n",
    "idx = pd.IndexSlice\n",
    "\n",
    "%reload_ext autoreload\n",
    "%autoreload 2"
   ]
  },
  {
   "cell_type": "code",
   "execution_count": 2,
   "metadata": {},
   "outputs": [],
   "source": [
    "mpl.rc('text', usetex=True)\n",
    "mpl.rcParams['figure.dpi'] = 150"
   ]
  },
  {
   "cell_type": "markdown",
   "metadata": {},
   "source": [
    "This analysis is done from the data of the simulations with a slit pore of height $h=3.9\\mu{}m$"
   ]
  },
  {
   "cell_type": "code",
   "execution_count": 3,
   "metadata": {},
   "outputs": [],
   "source": [
    "directory = \"Z:/Dimers/Simulations/FrequencySweep_3.9/\"\n",
    "\n",
    "diff_vel = pd.read_csv(os.path.join(directory,\"differentiated_velocities_cleaner.dat\"), sep = \"\\t\", index_col = [0,1,2,3])"
   ]
  },
  {
   "cell_type": "code",
   "execution_count": 4,
   "metadata": {},
   "outputs": [
    {
     "data": {
      "text/html": [
       "<div>\n",
       "<style scoped>\n",
       "    .dataframe tbody tr th:only-of-type {\n",
       "        vertical-align: middle;\n",
       "    }\n",
       "\n",
       "    .dataframe tbody tr th {\n",
       "        vertical-align: top;\n",
       "    }\n",
       "\n",
       "    .dataframe thead th {\n",
       "        text-align: right;\n",
       "    }\n",
       "</style>\n",
       "<table border=\"1\" class=\"dataframe\">\n",
       "  <thead>\n",
       "    <tr style=\"text-align: right;\">\n",
       "      <th></th>\n",
       "      <th></th>\n",
       "      <th></th>\n",
       "      <th></th>\n",
       "      <th>x</th>\n",
       "      <th>y</th>\n",
       "    </tr>\n",
       "    <tr>\n",
       "      <th>height</th>\n",
       "      <th>tilt</th>\n",
       "      <th>frequency</th>\n",
       "      <th>plane</th>\n",
       "      <th></th>\n",
       "      <th></th>\n",
       "    </tr>\n",
       "  </thead>\n",
       "  <tbody>\n",
       "    <tr>\n",
       "      <th rowspan=\"5\" valign=\"top\">3.9</th>\n",
       "      <th rowspan=\"5\" valign=\"top\">0.0</th>\n",
       "      <th rowspan=\"2\" valign=\"top\">0.125</th>\n",
       "      <th>down</th>\n",
       "      <td>0.075122</td>\n",
       "      <td>0.129207</td>\n",
       "    </tr>\n",
       "    <tr>\n",
       "      <th>up</th>\n",
       "      <td>-0.027868</td>\n",
       "      <td>-0.132720</td>\n",
       "    </tr>\n",
       "    <tr>\n",
       "      <th rowspan=\"2\" valign=\"top\">0.250</th>\n",
       "      <th>down</th>\n",
       "      <td>-0.185014</td>\n",
       "      <td>-0.194005</td>\n",
       "    </tr>\n",
       "    <tr>\n",
       "      <th>up</th>\n",
       "      <td>0.164563</td>\n",
       "      <td>0.182301</td>\n",
       "    </tr>\n",
       "    <tr>\n",
       "      <th>0.375</th>\n",
       "      <th>down</th>\n",
       "      <td>-0.134805</td>\n",
       "      <td>0.307006</td>\n",
       "    </tr>\n",
       "  </tbody>\n",
       "</table>\n",
       "</div>"
      ],
      "text/plain": [
       "                                    x         y\n",
       "height tilt frequency plane                    \n",
       "3.9    0.0  0.125     down   0.075122  0.129207\n",
       "                      up    -0.027868 -0.132720\n",
       "            0.250     down  -0.185014 -0.194005\n",
       "                      up     0.164563  0.182301\n",
       "            0.375     down  -0.134805  0.307006"
      ]
     },
     "execution_count": 4,
     "metadata": {},
     "output_type": "execute_result"
    }
   ],
   "source": [
    "diff_vel.head()"
   ]
  },
  {
   "cell_type": "markdown",
   "metadata": {},
   "source": [
    "The `diff_vel` data conains the mean velocity of all particles averaged over time, but separating particles which are close to the upper wall (*up* particles) and particles which are close to the lower wall (*down* particles).\n",
    "From this data, we will take a frequency slice at $f=3$Hz"
   ]
  },
  {
   "cell_type": "code",
   "execution_count": 5,
   "metadata": {},
   "outputs": [],
   "source": [
    "f = 3"
   ]
  },
  {
   "cell_type": "markdown",
   "metadata": {},
   "source": [
    "We define the edge velocity as the velocity of the *up* particles minus the velocity of the *down* particles:"
   ]
  },
  {
   "cell_type": "code",
   "execution_count": 6,
   "metadata": {},
   "outputs": [],
   "source": [
    "edge_vel = diff_vel.loc[idx[:,:,:,\"up\"],:].reset_index(level=3,drop=True) - \\\n",
    "    diff_vel.loc[idx[:,:,:,\"down\"],:].reset_index(level=3,drop=True)"
   ]
  },
  {
   "cell_type": "code",
   "execution_count": 7,
   "metadata": {},
   "outputs": [],
   "source": [
    "edge_vel[\"theta\"] = np.arctan2(edge_vel.y, edge_vel.x)"
   ]
  },
  {
   "cell_type": "code",
   "execution_count": 8,
   "metadata": {},
   "outputs": [],
   "source": [
    "tilts = [5, 6, 7, 15]"
   ]
  },
  {
   "cell_type": "code",
   "execution_count": 9,
   "metadata": {},
   "outputs": [
    {
     "data": {
      "text/plain": [
       "Text(0, 0.5, '$\\\\alpha$ [deg]')"
      ]
     },
     "execution_count": 9,
     "metadata": {},
     "output_type": "execute_result"
    },
    {
     "data": {
      "image/png": "[encoded data removed]",
      "text/plain": [
       "<Figure size 450x300 with 1 Axes>"
      ]
     },
     "metadata": {
      "needs_background": "light"
     },
     "output_type": "display_data"
    }
   ],
   "source": [
    "fig = plt.figure(figsize=(3,2))\n",
    "\n",
    "plt.plot(edge_vel.loc[idx[3.9,:,f],\"theta\"].index.get_level_values(\"tilt\"),\n",
    "         np.abs(edge_vel.loc[idx[3.9,:,f],\"theta\"])*180/np.pi)\n",
    "\n",
    "plt.plot(edge_vel.loc[idx[3.9,tilts,f],\"theta\"].index.get_level_values(\"tilt\"),\n",
    "         np.abs(edge_vel.loc[idx[3.9,tilts,f],\"theta\"])*180/np.pi,'o')\n",
    "\n",
    "plt.ylim(85,185)\n",
    "plt.title(\"Angle of the direction of travel\")\n",
    "plt.xlabel(r\"$\\delta$ [deg]\")\n",
    "plt.ylabel(r\"$\\alpha$ [deg]\")\n",
    "#fig.savefig('angle_vs_tilt.pdf', pad_inches = 0, bbox_inches = \"tight\")"
   ]
  },
  {
   "cell_type": "markdown",
   "metadata": {},
   "source": [
    "Weirdly, we see that at the critical point, the relative angle is 180 deg. We expected perpendicular motion. To understand this we will look at some videos. Specifically, we will look at videos at the points marked above, corresponding to the critical field, and two others for comparison. "
   ]
  },
  {
   "cell_type": "markdown",
   "metadata": {},
   "source": [
    "However, this angle says nothing of the current, because it gives a value of $\\alpha$ even when there is no exchange. Let's weight the line with the total current. "
   ]
  },
  {
   "cell_type": "code",
   "execution_count": 10,
   "metadata": {},
   "outputs": [],
   "source": [
    "d = 2.8\n",
    "phi = 0.2625\n",
    "\n",
    "freq = diff_vel.index.get_level_values(\"frequency\").unique().values[0]\n",
    "factor = freq*d*np.sqrt(np.pi/np.sqrt(3)/phi)\n",
    "\n",
    "def calc_current(series):\n",
    "    freq = series.index.get_level_values(\"frequency\").unique().values[0]\n",
    "    factor = freq*d*np.sqrt(np.pi/np.sqrt(3)/phi)\n",
    "    out = series.loc[idx[:,:,:,\"up\"],:].reset_index(level=3,drop=True) - \\\n",
    "        series.loc[idx[:,:,:,\"down\"],:].reset_index(level=3,drop=True)\n",
    "    \n",
    "    return pd.DataFrame(data = [np.sqrt(out.x.values**2+out.y.values**2)/(factor)], columns = [\"I\"])"
   ]
  },
  {
   "cell_type": "code",
   "execution_count": 11,
   "metadata": {},
   "outputs": [],
   "source": [
    "edge_vel[\"current\"] = diff_vel.groupby([\"height\",\"tilt\",\"frequency\"]).apply(calc_current).reset_index(level=3,drop=True)"
   ]
  },
  {
   "cell_type": "code",
   "execution_count": 12,
   "metadata": {},
   "outputs": [
    {
     "data": {
      "text/plain": [
       "<matplotlib.colorbar.Colorbar at 0x1a972fbacc0>"
      ]
     },
     "execution_count": 12,
     "metadata": {},
     "output_type": "execute_result"
    },
    {
     "data": {
      "image/png": "[encoded data removed]",
      "text/plain": [
       "<Figure size 450x300 with 2 Axes>"
      ]
     },
     "metadata": {
      "needs_background": "light"
     },
     "output_type": "display_data"
    }
   ],
   "source": [
    "fig = plt.figure(figsize=(3,2))\n",
    "\n",
    "plt.plot(edge_vel.loc[idx[3.9,:,f],\"theta\"].index.get_level_values(\"tilt\"),\n",
    "         np.abs(edge_vel.loc[idx[3.9,:,f],\"theta\"])*180/np.pi,\n",
    "         \"--\", linewidth = 1, color=\"black\", alpha = 0.75)\n",
    "\n",
    "plt.plot(edge_vel.loc[idx[3.9,tilts,f],\"theta\"].index.get_level_values(\"tilt\"),\n",
    "         np.abs(edge_vel.loc[idx[3.9,tilts,f],\"theta\"])*180/np.pi,'>')\n",
    "\n",
    "plt.scatter(edge_vel.loc[idx[3.9,:,f],\"theta\"].index.get_level_values(\"tilt\"),\n",
    "            np.abs(edge_vel.loc[idx[3.9,:,f],\"theta\"])*180/np.pi,\n",
    "            marker='.', cmap = \"Greens\",\n",
    "            c = edge_vel.loc[idx[3.9,:,f],\"current\"])\n",
    "\n",
    "plt.ylim(85,185)\n",
    "plt.title(\"Angle of the direction of travel\")\n",
    "plt.xlabel(r\"$\\delta$ [deg]\")\n",
    "plt.ylabel(r\"$\\alpha$ [deg]\")\n",
    "plt.colorbar()\n",
    "#fig.savefig('angle_vs_tilt.pdf', pad_inches = 0, bbox_inches = \"tight\")"
   ]
  },
  {
   "cell_type": "markdown",
   "metadata": {},
   "source": [
    "# Videos of currents at different tilts. "
   ]
  },
  {
   "cell_type": "markdown",
   "metadata": {},
   "source": [
    "The location of specific videos is saved in the *index.dat*. "
   ]
  },
  {
   "cell_type": "code",
   "execution_count": 13,
   "metadata": {},
   "outputs": [
    {
     "data": {
      "text/html": [
       "<div>\n",
       "<style scoped>\n",
       "    .dataframe tbody tr th:only-of-type {\n",
       "        vertical-align: middle;\n",
       "    }\n",
       "\n",
       "    .dataframe tbody tr th {\n",
       "        vertical-align: top;\n",
       "    }\n",
       "\n",
       "    .dataframe thead th {\n",
       "        text-align: right;\n",
       "    }\n",
       "</style>\n",
       "<table border=\"1\" class=\"dataframe\">\n",
       "  <thead>\n",
       "    <tr style=\"text-align: right;\">\n",
       "      <th></th>\n",
       "      <th>file</th>\n",
       "      <th>height</th>\n",
       "      <th>tilt</th>\n",
       "    </tr>\n",
       "  </thead>\n",
       "  <tbody>\n",
       "    <tr>\n",
       "      <th>0</th>\n",
       "      <td>Tilt_2.0_deg_h3899_2019_09_25_17_17_30</td>\n",
       "      <td>3.9</td>\n",
       "      <td>2.0</td>\n",
       "    </tr>\n",
       "    <tr>\n",
       "      <th>1</th>\n",
       "      <td>Tilt_16.5_deg_h3899_2019_09_25_17_17_30</td>\n",
       "      <td>3.9</td>\n",
       "      <td>16.5</td>\n",
       "    </tr>\n",
       "    <tr>\n",
       "      <th>2</th>\n",
       "      <td>Tilt_4.5_deg_h3899_2019_09_25_17_17_30</td>\n",
       "      <td>3.9</td>\n",
       "      <td>4.5</td>\n",
       "    </tr>\n",
       "    <tr>\n",
       "      <th>3</th>\n",
       "      <td>Tilt_1.5_deg_h3899_2019_09_25_17_17_30</td>\n",
       "      <td>3.9</td>\n",
       "      <td>1.5</td>\n",
       "    </tr>\n",
       "    <tr>\n",
       "      <th>4</th>\n",
       "      <td>Tilt_14.0_deg_h3899_2019_09_25_17_17_30</td>\n",
       "      <td>3.9</td>\n",
       "      <td>14.0</td>\n",
       "    </tr>\n",
       "  </tbody>\n",
       "</table>\n",
       "</div>"
      ],
      "text/plain": [
       "                                      file  height  tilt\n",
       "0   Tilt_2.0_deg_h3899_2019_09_25_17_17_30     3.9   2.0\n",
       "1  Tilt_16.5_deg_h3899_2019_09_25_17_17_30     3.9  16.5\n",
       "2   Tilt_4.5_deg_h3899_2019_09_25_17_17_30     3.9   4.5\n",
       "3   Tilt_1.5_deg_h3899_2019_09_25_17_17_30     3.9   1.5\n",
       "4  Tilt_14.0_deg_h3899_2019_09_25_17_17_30     3.9  14.0"
      ]
     },
     "execution_count": 13,
     "metadata": {},
     "output_type": "execute_result"
    }
   ],
   "source": [
    "index_name = \"index.dat\"\n",
    "\n",
    "index = pd.read_csv(os.path.join(directory,index_name),sep=\" \", names = [\"file\",\"height\",\"tilt\"])\n",
    "index.head()"
   ]
  },
  {
   "cell_type": "markdown",
   "metadata": {},
   "source": [
    "These are the videos which correspond to the tilts that we marked above in the plot. "
   ]
  },
  {
   "cell_type": "code",
   "execution_count": 14,
   "metadata": {},
   "outputs": [
    {
     "data": {
      "text/html": [
       "<div>\n",
       "<style scoped>\n",
       "    .dataframe tbody tr th:only-of-type {\n",
       "        vertical-align: middle;\n",
       "    }\n",
       "\n",
       "    .dataframe tbody tr th {\n",
       "        vertical-align: top;\n",
       "    }\n",
       "\n",
       "    .dataframe thead th {\n",
       "        text-align: right;\n",
       "    }\n",
       "</style>\n",
       "<table border=\"1\" class=\"dataframe\">\n",
       "  <thead>\n",
       "    <tr style=\"text-align: right;\">\n",
       "      <th></th>\n",
       "      <th>file</th>\n",
       "      <th>height</th>\n",
       "      <th>tilt</th>\n",
       "    </tr>\n",
       "  </thead>\n",
       "  <tbody>\n",
       "    <tr>\n",
       "      <th>16</th>\n",
       "      <td>Tilt_5.0_deg_h3899_2019_09_25_17_17_30</td>\n",
       "      <td>3.9</td>\n",
       "      <td>5.0</td>\n",
       "    </tr>\n",
       "    <tr>\n",
       "      <th>24</th>\n",
       "      <td>Tilt_6.0_deg_h3899_2019_09_25_17_17_30</td>\n",
       "      <td>3.9</td>\n",
       "      <td>6.0</td>\n",
       "    </tr>\n",
       "    <tr>\n",
       "      <th>26</th>\n",
       "      <td>Tilt_7.0_deg_h3899_2019_09_25_17_17_30</td>\n",
       "      <td>3.9</td>\n",
       "      <td>7.0</td>\n",
       "    </tr>\n",
       "    <tr>\n",
       "      <th>32</th>\n",
       "      <td>Tilt_15.0_deg_h3899_2019_09_25_17_17_30</td>\n",
       "      <td>3.9</td>\n",
       "      <td>15.0</td>\n",
       "    </tr>\n",
       "  </tbody>\n",
       "</table>\n",
       "</div>"
      ],
      "text/plain": [
       "                                       file  height  tilt\n",
       "16   Tilt_5.0_deg_h3899_2019_09_25_17_17_30     3.9   5.0\n",
       "24   Tilt_6.0_deg_h3899_2019_09_25_17_17_30     3.9   6.0\n",
       "26   Tilt_7.0_deg_h3899_2019_09_25_17_17_30     3.9   7.0\n",
       "32  Tilt_15.0_deg_h3899_2019_09_25_17_17_30     3.9  15.0"
      ]
     },
     "execution_count": 14,
     "metadata": {},
     "output_type": "execute_result"
    }
   ],
   "source": [
    "index[index.tilt.isin(tilts)]"
   ]
  },
  {
   "cell_type": "code",
   "execution_count": 15,
   "metadata": {},
   "outputs": [
    {
     "data": {
      "application/vnd.jupyter.widget-view+json": {
       "model_id": "63e04ea6248e41abb098266c6d098c93",
       "version_major": 2,
       "version_minor": 0
      },
      "text/plain": [
       "HBox(children=(IntProgress(value=0, max=4), HTML(value='')))"
      ]
     },
     "metadata": {},
     "output_type": "display_data"
    },
    {
     "name": "stdout",
     "output_type": "stream",
     "text": [
      "\n",
      "Wall time: 14min 13s\n"
     ]
    }
   ],
   "source": [
    "%%time \n",
    "\n",
    "video_slow = []\n",
    "video_fast = []\n",
    "\n",
    "for i in tqdm_notebook(range(len(tilts))):\n",
    "    \n",
    "    name = index.loc[index.tilt==tilts[i],\"file\"].values[0]\n",
    "    trj, bounds = sp.load_trj_single_freq(name,directory,f)\n",
    "\n",
    "    video_slow.append(sp.make_video_slowmo(name,trj,bounds))\n",
    "    video_fast.append(sp.make_video_fastmo(name,trj,bounds))"
   ]
  },
  {
   "cell_type": "markdown",
   "metadata": {},
   "source": [
    "## Very close to the critical tilt"
   ]
  },
  {
   "cell_type": "code",
   "execution_count": 16,
   "metadata": {
    "scrolled": true
   },
   "outputs": [
    {
     "data": {
      "text/plain": [
       "5"
      ]
     },
     "execution_count": 16,
     "metadata": {},
     "output_type": "execute_result"
    }
   ],
   "source": [
    "i = 0\n",
    "tilts[i]"
   ]
  },
  {
   "cell_type": "code",
   "execution_count": 17,
   "metadata": {},
   "outputs": [
    {
     "data": {
      "text/html": [
       "<div class=\"row\">\n",
       "  <div class=\"col-sm-6\"><img src=\"Tilt_5.0_deg_h3899_2019_09_25_17_17_30_slow.gif\"></div>\n",
       "  <div class=\"col-sm-6\"><img src=\"Tilt_5.0_deg_h3899_2019_09_25_17_17_30_fast.gif\"></div>\n",
       "</div>"
      ],
      "text/plain": [
       "<IPython.core.display.HTML object>"
      ]
     },
     "execution_count": 17,
     "metadata": {},
     "output_type": "execute_result"
    }
   ],
   "source": [
    "HTML(\"\"\"<div class=\"row\">\n",
    "  <div class=\"col-sm-6\">%s</div>\n",
    "  <div class=\"col-sm-6\">%s</div>\n",
    "</div>\"\"\"%(video_slow[i],video_fast[i]))"
   ]
  },
  {
   "cell_type": "markdown",
   "metadata": {},
   "source": [
    "In this case the current is nearly zero. We can see however some cases of exchanges which occur close to $\\alpha = 180º$"
   ]
  },
  {
   "cell_type": "markdown",
   "metadata": {},
   "source": [
    "## A little further"
   ]
  },
  {
   "cell_type": "code",
   "execution_count": 18,
   "metadata": {
    "scrolled": true
   },
   "outputs": [
    {
     "data": {
      "text/plain": [
       "6"
      ]
     },
     "execution_count": 18,
     "metadata": {},
     "output_type": "execute_result"
    }
   ],
   "source": [
    "i = 1\n",
    "tilts[i]"
   ]
  },
  {
   "cell_type": "code",
   "execution_count": 19,
   "metadata": {},
   "outputs": [
    {
     "data": {
      "text/html": [
       "<div class=\"row\">\n",
       "  <div class=\"col-sm-6\"><img src=\"Tilt_6.0_deg_h3899_2019_09_25_17_17_30_slow.gif\"></div>\n",
       "  <div class=\"col-sm-6\"><img src=\"Tilt_6.0_deg_h3899_2019_09_25_17_17_30_fast.gif\"></div>\n",
       "</div>"
      ],
      "text/plain": [
       "<IPython.core.display.HTML object>"
      ]
     },
     "execution_count": 19,
     "metadata": {},
     "output_type": "execute_result"
    }
   ],
   "source": [
    "HTML(\"\"\"<div class=\"row\">\n",
    "  <div class=\"col-sm-6\">%s</div>\n",
    "  <div class=\"col-sm-6\">%s</div>\n",
    "</div>\"\"\"%(video_slow[i],video_fast[i]))"
   ]
  },
  {
   "cell_type": "markdown",
   "metadata": {},
   "source": [
    "Some clear indication of a current exists in this videos, and it occurs mostly horizontally. "
   ]
  },
  {
   "cell_type": "markdown",
   "metadata": {},
   "source": [
    "## A little further"
   ]
  },
  {
   "cell_type": "code",
   "execution_count": 20,
   "metadata": {
    "scrolled": true
   },
   "outputs": [
    {
     "data": {
      "text/plain": [
       "7"
      ]
     },
     "execution_count": 20,
     "metadata": {},
     "output_type": "execute_result"
    }
   ],
   "source": [
    "i = 2\n",
    "tilts[i]"
   ]
  },
  {
   "cell_type": "code",
   "execution_count": 21,
   "metadata": {},
   "outputs": [
    {
     "data": {
      "text/html": [
       "<div class=\"row\">\n",
       "  <div class=\"col-sm-6\"><img src=\"Tilt_7.0_deg_h3899_2019_09_25_17_17_30_slow.gif\"></div>\n",
       "  <div class=\"col-sm-6\"><img src=\"Tilt_7.0_deg_h3899_2019_09_25_17_17_30_fast.gif\"></div>\n",
       "</div>"
      ],
      "text/plain": [
       "<IPython.core.display.HTML object>"
      ]
     },
     "execution_count": 21,
     "metadata": {},
     "output_type": "execute_result"
    }
   ],
   "source": [
    "HTML(\"\"\"<div class=\"row\">\n",
    "  <div class=\"col-sm-6\">%s</div>\n",
    "  <div class=\"col-sm-6\">%s</div>\n",
    "</div>\"\"\"%(video_slow[i],video_fast[i]))"
   ]
  },
  {
   "cell_type": "markdown",
   "metadata": {},
   "source": [
    "Here we already see a fully formed current state. The direction of the current is very close to parallel to the tilt angle. "
   ]
  },
  {
   "cell_type": "markdown",
   "metadata": {},
   "source": [
    "## A lot further"
   ]
  },
  {
   "cell_type": "code",
   "execution_count": 22,
   "metadata": {
    "scrolled": true
   },
   "outputs": [
    {
     "data": {
      "text/plain": [
       "15"
      ]
     },
     "execution_count": 22,
     "metadata": {},
     "output_type": "execute_result"
    }
   ],
   "source": [
    "i = 3\n",
    "tilts[i]"
   ]
  },
  {
   "cell_type": "code",
   "execution_count": 23,
   "metadata": {},
   "outputs": [
    {
     "data": {
      "text/html": [
       "<div class=\"row\">\n",
       "  <div class=\"col-sm-6\"><img src=\"Tilt_15.0_deg_h3899_2019_09_25_17_17_30_slow.gif\"></div>\n",
       "  <div class=\"col-sm-6\"><img src=\"Tilt_15.0_deg_h3899_2019_09_25_17_17_30_fast.gif\"></div>\n",
       "</div>"
      ],
      "text/plain": [
       "<IPython.core.display.HTML object>"
      ]
     },
     "execution_count": 23,
     "metadata": {},
     "output_type": "execute_result"
    }
   ],
   "source": [
    "HTML(\"\"\"<div class=\"row\">\n",
    "  <div class=\"col-sm-6\">%s</div>\n",
    "  <div class=\"col-sm-6\">%s</div>\n",
    "</div>\"\"\"%(video_slow[i],video_fast[i]))"
   ]
  },
  {
   "cell_type": "markdown",
   "metadata": {},
   "source": [
    "Here we already see a fully formed current state. The direction of the current is very close to parallel to the tilt angle. "
   ]
  },
  {
   "cell_type": "markdown",
   "metadata": {},
   "source": [
    "# Tilt direction "
   ]
  },
  {
   "cell_type": "markdown",
   "metadata": {},
   "source": [
    "from a trajectory we can obtain the instantaneous field to ensure that the tilt is actually in the x direction. As a sample dataset I will use the $\\delta=7º$ data from the video above."
   ]
  },
  {
   "cell_type": "code",
   "execution_count": 24,
   "metadata": {},
   "outputs": [],
   "source": [
    "name = index.loc[index.tilt==7,\"file\"].values[0]\n",
    "trj, bounds = sp.load_trj_single_freq(name,directory,f)"
   ]
  },
  {
   "cell_type": "code",
   "execution_count": 25,
   "metadata": {},
   "outputs": [],
   "source": [
    "field = trj.filter([\"mux\",\"muy\",\"muz\"]).groupby(\"frame\").mean()"
   ]
  },
  {
   "cell_type": "code",
   "execution_count": 26,
   "metadata": {},
   "outputs": [
    {
     "data": {
      "image/png": "[encoded data removed]",
      "text/plain": [
       "<Figure size 300x300 with 1 Axes>"
      ]
     },
     "metadata": {
      "needs_background": "light"
     },
     "output_type": "display_data"
    }
   ],
   "source": [
    "fig = plt.figure(figsize=[2,2])\n",
    "plt.ticklabel_format(style=\"sci\",scilimits=(0,0))\n",
    "plt.plot(field.mux,field.muy)\n",
    "plt.plot([0,0],[1.2*field.muy.min(),1.2*field.muy.max()],\"--\",color = \"black\")\n",
    "plt.plot([1.2*field.mux.min(),1.2*field.mux.max()],[0,0],\"--\",color = \"black\")\n",
    "plt.axis(\"scaled\");\n",
    "plt.xlabel(r\"$\\left<\\vec{m}\\cdot\\hat{x}\\right>$ [AU]\")\n",
    "plt.ylabel(r\"$\\left<\\vec{m}\\cdot\\hat{y}\\right>$ [AU]\");"
   ]
  },
  {
   "cell_type": "markdown",
   "metadata": {},
   "source": [
    "In the plot above we show the average magnetic moment as a function of time. The function traces a circle centered to the left of the origin, marked by the dotted lines. This shows that indeed, the tilt direction is on the $x$ axis.  "
   ]
  }
 ],
 "metadata": {
  "kernelspec": {
   "display_name": "Python 3",
   "language": "python",
   "name": "python3"
  },
  "language_info": {
   "codemirror_mode": {
    "name": "ipython",
    "version": 3
   },
   "file_extension": ".py",
   "mimetype": "text/x-python",
   "name": "python",
   "nbconvert_exporter": "python",
   "pygments_lexer": "ipython3",
   "version": "3.7.1"
  }
 },
 "nbformat": 4,
 "nbformat_minor": 2
}
