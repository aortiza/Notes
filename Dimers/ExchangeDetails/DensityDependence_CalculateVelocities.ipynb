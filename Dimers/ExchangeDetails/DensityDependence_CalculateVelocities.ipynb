{
 "cells": [
  {
   "cell_type": "markdown",
   "metadata": {},
   "source": [
    "# Current vs Density"
   ]
  },
  {
   "cell_type": "code",
   "execution_count": 1,
   "metadata": {},
   "outputs": [],
   "source": [
    "import sys\n",
    "import os\n",
    "sys.path.insert(0, '../magcolloids')\n",
    "\n",
    "import numpy as np\n",
    "import matplotlib.pyplot as plt\n",
    "import pandas as pd\n",
    "from IPython.display import HTML, clear_output\n",
    "import jsonpickle\n",
    "import scipy.optimize as spo\n",
    "import scipy.spatial as spa \n",
    "import magcolloids as mgc\n",
    "import matplotlib as mpl\n",
    "import string as st\n",
    "import support as sp\n",
    "\n",
    "from tqdm import tqdm_notebook\n",
    "\n",
    "ureg = mgc.ureg\n",
    "\n",
    "idx = pd.IndexSlice\n",
    "\n",
    "%reload_ext autoreload\n",
    "%autoreload 2"
   ]
  },
  {
   "cell_type": "code",
   "execution_count": 2,
   "metadata": {},
   "outputs": [],
   "source": [
    "mpl.rc('text', usetex=True)\n",
    "mpl.rcParams['figure.dpi'] = 150"
   ]
  },
  {
   "cell_type": "code",
   "execution_count": 3,
   "metadata": {},
   "outputs": [
    {
     "data": {
      "text/html": [
       "<div>\n",
       "<style scoped>\n",
       "    .dataframe tbody tr th:only-of-type {\n",
       "        vertical-align: middle;\n",
       "    }\n",
       "\n",
       "    .dataframe tbody tr th {\n",
       "        vertical-align: top;\n",
       "    }\n",
       "\n",
       "    .dataframe thead th {\n",
       "        text-align: right;\n",
       "    }\n",
       "</style>\n",
       "<table border=\"1\" class=\"dataframe\">\n",
       "  <thead>\n",
       "    <tr style=\"text-align: right;\">\n",
       "      <th></th>\n",
       "      <th>file</th>\n",
       "      <th>packing</th>\n",
       "    </tr>\n",
       "  </thead>\n",
       "  <tbody>\n",
       "    <tr>\n",
       "      <th>0</th>\n",
       "      <td>Phi_0.01</td>\n",
       "      <td>0.010000</td>\n",
       "    </tr>\n",
       "    <tr>\n",
       "      <th>1</th>\n",
       "      <td>Phi_0.04379746835443038</td>\n",
       "      <td>0.043797</td>\n",
       "    </tr>\n",
       "    <tr>\n",
       "      <th>2</th>\n",
       "      <td>Phi_0.021265822784810127</td>\n",
       "      <td>0.021266</td>\n",
       "    </tr>\n",
       "    <tr>\n",
       "      <th>3</th>\n",
       "      <td>Phi_0.07759493670886075</td>\n",
       "      <td>0.077595</td>\n",
       "    </tr>\n",
       "    <tr>\n",
       "      <th>4</th>\n",
       "      <td>Phi_0.03253164556962025</td>\n",
       "      <td>0.032532</td>\n",
       "    </tr>\n",
       "  </tbody>\n",
       "</table>\n",
       "</div>"
      ],
      "text/plain": [
       "                       file   packing\n",
       "0                  Phi_0.01  0.010000\n",
       "1   Phi_0.04379746835443038  0.043797\n",
       "2  Phi_0.021265822784810127  0.021266\n",
       "3   Phi_0.07759493670886075  0.077595\n",
       "4   Phi_0.03253164556962025  0.032532"
      ]
     },
     "execution_count": 3,
     "metadata": {},
     "output_type": "execute_result"
    }
   ],
   "source": [
    "directory = \"Z:/Dimers/Simulations/DensityDependence3/\"\n",
    "index_name = \"index.dat\"\n",
    "\n",
    "index = pd.read_csv(os.path.join(directory,index_name),sep=\" \", names = [\"file\",\"packing\"])\n",
    "index.head()"
   ]
  },
  {
   "cell_type": "code",
   "execution_count": 4,
   "metadata": {},
   "outputs": [],
   "source": [
    "h = 3.9 * ureg.um\n",
    "tilt_angle = 7*ureg.deg\n",
    "frequency = 3*ureg.Hz"
   ]
  },
  {
   "cell_type": "code",
   "execution_count": 5,
   "metadata": {},
   "outputs": [],
   "source": [
    "def differentiated_velocity(name):\n",
    "    ## Lazy open the trajectory\n",
    "    trj_read = mgc.trj_lazyread(os.path.join(directory,name.file+\".lammpstrj\"), \n",
    "                     output = [\"x\",\"y\",\"z\",\"mux\",\"muy\",\"muz\",\"fx\",\"fy\"])\n",
    "\n",
    "    ## Define a subset\n",
    "    timestep = 1e-4*ureg.s\n",
    "    frames = np.array(list(trj_read.T.keys()))\n",
    "    times = frames*timestep\n",
    "    ### We only read the last 15 seconds (out of 60), to ensure we are not in a transient\n",
    "    readthis = times>45*ureg.s\n",
    "\n",
    "    ## Load Trajectory\n",
    "    trj = trj_read.read_trj(np.where(readthis))\n",
    "    bounds = trj_read.get_bounds(slice(0,1,1))\n",
    "    trj = trj.filter([\"x\",\"y\",\"z\"])\n",
    "    trj[\"time\"] = trj.index.get_level_values(\"frame\")*timestep.to(ureg.s).magnitude\n",
    "    trj[\"frequency\"] = frequency\n",
    "\n",
    "    ## Calculate Velocity Array\n",
    "    velocities = sp.calculate_velocities(trj, bounds)\n",
    "\n",
    "    ## Calculate Differentiated Velocity\n",
    "    velocities[\"plane\"] = np.NaN\n",
    "    velocities.loc[trj.z>0,\"plane\"] = \"up\"\n",
    "    velocities.loc[trj.z<0,\"plane\"] = \"down\"\n",
    "    vupdown = velocities.groupby([\"plane\"]).mean().filter([\"x\",\"y\"])\n",
    "    vupdown.to_csv(os.path.join(directory,name.file+\"_vupdown.dat\"), sep=\"\\t\")\n",
    "    return vupdown"
   ]
  },
  {
   "cell_type": "code",
   "execution_count": 6,
   "metadata": {
    "scrolled": true
   },
   "outputs": [
    {
     "data": {
      "application/vnd.jupyter.widget-view+json": {
       "model_id": "d5d9d07b22a941d09502c30a3d2a0f6b",
       "version_major": 2,
       "version_minor": 0
      },
      "text/plain": [
       "HBox(children=(IntProgress(value=1, bar_style='info', max=1), HTML(value='')))"
      ]
     },
     "metadata": {},
     "output_type": "display_data"
    },
    {
     "name": "stdout",
     "output_type": "stream",
     "text": [
      "\n"
     ]
    }
   ],
   "source": [
    "diff_vel = [differentiated_velocity(name) for i,name in tqdm_notebook(index.loc[:].iterrows())]"
   ]
  }
 ],
 "metadata": {
  "kernelspec": {
   "display_name": "Python 3",
   "language": "python",
   "name": "python3"
  },
  "language_info": {
   "codemirror_mode": {
    "name": "ipython",
    "version": 3
   },
   "file_extension": ".py",
   "mimetype": "text/x-python",
   "name": "python",
   "nbconvert_exporter": "python",
   "pygments_lexer": "ipython3",
   "version": "3.7.1"
  }
 },
 "nbformat": 4,
 "nbformat_minor": 2
}
