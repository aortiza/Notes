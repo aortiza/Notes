{
 "cells": [
  {
   "cell_type": "markdown",
   "metadata": {},
   "source": [
    "# Current vs Density"
   ]
  },
  {
   "cell_type": "code",
   "execution_count": 1,
   "metadata": {},
   "outputs": [],
   "source": [
    "import sys\n",
    "import os\n",
    "sys.path.insert(0, '../magcolloids')\n",
    "\n",
    "import numpy as np\n",
    "import matplotlib.pyplot as plt\n",
    "import pandas as pd\n",
    "from IPython.display import HTML, clear_output\n",
    "import jsonpickle\n",
    "import scipy.optimize as spo\n",
    "import scipy.spatial as spa \n",
    "import magcolloids as mgc\n",
    "import matplotlib as mpl\n",
    "import string as st\n",
    "import support as sp\n",
    "\n",
    "from tqdm import tqdm_notebook\n",
    "\n",
    "ureg = mgc.ureg\n",
    "\n",
    "idx = pd.IndexSlice\n",
    "\n",
    "%reload_ext autoreload\n",
    "%autoreload 2"
   ]
  },
  {
   "cell_type": "markdown",
   "metadata": {},
   "source": [
    "### Read data"
   ]
  },
  {
   "cell_type": "code",
   "execution_count": 2,
   "metadata": {},
   "outputs": [],
   "source": [
    "mpl.rc('text', usetex=True)\n",
    "mpl.rcParams['figure.dpi'] = 150"
   ]
  },
  {
   "cell_type": "code",
   "execution_count": 3,
   "metadata": {},
   "outputs": [
    {
     "data": {
      "text/html": [
       "<div>\n",
       "<style scoped>\n",
       "    .dataframe tbody tr th:only-of-type {\n",
       "        vertical-align: middle;\n",
       "    }\n",
       "\n",
       "    .dataframe tbody tr th {\n",
       "        vertical-align: top;\n",
       "    }\n",
       "\n",
       "    .dataframe thead th {\n",
       "        text-align: right;\n",
       "    }\n",
       "</style>\n",
       "<table border=\"1\" class=\"dataframe\">\n",
       "  <thead>\n",
       "    <tr style=\"text-align: right;\">\n",
       "      <th></th>\n",
       "      <th>file</th>\n",
       "      <th>packing</th>\n",
       "    </tr>\n",
       "  </thead>\n",
       "  <tbody>\n",
       "    <tr>\n",
       "      <th>0</th>\n",
       "      <td>Phi_0.01</td>\n",
       "      <td>0.010000</td>\n",
       "    </tr>\n",
       "    <tr>\n",
       "      <th>1</th>\n",
       "      <td>Phi_0.04379746835443038</td>\n",
       "      <td>0.043797</td>\n",
       "    </tr>\n",
       "    <tr>\n",
       "      <th>2</th>\n",
       "      <td>Phi_0.021265822784810127</td>\n",
       "      <td>0.021266</td>\n",
       "    </tr>\n",
       "    <tr>\n",
       "      <th>3</th>\n",
       "      <td>Phi_0.07759493670886075</td>\n",
       "      <td>0.077595</td>\n",
       "    </tr>\n",
       "    <tr>\n",
       "      <th>4</th>\n",
       "      <td>Phi_0.03253164556962025</td>\n",
       "      <td>0.032532</td>\n",
       "    </tr>\n",
       "  </tbody>\n",
       "</table>\n",
       "</div>"
      ],
      "text/plain": [
       "                       file   packing\n",
       "0                  Phi_0.01  0.010000\n",
       "1   Phi_0.04379746835443038  0.043797\n",
       "2  Phi_0.021265822784810127  0.021266\n",
       "3   Phi_0.07759493670886075  0.077595\n",
       "4   Phi_0.03253164556962025  0.032532"
      ]
     },
     "execution_count": 3,
     "metadata": {},
     "output_type": "execute_result"
    }
   ],
   "source": [
    "directory = \"Z:/Dimers/Simulations/DensityDependence3/\"\n",
    "index_name = \"index.dat\"\n",
    "\n",
    "index = pd.read_csv(os.path.join(directory,index_name),sep=\" \", names = [\"file\",\"packing\"])\n",
    "index.head()"
   ]
  },
  {
   "cell_type": "code",
   "execution_count": 4,
   "metadata": {},
   "outputs": [],
   "source": [
    "h = 3.9 * ureg.um\n",
    "tilt_angle = 7*ureg.deg\n",
    "frequency = 3*ureg.Hz"
   ]
  },
  {
   "cell_type": "code",
   "execution_count": 5,
   "metadata": {},
   "outputs": [
    {
     "data": {
      "application/vnd.jupyter.widget-view+json": {
       "model_id": "8914a6cc9eda4890b3d0676bc2c39a5d",
       "version_major": 2,
       "version_minor": 0
      },
      "text/plain": [
       "HBox(children=(IntProgress(value=1, bar_style='info', max=1), HTML(value='')))"
      ]
     },
     "metadata": {},
     "output_type": "display_data"
    },
    {
     "name": "stdout",
     "output_type": "stream",
     "text": [
      "\n"
     ]
    }
   ],
   "source": [
    "diff_vel = [pd.read_csv(os.path.join(directory,name.file+\"_vupdown.dat\"), sep=\"\\t\",index_col = 0)\n",
    "            for i,name in tqdm_notebook(index.loc[:].iterrows())]"
   ]
  },
  {
   "cell_type": "code",
   "execution_count": 6,
   "metadata": {},
   "outputs": [
    {
     "data": {
      "text/html": [
       "<div>\n",
       "<style scoped>\n",
       "    .dataframe tbody tr th:only-of-type {\n",
       "        vertical-align: middle;\n",
       "    }\n",
       "\n",
       "    .dataframe tbody tr th {\n",
       "        vertical-align: top;\n",
       "    }\n",
       "\n",
       "    .dataframe thead th {\n",
       "        text-align: right;\n",
       "    }\n",
       "</style>\n",
       "<table border=\"1\" class=\"dataframe\">\n",
       "  <thead>\n",
       "    <tr style=\"text-align: right;\">\n",
       "      <th></th>\n",
       "      <th></th>\n",
       "      <th>x</th>\n",
       "      <th>y</th>\n",
       "    </tr>\n",
       "    <tr>\n",
       "      <th>packing</th>\n",
       "      <th>plane</th>\n",
       "      <th></th>\n",
       "      <th></th>\n",
       "    </tr>\n",
       "  </thead>\n",
       "  <tbody>\n",
       "    <tr>\n",
       "      <th>0.010000</th>\n",
       "      <th>down</th>\n",
       "      <td>-0.005588</td>\n",
       "      <td>0.008828</td>\n",
       "    </tr>\n",
       "    <tr>\n",
       "      <th>0.043797</th>\n",
       "      <th>down</th>\n",
       "      <td>0.005599</td>\n",
       "      <td>0.004297</td>\n",
       "    </tr>\n",
       "    <tr>\n",
       "      <th>0.021266</th>\n",
       "      <th>down</th>\n",
       "      <td>0.000516</td>\n",
       "      <td>-0.010277</td>\n",
       "    </tr>\n",
       "    <tr>\n",
       "      <th rowspan=\"2\" valign=\"top\">0.077595</th>\n",
       "      <th>down</th>\n",
       "      <td>-0.008814</td>\n",
       "      <td>-0.000400</td>\n",
       "    </tr>\n",
       "    <tr>\n",
       "      <th>up</th>\n",
       "      <td>-0.312785</td>\n",
       "      <td>3.433837</td>\n",
       "    </tr>\n",
       "  </tbody>\n",
       "</table>\n",
       "</div>"
      ],
      "text/plain": [
       "                       x         y\n",
       "packing  plane                    \n",
       "0.010000 down  -0.005588  0.008828\n",
       "0.043797 down   0.005599  0.004297\n",
       "0.021266 down   0.000516 -0.010277\n",
       "0.077595 down  -0.008814 -0.000400\n",
       "         up    -0.312785  3.433837"
      ]
     },
     "execution_count": 6,
     "metadata": {},
     "output_type": "execute_result"
    }
   ],
   "source": [
    "diff_vel_pd = pd.concat(diff_vel, keys = index.index, names=[\"file\"])\n",
    "diff_vel_pd.loc[:,\"packing\"] = index.loc[diff_vel_pd.index.get_level_values(\"file\")].packing.values\n",
    "diff_vel_pd[\"plane\"] = diff_vel_pd.index.get_level_values(\"plane\")\n",
    "diff_vel_pd = diff_vel_pd.set_index([\"packing\",\"plane\"])\n",
    "diff_vel_pd.head()"
   ]
  },
  {
   "cell_type": "code",
   "execution_count": 7,
   "metadata": {},
   "outputs": [],
   "source": [
    "d = 2.8\n",
    "freq = frequency.magnitude\n",
    "\n",
    "def calc_current(series):\n",
    "    phi = series.index.get_level_values(\"packing\").unique().values[0]\n",
    "    factor = freq*d*np.sqrt(np.pi/np.sqrt(3)/phi)\n",
    "    \n",
    "    if any(series.index.get_level_values(\"plane\")==\"up\") & \\\n",
    "            any(series.index.get_level_values(\"plane\")==\"down\"):\n",
    "        \n",
    "        out = series.loc[idx[:,\"up\"],:].reset_index(level=1,drop=True) - \\\n",
    "            series.loc[idx[:,\"down\"],:].reset_index(level=1,drop=True)\n",
    "\n",
    "        return pd.DataFrame(data = [np.sqrt(out.x.values**2+out.y.values**2)/(factor)], columns = [\"I\"])\n",
    "    else:\n",
    "    \n",
    "        return pd.DataFrame(data = [series.index.get_level_values(\"packing\").unique()*0], columns = [\"I\"])\n",
    "    "
   ]
  },
  {
   "cell_type": "code",
   "execution_count": 8,
   "metadata": {},
   "outputs": [],
   "source": [
    "current = diff_vel_pd.groupby(\"packing\").apply(calc_current).reset_index(level=1,drop=True)"
   ]
  },
  {
   "cell_type": "code",
   "execution_count": 9,
   "metadata": {},
   "outputs": [],
   "source": [
    "current.to_csv(\"current_vs_density.dat\",sep=\"\\t\")"
   ]
  },
  {
   "cell_type": "code",
   "execution_count": 12,
   "metadata": {},
   "outputs": [
    {
     "data": {
      "image/png": "[encoded data removed]",
      "text/plain": [
       "<Figure size 450x300 with 1 Axes>"
      ]
     },
     "metadata": {
      "needs_background": "light"
     },
     "output_type": "display_data"
    }
   ],
   "source": [
    "fig = plt.figure(figsize=(3,2))\n",
    "plt.plot(current.index, current.I, color=\"black\")\n",
    "plt.xlabel(r\"$\\Phi = N\\pi d^2 / (4A)$\")\n",
    "plt.ylabel(r\"$I$\")\n",
    "fig.tight_layout()\n",
    "fig.savefig('current_jamming.pdf', pad_inches = 0, bbox_inches = \"tight\")"
   ]
  },
  {
   "cell_type": "code",
   "execution_count": 11,
   "metadata": {},
   "outputs": [],
   "source": [
    "current.to_csv(\"current_vs_packing\",sep=\"\\t\")"
   ]
  },
  {
   "cell_type": "markdown",
   "metadata": {},
   "source": [
    "# Video Inspection.\n",
    "We now produce videos at different points of the density dependence curve to explore the mechanism behind jamming."
   ]
  },
  {
   "cell_type": "code",
   "execution_count": 11,
   "metadata": {},
   "outputs": [],
   "source": [
    "Phi = current.index\n",
    "Phi_video = np.array([0.1,0.3,0.5,0.7])\n",
    "Phi = Phi[:,np.newaxis]\n",
    "Phi_video = Phi_video[np.newaxis,:]\n",
    "chosen_currents = current.iloc[np.argmin(np.abs(np.array(Phi)-Phi_video),axis=0)]"
   ]
  },
  {
   "cell_type": "code",
   "execution_count": 12,
   "metadata": {},
   "outputs": [
    {
     "data": {
      "image/png": "[encoded data removed]",
      "text/plain": [
       "<Figure size 450x300 with 1 Axes>"
      ]
     },
     "metadata": {
      "needs_background": "light"
     },
     "output_type": "display_data"
    }
   ],
   "source": [
    "fig = plt.figure(figsize=(3,2))\n",
    "plt.plot(current.index, current.I)\n",
    "plt.plot(chosen_currents.index, chosen_currents.I,'o')\n",
    "plt.xlabel(r\"$\\Phi = N\\pi d^2 / (4A)$\")\n",
    "plt.ylabel(r\"$I$\")\n",
    "fig.tight_layout()\n",
    "fig.savefig('current_jamming.pdf', pad_inches = 0, bbox_inches = \"tight\")"
   ]
  },
  {
   "cell_type": "code",
   "execution_count": 13,
   "metadata": {},
   "outputs": [
    {
     "data": {
      "text/html": [
       "<div>\n",
       "<style scoped>\n",
       "    .dataframe tbody tr th:only-of-type {\n",
       "        vertical-align: middle;\n",
       "    }\n",
       "\n",
       "    .dataframe tbody tr th {\n",
       "        vertical-align: top;\n",
       "    }\n",
       "\n",
       "    .dataframe thead th {\n",
       "        text-align: right;\n",
       "    }\n",
       "</style>\n",
       "<table border=\"1\" class=\"dataframe\">\n",
       "  <thead>\n",
       "    <tr style=\"text-align: right;\">\n",
       "      <th></th>\n",
       "      <th>file</th>\n",
       "      <th>packing</th>\n",
       "    </tr>\n",
       "  </thead>\n",
       "  <tbody>\n",
       "    <tr>\n",
       "      <th>14</th>\n",
       "      <td>Phi_0.10012658227848101</td>\n",
       "      <td>0.100127</td>\n",
       "    </tr>\n",
       "    <tr>\n",
       "      <th>31</th>\n",
       "      <td>Phi_0.3029113924050633</td>\n",
       "      <td>0.302911</td>\n",
       "    </tr>\n",
       "    <tr>\n",
       "      <th>43</th>\n",
       "      <td>Phi_0.49443037974683546</td>\n",
       "      <td>0.494430</td>\n",
       "    </tr>\n",
       "    <tr>\n",
       "      <th>61</th>\n",
       "      <td>Phi_0.6972151898734177</td>\n",
       "      <td>0.697215</td>\n",
       "    </tr>\n",
       "  </tbody>\n",
       "</table>\n",
       "</div>"
      ],
      "text/plain": [
       "                       file   packing\n",
       "14  Phi_0.10012658227848101  0.100127\n",
       "31   Phi_0.3029113924050633  0.302911\n",
       "43  Phi_0.49443037974683546  0.494430\n",
       "61   Phi_0.6972151898734177  0.697215"
      ]
     },
     "execution_count": 13,
     "metadata": {},
     "output_type": "execute_result"
    }
   ],
   "source": [
    "chosen_index = index[index.packing.isin(chosen_currents.index)]\n",
    "chosen_index"
   ]
  },
  {
   "cell_type": "code",
   "execution_count": 14,
   "metadata": {},
   "outputs": [
    {
     "name": "stdout",
     "output_type": "stream",
     "text": [
      "Wall time: 4min 48s\n"
     ]
    }
   ],
   "source": [
    "%%time\n",
    "\n",
    "video_slow = []\n",
    "video_fast = []\n",
    "\n",
    "for i in range(len(chosen_index)):\n",
    "    \n",
    "    name = chosen_index.iloc[i].loc[\"file\"]\n",
    "\n",
    "    trj, bounds = sp.load_trj_time_range(name,directory,[10,25])\n",
    "    video_slow.append(sp.make_video_slowmo(name,trj,bounds))\n",
    "    video_fast.append(sp.make_video_fastmo(name,trj,bounds))"
   ]
  },
  {
   "cell_type": "markdown",
   "metadata": {},
   "source": [
    "### At very low packing"
   ]
  },
  {
   "cell_type": "code",
   "execution_count": 15,
   "metadata": {},
   "outputs": [
    {
     "name": "stdout",
     "output_type": "stream",
     "text": [
      "0.100126582278481\n"
     ]
    },
    {
     "data": {
      "text/html": [
       "<div class=\"row\">\n",
       "  <div class=\"col-sm-6\"><img src=\"Phi_0.10012658227848101_slow.gif\"></div>\n",
       "  <div class=\"col-sm-6\"><img src=\"Phi_0.10012658227848101_fast.gif\"></div>\n",
       "</div>"
      ],
      "text/plain": [
       "<IPython.core.display.HTML object>"
      ]
     },
     "execution_count": 15,
     "metadata": {},
     "output_type": "execute_result"
    }
   ],
   "source": [
    "i = 0\n",
    "print(chosen_index.iloc[i].packing)\n",
    "\n",
    "HTML(\"\"\"<div class=\"row\">\n",
    "  <div class=\"col-sm-6\">%s</div>\n",
    "  <div class=\"col-sm-6\">%s</div>\n",
    "</div>\"\"\"%(video_slow[i],video_fast[i]))"
   ]
  },
  {
   "cell_type": "markdown",
   "metadata": {},
   "source": [
    "At very low packing the system acts as a gas. There is no current because all particles are in the bottom of the cell."
   ]
  },
  {
   "cell_type": "markdown",
   "metadata": {},
   "source": [
    "### At intermediate packing"
   ]
  },
  {
   "cell_type": "code",
   "execution_count": 16,
   "metadata": {},
   "outputs": [
    {
     "name": "stdout",
     "output_type": "stream",
     "text": [
      "0.3029113924050633\n"
     ]
    },
    {
     "data": {
      "text/html": [
       "<div class=\"row\">\n",
       "  <div class=\"col-sm-6\"><img src=\"Phi_0.3029113924050633_slow.gif\"></div>\n",
       "  <div class=\"col-sm-6\"><img src=\"Phi_0.3029113924050633_fast.gif\"></div>\n",
       "</div>"
      ],
      "text/plain": [
       "<IPython.core.display.HTML object>"
      ]
     },
     "execution_count": 16,
     "metadata": {},
     "output_type": "execute_result"
    }
   ],
   "source": [
    "i = 1\n",
    "print(chosen_index.iloc[i].packing)\n",
    "\n",
    "HTML(\"\"\"<div class=\"row\">\n",
    "  <div class=\"col-sm-6\">%s</div>\n",
    "  <div class=\"col-sm-6\">%s</div>\n",
    "</div>\"\"\"%(video_slow[i],video_fast[i]))"
   ]
  },
  {
   "cell_type": "markdown",
   "metadata": {},
   "source": [
    "There is maximum current. The system aranges almost in a regular lattice. "
   ]
  },
  {
   "cell_type": "markdown",
   "metadata": {},
   "source": [
    "### At higher packing."
   ]
  },
  {
   "cell_type": "code",
   "execution_count": 17,
   "metadata": {},
   "outputs": [
    {
     "name": "stdout",
     "output_type": "stream",
     "text": [
      "0.4944303797468354\n"
     ]
    },
    {
     "data": {
      "text/html": [
       "<div class=\"row\">\n",
       "  <div class=\"col-sm-6\"><img src=\"Phi_0.49443037974683546_slow.gif\"></div>\n",
       "  <div class=\"col-sm-6\"><img src=\"Phi_0.49443037974683546_fast.gif\"></div>\n",
       "</div>"
      ],
      "text/plain": [
       "<IPython.core.display.HTML object>"
      ]
     },
     "execution_count": 17,
     "metadata": {},
     "output_type": "execute_result"
    }
   ],
   "source": [
    "i = 2\n",
    "print(chosen_index.iloc[i].packing)\n",
    "\n",
    "HTML(\"\"\"<div class=\"row\">\n",
    "  <div class=\"col-sm-6\">%s</div>\n",
    "  <div class=\"col-sm-6\">%s</div>\n",
    "</div>\"\"\"%(video_slow[i],video_fast[i]))"
   ]
  },
  {
   "cell_type": "markdown",
   "metadata": {},
   "source": [
    "This system is mostly disordered. The contact interactions between particles do not allow the separation process to take place always in the same direction. "
   ]
  },
  {
   "cell_type": "markdown",
   "metadata": {},
   "source": [
    "### At very high packing. "
   ]
  },
  {
   "cell_type": "code",
   "execution_count": 18,
   "metadata": {},
   "outputs": [
    {
     "name": "stdout",
     "output_type": "stream",
     "text": [
      "0.6972151898734177\n"
     ]
    },
    {
     "data": {
      "text/html": [
       "<div class=\"row\">\n",
       "  <div class=\"col-sm-6\"><img src=\"Phi_0.6972151898734177_slow.gif\"></div>\n",
       "  <div class=\"col-sm-6\"><img src=\"Phi_0.6972151898734177_fast.gif\"></div>\n",
       "</div>"
      ],
      "text/plain": [
       "<IPython.core.display.HTML object>"
      ]
     },
     "execution_count": 18,
     "metadata": {},
     "output_type": "execute_result"
    }
   ],
   "source": [
    "i = 3\n",
    "print(chosen_index.iloc[i].packing)\n",
    "\n",
    "HTML(\"\"\"<div class=\"row\">\n",
    "  <div class=\"col-sm-6\">%s</div>\n",
    "  <div class=\"col-sm-6\">%s</div>\n",
    "</div>\"\"\"%(video_slow[i],video_fast[i]))"
   ]
  },
  {
   "cell_type": "markdown",
   "metadata": {},
   "source": [
    "At very high packing, the system aranges in an almost hexagonal configuration of vibrating particles. There is no oportunity for directional exchanges. "
   ]
  }
 ],
 "metadata": {
  "kernelspec": {
   "display_name": "Python 3",
   "language": "python",
   "name": "python3"
  },
  "language_info": {
   "codemirror_mode": {
    "name": "ipython",
    "version": 3
   },
   "file_extension": ".py",
   "mimetype": "text/x-python",
   "name": "python",
   "nbconvert_exporter": "python",
   "pygments_lexer": "ipython3",
   "version": "3.7.1"
  }
 },
 "nbformat": 4,
 "nbformat_minor": 2
}
