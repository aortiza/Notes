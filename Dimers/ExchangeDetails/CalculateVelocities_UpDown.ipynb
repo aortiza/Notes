{
 "cells": [
  {
   "cell_type": "markdown",
   "metadata": {
    "collapsed": true
   },
   "source": [
    "# Currents"
   ]
  },
  {
   "cell_type": "code",
   "execution_count": 1,
   "metadata": {},
   "outputs": [],
   "source": [
    "import sys\n",
    "import os\n",
    "sys.path.insert(0, '../magcolloids')\n",
    "\n",
    "import numpy as np\n",
    "import matplotlib.pyplot as plt\n",
    "import pandas as pd\n",
    "from IPython.display import HTML, clear_output\n",
    "import scipy.optimize as spo\n",
    "import scipy.spatial as spa \n",
    "import magcolloids as mgc\n",
    "import matplotlib as mpl\n",
    "import string as st\n",
    "import support as sp\n",
    "\n",
    "from tqdm import tqdm_notebook\n",
    "import tqdm\n",
    "\n",
    "ureg = mgc.ureg\n",
    "\n",
    "idx = pd.IndexSlice\n",
    "\n",
    "%reload_ext autoreload\n",
    "%autoreload 2"
   ]
  },
  {
   "cell_type": "code",
   "execution_count": 2,
   "metadata": {},
   "outputs": [],
   "source": [
    "directory = \"/home/aortiza/Data/Dimers/FrequencySweep_3.9/\""
   ]
  },
  {
   "cell_type": "code",
   "execution_count": 3,
   "metadata": {},
   "outputs": [],
   "source": [
    "index = pd.read_csv(os.path.join(directory,\"index.dat\"),names = [\"file\", \"height\", \"tilt\"], sep=\" \")"
   ]
  },
  {
   "cell_type": "code",
   "execution_count": 4,
   "metadata": {},
   "outputs": [],
   "source": [
    "from multiprocessing import Pool"
   ]
  },
  {
   "cell_type": "code",
   "execution_count": 5,
   "metadata": {},
   "outputs": [],
   "source": [
    "fmax = 7.5*ureg.Hz # 7.5Hz\n",
    "dt = 15*ureg.sec # 15sec\n",
    "df = 0.125*ureg.Hz\n",
    "\n",
    "ratio = df/dt\n",
    "total_time = fmax/ratio\n",
    "\n",
    "f = st.Template(\"$ratio*ceil(time/$dt)*$dt\").substitute(\n",
    "    dt = dt.to(ureg.us).magnitude,\n",
    "    ratio = ratio.to((ureg.MHz/ureg.us)).magnitude) * ureg.MHz\n",
    "\n",
    "frequency = lambda time: (ratio.to((ureg.MHz/ureg.us))*(np.ceil(time.to(ureg.us)/dt.to(ureg.us))*dt)).to(ureg.Hz)\n",
    "tilt_angle = np.concatenate([np.arange(0,30.5,0.5)])"
   ]
  },
  {
   "cell_type": "code",
   "execution_count": 6,
   "metadata": {},
   "outputs": [],
   "source": [
    "def subset(times, dt, rnge):\n",
    "    \"\"\" Defines a repeated range of times. It returns the same range for every value of frequency\"\"\"\n",
    "    fun = lambda times: (np.mod(times[:],dt))/dt\n",
    "    thresh1 = (min(rnge))/dt\n",
    "    thresh2 = (max(rnge))/dt\n",
    "    return (fun(times)>thresh1) & (fun(times)<thresh2)"
   ]
  },
  {
   "cell_type": "code",
   "execution_count": 7,
   "metadata": {},
   "outputs": [],
   "source": [
    "def differentiated_velocity(name):\n",
    "    ## Lazy open the trajectory\n",
    "    trj_read = mgc.trj_lazyread(os.path.join(directory,name.file+\".lammpstrj\"), \n",
    "                     output = [\"x\",\"y\",\"z\",\"mux\",\"muy\",\"muz\",\"fx\",\"fy\"])\n",
    "\n",
    "    ## Define a subset\n",
    "    timestep = 1e-4*ureg.s\n",
    "    frames = np.array(list(trj_read.T.keys()))\n",
    "    times = frames*timestep\n",
    "    readthis = subset(times, dt, [7*ureg.s,14*ureg.s])\n",
    "\n",
    "    ## Load Trajectory\n",
    "    trj = trj_read.read_trj(np.where(readthis))\n",
    "    bounds = trj_read.get_bounds(slice(0,1,1))\n",
    "    trj = trj.filter([\"x\",\"y\",\"z\"])\n",
    "    trj[\"time\"] = trj.index.get_level_values(\"frame\")*timestep.to(ureg.s).magnitude\n",
    "    trj[\"frequency\"] = frequency(trj.time.values*ureg.s).to(ureg.Hz).magnitude\n",
    "\n",
    "    ## Calculate Velocity Array\n",
    "    velocities = sp.calculate_velocities(trj, bounds)\n",
    "\n",
    "    ## Calculate Differentiated Velocity\n",
    "    velocities[\"plane\"] = np.NaN\n",
    "    velocities.loc[trj.z>0,\"plane\"] = \"up\"\n",
    "    velocities.loc[trj.z<0,\"plane\"] = \"down\"\n",
    "    vupdown = velocities.groupby([\"plane\",\"frequency\"]).mean().filter([\"x\",\"y\"])\n",
    "    vupdown.to_csv(os.path.join(directory,name.file+\"_vupdown.dat\"), sep=\"\\t\")\n",
    "    \n",
    "    return vupdown"
   ]
  },
  {
   "cell_type": "code",
   "execution_count": 8,
   "metadata": {
    "scrolled": true
   },
   "outputs": [
    {
     "data": {
      "application/vnd.jupyter.widget-view+json": {
       "model_id": "",
       "version_major": 2,
       "version_minor": 0
      },
      "text/plain": [
       "HBox(children=(IntProgress(value=0, max=61), HTML(value='')))"
      ]
     },
     "metadata": {},
     "output_type": "display_data"
    },
    {
     "name": "stdout",
     "output_type": "stream",
     "text": [
      "\n",
      "CPU times: user 2.79 s, sys: 1.08 s, total: 3.87 s\n",
      "Wall time: 1h 24min 50s\n"
     ]
    }
   ],
   "source": [
    "%%time\n",
    "if __name__ ==  '__main__': \n",
    "    num_processors = 2\n",
    "    p=Pool(processes = num_processors)\n",
    "    diff_vel = list(tqdm.tqdm_notebook(\n",
    "            p.imap(differentiated_velocity, \n",
    "                   [name for i,name in index.iterrows()]), \n",
    "            total=len(index)))"
   ]
  },
  {
   "cell_type": "code",
   "execution_count": 9,
   "metadata": {},
   "outputs": [],
   "source": [
    "diff_vel_pd = pd.concat(diff_vel, keys = index.index, names=[\"file\"])"
   ]
  },
  {
   "cell_type": "code",
   "execution_count": 10,
   "metadata": {},
   "outputs": [],
   "source": [
    "diff_vel_pd.to_csv(os.path.join(directory,\"differentiated_velocities.dat\"), sep = \"\\t\")"
   ]
  },
  {
   "cell_type": "markdown",
   "metadata": {
    "collapsed": true
   },
   "source": [
    "# Currents h = 3.5"
   ]
  },
  {
   "cell_type": "code",
   "execution_count": 11,
   "metadata": {},
   "outputs": [],
   "source": [
    "import sys\n",
    "import os\n",
    "sys.path.insert(0, '../magcolloids')\n",
    "\n",
    "import numpy as np\n",
    "import matplotlib.pyplot as plt\n",
    "import pandas as pd\n",
    "from IPython.display import HTML, clear_output\n",
    "import scipy.optimize as spo\n",
    "import scipy.spatial as spa \n",
    "import magcolloids as mgc\n",
    "import matplotlib as mpl\n",
    "import string as st\n",
    "import support as sp\n",
    "\n",
    "from tqdm import tqdm_notebook\n",
    "import tqdm\n",
    "\n",
    "ureg = mgc.ureg\n",
    "\n",
    "idx = pd.IndexSlice\n",
    "\n",
    "%reload_ext autoreload\n",
    "%autoreload 2"
   ]
  },
  {
   "cell_type": "code",
   "execution_count": 12,
   "metadata": {},
   "outputs": [],
   "source": [
    "directory = \"/home/aortiza/Data/Dimers/FrequencySweep_3.5/\""
   ]
  },
  {
   "cell_type": "code",
   "execution_count": 13,
   "metadata": {},
   "outputs": [],
   "source": [
    "index = pd.read_csv(os.path.join(directory,\"index.dat\"),names = [\"file\", \"height\", \"tilt\"], sep=\" \")"
   ]
  },
  {
   "cell_type": "code",
   "execution_count": 14,
   "metadata": {},
   "outputs": [],
   "source": [
    "from multiprocessing import Pool"
   ]
  },
  {
   "cell_type": "code",
   "execution_count": 15,
   "metadata": {},
   "outputs": [],
   "source": [
    "fmax = 7.5*ureg.Hz # 7.5Hz\n",
    "dt = 15*ureg.sec # 15sec\n",
    "df = 0.125*ureg.Hz\n",
    "\n",
    "ratio = df/dt\n",
    "total_time = fmax/ratio\n",
    "\n",
    "f = st.Template(\"$ratio*ceil(time/$dt)*$dt\").substitute(\n",
    "    dt = dt.to(ureg.us).magnitude,\n",
    "    ratio = ratio.to((ureg.MHz/ureg.us)).magnitude) * ureg.MHz\n",
    "\n",
    "frequency = lambda time: (ratio.to((ureg.MHz/ureg.us))*(np.ceil(time.to(ureg.us)/dt.to(ureg.us))*dt)).to(ureg.Hz)\n",
    "tilt_angle = np.concatenate([np.arange(0,30.5,0.5)])"
   ]
  },
  {
   "cell_type": "code",
   "execution_count": 16,
   "metadata": {},
   "outputs": [],
   "source": [
    "def subset(times, dt, rnge):\n",
    "    \"\"\" Defines a repeated range of times. It returns the same range for every value of frequency\"\"\"\n",
    "    fun = lambda times: (np.mod(times[:],dt))/dt\n",
    "    thresh1 = (min(rnge))/dt\n",
    "    thresh2 = (max(rnge))/dt\n",
    "    return (fun(times)>thresh1) & (fun(times)<thresh2)"
   ]
  },
  {
   "cell_type": "code",
   "execution_count": 17,
   "metadata": {},
   "outputs": [],
   "source": [
    "def differentiated_velocity(name):\n",
    "    ## Lazy open the trajectory\n",
    "    trj_read = mgc.trj_lazyread(os.path.join(directory,name.file+\".lammpstrj\"), \n",
    "                     output = [\"x\",\"y\",\"z\",\"mux\",\"muy\",\"muz\",\"fx\",\"fy\"])\n",
    "\n",
    "    ## Define a subset\n",
    "    timestep = 1e-4*ureg.s\n",
    "    frames = np.array(list(trj_read.T.keys()))\n",
    "    times = frames*timestep\n",
    "    readthis = subset(times, dt, [7*ureg.s,14*ureg.s])\n",
    "\n",
    "    ## Load Trajectory\n",
    "    trj = trj_read.read_trj(np.where(readthis))\n",
    "    bounds = trj_read.get_bounds(slice(0,1,1))\n",
    "    trj = trj.filter([\"x\",\"y\",\"z\"])\n",
    "    trj[\"time\"] = trj.index.get_level_values(\"frame\")*timestep.to(ureg.s).magnitude\n",
    "    trj[\"frequency\"] = frequency(trj.time.values*ureg.s).to(ureg.Hz).magnitude\n",
    "\n",
    "    ## Calculate Velocity Array\n",
    "    velocities = sp.calculate_velocities(trj, bounds)\n",
    "\n",
    "    ## Calculate Differentiated Velocity\n",
    "    velocities[\"plane\"] = np.NaN\n",
    "    velocities.loc[trj.z>0,\"plane\"] = \"up\"\n",
    "    velocities.loc[trj.z<0,\"plane\"] = \"down\"\n",
    "    vupdown = velocities.groupby([\"plane\",\"frequency\"]).mean().filter([\"x\",\"y\"])\n",
    "    vupdown.to_csv(os.path.join(directory,name.file+\"_vupdown.dat\"), sep=\"\\t\")\n",
    "    \n",
    "    return vupdown"
   ]
  },
  {
   "cell_type": "code",
   "execution_count": 18,
   "metadata": {
    "scrolled": true
   },
   "outputs": [
    {
     "data": {
      "application/vnd.jupyter.widget-view+json": {
       "model_id": "db4dff06f4dd4ce2a0b9e4f9307a9f20",
       "version_major": 2,
       "version_minor": 0
      },
      "text/plain": [
       "HBox(children=(IntProgress(value=0, max=61), HTML(value='')))"
      ]
     },
     "metadata": {},
     "output_type": "display_data"
    },
    {
     "name": "stdout",
     "output_type": "stream",
     "text": [
      "\n",
      "CPU times: user 4.89 s, sys: 1.93 s, total: 6.82 s\n",
      "Wall time: 1h 23min 22s\n"
     ]
    }
   ],
   "source": [
    "%%time\n",
    "if __name__ ==  '__main__': \n",
    "    num_processors = 2\n",
    "    p=Pool(processes = num_processors)\n",
    "    diff_vel = list(tqdm.tqdm_notebook(\n",
    "            p.imap(differentiated_velocity, \n",
    "                   [name for i,name in index.iterrows()]), \n",
    "            total=len(index)))"
   ]
  },
  {
   "cell_type": "code",
   "execution_count": 19,
   "metadata": {},
   "outputs": [],
   "source": [
    "diff_vel_pd = pd.concat(diff_vel, keys = index.index, names=[\"file\"])"
   ]
  },
  {
   "cell_type": "code",
   "execution_count": 20,
   "metadata": {},
   "outputs": [],
   "source": [
    "diff_vel_pd.to_csv(os.path.join(directory,\"differentiated_velocities.dat\"), sep = \"\\t\")"
   ]
  }
 ],
 "metadata": {
  "kernelspec": {
   "display_name": "Python 3",
   "language": "python",
   "name": "python3"
  },
  "language_info": {
   "codemirror_mode": {
    "name": "ipython",
    "version": 3
   },
   "file_extension": ".py",
   "mimetype": "text/x-python",
   "name": "python",
   "nbconvert_exporter": "python",
   "pygments_lexer": "ipython3",
   "version": "3.7.1"
  }
 },
 "nbformat": 4,
 "nbformat_minor": 2
}
