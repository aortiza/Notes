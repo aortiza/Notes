{
 "cells": [
  {
   "cell_type": "markdown",
   "metadata": {},
   "source": [
    "# Sweep parameters of tilted field simulations"
   ]
  },
  {
   "cell_type": "markdown",
   "metadata": {},
   "source": [
    "## Frequency Sweeps\n",
    "\n",
    "To find the critical frequency, I will perform sweeps of the frequency, at constant values of tilt angle $\\delta$. After this, I will calculate the order parameters:\n",
    "* nearest neighbor distance\n",
    "* average angular velocity\n",
    "\n",
    "from these, I will obtain the critical frequency and the phase diagram. \n",
    "I will do this for several heights."
   ]
  },
  {
   "cell_type": "code",
   "execution_count": 1,
   "metadata": {},
   "outputs": [],
   "source": [
    "import sys\n",
    "import os\n",
    "sys.path.insert(0, '../magcolloids')\n",
    "\n",
    "import numpy as np\n",
    "import matplotlib.pyplot as plt\n",
    "import pandas as pd\n",
    "from IPython.display import HTML, clear_output\n",
    "import scipy.optimize as spo\n",
    "import scipy.spatial as spa \n",
    "import magcolloids as mgc\n",
    "import matplotlib as mpl\n",
    "import string as st\n",
    "import support as sp\n",
    "\n",
    "from tqdm import tqdm_notebook\n",
    "\n",
    "ureg = mgc.ureg\n",
    "\n",
    "idx = pd.IndexSlice\n",
    "\n",
    "%reload_ext autoreload\n",
    "%autoreload 2"
   ]
  },
  {
   "cell_type": "code",
   "execution_count": 2,
   "metadata": {},
   "outputs": [],
   "source": [
    "directory = \"/home/aortiza/Data/Dimers/FrequencySweep_3.9/\""
   ]
  },
  {
   "cell_type": "code",
   "execution_count": 3,
   "metadata": {},
   "outputs": [],
   "source": [
    "h = 3.9*ureg.um\n",
    "rho = 1.4 * ureg.um\n",
    "\n",
    "region, positions = mgc.ordered_dimers(\n",
    "    n_of_particles = 250,\n",
    "    packing=0.35, height = h.magnitude,\n",
    "    r = rho.magnitude, theta = np.pi/2)\n",
    "\n",
    "particles = mgc.particles(\n",
    "    positions*ureg.um,\n",
    "    radius = 1.4*ureg.um,\n",
    "    susceptibility = 0.4,\n",
    "    diffusion=0.073*ureg.um**2/ureg.s,\n",
    "    density = 1000*ureg.kg/ureg.m**3,\n",
    "    temperature=300*ureg.K)"
   ]
  },
  {
   "cell_type": "code",
   "execution_count": 4,
   "metadata": {},
   "outputs": [],
   "source": [
    "fmax = 7.5*ureg.Hz # 7.5Hz\n",
    "dt = 15*ureg.sec # 15sec\n",
    "df = 0.125*ureg.Hz\n",
    "\n",
    "ratio = df/dt\n",
    "total_time = fmax/ratio\n",
    "\n",
    "f = st.Template(\"$ratio*ceil(time/$dt)*$dt\").substitute(\n",
    "    dt = dt.to(ureg.us).magnitude,\n",
    "    ratio = ratio.to((ureg.MHz/ureg.us)).magnitude) * ureg.MHz\n",
    "\n",
    "frequency = lambda time: (ratio.to((ureg.MHz/ureg.us))*(np.ceil(time.to(ureg.us)/dt.to(ureg.us))*dt)).to(ureg.Hz)\n",
    "tilt_angle = np.concatenate([np.arange(0,30.5,0.5)])"
   ]
  },
  {
   "cell_type": "code",
   "execution_count": 5,
   "metadata": {},
   "outputs": [],
   "source": [
    "def redefine_field(field,tilt_angle):\n",
    "    field.fieldx = 'v_Bmag*(sin(v_freq*time*2*PI)*sin(v_theta)+cos(v_theta)*%s)'%np.sin(tilt_angle).magnitude\n",
    "    field.fieldy = 'v_Bmag*(cos(v_freq*time*2*PI)*sin(v_theta))'%np.sin(tilt_angle).magnitude\n",
    "    field.fieldz = 'v_Bmag*(cos(v_theta)*%s)'%np.cos(tilt_angle).magnitude\n",
    "    return field"
   ]
  },
  {
   "cell_type": "code",
   "execution_count": 6,
   "metadata": {},
   "outputs": [],
   "source": [
    "world = mgc.world(particles, temperature = 300*ureg.K,\n",
    "                  lj_parameters = [1e-2*ureg.pg*ureg.um**2/ureg.us**2, 2**(-1/6)],\n",
    "                  region=region*ureg.um, boundaries = ['p','p','f'], walls = [False,False,True],\n",
    "                  dipole_cutoff = 30*ureg.um)"
   ]
  },
  {
   "cell_type": "code",
   "execution_count": 7,
   "metadata": {},
   "outputs": [],
   "source": [
    "index_name = \"index.dat\"\n",
    "\n",
    "import csv\n",
    "\n",
    "def prepare_simulation(delta):\n",
    "\n",
    "    field = mgc.field(magnitude = 7.28*ureg.mT, frequency = f,\n",
    "                  angle = 27*ureg.degrees, multibody_iter=2)\n",
    "    \n",
    "    field = redefine_field(field,delta*ureg.deg)\n",
    "\n",
    "    sim = mgc.sim(dir_name = directory,\n",
    "                  file_name=\"Tilt_%s_deg_h%u\"%(delta,h.to(ureg.nm).magnitude),stamp_time=True,\n",
    "                  timestep = 1e-4*ureg.s, framerate = 75*ureg.Hz, total_time = total_time,\n",
    "                  particles = particles, world = world, field = field, output=[\"x\",\"y\",\"z\",\"mux\",\"muy\",\"muz\",\"fx\",\"fy\"])\n",
    "    \n",
    "    sim.tilt = delta\n",
    "    sim.height = h\n",
    "    \n",
    "    return sim"
   ]
  },
  {
   "cell_type": "code",
   "execution_count": 8,
   "metadata": {},
   "outputs": [],
   "source": [
    "simulations = [prepare_simulation(delta) for delta in tilt_angle[:]]"
   ]
  },
  {
   "cell_type": "code",
   "execution_count": 9,
   "metadata": {},
   "outputs": [],
   "source": [
    "def run_simulation(sim):\n",
    "    \n",
    "    import csv\n",
    "    import os\n",
    "    index_name = \"index.dat\"\n",
    "    directory = sim.dir_name\n",
    "    \n",
    "    sim.generate_scripts()\n",
    "    sim.run()\n",
    "    \n",
    "    h = sim.height\n",
    "    delta = sim.tilt\n",
    "    \n",
    "    with open(os.path.join(directory,index_name),'a',newline='') as file:\n",
    "        writer = csv.writer(file,delimiter=' ')\n",
    "        writer.writerow([os.path.split(sim.base_name)[-1], h.magnitude, delta])"
   ]
  },
  {
   "cell_type": "markdown",
   "metadata": {},
   "source": [
    "## Run asynchronously in several cores at once.\n",
    "\n",
    "Because this is running in linux, it can be done directly through the multiprocessing package. To run in windows see:\n",
    "https://gist.github.com/aortiza/dd1eb47fa675c147bd44df3a98bc7a4e"
   ]
  },
  {
   "cell_type": "code",
   "execution_count": 10,
   "metadata": {},
   "outputs": [],
   "source": [
    "from multiprocessing import Pool"
   ]
  },
  {
   "cell_type": "code",
   "execution_count": 11,
   "metadata": {
    "collapsed": true
   },
   "outputs": [],
   "source": [
    "if __name__ ==  '__main__': \n",
    "    num_processors = 36\n",
    "    p=Pool(processes = num_processors)\n",
    "    p.map(run_simulation,simulations)"
   ]
  },
  {
   "cell_type": "code",
   "execution_count": 12,
   "metadata": {},
   "outputs": [],
   "source": [
    "index = pd.read_csv(os.path.join(directory,\"index.dat\"),names = [\"file\", \"height\", \"tilt\"], sep=\" \")"
   ]
  },
  {
   "cell_type": "markdown",
   "metadata": {},
   "source": [
    "## h = 3.5$\\mu$m"
   ]
  },
  {
   "cell_type": "code",
   "execution_count": 1,
   "metadata": {},
   "outputs": [],
   "source": [
    "import sys\n",
    "import os\n",
    "sys.path.insert(0, '../magcolloids')\n",
    "\n",
    "import numpy as np\n",
    "import matplotlib.pyplot as plt\n",
    "import pandas as pd\n",
    "from IPython.display import HTML, clear_output\n",
    "import scipy.optimize as spo\n",
    "import scipy.spatial as spa \n",
    "import magcolloids as mgc\n",
    "import matplotlib as mpl\n",
    "import string as st\n",
    "import support as sp\n",
    "\n",
    "from tqdm import tqdm_notebook\n",
    "\n",
    "ureg = mgc.ureg\n",
    "\n",
    "idx = pd.IndexSlice\n",
    "\n",
    "%reload_ext autoreload\n",
    "%autoreload 2"
   ]
  },
  {
   "cell_type": "code",
   "execution_count": 2,
   "metadata": {},
   "outputs": [],
   "source": [
    "directory = \"/home/aortiza/Data/Dimers/FrequencySweep_3.5/\""
   ]
  },
  {
   "cell_type": "code",
   "execution_count": 3,
   "metadata": {},
   "outputs": [],
   "source": [
    "h = 3.5*ureg.um\n",
    "rho = 1.4 * ureg.um\n",
    "\n",
    "region, positions = mgc.ordered_dimers(\n",
    "    n_of_particles = 250,\n",
    "    packing=0.35, height = h.magnitude,\n",
    "    r = rho.magnitude, theta = np.pi/2)\n",
    "\n",
    "particles = mgc.particles(\n",
    "    positions*ureg.um,\n",
    "    radius = 1.4*ureg.um,\n",
    "    susceptibility = 0.4,\n",
    "    diffusion=0.073*ureg.um**2/ureg.s,\n",
    "    density = 1000*ureg.kg/ureg.m**3,\n",
    "    temperature=300*ureg.K)"
   ]
  },
  {
   "cell_type": "code",
   "execution_count": 4,
   "metadata": {},
   "outputs": [],
   "source": [
    "fmax = 7.5*ureg.Hz # 7.5Hz\n",
    "dt = 15*ureg.sec # 15sec\n",
    "df = 0.125*ureg.Hz\n",
    "\n",
    "ratio = df/dt\n",
    "total_time = fmax/ratio\n",
    "\n",
    "f = st.Template(\"$ratio*ceil(time/$dt)*$dt\").substitute(\n",
    "    dt = dt.to(ureg.us).magnitude,\n",
    "    ratio = ratio.to((ureg.MHz/ureg.us)).magnitude) * ureg.MHz\n",
    "\n",
    "frequency = lambda time: (ratio.to((ureg.MHz/ureg.us))*(np.ceil(time.to(ureg.us)/dt.to(ureg.us))*dt)).to(ureg.Hz)\n",
    "tilt_angle = np.concatenate([np.arange(0,30.5,0.5)])"
   ]
  },
  {
   "cell_type": "code",
   "execution_count": 5,
   "metadata": {},
   "outputs": [],
   "source": [
    "def redefine_field(field,tilt_angle):\n",
    "    field.fieldx = 'v_Bmag*(sin(v_freq*time*2*PI)*sin(v_theta)+cos(v_theta)*%s)'%np.sin(tilt_angle).magnitude\n",
    "    field.fieldy = 'v_Bmag*(cos(v_freq*time*2*PI)*sin(v_theta))'%np.sin(tilt_angle).magnitude\n",
    "    field.fieldz = 'v_Bmag*(cos(v_theta)*%s)'%np.cos(tilt_angle).magnitude\n",
    "    return field"
   ]
  },
  {
   "cell_type": "code",
   "execution_count": 6,
   "metadata": {},
   "outputs": [],
   "source": [
    "world = mgc.world(particles, temperature = 300*ureg.K,\n",
    "                  lj_parameters = [1e-2*ureg.pg*ureg.um**2/ureg.us**2, 2**(-1/6)],\n",
    "                  region=region*ureg.um, boundaries = ['p','p','f'], walls = [False,False,True],\n",
    "                  dipole_cutoff = 30*ureg.um)"
   ]
  },
  {
   "cell_type": "code",
   "execution_count": 7,
   "metadata": {},
   "outputs": [],
   "source": [
    "index_name = \"index.dat\"\n",
    "\n",
    "import csv\n",
    "\n",
    "def prepare_simulation(delta):\n",
    "\n",
    "    field = mgc.field(magnitude = 7.28*ureg.mT, frequency = f,\n",
    "                  angle = 27*ureg.degrees, multibody_iter=2)\n",
    "    \n",
    "    field = redefine_field(field,delta*ureg.deg)\n",
    "\n",
    "    sim = mgc.sim(dir_name = directory,\n",
    "                  file_name=\"Tilt_%s_deg_h%u\"%(delta,h.to(ureg.nm).magnitude),stamp_time=True,\n",
    "                  timestep = 1e-4*ureg.s, framerate = 75*ureg.Hz, total_time = total_time,\n",
    "                  particles = particles, world = world, field = field, output=[\"x\",\"y\",\"z\",\"mux\",\"muy\",\"muz\",\"fx\",\"fy\"])\n",
    "    \n",
    "    sim.tilt = delta\n",
    "    sim.height = h\n",
    "    \n",
    "    return sim"
   ]
  },
  {
   "cell_type": "code",
   "execution_count": 8,
   "metadata": {},
   "outputs": [],
   "source": [
    "simulations = [prepare_simulation(delta) for delta in tilt_angle[:]]"
   ]
  },
  {
   "cell_type": "code",
   "execution_count": 9,
   "metadata": {},
   "outputs": [],
   "source": [
    "def run_simulation(sim):\n",
    "    \n",
    "    import csv\n",
    "    import os\n",
    "    index_name = \"index.dat\"\n",
    "    directory = sim.dir_name\n",
    "    \n",
    "    sim.generate_scripts()\n",
    "    sim.run()\n",
    "    \n",
    "    h = sim.height\n",
    "    delta = sim.tilt\n",
    "    \n",
    "    with open(os.path.join(directory,index_name),'a',newline='') as file:\n",
    "        writer = csv.writer(file,delimiter=' ')\n",
    "        writer.writerow([os.path.split(sim.base_name)[-1], h.magnitude, delta])"
   ]
  },
  {
   "cell_type": "markdown",
   "metadata": {},
   "source": [
    "## Run asynchronously in several cores at once.\n",
    "\n",
    "Because this is running in linux, it can be done directly through the multiprocessing package. To run in windows see:\n",
    "https://gist.github.com/aortiza/dd1eb47fa675c147bd44df3a98bc7a4e"
   ]
  },
  {
   "cell_type": "code",
   "execution_count": 10,
   "metadata": {},
   "outputs": [],
   "source": [
    "from multiprocessing import Pool"
   ]
  },
  {
   "cell_type": "code",
   "execution_count": 11,
   "metadata": {},
   "outputs": [],
   "source": [
    "if __name__ ==  '__main__': \n",
    "    num_processors = 36\n",
    "    p=Pool(processes = num_processors)\n",
    "    p.map(run_simulation,simulations)"
   ]
  },
  {
   "cell_type": "code",
   "execution_count": 12,
   "metadata": {},
   "outputs": [],
   "source": [
    "index = pd.read_csv(os.path.join(directory,\"index.dat\"),names = [\"file\", \"height\", \"tilt\"], sep=\" \")"
   ]
  }
 ],
 "metadata": {
  "kernelspec": {
   "display_name": "Python 3",
   "language": "python",
   "name": "python3"
  },
  "language_info": {
   "codemirror_mode": {
    "name": "ipython",
    "version": 3
   },
   "file_extension": ".py",
   "mimetype": "text/x-python",
   "name": "python",
   "nbconvert_exporter": "python",
   "pygments_lexer": "ipython3",
   "version": "3.7.1"
  }
 },
 "nbformat": 4,
 "nbformat_minor": 2
}
