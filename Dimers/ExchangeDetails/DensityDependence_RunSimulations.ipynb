{
 "cells": [
  {
   "cell_type": "markdown",
   "metadata": {},
   "source": [
    "# Current vs Density "
   ]
  },
  {
   "cell_type": "code",
   "execution_count": 1,
   "metadata": {},
   "outputs": [],
   "source": [
    "import sys\n",
    "import os\n",
    "sys.path.insert(0, '../magcolloids')\n",
    "\n",
    "import numpy as np\n",
    "import matplotlib.pyplot as plt\n",
    "import pandas as pd\n",
    "from IPython.display import HTML, clear_output\n",
    "import jsonpickle\n",
    "import scipy.optimize as spo\n",
    "import scipy.spatial as spa \n",
    "import magcolloids as mgc\n",
    "import matplotlib as mpl\n",
    "import string as st\n",
    "\n",
    "from tqdm import tqdm_notebook\n",
    "\n",
    "ureg = mgc.ureg\n",
    "\n",
    "idx = pd.IndexSlice\n",
    "\n",
    "%reload_ext autoreload\n",
    "%autoreload 2"
   ]
  },
  {
   "cell_type": "code",
   "execution_count": 2,
   "metadata": {},
   "outputs": [],
   "source": [
    "mpl.rc('text', usetex=True)\n",
    "mpl.rcParams['figure.dpi'] = 150"
   ]
  },
  {
   "cell_type": "code",
   "execution_count": 3,
   "metadata": {},
   "outputs": [],
   "source": [
    "directory = \"Z:/Dimers/Simulations/DensityDependence3/\""
   ]
  },
  {
   "cell_type": "code",
   "execution_count": 4,
   "metadata": {},
   "outputs": [],
   "source": [
    "h = 3.9 * ureg.um\n",
    "tilt_angle = 7*ureg.deg\n",
    "frequency = 3*ureg.Hz"
   ]
  },
  {
   "cell_type": "code",
   "execution_count": 5,
   "metadata": {},
   "outputs": [
    {
     "data": {
      "text/plain": [
       "array([0.01      , 0.02126582, 0.03253165, 0.04379747, 0.05506329,\n",
       "       0.06632911, 0.07759494, 0.08886076, 0.10012658, 0.11139241,\n",
       "       0.12265823, 0.13392405, 0.14518987, 0.1564557 , 0.16772152,\n",
       "       0.17898734, 0.19025316, 0.20151899, 0.21278481, 0.22405063,\n",
       "       0.23531646, 0.24658228, 0.2578481 , 0.26911392, 0.28037975,\n",
       "       0.29164557, 0.30291139, 0.31417722, 0.32544304, 0.33670886,\n",
       "       0.34797468, 0.35924051, 0.37050633, 0.38177215, 0.39303797,\n",
       "       0.4043038 , 0.41556962, 0.42683544, 0.43810127, 0.44936709,\n",
       "       0.46063291, 0.47189873, 0.48316456, 0.49443038, 0.5056962 ,\n",
       "       0.51696203, 0.52822785, 0.53949367, 0.55075949, 0.56202532,\n",
       "       0.57329114, 0.58455696, 0.59582278, 0.60708861, 0.61835443,\n",
       "       0.62962025, 0.64088608, 0.6521519 , 0.66341772, 0.67468354,\n",
       "       0.68594937, 0.69721519, 0.70848101, 0.71974684, 0.73101266,\n",
       "       0.74227848, 0.7535443 , 0.76481013, 0.77607595, 0.78734177,\n",
       "       0.79860759, 0.80987342, 0.82113924, 0.83240506, 0.84367089,\n",
       "       0.85493671, 0.86620253, 0.87746835, 0.88873418, 0.9       ])"
      ]
     },
     "execution_count": 5,
     "metadata": {},
     "output_type": "execute_result"
    }
   ],
   "source": [
    "packing = np.linspace(0.01, 0.9, 80)\n",
    "packing"
   ]
  },
  {
   "cell_type": "code",
   "execution_count": 6,
   "metadata": {},
   "outputs": [],
   "source": [
    "def redefine_field(field,tilt_angle):\n",
    "    field.fieldx = 'v_Bmag*(sin(v_freq*time*2*PI)*sin(v_theta)+cos(v_theta)*%s)'%np.sin(tilt_angle).magnitude\n",
    "    field.fieldy = 'v_Bmag*(cos(v_freq*time*2*PI)*sin(v_theta))'%np.sin(tilt_angle).magnitude\n",
    "    field.fieldz = 'v_Bmag*(cos(v_theta)*%s)'%np.cos(tilt_angle).magnitude\n",
    "    return field"
   ]
  },
  {
   "cell_type": "code",
   "execution_count": 7,
   "metadata": {},
   "outputs": [],
   "source": [
    "index_name = \"index.dat\"\n",
    "\n",
    "import csv\n",
    "\n",
    "def prepare_simulation(packing):\n",
    "    \n",
    "    region, positions = mgc.hexagonal_order(\n",
    "        n_of_particles = 250,\n",
    "        packing=packing, height = h.magnitude,\n",
    "        r = 1.4, theta = np.pi/2)\n",
    "\n",
    "    particles = mgc.particles(\n",
    "        positions*ureg.um,\n",
    "        radius = 1.4*ureg.um,\n",
    "        susceptibility = 0.4,\n",
    "        diffusion=0.073*ureg.um**2/ureg.s,\n",
    "        density = 1000*ureg.kg/ureg.m**3,\n",
    "        temperature=300*ureg.K)\n",
    "\n",
    "    world = mgc.world(particles, temperature = 300*ureg.K,\n",
    "                      lj_parameters = [1e-2*ureg.pg*ureg.um**2/ureg.us**2, 2**(-1/6)],\n",
    "                      region=region*ureg.um, boundaries = ['p','p','f'], walls = [False,False,True],\n",
    "                      dipole_cutoff = 30*ureg.um)\n",
    "\n",
    "    field = mgc.field(magnitude = 7.28*ureg.mT, frequency = frequency,\n",
    "                  angle = 27*ureg.degrees, multibody_iter=2)\n",
    "    \n",
    "    field = redefine_field(field,tilt_angle)\n",
    "\n",
    "    sim = mgc.sim(dir_name = directory,\n",
    "                  file_name=\"Phi_%s\"%(packing),stamp_time=False,\n",
    "                  timestep = 1e-4*ureg.s, framerate = 75*ureg.Hz, total_time = 60*ureg.s,\n",
    "                  particles = particles, world = world, field = field, output=[\"x\",\"y\",\"z\",\"mux\",\"muy\",\"muz\",\"fx\",\"fy\"])\n",
    "    \n",
    "    sim.packing = packing\n",
    "    \n",
    "    return sim"
   ]
  },
  {
   "cell_type": "code",
   "execution_count": 8,
   "metadata": {},
   "outputs": [],
   "source": [
    "simulations = [prepare_simulation(phi) for phi in packing]"
   ]
  },
  {
   "cell_type": "code",
   "execution_count": 9,
   "metadata": {},
   "outputs": [],
   "source": [
    "sim = simulations[0]"
   ]
  },
  {
   "cell_type": "code",
   "execution_count": 10,
   "metadata": {},
   "outputs": [],
   "source": [
    "def run_simulation(sim):\n",
    "    \n",
    "    import csv\n",
    "    import os\n",
    "    index_name = \"index.dat\"\n",
    "    directory = sim.dir_name\n",
    "    \n",
    "    sim.generate_scripts()\n",
    "    sim.run()\n",
    "    \n",
    "    packing = sim.packing\n",
    "    \n",
    "    with open(os.path.join(directory,index_name),'a',newline='') as file:\n",
    "        writer = csv.writer(file,delimiter=' ')\n",
    "        writer.writerow([os.path.split(sim.base_name)[-1], packing])"
   ]
  },
  {
   "cell_type": "markdown",
   "metadata": {},
   "source": [
    "## Run asynchronously in several cores at once.\n",
    "\n",
    "https://gist.github.com/aortiza/dd1eb47fa675c147bd44df3a98bc7a4e"
   ]
  },
  {
   "cell_type": "code",
   "execution_count": 11,
   "metadata": {},
   "outputs": [],
   "source": [
    "from multiprocessing import Pool\n",
    "import inspect"
   ]
  },
  {
   "cell_type": "code",
   "execution_count": 12,
   "metadata": {},
   "outputs": [],
   "source": [
    "with open(\"dummy.py\",'w') as file:\n",
    "    file.write(inspect.getsource(run_simulation))"
   ]
  },
  {
   "cell_type": "code",
   "execution_count": 13,
   "metadata": {},
   "outputs": [
    {
     "name": "stdout",
     "output_type": "stream",
     "text": [
      "Wall time: 9h 10min 33s\n"
     ]
    }
   ],
   "source": [
    "%%time\n",
    "import dummy\n",
    "if __name__ ==  '__main__': \n",
    "    num_processors = 8\n",
    "    p=Pool(processes = num_processors)\n",
    "    p.map(dummy.run_simulation,simulations)"
   ]
  }
 ],
 "metadata": {
  "kernelspec": {
   "display_name": "Python 3",
   "language": "python",
   "name": "python3"
  },
  "language_info": {
   "codemirror_mode": {
    "name": "ipython",
    "version": 3
   },
   "file_extension": ".py",
   "mimetype": "text/x-python",
   "name": "python",
   "nbconvert_exporter": "python",
   "pygments_lexer": "ipython3",
   "version": "3.7.1"
  }
 },
 "nbformat": 4,
 "nbformat_minor": 2
}
