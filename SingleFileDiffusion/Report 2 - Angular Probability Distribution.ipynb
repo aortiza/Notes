{
 "cells": [
  {
   "cell_type": "markdown",
   "metadata": {},
   "source": [
    "# Calculating the $g(\\theta)$ of the colloids in the SFD"
   ]
  },
  {
   "cell_type": "code",
   "execution_count": 35,
   "metadata": {
    "collapsed": true
   },
   "outputs": [],
   "source": [
    "import pandas as pd\n",
    "import numpy as np\n",
    "import scipy.spatial as spa\n",
    "import matplotlib.pyplot as plt\n",
    "\n",
    "idx = pd.IndexSlice\n",
    "%matplotlib inline\n",
    "plt.rc('text', usetex=True)\n",
    "plt.rc('font', size=15)"
   ]
  },
  {
   "cell_type": "markdown",
   "metadata": {},
   "source": [
    "The $g(\\theta)$ is defined as the probability of finding another particle at an angle $\\theta$ from a particle."
   ]
  },
  {
   "cell_type": "markdown",
   "metadata": {},
   "source": [
    "## Load the dataset\n",
    "\n",
    "We'll use Experiment 1 because that has a high number of particles which will give better statistics. "
   ]
  },
  {
   "cell_type": "code",
   "execution_count": 9,
   "metadata": {},
   "outputs": [
    {
     "name": "stderr",
     "output_type": "stream",
     "text": [
      "/Users/aortiza/anaconda3/lib/python3.6/site-packages/numpy/lib/arraysetops.py:463: FutureWarning: elementwise comparison failed; returning scalar instead, but in the future will perform elementwise comparison\n",
      "  mask |= (ar1 == a)\n"
     ]
    },
    {
     "data": {
      "text/html": [
       "<div>\n",
       "<style>\n",
       "    .dataframe thead tr:only-child th {\n",
       "        text-align: right;\n",
       "    }\n",
       "\n",
       "    .dataframe thead th {\n",
       "        text-align: left;\n",
       "    }\n",
       "\n",
       "    .dataframe tbody tr th {\n",
       "        vertical-align: top;\n",
       "    }\n",
       "</style>\n",
       "<table border=\"1\" class=\"dataframe\">\n",
       "  <thead>\n",
       "    <tr style=\"text-align: right;\">\n",
       "      <th></th>\n",
       "      <th></th>\n",
       "      <th>x</th>\n",
       "      <th>y</th>\n",
       "    </tr>\n",
       "    <tr>\n",
       "      <th>time</th>\n",
       "      <th>id</th>\n",
       "      <th></th>\n",
       "      <th></th>\n",
       "    </tr>\n",
       "  </thead>\n",
       "  <tbody>\n",
       "    <tr>\n",
       "      <th rowspan=\"5\" valign=\"top\">2018-07-25 07:22:27.662</th>\n",
       "      <th>0</th>\n",
       "      <td>-5.668681</td>\n",
       "      <td>-134.209493</td>\n",
       "    </tr>\n",
       "    <tr>\n",
       "      <th>1</th>\n",
       "      <td>-77.790171</td>\n",
       "      <td>-112.362585</td>\n",
       "    </tr>\n",
       "    <tr>\n",
       "      <th>2</th>\n",
       "      <td>82.014832</td>\n",
       "      <td>-106.420254</td>\n",
       "    </tr>\n",
       "    <tr>\n",
       "      <th>3</th>\n",
       "      <td>-125.584088</td>\n",
       "      <td>-43.604495</td>\n",
       "    </tr>\n",
       "    <tr>\n",
       "      <th>4</th>\n",
       "      <td>129.381068</td>\n",
       "      <td>-41.347869</td>\n",
       "    </tr>\n",
       "  </tbody>\n",
       "</table>\n",
       "</div>"
      ],
      "text/plain": [
       "                                     x           y\n",
       "time                    id                        \n",
       "2018-07-25 07:22:27.662 0    -5.668681 -134.209493\n",
       "                        1   -77.790171 -112.362585\n",
       "                        2    82.014832 -106.420254\n",
       "                        3  -125.584088  -43.604495\n",
       "                        4   129.381068  -41.347869"
      ]
     },
     "execution_count": 9,
     "metadata": {},
     "output_type": "execute_result"
    }
   ],
   "source": [
    "trajectory = pd.read_csv(\"~/Desktop/Experiment1/Experiment1_2018_07_25_09_22_27_trj_recenter.dat\",\n",
    "                         sep=\"\\t\",index_col=[0,1])\n",
    "\n",
    "\"\"\" Here we change the string time index to a `datetime` which is sortable\"\"\"\n",
    "trajectory[\"time\"] = pd.to_datetime(trajectory.index.get_level_values(\"time\"))\n",
    "trajectory[\"id\"] = trajectory.index.get_level_values(\"id\")\n",
    "trajectory = trajectory.set_index([\"time\",\"id\"])\n",
    "trajectory = trajectory.sort_index()\n",
    "\n",
    "trajectory.head()"
   ]
  },
  {
   "cell_type": "markdown",
   "metadata": {},
   "source": [
    "Experiment 1 was created with an index of timestamps instead of frames. To access them more easily we create an array of all time strings "
   ]
  },
  {
   "cell_type": "code",
   "execution_count": 10,
   "metadata": {
    "collapsed": true
   },
   "outputs": [],
   "source": [
    "times = trajectory.index.get_level_values(\"time\").unique()"
   ]
  },
  {
   "cell_type": "markdown",
   "metadata": {},
   "source": [
    "Now we calculate the angle $\\theta$ with respect to the $x$ axis."
   ]
  },
  {
   "cell_type": "code",
   "execution_count": 11,
   "metadata": {
    "collapsed": true
   },
   "outputs": [],
   "source": [
    "trajectory[\"theta\"] = np.arctan2(trajectory.x,trajectory.y)"
   ]
  },
  {
   "cell_type": "markdown",
   "metadata": {},
   "source": [
    "We define the angular distance $\\Delta\\theta$ as described in [SFD Report 1](https://nbviewer.jupyter.org/github/aortiza/Notes/blob/master/SingleFileDiffusion/Single%20File%20Diffusion%20Report%201.ipynb): \n",
    "\n",
    "$$\\Delta\\theta = \n",
    "\\begin{cases}\n",
    "\\theta_{t+\\delta t}-\\theta_{t} & \\left|\\theta_{t+\\delta t}-\\theta_{t}\\right|\\leq\\pi \\\\\n",
    "sign\\left(\\theta_{t+\\delta t}-\\theta_{t}\\right)\\left[2\\pi-\\left(\\theta_{t+\\delta t}-\\theta_{t}\\right)\\right] & \\left|\\theta_{t+\\delta t}-\\theta_{t}\\right|> \\pi\\\\\n",
    "\\end{cases}\n",
    "$$\n"
   ]
  },
  {
   "cell_type": "code",
   "execution_count": 12,
   "metadata": {
    "collapsed": true
   },
   "outputs": [],
   "source": [
    "def angular_distance(theta1,theta2):\n",
    "    \"\"\"Takes two angles and returns the smallest difference between the two.\"\"\"\n",
    "    delta = theta1-theta2\n",
    "    logical = np.abs(delta)>np.pi\n",
    "    delta[logical] = np.sign(delta[logical])*2*np.pi-delta[logical]\n",
    "    return delta"
   ]
  },
  {
   "cell_type": "markdown",
   "metadata": {},
   "source": [
    "We now define a function which takes in the angles in a frame, calculates all the pairwise distances and returns them in a list. This list includes the distances of particles with themselves. They will be removed later. "
   ]
  },
  {
   "cell_type": "code",
   "execution_count": 13,
   "metadata": {
    "collapsed": true,
    "scrolled": true
   },
   "outputs": [],
   "source": [
    "def inter_angle_dist(thetas):\n",
    "    \"\"\"Takes a Series of angles and returns a list of all the angular distances between the angles\"\"\"\n",
    "    return list(angular_distance(thetas.values.reshape(1,len(thetas)),thetas.values.reshape(len(thetas),1)).flatten())"
   ]
  },
  {
   "cell_type": "markdown",
   "metadata": {},
   "source": [
    "To save some time, we also define a subset of the trajectory on which we will calculate the angle distances. This is defined as a `slice` so that `times[slice]` returns the times corresponding to the defined subset."
   ]
  },
  {
   "cell_type": "code",
   "execution_count": 14,
   "metadata": {},
   "outputs": [],
   "source": [
    "sl = slice(0,len(times),20)"
   ]
  },
  {
   "cell_type": "markdown",
   "metadata": {},
   "source": [
    "Now we `apply` the function `inter_angle_dist` to each frame."
   ]
  },
  {
   "cell_type": "code",
   "execution_count": 15,
   "metadata": {},
   "outputs": [
    {
     "data": {
      "text/plain": [
       "time\n",
       "2018-07-25 07:22:27.662    [0.0, 0.563336341647, 0.698811282173, 1.194393...\n",
       "2018-07-25 07:22:47.662    [0.0, 0.737332069657, 0.736606895298, 1.195481...\n",
       "2018-07-25 07:23:07.662    [0.0, 0.645856300015, 0.603763865175, 1.183967...\n",
       "2018-07-25 07:23:27.662    [0.0, 0.63198224195, 0.574211585085, 1.2310986...\n",
       "2018-07-25 07:23:47.662    [0.0, 0.541558058452, 0.499230864286, 1.155067...\n",
       "Name: theta, dtype: object"
      ]
     },
     "execution_count": 15,
     "metadata": {},
     "output_type": "execute_result"
    }
   ],
   "source": [
    "traj_subset = trajectory.loc[idx[times[sl],:],\"theta\"]\n",
    "all_distances_pandas = traj_subset.groupby(\"time\").apply(inter_angle_dist)\n",
    "all_distances_pandas.head()"
   ]
  },
  {
   "cell_type": "markdown",
   "metadata": {},
   "source": [
    "This last cell produced a pandas series with a list of distances for each frame. We need to flatten this to a simple list of distances. This is done in a numpy array since there is no longer need for an index"
   ]
  },
  {
   "cell_type": "code",
   "execution_count": 16,
   "metadata": {},
   "outputs": [],
   "source": [
    "all_distances = np.array([dist for dist_at_t in all_distances_pandas[:] for dist in dist_at_t])"
   ]
  },
  {
   "cell_type": "markdown",
   "metadata": {},
   "source": [
    "Now we create a mask to delete all the zeros in the array."
   ]
  },
  {
   "cell_type": "code",
   "execution_count": 17,
   "metadata": {
    "collapsed": true
   },
   "outputs": [],
   "source": [
    "mask = np.ones(np.shape(all_distances), dtype=bool)\n",
    "mask[all_distances==0] = False\n",
    "\n",
    "all_distances = all_distances[mask]"
   ]
  },
  {
   "cell_type": "markdown",
   "metadata": {},
   "source": [
    "Then we only need to take the histogram of the `all_distances` array."
   ]
  },
  {
   "cell_type": "code",
   "execution_count": 18,
   "metadata": {},
   "outputs": [
    {
     "data": {
      "text/plain": [
       "Text(0.5,0,'$\\\\Delta \\\\theta$ [rad]')"
      ]
     },
     "execution_count": 18,
     "metadata": {},
     "output_type": "execute_result"
    },
    {
     "data": {
      "image/png": "[encoded data removed]",
      "text/plain": [
       "<Figure size 432x288 with 1 Axes>"
      ]
     },
     "metadata": {},
     "output_type": "display_data"
    }
   ],
   "source": [
    "H = plt.hist(abs(np.array(all_distances)),bins=100)\n",
    "plt.xlabel(r\"$\\Delta \\theta$ [rad]\")"
   ]
  },
  {
   "cell_type": "markdown",
   "metadata": {},
   "source": [
    "We save this in a dataframe."
   ]
  },
  {
   "cell_type": "code",
   "execution_count": 19,
   "metadata": {},
   "outputs": [],
   "source": [
    "H = np.histogram(abs(np.array(all_distances)),bins=np.linspace(0,np.pi,100))"
   ]
  },
  {
   "cell_type": "code",
   "execution_count": 20,
   "metadata": {
    "collapsed": true
   },
   "outputs": [],
   "source": [
    "g_of_theta = pd.DataFrame(data=H[0]/len(times[sl]),index=(H[1][0:-1]+H[1][1:])/2,columns=[\"Exp_1\"])\n",
    "g_of_theta.index.name=\"theta\""
   ]
  },
  {
   "cell_type": "code",
   "execution_count": 21,
   "metadata": {},
   "outputs": [
    {
     "data": {
      "text/plain": [
       "Text(0,0.5,'$g(\\\\theta)$')"
      ]
     },
     "execution_count": 21,
     "metadata": {},
     "output_type": "execute_result"
    },
    {
     "data": {
      "image/png": "[encoded data removed]",
      "text/plain": [
       "<Figure size 432x288 with 1 Axes>"
      ]
     },
     "metadata": {},
     "output_type": "display_data"
    }
   ],
   "source": [
    "plt.plot(g_of_theta)\n",
    "plt.xlabel(r\"$\\Delta \\theta$ [rad]\")\n",
    "plt.ylabel(r\"$g(\\theta)$\")"
   ]
  },
  {
   "cell_type": "code",
   "execution_count": 22,
   "metadata": {},
   "outputs": [
    {
     "data": {
      "text/html": [
       "<div>\n",
       "<style>\n",
       "    .dataframe thead tr:only-child th {\n",
       "        text-align: right;\n",
       "    }\n",
       "\n",
       "    .dataframe thead th {\n",
       "        text-align: left;\n",
       "    }\n",
       "\n",
       "    .dataframe tbody tr th {\n",
       "        vertical-align: top;\n",
       "    }\n",
       "</style>\n",
       "<table border=\"1\" class=\"dataframe\">\n",
       "  <thead>\n",
       "    <tr style=\"text-align: right;\">\n",
       "      <th></th>\n",
       "      <th>Exp_1</th>\n",
       "    </tr>\n",
       "    <tr>\n",
       "      <th>theta</th>\n",
       "      <th></th>\n",
       "    </tr>\n",
       "  </thead>\n",
       "  <tbody>\n",
       "    <tr>\n",
       "      <th>0.015867</th>\n",
       "      <td>0.0</td>\n",
       "    </tr>\n",
       "    <tr>\n",
       "      <th>0.047600</th>\n",
       "      <td>0.0</td>\n",
       "    </tr>\n",
       "    <tr>\n",
       "      <th>0.079333</th>\n",
       "      <td>0.0</td>\n",
       "    </tr>\n",
       "    <tr>\n",
       "      <th>0.111066</th>\n",
       "      <td>0.0</td>\n",
       "    </tr>\n",
       "    <tr>\n",
       "      <th>0.142800</th>\n",
       "      <td>0.0</td>\n",
       "    </tr>\n",
       "  </tbody>\n",
       "</table>\n",
       "</div>"
      ],
      "text/plain": [
       "          Exp_1\n",
       "theta          \n",
       "0.015867    0.0\n",
       "0.047600    0.0\n",
       "0.079333    0.0\n",
       "0.111066    0.0\n",
       "0.142800    0.0"
      ]
     },
     "execution_count": 22,
     "metadata": {},
     "output_type": "execute_result"
    }
   ],
   "source": [
    "g_of_theta.head()"
   ]
  },
  {
   "cell_type": "markdown",
   "metadata": {
    "collapsed": true
   },
   "source": [
    "# Rest of the experiments"
   ]
  },
  {
   "cell_type": "markdown",
   "metadata": {},
   "source": [
    "We'll define this as a function to apply it to the rest of the experiments"
   ]
  },
  {
   "cell_type": "code",
   "execution_count": 25,
   "metadata": {
    "collapsed": true
   },
   "outputs": [],
   "source": [
    "def calculate_g_of_theta(trajectory, sampling = 1, theta_out = None, col_name = \"\"):\n",
    "    \"\"\"Takes in a trajectory, and returns a pandas array with the probability of finding a particle at a given angle\"\"\"\n",
    "    \n",
    "    trajectory[\"theta\"] = np.arctan2(trajectory.x,trajectory.y)\n",
    "    \n",
    "    def angular_distance(theta1,theta2):\n",
    "        \"\"\"Takes two angles and returns the smallest difference between the two.\"\"\"\n",
    "        delta = theta1-theta2\n",
    "        logical = np.abs(delta)>np.pi\n",
    "        delta[logical] = np.sign(delta[logical])*2*np.pi-delta[logical]\n",
    "        return delta\n",
    "\n",
    "    def inter_angle_dist(thetas):\n",
    "        \"\"\"Takes a Series of angles and returns a list of all the angular distances between the angles\"\"\"\n",
    "        return list(angular_distance(thetas.values.reshape(1,len(thetas)),\n",
    "                                     thetas.values.reshape(len(thetas),1)).flatten())\n",
    "\n",
    "\n",
    "    frames = trajectory.index.get_level_values(\"frame\").unique()\n",
    "    \n",
    "    sl = slice(0,len(frames),sampling)\n",
    "    traj_subset = trajectory.loc[idx[frames[sl],:],\"theta\"]\n",
    "    all_distances_pandas = traj_subset.groupby(\"frame\").apply(inter_angle_dist)\n",
    "    all_distances_pandas.head()\n",
    "    \n",
    "    all_distances = np.array([dist for dist_at_t in all_distances_pandas[:] for dist in dist_at_t])\n",
    "    \n",
    "    mask = np.ones(np.shape(all_distances), dtype=bool)\n",
    "    mask[all_distances==0] = False\n",
    "\n",
    "    all_distances = all_distances[mask]\n",
    "    \n",
    "    H = np.histogram(abs(np.array(all_distances)),bins=theta_out)\n",
    "    g_of_theta = pd.DataFrame(data=H[0]/len(frames[sl]),index=(H[1][0:-1]+H[1][1:])/2,columns=[col_name])\n",
    "\n",
    "    g_of_theta.index.name=\"theta\"\n",
    "    return g_of_theta"
   ]
  },
  {
   "cell_type": "code",
   "execution_count": 26,
   "metadata": {},
   "outputs": [
    {
     "name": "stderr",
     "output_type": "stream",
     "text": [
      "/Users/aortiza/anaconda3/lib/python3.6/site-packages/numpy/lib/arraysetops.py:463: FutureWarning: elementwise comparison failed; returning scalar instead, but in the future will perform elementwise comparison\n",
      "  mask |= (ar1 == a)\n"
     ]
    },
    {
     "data": {
      "image/png": "[encoded data removed]",
      "text/plain": [
       "<Figure size 432x288 with 1 Axes>"
      ]
     },
     "metadata": {},
     "output_type": "display_data"
    }
   ],
   "source": [
    "trajectory = pd.read_csv(\"~/Desktop/Experiment8/Experiment8_2018_09_17_16_58_33_trj.dat\",\n",
    "                         sep=\"\\t\",index_col=[0,1])\n",
    "trajectory = trajectory.sort_index()\n",
    "\n",
    "g_of_theta8 = calculate_g_of_theta(trajectory, \n",
    "                                   sampling = 10, theta_out = np.linspace(0,np.pi,100), col_name = \"Exp_8\")\n",
    "\n",
    "plt.plot(g_of_theta8)\n",
    "plt.xlabel(r\"$\\Delta \\theta$ [rad]\")\n",
    "plt.ylabel(r\"$g(\\theta)$\")\n",
    "\n",
    "g_of_theta = g_of_theta.assign(Exp_8 = g_of_theta8.Exp_8)\n"
   ]
  },
  {
   "cell_type": "code",
   "execution_count": 27,
   "metadata": {},
   "outputs": [
    {
     "name": "stderr",
     "output_type": "stream",
     "text": [
      "/Users/aortiza/anaconda3/lib/python3.6/site-packages/numpy/lib/arraysetops.py:463: FutureWarning: elementwise comparison failed; returning scalar instead, but in the future will perform elementwise comparison\n",
      "  mask |= (ar1 == a)\n"
     ]
    },
    {
     "data": {
      "image/png": "[encoded data removed]",
      "text/plain": [
       "<Figure size 432x288 with 1 Axes>"
      ]
     },
     "metadata": {},
     "output_type": "display_data"
    }
   ],
   "source": [
    "trajectory = pd.read_csv(\"~/Desktop/Experiment9/Experiment9_2018_09_21_15_37_26_trj.dat\",\n",
    "                         sep=\"\\t\",index_col=[0,1])\n",
    "trajectory = trajectory.sort_index()\n",
    "\n",
    "g_of_theta9 = calculate_g_of_theta(trajectory, \n",
    "                                   sampling = 10, theta_out = np.linspace(0,np.pi,100), col_name = \"Exp_9\")\n",
    "\n",
    "plt.plot(g_of_theta9)\n",
    "plt.xlabel(r\"$\\Delta \\theta$ [rad]\")\n",
    "plt.ylabel(r\"$g(\\theta)$\")\n",
    "\n",
    "g_of_theta = g_of_theta.assign(Exp_9 = g_of_theta9.Exp_9)\n"
   ]
  },
  {
   "cell_type": "code",
   "execution_count": 28,
   "metadata": {},
   "outputs": [
    {
     "name": "stderr",
     "output_type": "stream",
     "text": [
      "/Users/aortiza/anaconda3/lib/python3.6/site-packages/numpy/lib/arraysetops.py:463: FutureWarning: elementwise comparison failed; returning scalar instead, but in the future will perform elementwise comparison\n",
      "  mask |= (ar1 == a)\n"
     ]
    },
    {
     "data": {
      "image/png": "[encoded data removed]",
      "text/plain": [
       "<Figure size 432x288 with 1 Axes>"
      ]
     },
     "metadata": {},
     "output_type": "display_data"
    }
   ],
   "source": [
    "trajectory = pd.read_csv(\"~/Desktop/Experiment10/Experiment10_2018_09_25_10_39_13_trj.dat\",\n",
    "                         sep=\"\\t\",index_col=[0,1])\n",
    "trajectory = trajectory.sort_index()\n",
    "\n",
    "g_of_theta10 = calculate_g_of_theta(trajectory, \n",
    "                                   sampling = 10, theta_out = np.linspace(0,np.pi,100), col_name = \"Exp_10\")\n",
    "\n",
    "plt.plot(g_of_theta10)\n",
    "plt.xlabel(r\"$\\Delta \\theta$ [rad]\")\n",
    "plt.ylabel(r\"$g(\\theta)$\")\n",
    "\n",
    "g_of_theta = g_of_theta.assign(Exp_10 = g_of_theta10.Exp_10)"
   ]
  },
  {
   "cell_type": "code",
   "execution_count": 40,
   "metadata": {},
   "outputs": [
    {
     "data": {
      "image/png": "[encoded data removed]",
      "text/plain": [
       "<Figure size 432x288 with 1 Axes>"
      ]
     },
     "metadata": {},
     "output_type": "display_data"
    }
   ],
   "source": [
    "plt.plot(g_of_theta)\n",
    "plt.xlabel(r\"$\\Delta \\theta$ [rad]\")\n",
    "plt.ylabel(r\"$g(\\theta)$\")\n",
    "plt.legend([\"Exp 1\",\"Exp 8\",\"Exp 9\",\"Exp 10\"],loc=1)\n",
    "plt.title(\"Angular Probabilisty Distribution\");"
   ]
  },
  {
   "cell_type": "code",
   "execution_count": 30,
   "metadata": {},
   "outputs": [
    {
     "data": {
      "text/html": [
       "<div>\n",
       "<style>\n",
       "    .dataframe thead tr:only-child th {\n",
       "        text-align: right;\n",
       "    }\n",
       "\n",
       "    .dataframe thead th {\n",
       "        text-align: left;\n",
       "    }\n",
       "\n",
       "    .dataframe tbody tr th {\n",
       "        vertical-align: top;\n",
       "    }\n",
       "</style>\n",
       "<table border=\"1\" class=\"dataframe\">\n",
       "  <thead>\n",
       "    <tr style=\"text-align: right;\">\n",
       "      <th></th>\n",
       "      <th>Exp_1</th>\n",
       "      <th>Exp_8</th>\n",
       "      <th>Exp_9</th>\n",
       "      <th>Exp_10</th>\n",
       "    </tr>\n",
       "    <tr>\n",
       "      <th>theta</th>\n",
       "      <th></th>\n",
       "      <th></th>\n",
       "      <th></th>\n",
       "      <th></th>\n",
       "    </tr>\n",
       "  </thead>\n",
       "  <tbody>\n",
       "    <tr>\n",
       "      <th>0.015867</th>\n",
       "      <td>0.0</td>\n",
       "      <td>0.0</td>\n",
       "      <td>0.0</td>\n",
       "      <td>0.0</td>\n",
       "    </tr>\n",
       "    <tr>\n",
       "      <th>0.047600</th>\n",
       "      <td>0.0</td>\n",
       "      <td>0.0</td>\n",
       "      <td>0.0</td>\n",
       "      <td>0.0</td>\n",
       "    </tr>\n",
       "    <tr>\n",
       "      <th>0.079333</th>\n",
       "      <td>0.0</td>\n",
       "      <td>0.0</td>\n",
       "      <td>0.0</td>\n",
       "      <td>0.0</td>\n",
       "    </tr>\n",
       "    <tr>\n",
       "      <th>0.111066</th>\n",
       "      <td>0.0</td>\n",
       "      <td>0.0</td>\n",
       "      <td>0.0</td>\n",
       "      <td>0.0</td>\n",
       "    </tr>\n",
       "    <tr>\n",
       "      <th>0.142800</th>\n",
       "      <td>0.0</td>\n",
       "      <td>0.0</td>\n",
       "      <td>0.0</td>\n",
       "      <td>0.0</td>\n",
       "    </tr>\n",
       "  </tbody>\n",
       "</table>\n",
       "</div>"
      ],
      "text/plain": [
       "          Exp_1  Exp_8  Exp_9  Exp_10\n",
       "theta                                \n",
       "0.015867    0.0    0.0    0.0     0.0\n",
       "0.047600    0.0    0.0    0.0     0.0\n",
       "0.079333    0.0    0.0    0.0     0.0\n",
       "0.111066    0.0    0.0    0.0     0.0\n",
       "0.142800    0.0    0.0    0.0     0.0"
      ]
     },
     "execution_count": 30,
     "metadata": {},
     "output_type": "execute_result"
    }
   ],
   "source": [
    "g_of_theta.head()"
   ]
  },
  {
   "cell_type": "code",
   "execution_count": 31,
   "metadata": {
    "collapsed": true
   },
   "outputs": [],
   "source": [
    "g_of_theta.to_csv(\"/Users/aortiza/Desktop/g_of_theta.dat\",sep=\"\\t\")"
   ]
  },
  {
   "cell_type": "code",
   "execution_count": null,
   "metadata": {
    "collapsed": true
   },
   "outputs": [],
   "source": []
  }
 ],
 "metadata": {
  "kernelspec": {
   "display_name": "Python [conda root]",
   "language": "python",
   "name": "conda-root-py"
  },
  "language_info": {
   "codemirror_mode": {
    "name": "ipython",
    "version": 3
   },
   "file_extension": ".py",
   "mimetype": "text/x-python",
   "name": "python",
   "nbconvert_exporter": "python",
   "pygments_lexer": "ipython3",
   "version": "3.6.2"
  }
 },
 "nbformat": 4,
 "nbformat_minor": 2
}
