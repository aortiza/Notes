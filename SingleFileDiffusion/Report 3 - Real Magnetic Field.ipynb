{
 "cells": [
  {
   "cell_type": "code",
   "execution_count": 1,
   "metadata": {},
   "outputs": [],
   "source": [
    "import pandas as pd\n",
    "import matplotlib.pyplot as plt\n",
    "import numpy as np\n",
    "import scipy.optimize as spo\n",
    "\n",
    "%matplotlib inline"
   ]
  },
  {
   "cell_type": "code",
   "execution_count": 2,
   "metadata": {},
   "outputs": [],
   "source": [
    "calibration = pd.read_csv(\"CalibrationOfCoilsXYZinAODSetup.dat\", sep=\"\\t\",index_col=0)"
   ]
  },
  {
   "cell_type": "code",
   "execution_count": 3,
   "metadata": {},
   "outputs": [],
   "source": [
    "calibration = calibration[\"FieldZ(Freq=0Hz)mT\"]"
   ]
  },
  {
   "cell_type": "code",
   "execution_count": 4,
   "metadata": {},
   "outputs": [
    {
     "data": {
      "text/plain": [
       "[<matplotlib.lines.Line2D at 0x7fd87ff0aac8>]"
      ]
     },
     "execution_count": 4,
     "metadata": {},
     "output_type": "execute_result"
    },
    {
     "data": {
      "image/png": "[encoded data removed]",
      "text/plain": [
       "<Figure size 432x288 with 1 Axes>"
      ]
     },
     "metadata": {
      "needs_background": "light"
     },
     "output_type": "display_data"
    }
   ],
   "source": [
    "plt.plot(calibration,'+')"
   ]
  },
  {
   "cell_type": "code",
   "execution_count": 5,
   "metadata": {},
   "outputs": [
    {
     "data": {
      "text/plain": [
       "Voltage\n",
       "0.0    0.00\n",
       "0.1    0.54\n",
       "0.2    1.08\n",
       "0.3    1.61\n",
       "0.4    2.15\n",
       "Name: FieldZ(Freq=0Hz)mT, dtype: float64"
      ]
     },
     "execution_count": 5,
     "metadata": {},
     "output_type": "execute_result"
    }
   ],
   "source": [
    "calibration.head()"
   ]
  },
  {
   "cell_type": "code",
   "execution_count": 6,
   "metadata": {},
   "outputs": [],
   "source": [
    "linear = lambda x,a: a*x\n",
    "cal_curve = spo.curve_fit(linear, calibration.index.values, calibration.values)"
   ]
  },
  {
   "cell_type": "code",
   "execution_count": 7,
   "metadata": {},
   "outputs": [
    {
     "data": {
      "text/plain": [
       "<matplotlib.legend.Legend at 0x7fd87ffd4eb8>"
      ]
     },
     "execution_count": 7,
     "metadata": {},
     "output_type": "execute_result"
    },
    {
     "data": {
      "image/png": "[encoded data removed]",
      "text/plain": [
       "<Figure size 432x288 with 1 Axes>"
      ]
     },
     "metadata": {
      "needs_background": "light"
     },
     "output_type": "display_data"
    }
   ],
   "source": [
    "x = np.linspace(0,1,100)\n",
    "\n",
    "plt.plot(calibration,'+')\n",
    "plt.plot(x,cal_curve[0][0]*x)\n",
    "plt.ylabel(\"B [mT]\")\n",
    "plt.xlabel(\"V [volt out labview]\")\n",
    "plt.legend([\"data\",\"%2.2g V [mT/volt]\"%cal_curve[0][0]])"
   ]
  },
  {
   "cell_type": "code",
   "execution_count": 8,
   "metadata": {},
   "outputs": [
    {
     "data": {
      "text/plain": [
       "array([0.26907792, 0.53815584, 0.80723377])"
      ]
     },
     "execution_count": 8,
     "metadata": {},
     "output_type": "execute_result"
    }
   ],
   "source": [
    "used_volts = np.array([0.05,0.1,0.15])\n",
    "used_volts*cal_curve[0][0]"
   ]
  },
  {
   "cell_type": "markdown",
   "metadata": {},
   "source": [
    "# Interaction Strength"
   ]
  },
  {
   "cell_type": "code",
   "execution_count": 9,
   "metadata": {},
   "outputs": [],
   "source": [
    "import pint"
   ]
  },
  {
   "cell_type": "code",
   "execution_count": 10,
   "metadata": {},
   "outputs": [],
   "source": [
    "ureg = pint.UnitRegistry()"
   ]
  },
  {
   "cell_type": "markdown",
   "metadata": {},
   "source": [
    "The magntiude of the dipole moment is:\n",
    "\n",
    "$$m = \\frac{B\\chi V}{\\mu_0}$$"
   ]
  },
  {
   "cell_type": "code",
   "execution_count": 11,
   "metadata": {},
   "outputs": [
    {
     "name": "stdout",
     "output_type": "stream",
     "text": [
      "[0.2690779220786343 0.5381558441572686 0.8072337662359027 0.8072337662359027] millitesla\n"
     ]
    }
   ],
   "source": [
    "chi = 0.4\n",
    "rho = 1.4 * ureg.um\n",
    "mu0 = 4e-7*np.pi* ureg.N/ureg.A**2\n",
    "\n",
    "cal = cal_curve[0][0] * (ureg.mT/ureg.volts)\n",
    "used_volts = np.array([0.05,0.1,0.15,0.15]) * ureg.volts\n",
    "used_fields= used_volts*cal\n",
    "print(used_fields)\n",
    "\n",
    "V = 4/3*np.pi*rho**3"
   ]
  },
  {
   "cell_type": "code",
   "execution_count": 12,
   "metadata": {},
   "outputs": [
    {
     "name": "stdout",
     "output_type": "stream",
     "text": [
      "[9.844664242450294e-16 1.9689328484900588e-15 2.953399272735088e-15 2.953399272735088e-15] ampere * meter ** 2\n"
     ]
    }
   ],
   "source": [
    "m = (V*used_fields*chi/mu0)\n",
    "print(m.to_base_units())"
   ]
  },
  {
   "cell_type": "markdown",
   "metadata": {},
   "source": [
    "The interaction energy between two parallel dipoles is:\n",
    "\n",
    "$$U(r) = m^2\\frac{\\mu_0}{4\\pi}\\frac{1}{r^3} \\textrm{N m}$$"
   ]
  },
  {
   "cell_type": "markdown",
   "metadata": {},
   "source": [
    "This can be written as:\n",
    "$$U\\left(\\frac{r}{d}\\right) = m^2\\frac{\\mu_0}{4\\pi d^3}\\left(\\frac{r}{d}\\right)^{-3} \\mathrm{N m}$$"
   ]
  },
  {
   "cell_type": "code",
   "execution_count": 13,
   "metadata": {},
   "outputs": [
    {
     "name": "stdout",
     "output_type": "stream",
     "text": [
      "[3.5319757305604766e-20 1.4127902922241907e-19 3.1787781575044277e-19 3.1787781575044277e-19] kilogram * meter ** 2 / second ** 2\n"
     ]
    }
   ],
   "source": [
    "print((m**2*mu0/(4*np.pi)/rho**3).to_base_units())"
   ]
  },
  {
   "cell_type": "code",
   "execution_count": 14,
   "metadata": {},
   "outputs": [
    {
     "data": {
      "text/html": [
       "\\[4.141945559999999\\ nanometer\\ piconewton\\]"
      ],
      "text/latex": [
       "$4.141945559999999\\ \\mathrm{nanometer} \\cdot \\mathrm{piconewton}$"
      ],
      "text/plain": [
       "4.141945559999999 <Unit('nanometer * piconewton')>"
      ]
     },
     "execution_count": 14,
     "metadata": {},
     "output_type": "execute_result"
    }
   ],
   "source": [
    "Kb = 1.38064852e-23*ureg.J/ureg.K\n",
    "T = 300*ureg.K\n",
    "KbT = (Kb*T).to(ureg.pN*ureg.nm)\n",
    "KbT"
   ]
  },
  {
   "cell_type": "code",
   "execution_count": 15,
   "metadata": {},
   "outputs": [
    {
     "name": "stdout",
     "output_type": "stream",
     "text": [
      "[1.0659168739051692 4.263667495620677 9.59325186514652 9.59325186514652] dimensionless\n"
     ]
    }
   ],
   "source": [
    "print(((m**2*mu0/(4*np.pi)/(2*rho)**3)/KbT).to_base_units())"
   ]
  },
  {
   "cell_type": "markdown",
   "metadata": {
    "collapsed": true
   },
   "source": [
    "## Scaling by the average distance between neighbors"
   ]
  },
  {
   "cell_type": "code",
   "execution_count": 16,
   "metadata": {},
   "outputs": [],
   "source": [
    "R = np.array([5,5,5,10])*ureg.um\n",
    "N = np.array([5,5,5,11])\n",
    "d_ave = (2*np.pi*R) / N"
   ]
  },
  {
   "cell_type": "code",
   "execution_count": 17,
   "metadata": {},
   "outputs": [
    {
     "data": {
      "text/html": [
       "\\[\\begin{pmatrix}6.283185307179586 & 6.283185307179586 & 6.283185307179586 & 5.711986642890533\\end{pmatrix} micrometer\\]"
      ],
      "text/latex": [
       "$\\begin{pmatrix}6.283185307179586 & 6.283185307179586 & 6.283185307179586 & 5.711986642890533\\end{pmatrix}\\ \\mathrm{micrometer}$"
      ],
      "text/plain": [
       "array([6.28318531, 6.28318531, 6.28318531, 5.71198664]) <Unit('micrometer')>"
      ]
     },
     "execution_count": 17,
     "metadata": {},
     "output_type": "execute_result"
    }
   ],
   "source": [
    "d_ave"
   ]
  },
  {
   "cell_type": "code",
   "execution_count": 18,
   "metadata": {},
   "outputs": [
    {
     "name": "stdout",
     "output_type": "stream",
     "text": [
      "[0.09433173586605244 0.37732694346420975 0.8489856227944715 1.1299998639394413] dimensionless\n"
     ]
    }
   ],
   "source": [
    "print(((m**2*mu0/(4*np.pi)/(d_ave)**3)/KbT).to_base_units())"
   ]
  }
 ],
 "metadata": {
  "kernelspec": {
   "display_name": "Python [conda env:root] *",
   "language": "python",
   "name": "conda-root-py"
  },
  "language_info": {
   "codemirror_mode": {
    "name": "ipython",
    "version": 3
   },
   "file_extension": ".py",
   "mimetype": "text/x-python",
   "name": "python",
   "nbconvert_exporter": "python",
   "pygments_lexer": "ipython3",
   "version": "3.6.12"
  }
 },
 "nbformat": 4,
 "nbformat_minor": 2
}
