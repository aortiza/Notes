{
 "cells": [
  {
   "cell_type": "code",
   "execution_count": 40,
   "metadata": {
    "collapsed": true
   },
   "outputs": [],
   "source": [
    "import pandas as pd\n",
    "import matplotlib.pyplot as plt\n",
    "import numpy as np\n",
    "import scipy.optimize as spo\n",
    "\n",
    "%matplotlib inline"
   ]
  },
  {
   "cell_type": "code",
   "execution_count": 36,
   "metadata": {},
   "outputs": [],
   "source": [
    "calibration = pd.read_csv(\"CalibrationOfCoilsXYZinAODSetup.dat\", sep=\"\\t\",index_col=0)"
   ]
  },
  {
   "cell_type": "code",
   "execution_count": 37,
   "metadata": {},
   "outputs": [],
   "source": [
    "calibration = calibration[\"FieldZ(Freq=0Hz)mT\"]"
   ]
  },
  {
   "cell_type": "code",
   "execution_count": 38,
   "metadata": {},
   "outputs": [
    {
     "data": {
      "text/plain": [
       "[<matplotlib.lines.Line2D at 0x1d0ba0306d8>]"
      ]
     },
     "execution_count": 38,
     "metadata": {},
     "output_type": "execute_result"
    },
    {
     "data": {
      "image/png": "[encoded data removed]",
      "text/plain": [
       "<matplotlib.figure.Figure at 0x1d0b89590b8>"
      ]
     },
     "metadata": {},
     "output_type": "display_data"
    }
   ],
   "source": [
    "plt.plot(calibration,'+')"
   ]
  },
  {
   "cell_type": "code",
   "execution_count": 43,
   "metadata": {},
   "outputs": [
    {
     "data": {
      "text/plain": [
       "Voltage\n",
       "0.0    0.00\n",
       "0.1    0.54\n",
       "0.2    1.08\n",
       "0.3    1.61\n",
       "0.4    2.15\n",
       "Name: FieldZ(Freq=0Hz)mT, dtype: float64"
      ]
     },
     "execution_count": 43,
     "metadata": {},
     "output_type": "execute_result"
    }
   ],
   "source": [
    "calibration.head()"
   ]
  },
  {
   "cell_type": "code",
   "execution_count": 45,
   "metadata": {},
   "outputs": [],
   "source": [
    "linear = lambda x,a: a*x\n",
    "cal_curve = spo.curve_fit(linear, calibration.index.values, calibration.values)"
   ]
  },
  {
   "cell_type": "code",
   "execution_count": 54,
   "metadata": {},
   "outputs": [
    {
     "data": {
      "text/plain": [
       "<matplotlib.legend.Legend at 0x1d0bab9a2b0>"
      ]
     },
     "execution_count": 54,
     "metadata": {},
     "output_type": "execute_result"
    },
    {
     "data": {
      "image/png": "[encoded data removed]",
      "text/plain": [
       "<matplotlib.figure.Figure at 0x1d0ba6bf2e8>"
      ]
     },
     "metadata": {},
     "output_type": "display_data"
    }
   ],
   "source": [
    "x = np.linspace(0,1,100)\n",
    "\n",
    "plt.plot(calibration,'+')\n",
    "plt.plot(x,cal_curve[0][0]*x)\n",
    "plt.ylabel(\"B [mT]\")\n",
    "plt.xlabel(\"V [volt out labview]\")\n",
    "plt.legend([\"data\",\"%2.2g V [mT/volt]\"%cal_curve[0][0]])"
   ]
  },
  {
   "cell_type": "code",
   "execution_count": 51,
   "metadata": {},
   "outputs": [
    {
     "data": {
      "text/plain": [
       "array([ 0.26907792,  0.53815584,  0.80723377])"
      ]
     },
     "execution_count": 51,
     "metadata": {},
     "output_type": "execute_result"
    }
   ],
   "source": [
    "used_volts = np.array([0.05,0.1,0.15])\n",
    "used_volts*cal_curve[0][0]"
   ]
  },
  {
   "cell_type": "markdown",
   "metadata": {},
   "source": [
    "# Interaction Strength"
   ]
  },
  {
   "cell_type": "code",
   "execution_count": 55,
   "metadata": {
    "collapsed": true
   },
   "outputs": [],
   "source": [
    "import pint"
   ]
  },
  {
   "cell_type": "code",
   "execution_count": 56,
   "metadata": {
    "collapsed": true
   },
   "outputs": [],
   "source": [
    "ureg = pint.UnitRegistry()"
   ]
  },
  {
   "cell_type": "markdown",
   "metadata": {},
   "source": [
    "The magntiude of the dipole moment is:\n",
    "\n",
    "$$m = \\frac{B\\chi V}{\\mu_0}$$"
   ]
  },
  {
   "cell_type": "code",
   "execution_count": 120,
   "metadata": {},
   "outputs": [
    {
     "name": "stdout",
     "output_type": "stream",
     "text": [
      "[ 0.26907792  0.53815584  0.80723377] millitesla\n"
     ]
    }
   ],
   "source": [
    "chi = 0.4\n",
    "rho = 1.4 * ureg.um\n",
    "mu0 = 4e-7*np.pi* ureg.N/ureg.A**2\n",
    "\n",
    "cal = cal_curve[0][0] * (ureg.mT/ureg.volts)\n",
    "used_volts = np.array([0.05,0.1,0.15]) * ureg.volts\n",
    "used_fields= used_volts*cal\n",
    "print(used_fields)\n",
    "\n",
    "V = 4/3*np.pi*rho**3"
   ]
  },
  {
   "cell_type": "code",
   "execution_count": 121,
   "metadata": {},
   "outputs": [
    {
     "name": "stdout",
     "output_type": "stream",
     "text": [
      "[  9.84466424e-16   1.96893285e-15   2.95339927e-15] ampere * meter ** 2\n"
     ]
    }
   ],
   "source": [
    "m = (V*used_fields*chi/mu0)\n",
    "print(m.to_base_units())"
   ]
  },
  {
   "cell_type": "markdown",
   "metadata": {},
   "source": [
    "The interaction energy between two parallel dipoles is:\n",
    "\n",
    "$$U(r) = m^2\\frac{\\mu_0}{4\\pi}\\frac{1}{r^3} \\textrm{N m}$$"
   ]
  },
  {
   "cell_type": "markdown",
   "metadata": {},
   "source": [
    "This can be written as:\n",
    "$$U\\left(\\frac{r}{d}\\right) = m^2\\frac{\\mu_0}{4\\pi d^3}\\left(\\frac{r}{d}\\right)^{-3} \\mathrm{N m}$$"
   ]
  },
  {
   "cell_type": "code",
   "execution_count": 122,
   "metadata": {},
   "outputs": [
    {
     "name": "stdout",
     "output_type": "stream",
     "text": [
      "[  3.53197573e-20   1.41279029e-19   3.17877816e-19] kilogram * meter ** 2 / second ** 2\n"
     ]
    }
   ],
   "source": [
    "print((m**2*mu0/(4*np.pi)/rho**3).to_base_units())"
   ]
  },
  {
   "cell_type": "code",
   "execution_count": 123,
   "metadata": {},
   "outputs": [
    {
     "data": {
      "text/html": [
       "4.141945559999999 nanometer piconewton"
      ],
      "text/latex": [
       "$4.141945559999999\\ \\mathrm{nanometer} \\cdot \\mathrm{piconewton}$"
      ],
      "text/plain": [
       "<Quantity(4.141945559999999, 'nanometer * piconewton')>"
      ]
     },
     "execution_count": 123,
     "metadata": {},
     "output_type": "execute_result"
    }
   ],
   "source": [
    "Kb = 1.38064852e-23*ureg.J/ureg.K\n",
    "T = 300*ureg.K\n",
    "KbT = (Kb*T).to(ureg.pN*ureg.nm)\n",
    "KbT"
   ]
  },
  {
   "cell_type": "code",
   "execution_count": 124,
   "metadata": {},
   "outputs": [
    {
     "name": "stdout",
     "output_type": "stream",
     "text": [
      "[ 1.06591687  4.2636675   9.59325187] dimensionless\n"
     ]
    }
   ],
   "source": [
    "print(((m**2*mu0/(4*np.pi)/(2*rho)**3)/KbT).to_base_units())"
   ]
  },
  {
   "cell_type": "code",
   "execution_count": null,
   "metadata": {
    "collapsed": true
   },
   "outputs": [],
   "source": []
  }
 ],
 "metadata": {
  "kernelspec": {
   "display_name": "Python [conda root]",
   "language": "python",
   "name": "conda-root-py"
  },
  "language_info": {
   "codemirror_mode": {
    "name": "ipython",
    "version": 3
   },
   "file_extension": ".py",
   "mimetype": "text/x-python",
   "name": "python",
   "nbconvert_exporter": "python",
   "pygments_lexer": "ipython3",
   "version": "3.6.2"
  }
 },
 "nbformat": 4,
 "nbformat_minor": 2
}
