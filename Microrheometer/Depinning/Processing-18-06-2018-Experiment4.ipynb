{
 "cells": [
  {
   "cell_type": "markdown",
   "metadata": {},
   "source": [
    "# Processing of Data from 2018-06-18\n",
    "## Experiment 4"
   ]
  },
  {
   "cell_type": "code",
   "execution_count": 1,
   "metadata": {
    "collapsed": true
   },
   "outputs": [],
   "source": [
    "import os\n",
    "import sys\n",
    "import re\n",
    "\n",
    "import pandas as pd\n",
    "import numpy as np\n",
    "import matplotlib.pyplot as plt\n",
    "import scipy.spatial as spa\n",
    "import scipy.optimize as spo\n",
    "import trackpy as tp\n",
    "import pims\n",
    "\n",
    "import support as sp\n",
    "\n",
    "from tqdm import tqdm_notebook\n",
    "\n",
    "from pims import pipeline\n",
    "@pipeline\n",
    "def as_gray(frame):\n",
    "    red = frame[:, :, 0]\n",
    "    green = frame[:, :, 1]\n",
    "    blue = frame[:, :, 2]\n",
    "    return 0.2125 * red + 0.7154 * green + 0.0721 * blue\n",
    "\n",
    "%matplotlib inline\n",
    "\n",
    "idx = pd.IndexSlice"
   ]
  },
  {
   "cell_type": "markdown",
   "metadata": {},
   "source": [
    "The `_trackpy.dat` files where calculated using:\n",
    "\n",
    "    directory = \"Z:/LargeData/2018-06-18-Data/Experiment4/\"\n",
    "    base_names = sp.get_names(directory,ext='avi')\n",
    "\n",
    "    errors4 = []\n",
    "\n",
    "    for name in tqdm_notebook(base_names[48:]):\n",
    "        try:\n",
    "            video = pims.Video(name+'.avi')\n",
    "            print(name)\n",
    "            NumberOfFrames=video.get_metadata()[\"nframes\"]\n",
    "            f = tp.batch(as_gray(video[:]), 19, invert=False, threshold = 7, characterize = False, engine='numba')\n",
    "            trj = tp.link(f, 10)\n",
    "            new_name = os.path.join(os.path.split(name)[0],\"ProcessedData\",os.path.split(name)[1])+'_trackpy.dat'\n",
    "            trj.filter([\"particle\",\"frame\",\"x\",\"y\"]).to_csv(name+'_trackpy.dat',sep=\"\\t\")\n",
    "        except Exception as e:\n",
    "            number = [i for i,n in enumerate(base_names) if name==n][0]\n",
    "            errors4.append([number,name,e])\n",
    "\n",
    "This process took a little over three days, and therefore I would advise to repeat it at your own risk. There were five errors reported: files 47, 49, 50, 51, and 98 were not processed correctly.\n",
    "\n",
    "The resulting trajectories however, contain some missing frames. These can be adjusted in the future from the videos, but for now, we can also ignore these points in the trajectories by allowing the linking algorithm to have a memory, as shown below. \n",
    "\n",
    "The following cell is expected to require around 5 hours to finish. "
   ]
  },
  {
   "cell_type": "code",
   "execution_count": 59,
   "metadata": {
    "collapsed": true
   },
   "outputs": [],
   "source": [
    "directory = \"C:/Users/aortiza/Desktop/Experiment4/\"\n",
    "base_names = sp.get_names(directory,ext='.dat')\n",
    "\n",
    "base_names = [\n",
    "    names[:names.find('trackpy')-1] for names in base_names if (names.find('trackpy')>0) & (names.find('ProcessedData')<0)]"
   ]
  },
  {
   "cell_type": "code",
   "execution_count": 5,
   "metadata": {},
   "outputs": [
    {
     "name": "stdout",
     "output_type": "stream",
     "text": [
      "Frame 35999: 48 trajectories present.\n"
     ]
    }
   ],
   "source": [
    "for name in base_names:\n",
    "    trj = pd.read_csv(name+\"_trackpy.dat\",sep=\"\\t\")\n",
    "    find = trj.filter([\"frame\",\"x\",\"y\"])\n",
    "    trj = tp.link(find, 10, memory = 5)\n",
    "\n",
    "    trj = trj.set_index([\"frame\",\"particle\"]).filter([\"x\",\"y\"])\n",
    "    trj_len = trj.groupby(\"particle\").count()\n",
    "    trj = trj.loc[idx[:,trj_len[trj_len[\"x\"]>1000].index],:]\n",
    "    \n",
    "    new_name = os.path.join(os.path.split(name)[0],\"ProcessedData\",os.path.split(name)[1])+'_trackpy_mem.dat'\n",
    "    trj.to_csv(new_name,sep=\"\\t\")"
   ]
  },
  {
   "cell_type": "markdown",
   "metadata": {},
   "source": [
    "In the end it took about 3 hours"
   ]
  },
  {
   "cell_type": "markdown",
   "metadata": {
    "collapsed": true
   },
   "source": [
    "# Process trayectory to include real time, and field. "
   ]
  },
  {
   "cell_type": "code",
   "execution_count": 69,
   "metadata": {
    "collapsed": true
   },
   "outputs": [],
   "source": [
    "directory = \"C:/Users/aortiza/Desktop/Experiment4/ProcessedData/\"\n",
    "base_names = sp.get_names(directory,ext='.dat')"
   ]
  },
  {
   "cell_type": "code",
   "execution_count": 71,
   "metadata": {
    "collapsed": true
   },
   "outputs": [],
   "source": [
    "def new_name(name):\n",
    "    return os.path.join(os.path.split(name)[0],\"ProcessedData\",os.path.split(name)[1])+'_trackpy_mem.dat'\n",
    "\n",
    "def from_frame_to_real_time(trj,name):\n",
    "    \"\"\" Asigns labview timestamp to the frames of trj\"\"\"\n",
    "    trj_real_time = pd.read_csv(name+'.dat',sep=\"\\t\",header=None)\n",
    "    time = pd.to_datetime(trj_real_time[0].values+2*3600, unit=\"s\", origin=pd.Timestamp('1904-01-01'))\n",
    "\n",
    "    trj[\"time\"] = time[trj.index.get_level_values(\"frame\")]\n",
    "    trj[\"id\"] = trj.index.get_level_values(\"particle\")\n",
    "    trj = trj.set_index([\"time\",\"id\"])\n",
    "    return trj\n",
    "\n",
    "def from_px_to_um(trj,px_size):\n",
    "    trj.x = trj.x*px_size # microns per pixel\n",
    "    trj.y = trj.y*px_size # microns per pixel\n",
    "    return trj\n",
    "\n",
    "def add_layers(trj):\n",
    "    time = trj.index.get_level_values(\"time\").unique()\n",
    "    layer_indexes = sp.layers(trj.loc[sp.idx[time[round(len(time)/2)],:],:])\n",
    "    \n",
    "    for i,l in enumerate(layer_indexes):\n",
    "        trj.loc[sp.idx[:,layer_indexes[i]],\"layer\"] = i\n",
    "        \n",
    "    return trj\n",
    "\n",
    "def recenter(trj):\n",
    "    center = sp.get_center(trj[trj.layer==0])\n",
    "    trj.x+=-center[0]\n",
    "    trj.y+=-center[1]\n",
    "    return trj\n",
    "\n",
    "field_filename = \"Z:/LargeData/2018-06-18-Data/Field-2018-06-18.log\"\n",
    "\n",
    "field= pd.read_csv(field_filename,delim_whitespace=True)\n",
    "field[\"time\"] = pd.to_datetime(field[\"Time(s)\"]+2*3600, unit=\"s\", origin=pd.Timestamp('1904-01-01'))\n",
    "field = field.set_index(\"time\").filter([\"X_Amplitude\"])\n",
    "    \n",
    "def field_values(trj,field):\n",
    "\n",
    "    time = trj.index.get_level_values(\"time\").unique()\n",
    "    \n",
    "    field_re = field.reindex(field.index.append(time).sort_values(),method = \"pad\")\n",
    "    field_re = field_re[~field_re.index.duplicated(keep='first')]\n",
    "    field_re = field_re.loc[trj.index.get_level_values(\"time\")[:]].X_Amplitude\n",
    "    \n",
    "    trj[\"field\"] = field_re.values\n",
    "    return trj"
   ]
  },
  {
   "cell_type": "code",
   "execution_count": 82,
   "metadata": {},
   "outputs": [
    {
     "data": {
      "application/vnd.jupyter.widget-view+json": {
       "model_id": "ee3b6e73070942c1a72708ce7d522e89",
       "version_major": 2,
       "version_minor": 0
      },
      "text/plain": [
       "A Jupyter Widget"
      ]
     },
     "metadata": {},
     "output_type": "display_data"
    },
    {
     "name": "stderr",
     "output_type": "stream",
     "text": [
      "C:\\ProgramFiles\\Anaconda3\\lib\\site-packages\\numpy\\lib\\arraysetops.py:463: FutureWarning: elementwise comparison failed; returning scalar instead, but in the future will perform elementwise comparison\n",
      "  mask |= (ar1 == a)\n"
     ]
    },
    {
     "name": "stdout",
     "output_type": "stream",
     "text": [
      "[57, 'C:/Users/aortiza/Desktop/Experiment4/ProcessedData/Depinning_2018_06_21_20_03_54_trackpy_mem', QhullError('QH6214 qhull input error: not enough points(2) to construct initial simplex (need 4)\\n\\nWhile executing:  | qhull d Qz Qc Qt Q12 Qbb\\nOptions selected for Qhull 2015.2.r 2016/01/18:\\n  run-id 1893000318  delaunay  Qz-infinity-point  Qcoplanar-keep  Qtriangulate\\n  Q12-no-wide-dup  Qbbound-last  _pre-merge  _zero-centrum  Qinterior-keep\\n',)]\n",
      "\n"
     ]
    }
   ],
   "source": [
    "errors = []\n",
    "\n",
    "for experiment,name in tqdm_notebook(enumerate(base_names[:])):\n",
    "    try:\n",
    "        trj = pd.read_csv(name+'.dat',sep=\"\\t\",index_col=[\"frame\",\"particle\"])\n",
    "        trj = from_frame_to_real_time(trj,name.replace(\"_trackpy_mem\",\"\").replace(\"ProcessedData/\",\"\"))\n",
    "        trj = from_px_to_um(trj,0.1805)\n",
    "        trj = add_layers(trj)\n",
    "        trj = recenter(trj)\n",
    "        trj = field_values(trj,field)\n",
    "\n",
    "        hdf_name = name.replace(\"_trackpy_mem\",\"\")+'_field_layer.hd5'\n",
    "\n",
    "        with pd.HDFStore(hdf_name) as hdf_trj:\n",
    "            hdf_trj.put('trj',trj,format='t')\n",
    "            \n",
    "            trj = sp.calculate_polar(trj)\n",
    "            trj = sp.calculate_velocities(trj)\n",
    "\n",
    "            omegas = trj.groupby([\"field\",\"layer\"]).mean().filter([\"omega\"])\n",
    "            omegas[\"experiment\"] = experiment\n",
    "\n",
    "            if trj.groupby('field').mean().sort_index().rel_time.diff().mean()>0:\n",
    "                omegas[\"direction\"] = \"forward\"\n",
    "            else:\n",
    "                omegas[\"direction\"] = \"backward\"\n",
    "\n",
    "            hdf_trj.put(\"omegas\",omegas,format='t')\n",
    "            \n",
    "    except Exception as e:\n",
    "        number = [i for i,n in enumerate(base_names) if name==n][0]\n",
    "        errors.append([number,name,e])\n",
    "        print([number, name, e])"
   ]
  },
  {
   "cell_type": "code",
   "execution_count": 83,
   "metadata": {
    "collapsed": true
   },
   "outputs": [],
   "source": [
    "directory = \"C:/Users/aortiza/Desktop/Experiment4/ProcessedData/\"\n",
    "base_names = sp.get_names(directory,ext='.hd5')"
   ]
  },
  {
   "cell_type": "code",
   "execution_count": 84,
   "metadata": {},
   "outputs": [
    {
     "data": {
      "application/vnd.jupyter.widget-view+json": {
       "model_id": "e70ce5540f24498688dc2055a5fa8b7c",
       "version_major": 2,
       "version_minor": 0
      },
      "text/plain": [
       "A Jupyter Widget"
      ]
     },
     "metadata": {},
     "output_type": "display_data"
    },
    {
     "name": "stdout",
     "output_type": "stream",
     "text": [
      "\n"
     ]
    }
   ],
   "source": [
    "def load_omegas(name):\n",
    "    with pd.HDFStore(name+'.hd5') as hdf_trj:\n",
    "        return hdf_trj.select('omegas')\n",
    "results = pd.concat([load_omegas(name) for name in tqdm_notebook(base_names)])"
   ]
  },
  {
   "cell_type": "code",
   "execution_count": 88,
   "metadata": {},
   "outputs": [
    {
     "data": {
      "text/plain": [
       "<matplotlib.legend.Legend at 0x25b044a3c50>"
      ]
     },
     "execution_count": 88,
     "metadata": {},
     "output_type": "execute_result"
    },
    {
     "data": {
      "image/png": "[encoded data removed]",
      "text/plain": [
       "<matplotlib.figure.Figure at 0x25b0242e320>"
      ]
     },
     "metadata": {},
     "output_type": "display_data"
    }
   ],
   "source": [
    "results_stat = results.groupby([\"direction\",\"field\",\"layer\"]).mean().filter([\"omega\"])\n",
    "results_stat['error'] = results.groupby([\"direction\",\"field\",\"layer\"]).std().filter([\"omega\"])/\\\n",
    "                            np.sqrt(results.groupby([\"direction\",\"field\",\"layer\"]).count().filter([\"omega\"]))\n",
    "results_stat.head()\n",
    "\n",
    "fig, ax = plt.subplots(1,1,figsize=[10,8])\n",
    "\n",
    "colors = [[0,0,0],[0.7,0,0],[0,0.7,0],[0,0,0.7]]\n",
    "\n",
    "for i in np.arange(4):\n",
    "\n",
    "    plt.errorbar(\n",
    "        (results_stat.loc[sp.idx[\"forward\",:,i],:].index.get_level_values(\"field\")*1.5)**2,\n",
    "        -results_stat.loc[sp.idx[\"forward\",:,i],:].omega,\n",
    "        results_stat.loc[sp.idx[\"forward\",:,i],:].error,\n",
    "        color=colors[i])\n",
    "    plt.errorbar(\n",
    "        (results_stat.loc[sp.idx[\"backward\",:,i],:].index.get_level_values(\"field\")*1.5)**2,\n",
    "        -results_stat.loc[sp.idx[\"backward\",:,i],:].omega,\n",
    "        results_stat.loc[sp.idx[\"backward\",:,i],:].error,\n",
    "        color=colors[i],alpha=0.5)\n",
    "\n",
    "\n",
    "font_size = 17\n",
    "plt.rc('text', usetex=True)\n",
    "plt.rc('font', size=font_size)\n",
    "\n",
    "plt.title(r\"Experiment 4\")\n",
    "plt.ylabel(r\"$\\omega\\ [\\textrm{rad}\\ s^{-1}]$\",fontsize=font_size)\n",
    "plt.xlabel(r\"$\\left(B_0\\ [mT]\\right)^2$\",fontsize=font_size)\n",
    "\n",
    "plt.legend((\n",
    "    r'$\\textrm{external layer} \\rightarrow$',\n",
    "    r'$\\textrm{external layer} \\leftarrow$',\n",
    "    r'$\\textrm{layer}_2 \\rightarrow$',\n",
    "    r'$\\textrm{layer}_2 \\leftarrow$',\n",
    "    r'$\\textrm{layer}_3 \\rightarrow$',\n",
    "    r'$\\textrm{layer}_3 \\leftarrow$',\n",
    "    r'$\\textrm{trimer} \\rightarrow$',\n",
    "    r'$\\textrm{trimer} \\leftarrow$'),fontsize=font_size)"
   ]
  },
  {
   "cell_type": "code",
   "execution_count": null,
   "metadata": {
    "collapsed": true
   },
   "outputs": [],
   "source": []
  }
 ],
 "metadata": {
  "kernelspec": {
   "display_name": "Python [conda root]",
   "language": "python",
   "name": "conda-root-py"
  },
  "language_info": {
   "codemirror_mode": {
    "name": "ipython",
    "version": 3
   },
   "file_extension": ".py",
   "mimetype": "text/x-python",
   "name": "python",
   "nbconvert_exporter": "python",
   "pygments_lexer": "ipython3",
   "version": "3.6.2"
  }
 },
 "nbformat": 4,
 "nbformat_minor": 2
}
